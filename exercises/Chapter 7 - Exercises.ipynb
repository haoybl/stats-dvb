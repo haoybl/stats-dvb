{
 "cells": [
  {
   "cell_type": "markdown",
   "metadata": {},
   "source": [
    "# Chapter 7 - Exercises"
   ]
  },
  {
   "cell_type": "code",
   "execution_count": 1,
   "metadata": {
    "collapsed": true
   },
   "outputs": [],
   "source": [
    "import numpy as np\n",
    "import pandas as pd\n",
    "from pandas import Series,DataFrame\n",
    "\n",
    "from scipy import stats\n",
    "\n",
    "import matplotlib.pyplot as plt\n",
    "import seaborn as sns\n",
    "%matplotlib inline\n",
    "sns.set_style('whitegrid')"
   ]
  },
  {
   "cell_type": "markdown",
   "metadata": {},
   "source": [
    "## 1\n",
    "\n",
    "### Background\n",
    "\n",
    "* ? expl vs resp?\n",
    "* ? scatterplot appearance?\n",
    "* ? direction / form / strength?\n",
    "\n",
    "### Answers\n",
    "\n",
    "* a) apples: wgt g / wgt oz:\n",
    "    * either\n",
    "    * straight line\n",
    "    * positive, straight, strong\n",
    "* b) apples: circ in / wgt oz\n",
    "    * expl: circ, resp: wgt\n",
    "    * fairly linear, positive association\n",
    "    * positive, straight, pretty strong (some apples might be 'taller' or 'shorter' with the same circ., etc.)\n",
    "* c) college freshmen: shoe size / gpa\n",
    "    * expl: shoe size, resp: gpa -- although doesn't make much sense, the reverse makes less\n",
    "    * no relationship -- cloud of points\n",
    "    * un-associated, cloud, weak\n",
    "* d) gasoline: # miles driven / gallons remaining\n",
    "    * (full - gallons remaining) vs. miles driven: the # of gallons _used_ seems more explanatory than what's remaining\n",
    "    * almost linear, positive, fairly strong\n",
    "    * (would be negative in the original scenario)"
   ]
  },
  {
   "cell_type": "markdown",
   "metadata": {},
   "source": [
    "## 3\n",
    "\n",
    "### Answers\n",
    "\n",
    "* a) climbing: altitude vs. temperature\n",
    "    * ex: alt, res: temp\n",
    "    * negative association, fairly linear, moderately strong\n",
    "* b) ice cream sales vs. air-conditioner sales\n",
    "    * either\n",
    "    * positive association, loosely linear, medium strength\n",
    "* c) age vs. grip strength\n",
    "    * ex: age, res: grip strength\n",
    "    * increasing then decreasing over full age range, moderate strength\n",
    "* d) BAC vs. reaction time\n",
    "    * ex: BAC, resp: reaction time\n",
    "    * positive association, fairly strong (but with different response at individual level)"
   ]
  },
  {
   "cell_type": "markdown",
   "metadata": {},
   "source": [
    "## 5\n",
    "\n",
    "### Answers\n",
    "\n",
    "* a) none, maybe 4\n",
    "* b) 1, 3, maybe 4\n",
    "* c) 2, 3, maybe 4\n",
    "* d) 2\n",
    "* d) 1, 3"
   ]
  },
  {
   "cell_type": "markdown",
   "metadata": {},
   "source": [
    "## 7\n",
    "\n",
    "### Answers\n",
    "\n",
    "* weak relationship -- possibly slightly positive\n"
   ]
  },
  {
   "cell_type": "markdown",
   "metadata": {},
   "source": [
    "## 9\n",
    "\n",
    "### Answers\n",
    "\n",
    "* a)\n",
    "\n",
    "```\n",
    "  x\n",
    "  x\n",
    "  x x\n",
    "x x x\n",
    "x x x x\n",
    "x x x x x x \n",
    "x x x x x x x\n",
    "0 1 2 3 4 5 6\n",
    "```\n",
    "\n",
    "* b) unimodal, right skewed, mode at 1\n",
    "* c) # of broken pieces seems to increase with batch number; fairly linear"
   ]
  },
  {
   "cell_type": "markdown",
   "metadata": {},
   "source": [
    "## 11\n",
    "\n",
    "### Answers\n",
    "\n",
    "* a) 0.006\n",
    "* b) 0.777\n",
    "* c) -0.923\n",
    "* d) -0.487\n"
   ]
  },
  {
   "cell_type": "markdown",
   "metadata": {},
   "source": [
    "## 13\n",
    "\n",
    "### Answers\n",
    "\n",
    "* It's not clear what the variables represent, but both sound like they could be categoricals rather than quantitative.  The intent is likely \"association\" rather than \"correlation\"."
   ]
  },
  {
   "cell_type": "markdown",
   "metadata": {},
   "source": [
    "## 15\n",
    "\n",
    "### Answers\n",
    "\n",
    "* a) yes - linear, no apparent curvature, no clear outliers\n",
    "* b) strong, positive, linear association -- the larger the drop, the faster the rollercoaster"
   ]
  },
  {
   "cell_type": "markdown",
   "metadata": {},
   "source": [
    "## 17\n",
    "\n",
    "### Answers\n",
    "\n",
    "* a) no clear linear relationship\n",
    "* b) Kendall's tau would show the overall positive (although curved) trend"
   ]
  },
  {
   "cell_type": "markdown",
   "metadata": {},
   "source": [
    "## 19\n",
    "\n",
    "### Answers\n",
    "\n",
    "* Close to 0, because I would expect the scatterplot to have a downward curve -- low @ days 1 and 365, high midway between."
   ]
  },
  {
   "cell_type": "markdown",
   "metadata": {},
   "source": [
    "## 21\n",
    "\n",
    "### Answers\n",
    "\n",
    "* Correlation is unaffected by changes in center or scale.  Change the units of measure in this case is just a change in scale.\n"
   ]
  },
  {
   "cell_type": "markdown",
   "metadata": {},
   "source": [
    "## 23\n",
    "\n",
    "### Answers\n",
    "\n",
    "* a) the correlation is _negative_, but not low\n",
    "* b) continent is categorical, so correlation isn't appropriate\n"
   ]
  },
  {
   "cell_type": "markdown",
   "metadata": {},
   "source": [
    "## 25\n",
    "\n",
    "### Answers\n",
    "\n",
    "* a) Yes, but only because they're older.\n",
    "* b) Age is a lurking variable -- height is an indirect \"proxy\" for age."
   ]
  },
  {
   "cell_type": "markdown",
   "metadata": {},
   "source": [
    "## 27\n",
    "\n",
    "### Answers\n",
    "\n",
    "* a) no\n",
    "* b) no\n",
    "* c) no\n",
    "* d) yes"
   ]
  },
  {
   "cell_type": "markdown",
   "metadata": {},
   "source": [
    "## 29\n",
    "\n",
    "### Answers\n",
    "\n",
    "* baldness is not clearly quantitative -- it's ordinal, but the numeric values are somewhat vague\n",
    "* heart diseas (0/1) is clearly quantitative\n",
    "* the correlation is suspect based on the above"
   ]
  },
  {
   "cell_type": "markdown",
   "metadata": {},
   "source": [
    "## 31\n",
    "\n",
    "### Answers\n",
    "\n",
    "* a) positive, loosely linear\n",
    "* b) 0.65\n",
    "* c) it wouldn't\n",
    "* d) it would cause the correlation to decrease slightly\n",
    "* e) not proof -- correlation != causation; some evidence that there's an assocation between the two, but there may be lurking variables\n",
    "* f) similar to above - no, it provides an indication of the association, but not proof of causation"
   ]
  },
  {
   "cell_type": "markdown",
   "metadata": {},
   "source": [
    "## 33\n",
    "\n",
    "### Answers\n",
    "\n",
    "* a) see below\n",
    "* b) negative, somewhat linear, fairly strong\n",
    "* c) -0.909\n",
    "* d) There is a strong, negative correlation between horsepower and MPG.\n"
   ]
  },
  {
   "cell_type": "code",
   "execution_count": 2,
   "metadata": {
    "collapsed": false
   },
   "outputs": [
    {
     "data": {
      "text/html": [
       "<div>\n",
       "<table border=\"1\" class=\"dataframe\">\n",
       "  <thead>\n",
       "    <tr style=\"text-align: right;\">\n",
       "      <th></th>\n",
       "      <th>car</th>\n",
       "      <th>hp</th>\n",
       "      <th>mpg</th>\n",
       "    </tr>\n",
       "  </thead>\n",
       "  <tbody>\n",
       "    <tr>\n",
       "      <th>0</th>\n",
       "      <td>Audi A4</td>\n",
       "      <td>211</td>\n",
       "      <td>30</td>\n",
       "    </tr>\n",
       "    <tr>\n",
       "      <th>1</th>\n",
       "      <td>BMW 3 series</td>\n",
       "      <td>230</td>\n",
       "      <td>28</td>\n",
       "    </tr>\n",
       "    <tr>\n",
       "      <th>2</th>\n",
       "      <td>Buick LaCrosse</td>\n",
       "      <td>182</td>\n",
       "      <td>30</td>\n",
       "    </tr>\n",
       "    <tr>\n",
       "      <th>3</th>\n",
       "      <td>Chevy Cobalt</td>\n",
       "      <td>155</td>\n",
       "      <td>37</td>\n",
       "    </tr>\n",
       "    <tr>\n",
       "      <th>4</th>\n",
       "      <td>Chevy Suburban 1500</td>\n",
       "      <td>320</td>\n",
       "      <td>21</td>\n",
       "    </tr>\n",
       "  </tbody>\n",
       "</table>\n",
       "</div>"
      ],
      "text/plain": [
       "                   car   hp  mpg\n",
       "0              Audi A4  211   30\n",
       "1         BMW 3 series  230   28\n",
       "2       Buick LaCrosse  182   30\n",
       "3         Chevy Cobalt  155   37\n",
       "4  Chevy Suburban 1500  320   21"
      ]
     },
     "execution_count": 2,
     "metadata": {},
     "output_type": "execute_result"
    }
   ],
   "source": [
    "fuel = pd.read_table(\"../data/Fuel_economy_2010.txt\")\n",
    "fuel.head()"
   ]
  },
  {
   "cell_type": "code",
   "execution_count": 3,
   "metadata": {
    "collapsed": false
   },
   "outputs": [
    {
     "data": {
      "image/png": "[encoded data removed]",
      "text/plain": [
       "<matplotlib.figure.Figure at 0x119ef39e8>"
      ]
     },
     "metadata": {},
     "output_type": "display_data"
    }
   ],
   "source": [
    "plt.scatter(fuel.hp, fuel.mpg)\n",
    "plt.title(\"Ex. 33 - Fuel Economy\")\n",
    "plt.xlabel(\"Horsepower\")\n",
    "plt.ylabel(\"MPG\");"
   ]
  },
  {
   "cell_type": "code",
   "execution_count": 4,
   "metadata": {
    "collapsed": false
   },
   "outputs": [
    {
     "data": {
      "text/plain": [
       "array([[ 1.        , -0.90884925],\n",
       "       [-0.90884925,  1.        ]])"
      ]
     },
     "execution_count": 4,
     "metadata": {},
     "output_type": "execute_result"
    }
   ],
   "source": [
    "np.corrcoef(fuel.hp, fuel.mpg)"
   ]
  },
  {
   "cell_type": "markdown",
   "metadata": {},
   "source": [
    "## 35\n",
    "\n",
    "### Background\n",
    "\n",
    "* \n",
    "\n",
    "### Answers\n",
    "\n",
    "* n = 7\n",
    "* r = 0.199\n",
    "* spearman's rho: -0.018"
   ]
  },
  {
   "cell_type": "code",
   "execution_count": 6,
   "metadata": {
    "collapsed": false
   },
   "outputs": [
    {
     "data": {
      "text/html": [
       "<div>\n",
       "<table border=\"1\" class=\"dataframe\">\n",
       "  <thead>\n",
       "    <tr style=\"text-align: right;\">\n",
       "      <th></th>\n",
       "      <th>Fat</th>\n",
       "      <th>Sodium</th>\n",
       "      <th>Calories</th>\n",
       "    </tr>\n",
       "  </thead>\n",
       "  <tbody>\n",
       "    <tr>\n",
       "      <th>0</th>\n",
       "      <td>19</td>\n",
       "      <td>920</td>\n",
       "      <td>410</td>\n",
       "    </tr>\n",
       "    <tr>\n",
       "      <th>1</th>\n",
       "      <td>31</td>\n",
       "      <td>1500</td>\n",
       "      <td>580</td>\n",
       "    </tr>\n",
       "    <tr>\n",
       "      <th>2</th>\n",
       "      <td>34</td>\n",
       "      <td>1310</td>\n",
       "      <td>590</td>\n",
       "    </tr>\n",
       "    <tr>\n",
       "      <th>3</th>\n",
       "      <td>35</td>\n",
       "      <td>860</td>\n",
       "      <td>570</td>\n",
       "    </tr>\n",
       "    <tr>\n",
       "      <th>4</th>\n",
       "      <td>39</td>\n",
       "      <td>1180</td>\n",
       "      <td>640</td>\n",
       "    </tr>\n",
       "  </tbody>\n",
       "</table>\n",
       "</div>"
      ],
      "text/plain": [
       "   Fat  Sodium  Calories\n",
       "0   19     920       410\n",
       "1   31    1500       580\n",
       "2   34    1310       590\n",
       "3   35     860       570\n",
       "4   39    1180       640"
      ]
     },
     "execution_count": 6,
     "metadata": {},
     "output_type": "execute_result"
    }
   ],
   "source": [
    "burgers = pd.read_table(\"../data/Burgers.txt\")\n",
    "burgers.head()"
   ]
  },
  {
   "cell_type": "code",
   "execution_count": 7,
   "metadata": {
    "collapsed": false
   },
   "outputs": [
    {
     "data": {
      "image/png": "[encoded data removed]",
      "text/plain": [
       "<matplotlib.figure.Figure at 0x119fb1c18>"
      ]
     },
     "metadata": {},
     "output_type": "display_data"
    }
   ],
   "source": [
    "plt.scatter(burgers.Fat, burgers.Sodium)\n",
    "plt.xlabel(\"Fat\")\n",
    "plt.ylabel(\"Sodium\")\n",
    "plt.title(\"Ex 35 - Burgers\");"
   ]
  },
  {
   "cell_type": "code",
   "execution_count": 13,
   "metadata": {
    "collapsed": false
   },
   "outputs": [
    {
     "data": {
      "text/plain": [
       "array([[ 1.        ,  0.19904499],\n",
       "       [ 0.19904499,  1.        ]])"
      ]
     },
     "execution_count": 13,
     "metadata": {},
     "output_type": "execute_result"
    }
   ],
   "source": [
    "np.corrcoef(burgers.Fat, burgers.Sodium)"
   ]
  },
  {
   "cell_type": "code",
   "execution_count": 15,
   "metadata": {
    "collapsed": false
   },
   "outputs": [
    {
     "data": {
      "text/plain": [
       "SpearmanrResult(correlation=-0.018018749253911181, pvalue=0.96941538680319872)"
      ]
     },
     "execution_count": 15,
     "metadata": {},
     "output_type": "execute_result"
    }
   ],
   "source": [
    "stats.spearmanr(burgers.Fat, burgers.Sodium)"
   ]
  },
  {
   "cell_type": "markdown",
   "metadata": {},
   "source": [
    "## 37\n",
    "\n",
    "### Background\n",
    "\n",
    "* \n",
    "\n",
    "### Answers\n",
    "\n",
    "* a) scatterplot -> correlation?: there appears to be some positive relationship, but it's not clear that the relationship is completely linear; correlation of 0.54 seems to show this\n",
    "* b) describe association: general positive association, but some 'counterexamples' where runs are low but attendance is still high\n",
    "* c) does association prove owners are right? doesn't prove anything, but does provide some support for their argument"
   ]
  },
  {
   "cell_type": "code",
   "execution_count": 17,
   "metadata": {
    "collapsed": false
   },
   "outputs": [
    {
     "data": {
      "text/html": [
       "<div>\n",
       "<table border=\"1\" class=\"dataframe\">\n",
       "  <thead>\n",
       "    <tr style=\"text-align: right;\">\n",
       "      <th></th>\n",
       "      <th>Team</th>\n",
       "      <th>total runs</th>\n",
       "      <th>attendance</th>\n",
       "    </tr>\n",
       "  </thead>\n",
       "  <tbody>\n",
       "    <tr>\n",
       "      <th>0</th>\n",
       "      <td>New York Yankees</td>\n",
       "      <td>859</td>\n",
       "      <td>46491</td>\n",
       "    </tr>\n",
       "    <tr>\n",
       "      <th>1</th>\n",
       "      <td>Boston Red Sox</td>\n",
       "      <td>818</td>\n",
       "      <td>37610</td>\n",
       "    </tr>\n",
       "    <tr>\n",
       "      <th>2</th>\n",
       "      <td>Tampa Bay Rays</td>\n",
       "      <td>802</td>\n",
       "      <td>22758</td>\n",
       "    </tr>\n",
       "    <tr>\n",
       "      <th>3</th>\n",
       "      <td>Texas Rangers</td>\n",
       "      <td>787</td>\n",
       "      <td>30928</td>\n",
       "    </tr>\n",
       "    <tr>\n",
       "      <th>4</th>\n",
       "      <td>Minnesota Twins</td>\n",
       "      <td>781</td>\n",
       "      <td>39798</td>\n",
       "    </tr>\n",
       "  </tbody>\n",
       "</table>\n",
       "</div>"
      ],
      "text/plain": [
       "               Team  total runs  attendance\n",
       "0  New York Yankees         859       46491\n",
       "1    Boston Red Sox         818       37610\n",
       "2    Tampa Bay Rays         802       22758\n",
       "3     Texas Rangers         787       30928\n",
       "4   Minnesota Twins         781       39798"
      ]
     },
     "execution_count": 17,
     "metadata": {},
     "output_type": "execute_result"
    }
   ],
   "source": [
    "attendance = pd.read_table(\"../data/attendance_2010.txt\")\n",
    "attendance.head()"
   ]
  },
  {
   "cell_type": "code",
   "execution_count": 18,
   "metadata": {
    "collapsed": false
   },
   "outputs": [
    {
     "data": {
      "text/plain": [
       "<matplotlib.collections.PathCollection at 0x11d0d2b00>"
      ]
     },
     "execution_count": 18,
     "metadata": {},
     "output_type": "execute_result"
    },
    {
     "data": {
      "image/png": "[encoded data removed]",
      "text/plain": [
       "<matplotlib.figure.Figure at 0x11d322be0>"
      ]
     },
     "metadata": {},
     "output_type": "display_data"
    }
   ],
   "source": [
    "plt.scatter(attendance['total runs'], attendance.attendance)"
   ]
  },
  {
   "cell_type": "code",
   "execution_count": 19,
   "metadata": {
    "collapsed": false
   },
   "outputs": [
    {
     "data": {
      "text/plain": [
       "array([[ 1.        ,  0.53812673],\n",
       "       [ 0.53812673,  1.        ]])"
      ]
     },
     "execution_count": 19,
     "metadata": {},
     "output_type": "execute_result"
    }
   ],
   "source": [
    "np.corrcoef(attendance['total runs'], attendance.attendance)"
   ]
  },
  {
   "cell_type": "markdown",
   "metadata": {},
   "source": [
    "## 39\n",
    "\n",
    "### Background\n",
    "\n",
    "* rollercoasters: drop vs. duration\n",
    "\n",
    "### Answers\n",
    "\n",
    "* There appears to be _some_ positive association, but it's not clear that it's linear.  After dropping the one coaster with a NaN drop value, the correlation is 0.39 providing some indication of a fairly weak positive assocation."
   ]
  },
  {
   "cell_type": "code",
   "execution_count": 27,
   "metadata": {
    "collapsed": true
   },
   "outputs": [],
   "source": [
    "pd.read_table?"
   ]
  },
  {
   "cell_type": "code",
   "execution_count": 30,
   "metadata": {
    "collapsed": false
   },
   "outputs": [
    {
     "data": {
      "text/html": [
       "<div>\n",
       "<table border=\"1\" class=\"dataframe\">\n",
       "  <thead>\n",
       "    <tr style=\"text-align: right;\">\n",
       "      <th></th>\n",
       "      <th>Rank</th>\n",
       "      <th>Roller Coaster</th>\n",
       "      <th>Park</th>\n",
       "      <th>Location</th>\n",
       "      <th>Drop (ft.)</th>\n",
       "      <th>Duration (sec)</th>\n",
       "      <th>Height</th>\n",
       "      <th>Max speed</th>\n",
       "      <th>Max vert angle</th>\n",
       "      <th>Length</th>\n",
       "    </tr>\n",
       "  </thead>\n",
       "  <tbody>\n",
       "    <tr>\n",
       "      <th>0</th>\n",
       "      <td>1</td>\n",
       "      <td>Bizarro</td>\n",
       "      <td>SF New England</td>\n",
       "      <td>MA</td>\n",
       "      <td>221.0</td>\n",
       "      <td>155</td>\n",
       "      <td>208</td>\n",
       "      <td>77.0</td>\n",
       "      <td>72.0</td>\n",
       "      <td>5400</td>\n",
       "    </tr>\n",
       "    <tr>\n",
       "      <th>1</th>\n",
       "      <td>2</td>\n",
       "      <td>Expedition GeForce</td>\n",
       "      <td>Holiday Park</td>\n",
       "      <td>DE</td>\n",
       "      <td>184.0</td>\n",
       "      <td>75</td>\n",
       "      <td>188</td>\n",
       "      <td>74.6</td>\n",
       "      <td>82.0</td>\n",
       "      <td>4003</td>\n",
       "    </tr>\n",
       "    <tr>\n",
       "      <th>2</th>\n",
       "      <td>3</td>\n",
       "      <td>Intimidator 305</td>\n",
       "      <td>Kings Dominion</td>\n",
       "      <td>VA</td>\n",
       "      <td>300.0</td>\n",
       "      <td>98</td>\n",
       "      <td>305</td>\n",
       "      <td>93.0</td>\n",
       "      <td>85.0</td>\n",
       "      <td>5100</td>\n",
       "    </tr>\n",
       "    <tr>\n",
       "      <th>4</th>\n",
       "      <td>5</td>\n",
       "      <td>Nemesis</td>\n",
       "      <td>Alton Towers</td>\n",
       "      <td>UK</td>\n",
       "      <td>104.0</td>\n",
       "      <td>80</td>\n",
       "      <td>43</td>\n",
       "      <td>50.0</td>\n",
       "      <td>40.0</td>\n",
       "      <td>2349</td>\n",
       "    </tr>\n",
       "    <tr>\n",
       "      <th>5</th>\n",
       "      <td>6</td>\n",
       "      <td>Piraten</td>\n",
       "      <td>Djurs Sommerland</td>\n",
       "      <td>DK</td>\n",
       "      <td>100.0</td>\n",
       "      <td>61</td>\n",
       "      <td>105</td>\n",
       "      <td>56.0</td>\n",
       "      <td>70.0</td>\n",
       "      <td>2477</td>\n",
       "    </tr>\n",
       "  </tbody>\n",
       "</table>\n",
       "</div>"
      ],
      "text/plain": [
       "   Rank      Roller Coaster              Park Location  Drop (ft.)  \\\n",
       "0     1             Bizarro    SF New England       MA       221.0   \n",
       "1     2  Expedition GeForce      Holiday Park       DE       184.0   \n",
       "2     3     Intimidator 305    Kings Dominion       VA       300.0   \n",
       "4     5             Nemesis      Alton Towers       UK       104.0   \n",
       "5     6             Piraten  Djurs Sommerland       DK       100.0   \n",
       "\n",
       "   Duration (sec)  Height  Max speed  Max vert angle  Length  \n",
       "0             155     208       77.0            72.0    5400  \n",
       "1              75     188       74.6            82.0    4003  \n",
       "2              98     305       93.0            85.0    5100  \n",
       "4              80      43       50.0            40.0    2349  \n",
       "5              61     105       56.0            70.0    2477  "
      ]
     },
     "execution_count": 30,
     "metadata": {},
     "output_type": "execute_result"
    }
   ],
   "source": [
    "thrills = pd.read_table(\"../data/Thrills_2011.txt\")\n",
    "thrills = thrills[~np.isnan(thrills['Drop (ft.)'])]\n",
    "thrills.head()"
   ]
  },
  {
   "cell_type": "code",
   "execution_count": 31,
   "metadata": {
    "collapsed": false
   },
   "outputs": [
    {
     "data": {
      "image/png": "[encoded data removed]",
      "text/plain": [
       "<matplotlib.figure.Figure at 0x11cb11240>"
      ]
     },
     "metadata": {},
     "output_type": "display_data"
    }
   ],
   "source": [
    "drop = thrills['Drop (ft.)']\n",
    "duration = thrills['Duration (sec)']\n",
    "\n",
    "plt.scatter(drop, duration)\n",
    "plt.xlabel(\"drop\")\n",
    "plt.ylabel(\"duration\")\n",
    "plt.title(\"Ex 39 - Roller Coasters\");"
   ]
  },
  {
   "cell_type": "code",
   "execution_count": 32,
   "metadata": {
    "collapsed": false
   },
   "outputs": [
    {
     "data": {
      "text/plain": [
       "count      9.000000\n",
       "mean     187.777778\n",
       "std       74.109341\n",
       "min      100.000000\n",
       "25%      148.000000\n",
       "50%      181.000000\n",
       "75%      221.000000\n",
       "max      300.000000\n",
       "Name: Drop (ft.), dtype: float64"
      ]
     },
     "execution_count": 32,
     "metadata": {},
     "output_type": "execute_result"
    }
   ],
   "source": [
    "drop.describe()"
   ]
  },
  {
   "cell_type": "code",
   "execution_count": 33,
   "metadata": {
    "collapsed": false
   },
   "outputs": [
    {
     "data": {
      "text/plain": [
       "count      9.000000\n",
       "mean      98.111111\n",
       "std       34.225153\n",
       "min       60.000000\n",
       "25%       75.000000\n",
       "50%       92.000000\n",
       "75%      120.000000\n",
       "max      155.000000\n",
       "Name: Duration (sec), dtype: float64"
      ]
     },
     "execution_count": 33,
     "metadata": {},
     "output_type": "execute_result"
    }
   ],
   "source": [
    "duration.describe()"
   ]
  },
  {
   "cell_type": "code",
   "execution_count": 34,
   "metadata": {
    "collapsed": false
   },
   "outputs": [
    {
     "data": {
      "text/plain": [
       "array([[ 1.        ,  0.39067237],\n",
       "       [ 0.39067237,  1.        ]])"
      ]
     },
     "execution_count": 34,
     "metadata": {},
     "output_type": "execute_result"
    }
   ],
   "source": [
    "np.corrcoef(drop, duration)"
   ]
  },
  {
   "cell_type": "markdown",
   "metadata": {},
   "source": [
    "## 41\n",
    "\n",
    "### Background\n",
    "\n",
    "* \n",
    "\n",
    "### Answers\n",
    "\n",
    "* a) curved upward, positive, strong\n",
    "* b) the association is curved, not linear\n",
    "* c) closer to a straight line\n",
    "* d) 1\n"
   ]
  },
  {
   "cell_type": "code",
   "execution_count": 39,
   "metadata": {
    "collapsed": false
   },
   "outputs": [
    {
     "data": {
      "text/html": [
       "<div>\n",
       "<table border=\"1\" class=\"dataframe\">\n",
       "  <thead>\n",
       "    <tr style=\"text-align: right;\">\n",
       "      <th></th>\n",
       "      <th>planet</th>\n",
       "      <th>position</th>\n",
       "      <th>distance</th>\n",
       "    </tr>\n",
       "  </thead>\n",
       "  <tbody>\n",
       "    <tr>\n",
       "      <th>0</th>\n",
       "      <td>Mercury</td>\n",
       "      <td>1</td>\n",
       "      <td>36</td>\n",
       "    </tr>\n",
       "    <tr>\n",
       "      <th>1</th>\n",
       "      <td>Venus</td>\n",
       "      <td>2</td>\n",
       "      <td>67</td>\n",
       "    </tr>\n",
       "    <tr>\n",
       "      <th>2</th>\n",
       "      <td>Earth</td>\n",
       "      <td>3</td>\n",
       "      <td>93</td>\n",
       "    </tr>\n",
       "    <tr>\n",
       "      <th>3</th>\n",
       "      <td>Mars</td>\n",
       "      <td>4</td>\n",
       "      <td>142</td>\n",
       "    </tr>\n",
       "    <tr>\n",
       "      <th>4</th>\n",
       "      <td>Jupiter</td>\n",
       "      <td>5</td>\n",
       "      <td>484</td>\n",
       "    </tr>\n",
       "  </tbody>\n",
       "</table>\n",
       "</div>"
      ],
      "text/plain": [
       "    planet  position  distance\n",
       "0  Mercury         1        36\n",
       "1    Venus         2        67\n",
       "2    Earth         3        93\n",
       "3     Mars         4       142\n",
       "4  Jupiter         5       484"
      ]
     },
     "execution_count": 39,
     "metadata": {},
     "output_type": "execute_result"
    }
   ],
   "source": [
    "planets = pd.read_table(\"../data/Planets.txt\", names=['planet', 'position', 'distance'], skiprows=1)\n",
    "planets.head()"
   ]
  },
  {
   "cell_type": "code",
   "execution_count": 40,
   "metadata": {
    "collapsed": false
   },
   "outputs": [
    {
     "data": {
      "image/png": "[encoded data removed]",
      "text/plain": [
       "<matplotlib.figure.Figure at 0x11d978f60>"
      ]
     },
     "metadata": {},
     "output_type": "display_data"
    }
   ],
   "source": [
    "plt.scatter(planets.position, planets.distance)\n",
    "plt.xlabel('position')\n",
    "plt.ylabel('distance')\n",
    "plt.title('EX 41 - Planets');"
   ]
  },
  {
   "cell_type": "code",
   "execution_count": 41,
   "metadata": {
    "collapsed": false
   },
   "outputs": [
    {
     "data": {
      "image/png": "[encoded data removed]",
      "text/plain": [
       "<matplotlib.figure.Figure at 0x11d9b3e48>"
      ]
     },
     "metadata": {},
     "output_type": "display_data"
    }
   ],
   "source": [
    "\n",
    "plt.scatter(planets.position, np.log(planets.distance))\n",
    "plt.xlabel('position')\n",
    "plt.ylabel('log(distance)')\n",
    "plt.title('EX 41 - Planets');"
   ]
  },
  {
   "cell_type": "code",
   "execution_count": null,
   "metadata": {
    "collapsed": true
   },
   "outputs": [],
   "source": []
  }
 ],
 "metadata": {
  "kernelspec": {
   "display_name": "Python 3",
   "language": "python",
   "name": "python3"
  },
  "language_info": {
   "codemirror_mode": {
    "name": "ipython",
    "version": 3
   },
   "file_extension": ".py",
   "mimetype": "text/x-python",
   "name": "python",
   "nbconvert_exporter": "python",
   "pygments_lexer": "ipython3",
   "version": "3.5.2"
  }
 },
 "nbformat": 4,
 "nbformat_minor": 0
}
