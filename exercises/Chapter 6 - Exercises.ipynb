{
 "cells": [
  {
   "cell_type": "markdown",
   "metadata": {},
   "source": [
    "# Chapter 6 - Exercises"
   ]
  },
  {
   "cell_type": "code",
   "execution_count": 2,
   "metadata": {
    "collapsed": true
   },
   "outputs": [],
   "source": [
    "# %load ../snippets/data-imports\n",
    "import numpy as np\n",
    "import pandas as pd\n",
    "from pandas import Series,DataFrame\n",
    "\n",
    "import matplotlib.pyplot as plt\n",
    "import seaborn as sns\n",
    "%matplotlib inline\n",
    "sns.set_style('whitegrid')"
   ]
  },
  {
   "cell_type": "code",
   "execution_count": 3,
   "metadata": {
    "collapsed": true
   },
   "outputs": [],
   "source": [
    "from scipy import stats"
   ]
  },
  {
   "cell_type": "markdown",
   "metadata": {
    "collapsed": true
   },
   "source": [
    "## 1\n",
    "\n",
    "a) median: 72 oz; IQR: 40 oz\n",
    "\n",
    "b) median: 4.5 lb; IQR: 2.5 lb"
   ]
  },
  {
   "cell_type": "markdown",
   "metadata": {},
   "source": [
    "## 3\n",
    "\n",
    "* min: \\$300\n",
    "* Q1: \\$350\n",
    "* median: \\$500\n",
    "* mean: \\$700\n",
    "* Q4: \\$950\n",
    "* max: \\$1500\n",
    "* range: \\$1200\n",
    "* IQR: \\$600\n",
    "* stddev: \\$400\n",
    "\n",
    "a) skewed to the right; mean > median, Q4 is 2x dist from median than Q1\n",
    "\n",
    "b) [\\$350, \\$950]\n",
    "\n",
    "c) \n",
    "\n",
    "* min: \\$350\n",
    "* Q1: \\$400\n",
    "* median: \\$550\n",
    "* mean: \\$750\n",
    "* Q4: \\$1000\n",
    "* max: \\$1550\n",
    "\n",
    "* range: \\$1200\n",
    "* IQR: \\$600\n",
    "* stddev: \\$400\n",
    "\n",
    "d) \n",
    "\n",
    "* min: \\$330\n",
    "* Q1: \\$385\n",
    "* median: \\$550\n",
    "* mean: \\$770\n",
    "* Q4: \\$1045\n",
    "* max: \\$1650\n",
    "\n",
    "* range: \\$1320\n",
    "* IQR: \\$660\n",
    "* stddev: \\$440"
   ]
  },
  {
   "cell_type": "markdown",
   "metadata": {},
   "source": [
    "## 5\n",
    "\n",
    "### Background\n",
    "\n",
    "* SAT MAX: 1600\n",
    "* ACT MAX: 36\n",
    "* SAT = 40 * ACT + 150\n",
    "\n",
    "### Setup\n",
    "\n",
    "* min: 19\n",
    "* Q1: 24\n",
    "* mean: 27\n",
    "* median: 28\n",
    "* Q3: 30\n",
    "\n",
    "* stddev: 3\n",
    "* IQR: 6\n",
    "\n",
    "### Answers\n",
    "\n",
    "* min: 910\n",
    "* Q1: 1110\n",
    "* mean: 1230\n",
    "* median: 1270\n",
    "* Q3: 1350\n",
    "\n",
    "* stddev:  120\n",
    "* IQR: 240"
   ]
  },
  {
   "cell_type": "code",
   "execution_count": 8,
   "metadata": {
    "collapsed": true
   },
   "outputs": [],
   "source": [
    "def sat_from_act(act, spread=False):\n",
    "    base = 40 * act\n",
    "    if(spread):\n",
    "        return base\n",
    "    else:\n",
    "        return base + 150"
   ]
  },
  {
   "cell_type": "code",
   "execution_count": 11,
   "metadata": {
    "collapsed": false
   },
   "outputs": [
    {
     "data": {
      "text/plain": [
       "[910, 1110, 1230, 1270, 1350]"
      ]
     },
     "execution_count": 11,
     "metadata": {},
     "output_type": "execute_result"
    }
   ],
   "source": [
    "[sat_from_act(act) for act in [19, 24, 27, 28, 30]]"
   ]
  },
  {
   "cell_type": "code",
   "execution_count": 10,
   "metadata": {
    "collapsed": false
   },
   "outputs": [
    {
     "data": {
      "text/plain": [
       "[120, 240]"
      ]
     },
     "execution_count": 10,
     "metadata": {},
     "output_type": "execute_result"
    }
   ],
   "source": [
    "[sat_from_act(act, True) for act in [3, 6]]"
   ]
  },
  {
   "cell_type": "markdown",
   "metadata": {},
   "source": [
    "## 7"
   ]
  },
  {
   "cell_type": "code",
   "execution_count": 13,
   "metadata": {
    "collapsed": false
   },
   "outputs": [
    {
     "data": {
      "text/plain": [
       "array([ 0.98609655])"
      ]
     },
     "execution_count": 13,
     "metadata": {},
     "output_type": "execute_result"
    }
   ],
   "source": [
    "from scipy import stats\n",
    "stats.norm.cdf([2.20])"
   ]
  },
  {
   "cell_type": "markdown",
   "metadata": {},
   "source": [
    "Your scores is at the 98.6th percentile.  2.2 std deviations above the mean."
   ]
  },
  {
   "cell_type": "markdown",
   "metadata": {},
   "source": [
    "## 9\n",
    "\n",
    "### Background\n",
    "\n",
    "* means: 75 pts\n",
    "* std dev: 5\n",
    "* z-score: -2\n",
    "\n",
    "### Answers\n",
    "\n",
    "* 65"
   ]
  },
  {
   "cell_type": "code",
   "execution_count": 17,
   "metadata": {
    "collapsed": false
   },
   "outputs": [
    {
     "name": "stdout",
     "output_type": "stream",
     "text": [
      "65\n"
     ]
    }
   ],
   "source": [
    "score = 75 - 2 * 5\n",
    "print(score)"
   ]
  },
  {
   "cell_type": "markdown",
   "metadata": {},
   "source": [
    "## 11\n",
    "\n",
    "### Background\n",
    "\n",
    "* Jan\n",
    "    * high: 36F\n",
    "    * stddev: 10F\n",
    "* July\n",
    "    * high: 74F\n",
    "    * stddev: 8F\n",
    "    \n",
    "### Answers\n",
    "\n",
    "* July : z-score = -2.38 (compared to Jan: 1.9)\n"
   ]
  },
  {
   "cell_type": "code",
   "execution_count": 19,
   "metadata": {
    "collapsed": false
   },
   "outputs": [
    {
     "name": "stdout",
     "output_type": "stream",
     "text": [
      "January z-score for 55F = 1.90\n",
      "July z-score for 55F = -2.38\n"
     ]
    }
   ],
   "source": [
    "janZ = (55 - 36) / 10\n",
    "julZ = (55 - 74) / 8\n",
    "print(\"January z-score for 55F = %.2f\" % (janZ))\n",
    "print(\"July z-score for 55F = %.2f\" % (julZ))"
   ]
  },
  {
   "cell_type": "markdown",
   "metadata": {},
   "source": [
    "## 13\n",
    "\n",
    "### Background\n",
    "\n",
    "* first\n",
    "    * mean: 65\n",
    "    * stddev: 10\n",
    "* second\n",
    "    * mean: 80\n",
    "    * stddev: 5\n",
    "    \n",
    "* Derrick : [80, 80]\n",
    "* Julia: [70, 90]\n",
    "\n",
    "### Answers\n",
    "\n",
    "* Julia's z-score total (2.5) across both tests is greater than Derrick's (1.5)"
   ]
  },
  {
   "cell_type": "code",
   "execution_count": 21,
   "metadata": {
    "collapsed": true
   },
   "outputs": [],
   "source": [
    "def zScore(x, mean, stddev):\n",
    "    return (x - mean) / stddev"
   ]
  },
  {
   "cell_type": "code",
   "execution_count": 22,
   "metadata": {
    "collapsed": false
   },
   "outputs": [
    {
     "name": "stdout",
     "output_type": "stream",
     "text": [
      "Derrick's z-score total: 1.50\n",
      "Julia's z-score total: 2.50\n"
     ]
    }
   ],
   "source": [
    "derrick = zScore(80, 65, 10) + zScore(80, 80, 5)\n",
    "julia = zScore(70, 65, 10) + zScore(90, 80, 5)\n",
    "\n",
    "print(\"Derrick's z-score total: %.2f\" % (derrick,))\n",
    "print(\"Julia's z-score total: %.2f\" % (julia,))"
   ]
  },
  {
   "cell_type": "markdown",
   "metadata": {},
   "source": [
    "## 15\n",
    "\n",
    "### Background\n",
    "\n",
    "* Anna: [83 Fr, 83 Sp]\n",
    "* Megan: [77 Fr, 95 Sp]\n",
    "* French: mean: 81, stddev: 5\n",
    "* Spanish: mean: 74, stddev: 15\n",
    "\n",
    "### Answers\n",
    "\n",
    "* a) \n",
    "    * Anna mean: 83\n",
    "    * **Megan** mean: 86\n",
    "* b)\n",
    "    * **Anna** zScore total: 1.0\n",
    "    * Megan zScore total: 0.6"
   ]
  },
  {
   "cell_type": "code",
   "execution_count": 25,
   "metadata": {
    "collapsed": false
   },
   "outputs": [
    {
     "name": "stdout",
     "output_type": "stream",
     "text": [
      "Anna's z-score total: 1.00\n",
      "Megan's z-score total: 0.60\n"
     ]
    }
   ],
   "source": [
    "annaZ = zScore(83, 81, 5) + zScore(83, 74, 15)\n",
    "meganZ = zScore(77, 81, 5) + zScore(95, 74, 15)\n",
    "\n",
    "print(\"Anna's z-score total: %.2f\" % (annaZ,))\n",
    "print(\"Megan's z-score total: %.2f\" % (meganZ,))"
   ]
  },
  {
   "cell_type": "markdown",
   "metadata": {},
   "source": [
    "## 17\n",
    "\n",
    "### Background\n",
    "\n",
    "* \n",
    "\n",
    "### Answers\n",
    "\n",
    "* \n"
   ]
  },
  {
   "cell_type": "code",
   "execution_count": null,
   "metadata": {
    "collapsed": true
   },
   "outputs": [],
   "source": []
  }
 ],
 "metadata": {
  "kernelspec": {
   "display_name": "Python 3",
   "language": "python",
   "name": "python3"
  },
  "language_info": {
   "codemirror_mode": {
    "name": "ipython",
    "version": 3
   },
   "file_extension": ".py",
   "mimetype": "text/x-python",
   "name": "python",
   "nbconvert_exporter": "python",
   "pygments_lexer": "ipython3",
   "version": "3.5.2"
  }
 },
 "nbformat": 4,
 "nbformat_minor": 0
}
