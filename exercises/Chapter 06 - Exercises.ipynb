{
 "cells": [
  {
   "cell_type": "markdown",
   "metadata": {},
   "source": [
    "# Chapter 6 - Exercises"
   ]
  },
  {
   "cell_type": "code",
   "execution_count": 1,
   "metadata": {
    "collapsed": true
   },
   "outputs": [],
   "source": [
    "# %load ../snippets/data-imports\n",
    "import numpy as np\n",
    "import pandas as pd\n",
    "from pandas import Series,DataFrame\n",
    "\n",
    "import matplotlib.pyplot as plt\n",
    "import seaborn as sns\n",
    "%matplotlib inline\n",
    "sns.set_style('whitegrid')"
   ]
  },
  {
   "cell_type": "code",
   "execution_count": 2,
   "metadata": {
    "collapsed": true
   },
   "outputs": [],
   "source": [
    "from scipy import stats"
   ]
  },
  {
   "cell_type": "markdown",
   "metadata": {
    "collapsed": true
   },
   "source": [
    "## 1\n",
    "\n",
    "a) median: 72 oz; IQR: 40 oz\n",
    "\n",
    "b) median: 4.5 lb; IQR: 2.5 lb"
   ]
  },
  {
   "cell_type": "markdown",
   "metadata": {},
   "source": [
    "## 3\n",
    "\n",
    "* min: \\$300\n",
    "* Q1: \\$350\n",
    "* median: \\$500\n",
    "* mean: \\$700\n",
    "* Q4: \\$950\n",
    "* max: \\$1500\n",
    "* range: \\$1200\n",
    "* IQR: \\$600\n",
    "* stddev: \\$400\n",
    "\n",
    "a) skewed to the right; mean > median, Q4 is 2x dist from median than Q1\n",
    "\n",
    "b) [\\$350, \\$950]\n",
    "\n",
    "c) \n",
    "\n",
    "* min: \\$350\n",
    "* Q1: \\$400\n",
    "* median: \\$550\n",
    "* mean: \\$750\n",
    "* Q4: \\$1000\n",
    "* max: \\$1550\n",
    "\n",
    "* range: \\$1200\n",
    "* IQR: \\$600\n",
    "* stddev: \\$400\n",
    "\n",
    "d) \n",
    "\n",
    "* min: \\$330\n",
    "* Q1: \\$385\n",
    "* median: \\$550\n",
    "* mean: \\$770\n",
    "* Q4: \\$1045\n",
    "* max: \\$1650\n",
    "\n",
    "* range: \\$1320\n",
    "* IQR: \\$660\n",
    "* stddev: \\$440"
   ]
  },
  {
   "cell_type": "markdown",
   "metadata": {},
   "source": [
    "## 5\n",
    "\n",
    "### Background\n",
    "\n",
    "* SAT MAX: 1600\n",
    "* ACT MAX: 36\n",
    "* SAT = 40 * ACT + 150\n",
    "\n",
    "### Setup\n",
    "\n",
    "* min: 19\n",
    "* Q1: 24\n",
    "* mean: 27\n",
    "* median: 28\n",
    "* Q3: 30\n",
    "\n",
    "* stddev: 3\n",
    "* IQR: 6\n",
    "\n",
    "### Answers\n",
    "\n",
    "* min: 910\n",
    "* Q1: 1110\n",
    "* mean: 1230\n",
    "* median: 1270\n",
    "* Q3: 1350\n",
    "\n",
    "* stddev:  120\n",
    "* IQR: 240"
   ]
  },
  {
   "cell_type": "code",
   "execution_count": 3,
   "metadata": {
    "collapsed": true
   },
   "outputs": [],
   "source": [
    "def sat_from_act(act, spread=False):\n",
    "    base = 40 * act\n",
    "    if(spread):\n",
    "        return base\n",
    "    else:\n",
    "        return base + 150"
   ]
  },
  {
   "cell_type": "code",
   "execution_count": 4,
   "metadata": {
    "collapsed": false
   },
   "outputs": [
    {
     "data": {
      "text/plain": [
       "[910, 1110, 1230, 1270, 1350]"
      ]
     },
     "execution_count": 4,
     "metadata": {},
     "output_type": "execute_result"
    }
   ],
   "source": [
    "[sat_from_act(act) for act in [19, 24, 27, 28, 30]]"
   ]
  },
  {
   "cell_type": "code",
   "execution_count": 5,
   "metadata": {
    "collapsed": false
   },
   "outputs": [
    {
     "data": {
      "text/plain": [
       "[120, 240]"
      ]
     },
     "execution_count": 5,
     "metadata": {},
     "output_type": "execute_result"
    }
   ],
   "source": [
    "[sat_from_act(act, True) for act in [3, 6]]"
   ]
  },
  {
   "cell_type": "markdown",
   "metadata": {},
   "source": [
    "## 7"
   ]
  },
  {
   "cell_type": "code",
   "execution_count": 6,
   "metadata": {
    "collapsed": false
   },
   "outputs": [
    {
     "data": {
      "text/plain": [
       "array([ 0.98609655])"
      ]
     },
     "execution_count": 6,
     "metadata": {},
     "output_type": "execute_result"
    }
   ],
   "source": [
    "from scipy import stats\n",
    "stats.norm.cdf([2.20])"
   ]
  },
  {
   "cell_type": "markdown",
   "metadata": {},
   "source": [
    "Your scores is at the 98.6th percentile.  2.2 std deviations above the mean."
   ]
  },
  {
   "cell_type": "markdown",
   "metadata": {},
   "source": [
    "## 9\n",
    "\n",
    "### Background\n",
    "\n",
    "* means: 75 pts\n",
    "* std dev: 5\n",
    "* z-score: -2\n",
    "\n",
    "### Answers\n",
    "\n",
    "* 65"
   ]
  },
  {
   "cell_type": "code",
   "execution_count": 7,
   "metadata": {
    "collapsed": false
   },
   "outputs": [
    {
     "name": "stdout",
     "output_type": "stream",
     "text": [
      "65\n"
     ]
    }
   ],
   "source": [
    "score = 75 - 2 * 5\n",
    "print(score)"
   ]
  },
  {
   "cell_type": "markdown",
   "metadata": {},
   "source": [
    "## 11\n",
    "\n",
    "### Background\n",
    "\n",
    "* Jan\n",
    "    * high: 36F\n",
    "    * stddev: 10F\n",
    "* July\n",
    "    * high: 74F\n",
    "    * stddev: 8F\n",
    "    \n",
    "### Answers\n",
    "\n",
    "* July : z-score = -2.38 (compared to Jan: 1.9)\n"
   ]
  },
  {
   "cell_type": "code",
   "execution_count": 8,
   "metadata": {
    "collapsed": false
   },
   "outputs": [
    {
     "name": "stdout",
     "output_type": "stream",
     "text": [
      "January z-score for 55F = 1.90\n",
      "July z-score for 55F = -2.38\n"
     ]
    }
   ],
   "source": [
    "janZ = (55 - 36) / 10\n",
    "julZ = (55 - 74) / 8\n",
    "print(\"January z-score for 55F = %.2f\" % (janZ))\n",
    "print(\"July z-score for 55F = %.2f\" % (julZ))"
   ]
  },
  {
   "cell_type": "markdown",
   "metadata": {},
   "source": [
    "## 13\n",
    "\n",
    "### Background\n",
    "\n",
    "* first\n",
    "    * mean: 65\n",
    "    * stddev: 10\n",
    "* second\n",
    "    * mean: 80\n",
    "    * stddev: 5\n",
    "    \n",
    "* Derrick : [80, 80]\n",
    "* Julia: [70, 90]\n",
    "\n",
    "### Answers\n",
    "\n",
    "* Julia's z-score total (2.5) across both tests is greater than Derrick's (1.5)"
   ]
  },
  {
   "cell_type": "code",
   "execution_count": 9,
   "metadata": {
    "collapsed": true
   },
   "outputs": [],
   "source": [
    "def zScore(x, mean, stddev):\n",
    "    return (x - mean) / stddev"
   ]
  },
  {
   "cell_type": "code",
   "execution_count": 10,
   "metadata": {
    "collapsed": false
   },
   "outputs": [
    {
     "name": "stdout",
     "output_type": "stream",
     "text": [
      "Derrick's z-score total: 1.50\n",
      "Julia's z-score total: 2.50\n"
     ]
    }
   ],
   "source": [
    "derrick = zScore(80, 65, 10) + zScore(80, 80, 5)\n",
    "julia = zScore(70, 65, 10) + zScore(90, 80, 5)\n",
    "\n",
    "print(\"Derrick's z-score total: %.2f\" % (derrick,))\n",
    "print(\"Julia's z-score total: %.2f\" % (julia,))"
   ]
  },
  {
   "cell_type": "markdown",
   "metadata": {},
   "source": [
    "## 15\n",
    "\n",
    "### Background\n",
    "\n",
    "* Anna: [83 Fr, 83 Sp]\n",
    "* Megan: [77 Fr, 95 Sp]\n",
    "* French: mean: 81, stddev: 5\n",
    "* Spanish: mean: 74, stddev: 15\n",
    "\n",
    "### Answers\n",
    "\n",
    "* a) \n",
    "    * Anna mean: 83\n",
    "    * **Megan** mean: 86\n",
    "* b)\n",
    "    * **Anna** zScore total: 1.0\n",
    "    * Megan zScore total: 0.6"
   ]
  },
  {
   "cell_type": "code",
   "execution_count": 11,
   "metadata": {
    "collapsed": false
   },
   "outputs": [
    {
     "name": "stdout",
     "output_type": "stream",
     "text": [
      "Anna's z-score total: 1.00\n",
      "Megan's z-score total: 0.60\n"
     ]
    }
   ],
   "source": [
    "annaZ = zScore(83, 81, 5) + zScore(83, 74, 15)\n",
    "meganZ = zScore(77, 81, 5) + zScore(95, 74, 15)\n",
    "\n",
    "print(\"Anna's z-score total: %.2f\" % (annaZ,))\n",
    "print(\"Megan's z-score total: %.2f\" % (meganZ,))"
   ]
  },
  {
   "cell_type": "markdown",
   "metadata": {},
   "source": [
    "## 17\n",
    "\n",
    "### Background\n",
    "\n",
    "* mean: 1152 lb\n",
    "* assume N(1152, 84)\n",
    "\n",
    "### Answers\n",
    "\n",
    "* a) -1.8\n",
    "* b) 1000\n"
   ]
  },
  {
   "cell_type": "code",
   "execution_count": 12,
   "metadata": {
    "collapsed": false
   },
   "outputs": [
    {
     "data": {
      "text/plain": [
       "-1.8095238095238095"
      ]
     },
     "execution_count": 12,
     "metadata": {},
     "output_type": "execute_result"
    }
   ],
   "source": [
    "(1000 - 1152) / 84"
   ]
  },
  {
   "cell_type": "code",
   "execution_count": 13,
   "metadata": {
    "collapsed": false
   },
   "outputs": [
    {
     "data": {
      "text/plain": [
       "1.1666666666666667"
      ]
     },
     "execution_count": 13,
     "metadata": {},
     "output_type": "execute_result"
    }
   ],
   "source": [
    "(1250 - 1152) / 84"
   ]
  },
  {
   "cell_type": "markdown",
   "metadata": {},
   "source": [
    "## 19\n",
    "\n",
    "\n",
    "### Answers\n",
    "\n",
    "* a) mean: 152 lb; stddev: 84 lb;\n",
    "* b) mean: \\$460.80; stddev: \\$33.60\n"
   ]
  },
  {
   "cell_type": "code",
   "execution_count": 14,
   "metadata": {
    "collapsed": false
   },
   "outputs": [
    {
     "data": {
      "text/plain": [
       "46080"
      ]
     },
     "execution_count": 14,
     "metadata": {},
     "output_type": "execute_result"
    }
   ],
   "source": [
    "1152 * 40"
   ]
  },
  {
   "cell_type": "code",
   "execution_count": 15,
   "metadata": {
    "collapsed": false
   },
   "outputs": [
    {
     "data": {
      "text/plain": [
       "3360"
      ]
     },
     "execution_count": 15,
     "metadata": {},
     "output_type": "execute_result"
    }
   ],
   "source": [
    "84 * 40"
   ]
  },
  {
   "cell_type": "markdown",
   "metadata": {},
   "source": [
    "## 21\n",
    "\n",
    "### Background\n",
    "\n",
    "* min: 980\n",
    "* median: 1140\n",
    "* stddev: 84\n",
    "* IQR: 102\n",
    "* 0.40 / lb\n",
    "* \\$20 commision on each animal\n",
    "\n",
    "\n",
    "### Answers\n",
    "\n",
    "* min: 372.00\n",
    "* median: 436.00\n",
    "* stddev: 33.60\n",
    "* IQR: 40.80\n"
   ]
  },
  {
   "cell_type": "code",
   "execution_count": 16,
   "metadata": {
    "collapsed": false
   },
   "outputs": [
    {
     "data": {
      "text/plain": [
       "[372.0, 436.0]"
      ]
     },
     "execution_count": 16,
     "metadata": {},
     "output_type": "execute_result"
    }
   ],
   "source": [
    "[(x * 0.40) - 20 for x in [980, 1140]]"
   ]
  },
  {
   "cell_type": "code",
   "execution_count": 17,
   "metadata": {
    "collapsed": false
   },
   "outputs": [
    {
     "data": {
      "text/plain": [
       "[33.6, 40.800000000000004]"
      ]
     },
     "execution_count": 17,
     "metadata": {},
     "output_type": "execute_result"
    }
   ],
   "source": [
    "[(x * 0.40) for x in [84, 102]]"
   ]
  },
  {
   "cell_type": "markdown",
   "metadata": {},
   "source": [
    "## 23\n",
    "\n",
    "### Answers\n",
    "\n",
    "* 6 months => 3 sd = +/- 18 months\n",
    "* **6 years** => 3 sd = +/- 18 years\n",
    "* 16 years => 3 sd = +/- 48 years\n"
   ]
  },
  {
   "cell_type": "markdown",
   "metadata": {},
   "source": [
    "## 25\n",
    "\n",
    "### Background\n",
    "\n",
    "* mean 24.8 mpg\n",
    "* stddev 6.2 mpg\n",
    "* assume N(24.8, 6.2)\n",
    "\n",
    "### Answers\n",
    "\n",
    "* a) draw -- see below\n",
    "* b) mean +/- 1 sd (24.8 +/- 6.2) => (18.6, 31.0)\n",
    "* c) 15.9%\n",
    "* d) 13.6%\n",
    "* e) <= 12.6 mpg"
   ]
  },
  {
   "cell_type": "code",
   "execution_count": 18,
   "metadata": {
    "collapsed": false
   },
   "outputs": [
    {
     "data": {
      "text/plain": [
       "<matplotlib.collections.LineCollection at 0x119f7bd30>"
      ]
     },
     "execution_count": 18,
     "metadata": {},
     "output_type": "execute_result"
    },
    {
     "data": {
      "image/png": "[encoded data removed]",
      "text/plain": [
       "<matplotlib.figure.Figure at 0x119f7bd68>"
      ]
     },
     "metadata": {},
     "output_type": "display_data"
    }
   ],
   "source": [
    "lower = 24.8 - 3 * 6.2\n",
    "upper = 24.8 + 3 * 6.2\n",
    "x = np.linspace(lower, upper, 1000)\n",
    "y = stats.norm.pdf(x, loc=24.8, scale=6.2)\n",
    "plt.plot(x, y)\n",
    "plt.vlines([lower, lower + 6.2, lower + 2 * 6.2, upper - 2 * 6.2, upper - 6.2, upper], 0, 0.07)"
   ]
  },
  {
   "cell_type": "code",
   "execution_count": 19,
   "metadata": {
    "collapsed": false
   },
   "outputs": [
    {
     "data": {
      "text/plain": [
       "[18.6, 31.0]"
      ]
     },
     "execution_count": 19,
     "metadata": {},
     "output_type": "execute_result"
    }
   ],
   "source": [
    "[24.8 + x for x in [-6.2, 6.2]]"
   ]
  },
  {
   "cell_type": "code",
   "execution_count": 20,
   "metadata": {
    "collapsed": false
   },
   "outputs": [
    {
     "data": {
      "text/plain": [
       "array([ 0.84134475])"
      ]
     },
     "execution_count": 20,
     "metadata": {},
     "output_type": "execute_result"
    }
   ],
   "source": [
    "z = (31 - 24.8) / 6.2\n",
    "stats.norm.cdf([z])"
   ]
  },
  {
   "cell_type": "code",
   "execution_count": 21,
   "metadata": {
    "collapsed": false
   },
   "outputs": [
    {
     "data": {
      "text/plain": [
       "0.15865525393145707"
      ]
     },
     "execution_count": 21,
     "metadata": {},
     "output_type": "execute_result"
    }
   ],
   "source": [
    "1 - stats.norm.cdf(31, loc=24.8, scale=6.2)"
   ]
  },
  {
   "cell_type": "code",
   "execution_count": 22,
   "metadata": {
    "collapsed": false
   },
   "outputs": [
    {
     "data": {
      "text/plain": [
       "array([ 12.6482233])"
      ]
     },
     "execution_count": 22,
     "metadata": {},
     "output_type": "execute_result"
    }
   ],
   "source": [
    "stats.norm.ppf([0.025], loc=24.8, scale=6.2)"
   ]
  },
  {
   "cell_type": "code",
   "execution_count": 23,
   "metadata": {
    "collapsed": false
   },
   "outputs": [
    {
     "data": {
      "text/plain": [
       "array([ 0.84134475,  0.97724987])"
      ]
     },
     "execution_count": 23,
     "metadata": {},
     "output_type": "execute_result"
    }
   ],
   "source": [
    "x = stats.norm.cdf([31, 37.2], loc=24.8, scale=6.2)\n",
    "x"
   ]
  },
  {
   "cell_type": "code",
   "execution_count": 24,
   "metadata": {
    "collapsed": false
   },
   "outputs": [
    {
     "data": {
      "text/plain": [
       "0.13590512198327787"
      ]
     },
     "execution_count": 24,
     "metadata": {},
     "output_type": "execute_result"
    }
   ],
   "source": [
    "x[1] - x[0]"
   ]
  },
  {
   "cell_type": "markdown",
   "metadata": {},
   "source": [
    "## 27\n",
    "\n",
    "### Answers\n",
    "\n",
    "* <= 987.4 lb (lower tail outside 95% center)"
   ]
  },
  {
   "cell_type": "code",
   "execution_count": 25,
   "metadata": {
    "collapsed": false
   },
   "outputs": [
    {
     "data": {
      "text/plain": [
       "array([ 987.3630253])"
      ]
     },
     "execution_count": 25,
     "metadata": {},
     "output_type": "execute_result"
    }
   ],
   "source": [
    "stats.norm.ppf([0.025], loc=1152, scale=84)"
   ]
  },
  {
   "cell_type": "markdown",
   "metadata": {
    "collapsed": false
   },
   "source": [
    "## 29\n",
    "\n",
    "### Background\n",
    "\n",
    "* n = 27\n",
    "* mean: 10.4 in\n",
    "* stddev: 4.7 in\n",
    "\n",
    "\n",
    "### Answers\n",
    "\n",
    "* a) see below\n",
    "* b) btw 1 and 19+ in in diameter\n",
    "* c) ~ 2%\n",
    "* d) ~ 34%\n",
    "* e) ~ 16%"
   ]
  },
  {
   "cell_type": "code",
   "execution_count": 26,
   "metadata": {
    "collapsed": false
   },
   "outputs": [
    {
     "data": {
      "text/plain": [
       "<matplotlib.collections.LineCollection at 0x11c30cc88>"
      ]
     },
     "execution_count": 26,
     "metadata": {},
     "output_type": "execute_result"
    },
    {
     "data": {
      "image/png": "[encoded data removed]",
      "text/plain": [
       "<matplotlib.figure.Figure at 0x11c30cc50>"
      ]
     },
     "metadata": {},
     "output_type": "display_data"
    }
   ],
   "source": [
    "mean = 10.4\n",
    "stddev = 4.7\n",
    "lower = mean - 3 * stddev\n",
    "upper = mean + 3 * stddev\n",
    "x = np.linspace(lower, upper, 1000)\n",
    "y = stats.norm.pdf(x, loc=mean, scale=stddev)\n",
    "plt.plot(x, y)\n",
    "plt.vlines([lower, lower + stddev, lower + 2 * stddev, upper - 2 * stddev, upper - stddev, upper], 0, 0.085)"
   ]
  },
  {
   "cell_type": "markdown",
   "metadata": {},
   "source": [
    "## 31\n",
    "\n",
    "* No - not symmetric, possibly bi-modal, not approximately bell-shaped"
   ]
  },
  {
   "cell_type": "markdown",
   "metadata": {},
   "source": [
    "## 33\n",
    "\n",
    "### Background\n",
    "\n",
    "* \n",
    "\n",
    "### Answers\n",
    "\n",
    "* a) 15.9%  \n",
    "* b) 4.9%\n",
    "* c) not normally distributed\n",
    "* d) see below\n"
   ]
  },
  {
   "cell_type": "code",
   "execution_count": 27,
   "metadata": {
    "collapsed": false
   },
   "outputs": [
    {
     "data": {
      "text/html": [
       "<div>\n",
       "<table border=\"1\" class=\"dataframe\">\n",
       "  <thead>\n",
       "    <tr style=\"text-align: right;\">\n",
       "      <th></th>\n",
       "      <th>Time</th>\n",
       "    </tr>\n",
       "  </thead>\n",
       "  <tbody>\n",
       "    <tr>\n",
       "      <th>0</th>\n",
       "      <td>114.31</td>\n",
       "    </tr>\n",
       "    <tr>\n",
       "      <th>1</th>\n",
       "      <td>114.38</td>\n",
       "    </tr>\n",
       "    <tr>\n",
       "      <th>2</th>\n",
       "      <td>114.40</td>\n",
       "    </tr>\n",
       "    <tr>\n",
       "      <th>3</th>\n",
       "      <td>114.52</td>\n",
       "    </tr>\n",
       "    <tr>\n",
       "      <th>4</th>\n",
       "      <td>114.64</td>\n",
       "    </tr>\n",
       "  </tbody>\n",
       "</table>\n",
       "</div>"
      ],
      "text/plain": [
       "     Time\n",
       "0  114.31\n",
       "1  114.38\n",
       "2  114.40\n",
       "3  114.52\n",
       "4  114.64"
      ]
     },
     "execution_count": 27,
     "metadata": {},
     "output_type": "execute_result"
    }
   ],
   "source": [
    "downhill = pd.read_table(\"../data/Winter_Olympic_10_Downhill.txt\")\n",
    "downhill.head()"
   ]
  },
  {
   "cell_type": "code",
   "execution_count": 28,
   "metadata": {
    "collapsed": false
   },
   "outputs": [
    {
     "data": {
      "text/plain": [
       "count     59.000000\n",
       "mean     117.339831\n",
       "std        2.465045\n",
       "min      114.310000\n",
       "25%      115.345000\n",
       "50%      116.660000\n",
       "75%      119.030000\n",
       "max      124.440000\n",
       "Name: Time, dtype: float64"
      ]
     },
     "execution_count": 28,
     "metadata": {},
     "output_type": "execute_result"
    }
   ],
   "source": [
    "downhill.Time.describe()"
   ]
  },
  {
   "cell_type": "code",
   "execution_count": 29,
   "metadata": {
    "collapsed": false
   },
   "outputs": [
    {
     "data": {
      "image/png": "[encoded data removed]",
      "text/plain": [
       "<matplotlib.figure.Figure at 0x119f7b860>"
      ]
     },
     "metadata": {},
     "output_type": "display_data"
    }
   ],
   "source": [
    "downhill.Time.plot.hist(bins=15);"
   ]
  },
  {
   "cell_type": "code",
   "execution_count": 30,
   "metadata": {
    "collapsed": false
   },
   "outputs": [
    {
     "data": {
      "text/plain": [
       "array([ 0.15865525])"
      ]
     },
     "execution_count": 30,
     "metadata": {},
     "output_type": "execute_result"
    }
   ],
   "source": [
    "stats.norm.cdf([109.78], loc=113.02, scale=3.24)"
   ]
  },
  {
   "cell_type": "code",
   "execution_count": 31,
   "metadata": {
    "collapsed": false
   },
   "outputs": [
    {
     "data": {
      "text/plain": [
       "0.04878048780487805"
      ]
     },
     "execution_count": 31,
     "metadata": {},
     "output_type": "execute_result"
    }
   ],
   "source": [
    "2. / 41."
   ]
  },
  {
   "cell_type": "markdown",
   "metadata": {
    "collapsed": true
   },
   "source": [
    "## 35\n",
    "\n",
    "### Background\n",
    "\n",
    "* n = 167\n",
    "* m: 435 y\n",
    "* s: 384 y\n",
    "\n",
    "### Answers\n",
    "\n",
    "* a) 2.5%\n",
    "* b) ~ 4 receivers would gain <= 435 - 2 * 384 = -333 y\n",
    "* c) data is not normal - not symmetric, nor \"bell-shaped\", right skewed"
   ]
  },
  {
   "cell_type": "code",
   "execution_count": 32,
   "metadata": {
    "collapsed": false
   },
   "outputs": [
    {
     "data": {
      "text/plain": [
       "4.175"
      ]
     },
     "execution_count": 32,
     "metadata": {},
     "output_type": "execute_result"
    }
   ],
   "source": [
    "167 * 0.025"
   ]
  },
  {
   "cell_type": "code",
   "execution_count": 33,
   "metadata": {
    "collapsed": false
   },
   "outputs": [
    {
     "data": {
      "text/plain": [
       "-333"
      ]
     },
     "execution_count": 33,
     "metadata": {},
     "output_type": "execute_result"
    }
   ],
   "source": [
    "435 - 2 * 384"
   ]
  },
  {
   "cell_type": "markdown",
   "metadata": {},
   "source": [
    "## 37\n",
    "\n",
    "### Background\n",
    "\n",
    "* N(1152, 84)\n",
    "\n",
    "### Answers\n",
    "\n",
    "* a) % over 1250#: 12.2%\n",
    "* b) % under 1200#: 71.6%\n",
    "* c) % between 1000# and 11000#: 23.3%"
   ]
  },
  {
   "cell_type": "code",
   "execution_count": 34,
   "metadata": {
    "collapsed": false
   },
   "outputs": [
    {
     "data": {
      "text/plain": [
       "array([ 0.1216725])"
      ]
     },
     "execution_count": 34,
     "metadata": {},
     "output_type": "execute_result"
    }
   ],
   "source": [
    "1 - stats.norm.cdf([1250], loc=1152, scale=84)"
   ]
  },
  {
   "cell_type": "code",
   "execution_count": 35,
   "metadata": {
    "collapsed": false
   },
   "outputs": [
    {
     "data": {
      "text/plain": [
       "array([ 0.71614542])"
      ]
     },
     "execution_count": 35,
     "metadata": {},
     "output_type": "execute_result"
    }
   ],
   "source": [
    "stats.norm.cdf([1200], loc=1152, scale=84)"
   ]
  },
  {
   "cell_type": "code",
   "execution_count": 36,
   "metadata": {
    "collapsed": false
   },
   "outputs": [
    {
     "data": {
      "text/plain": [
       "0.23275766222862343"
      ]
     },
     "execution_count": 36,
     "metadata": {},
     "output_type": "execute_result"
    }
   ],
   "source": [
    "x = stats.norm.cdf([1000, 1100], loc=1152, scale=84)\n",
    "x[1] - x[0]"
   ]
  },
  {
   "cell_type": "markdown",
   "metadata": {},
   "source": [
    "## 39\n",
    "\n",
    "### Background\n",
    "\n",
    "* N(1152, 84)\n",
    "\n",
    "### Answers\n",
    "\n",
    "* a) highest 10%: 1260\n",
    "* b) lowest 20%: 1081\n",
    "* c) middle 40%: [1108, 1196]"
   ]
  },
  {
   "cell_type": "code",
   "execution_count": 37,
   "metadata": {
    "collapsed": false
   },
   "outputs": [
    {
     "data": {
      "text/plain": [
       "array([ 1259.65033151,  1081.30381638,  1107.95035693,  1196.04964307])"
      ]
     },
     "execution_count": 37,
     "metadata": {},
     "output_type": "execute_result"
    }
   ],
   "source": [
    "stats.norm.ppf([.9, .2, .3, .7], loc=1152, scale=84)"
   ]
  },
  {
   "cell_type": "markdown",
   "metadata": {},
   "source": [
    "## 41\n",
    "\n",
    "### Background\n",
    "\n",
    "* N(1152, 84)\n",
    "\n",
    "### Answers\n",
    "\n",
    "* 40th percentile: 1130.7\n",
    "* 99th percentile: 1347.4\n",
    "* IQR: 113.3"
   ]
  },
  {
   "cell_type": "code",
   "execution_count": 38,
   "metadata": {
    "collapsed": false
   },
   "outputs": [
    {
     "data": {
      "text/plain": [
       "array([ 1130.71884334,  1347.41322142,  1095.34286098,  1208.65713902])"
      ]
     },
     "execution_count": 38,
     "metadata": {},
     "output_type": "execute_result"
    }
   ],
   "source": [
    "x = stats.norm.ppf([.4, .99, .25, .75], loc=1152, scale=84)\n",
    "x"
   ]
  },
  {
   "cell_type": "code",
   "execution_count": 39,
   "metadata": {
    "collapsed": false
   },
   "outputs": [
    {
     "data": {
      "text/plain": [
       "113.31427803294173"
      ]
     },
     "execution_count": 39,
     "metadata": {},
     "output_type": "execute_result"
    }
   ],
   "source": [
    "x[3] - x[2]"
   ]
  },
  {
   "cell_type": "markdown",
   "metadata": {},
   "source": [
    "## 43\n",
    "\n",
    "### Background\n",
    "\n",
    "* N(188, 24)\n",
    "\n",
    "### Answers\n",
    "\n",
    "* a) see below\n",
    "* b) 30.8%\n",
    "* c) 17%\n",
    "* d) 32.4\n",
    "* e) 212.8\n"
   ]
  },
  {
   "cell_type": "code",
   "execution_count": 40,
   "metadata": {
    "collapsed": false
   },
   "outputs": [
    {
     "data": {
      "text/plain": [
       "<matplotlib.collections.LineCollection at 0x11c3e6a58>"
      ]
     },
     "execution_count": 40,
     "metadata": {},
     "output_type": "execute_result"
    },
    {
     "data": {
      "image/png": "[encoded data removed]",
      "text/plain": [
       "<matplotlib.figure.Figure at 0x11c3da0f0>"
      ]
     },
     "metadata": {},
     "output_type": "display_data"
    }
   ],
   "source": [
    "mean = 188\n",
    "stddev = 24\n",
    "lower = mean - 3 * stddev\n",
    "upper = mean + 3 * stddev\n",
    "x = np.linspace(lower, upper, 1000)\n",
    "y = stats.norm.pdf(x, loc=mean, scale=stddev)\n",
    "plt.plot(x, y)\n",
    "plt.vlines([lower, lower + stddev, lower + 2 * stddev, upper - 2 * stddev, upper - stddev, upper], 0, 0.019)"
   ]
  },
  {
   "cell_type": "code",
   "execution_count": 41,
   "metadata": {
    "collapsed": false
   },
   "outputs": [
    {
     "data": {
      "text/plain": [
       "array([ 0.30853754])"
      ]
     },
     "execution_count": 41,
     "metadata": {},
     "output_type": "execute_result"
    }
   ],
   "source": [
    "1 - stats.norm.cdf([200], loc=mean, scale=stddev)"
   ]
  },
  {
   "cell_type": "code",
   "execution_count": 42,
   "metadata": {
    "collapsed": false
   },
   "outputs": [
    {
     "data": {
      "text/plain": [
       "0.16995459776710528"
      ]
     },
     "execution_count": 42,
     "metadata": {},
     "output_type": "execute_result"
    }
   ],
   "source": [
    "x = stats.norm.cdf([150, 170], loc=mean, scale=stddev)\n",
    "x[1] - x[0]"
   ]
  },
  {
   "cell_type": "code",
   "execution_count": 43,
   "metadata": {
    "collapsed": false
   },
   "outputs": [
    {
     "data": {
      "text/plain": [
       "32.375508009411931"
      ]
     },
     "execution_count": 43,
     "metadata": {},
     "output_type": "execute_result"
    }
   ],
   "source": [
    "x = stats.norm.ppf([.25, .75], loc=mean, scale=stddev)\n",
    "x[1] - x[0]"
   ]
  },
  {
   "cell_type": "code",
   "execution_count": 44,
   "metadata": {
    "collapsed": false
   },
   "outputs": [
    {
     "data": {
      "text/plain": [
       "array([ 212.87440135])"
      ]
     },
     "execution_count": 44,
     "metadata": {},
     "output_type": "execute_result"
    }
   ],
   "source": [
    "stats.norm.ppf([0.85], loc=mean, scale=stddev)"
   ]
  },
  {
   "cell_type": "markdown",
   "metadata": {},
   "source": [
    "## 45\n",
    "\n",
    "### Background\n",
    "\n",
    "* N(38.2, 1.8)\n",
    "\n",
    "### Answers\n",
    "\n",
    "* % < 3 feet: 11.1%\n",
    "* middle 80%: [35.9, 40.5]\n",
    "* tallest 10% cutoff: 40.5\n"
   ]
  },
  {
   "cell_type": "code",
   "execution_count": 45,
   "metadata": {
    "collapsed": false
   },
   "outputs": [
    {
     "data": {
      "text/plain": [
       "array([ 0.1108118])"
      ]
     },
     "execution_count": 45,
     "metadata": {},
     "output_type": "execute_result"
    }
   ],
   "source": [
    "mean = 38.2\n",
    "stddev = 1.8\n",
    "\n",
    "stats.norm.cdf([36], loc=mean, scale=stddev)"
   ]
  },
  {
   "cell_type": "code",
   "execution_count": 46,
   "metadata": {
    "collapsed": false
   },
   "outputs": [
    {
     "data": {
      "text/plain": [
       "array([ 35.89320718,  40.50679282])"
      ]
     },
     "execution_count": 46,
     "metadata": {},
     "output_type": "execute_result"
    }
   ],
   "source": [
    "stats.norm.ppf([.1, .9], loc=mean, scale=stddev)"
   ]
  },
  {
   "cell_type": "markdown",
   "metadata": {},
   "source": [
    "## 47\n",
    "\n",
    "\n",
    "### Answers\n",
    "\n",
    "* a) \n",
    "  - mean : 50.9 g\n",
    "  - 28% > 54 g\n",
    "  - stddev: 5.3 g\n",
    "  \n",
    "* b) \n",
    "  - mean: 67.1 g\n",
    "  - 98% > 54 g\n",
    "  - stddev: 6.4 g\n",
    "  \n",
    "* c) \n",
    "  - more consistent for the young\n"
   ]
  },
  {
   "cell_type": "code",
   "execution_count": 47,
   "metadata": {
    "collapsed": false
   },
   "outputs": [
    {
     "data": {
      "text/plain": [
       "0.5828415072712162"
      ]
     },
     "execution_count": 47,
     "metadata": {},
     "output_type": "execute_result"
    }
   ],
   "source": [
    "x = stats.norm.ppf([1 - .28])\n",
    "x[0]"
   ]
  },
  {
   "cell_type": "code",
   "execution_count": 48,
   "metadata": {
    "collapsed": false
   },
   "outputs": [
    {
     "data": {
      "text/plain": [
       "5.3187701310323199"
      ]
     },
     "execution_count": 48,
     "metadata": {},
     "output_type": "execute_result"
    }
   ],
   "source": [
    "(54 - 50.9) / x[0]"
   ]
  },
  {
   "cell_type": "code",
   "execution_count": 49,
   "metadata": {
    "collapsed": false
   },
   "outputs": [
    {
     "data": {
      "text/plain": [
       "-2.053748910631823"
      ]
     },
     "execution_count": 49,
     "metadata": {},
     "output_type": "execute_result"
    }
   ],
   "source": [
    "x = stats.norm.ppf([.02])\n",
    "x[0]"
   ]
  },
  {
   "cell_type": "code",
   "execution_count": 50,
   "metadata": {
    "collapsed": false
   },
   "outputs": [
    {
     "data": {
      "text/plain": [
       "-6.378579159401653"
      ]
     },
     "execution_count": 50,
     "metadata": {},
     "output_type": "execute_result"
    }
   ],
   "source": [
    "(67.1 - 54) / x[0]"
   ]
  }
 ],
 "metadata": {
  "kernelspec": {
   "display_name": "Python 3",
   "language": "python",
   "name": "python3"
  },
  "language_info": {
   "codemirror_mode": {
    "name": "ipython",
    "version": 3
   },
   "file_extension": ".py",
   "mimetype": "text/x-python",
   "name": "python",
   "nbconvert_exporter": "python",
   "pygments_lexer": "ipython3",
   "version": "3.5.2"
  }
 },
 "nbformat": 4,
 "nbformat_minor": 0
}
