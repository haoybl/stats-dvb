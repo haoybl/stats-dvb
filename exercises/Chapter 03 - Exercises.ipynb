{
 "cells": [
  {
   "cell_type": "markdown",
   "metadata": {},
   "source": [
    "# Chapter 3 - Exercises"
   ]
  },
  {
   "cell_type": "code",
   "execution_count": 1,
   "metadata": {
    "collapsed": true
   },
   "outputs": [],
   "source": [
    "# %load ../snippets/data-imports\n",
    "import numpy as np\n",
    "import pandas as pd\n",
    "from pandas import Series,DataFrame\n",
    "\n",
    "import matplotlib.pyplot as plt\n",
    "import seaborn as sns\n",
    "%matplotlib inline\n",
    "sns.set_style('whitegrid')"
   ]
  },
  {
   "cell_type": "markdown",
   "metadata": {},
   "source": [
    "## 21"
   ]
  },
  {
   "cell_type": "code",
   "execution_count": 2,
   "metadata": {
    "collapsed": false
   },
   "outputs": [
    {
     "data": {
      "text/html": [
       "<div>\n",
       "<table border=\"1\" class=\"dataframe\">\n",
       "  <thead>\n",
       "    <tr style=\"text-align: right;\">\n",
       "      <th></th>\n",
       "      <th>ethnicity</th>\n",
       "      <th>plans</th>\n",
       "    </tr>\n",
       "  </thead>\n",
       "  <tbody>\n",
       "    <tr>\n",
       "      <th>0</th>\n",
       "      <td>white</td>\n",
       "      <td>4-year college</td>\n",
       "    </tr>\n",
       "    <tr>\n",
       "      <th>1</th>\n",
       "      <td>white</td>\n",
       "      <td>4-year college</td>\n",
       "    </tr>\n",
       "    <tr>\n",
       "      <th>2</th>\n",
       "      <td>white</td>\n",
       "      <td>4-year college</td>\n",
       "    </tr>\n",
       "    <tr>\n",
       "      <th>3</th>\n",
       "      <td>white</td>\n",
       "      <td>4-year college</td>\n",
       "    </tr>\n",
       "    <tr>\n",
       "      <th>4</th>\n",
       "      <td>white</td>\n",
       "      <td>4-year college</td>\n",
       "    </tr>\n",
       "  </tbody>\n",
       "</table>\n",
       "</div>"
      ],
      "text/plain": [
       "  ethnicity           plans\n",
       "0     white  4-year college\n",
       "1     white  4-year college\n",
       "2     white  4-year college\n",
       "3     white  4-year college\n",
       "4     white  4-year college"
      ]
     },
     "execution_count": 2,
     "metadata": {},
     "output_type": "execute_result"
    }
   ],
   "source": [
    "data = [{'ethnicity' : 'white', 'plans': '4-year college'}] * 198 + \\\n",
    "    [{'ethnicity' : 'white', 'plans': '2-year college'}] * 36 + \\\n",
    "    [{'ethnicity' : 'white', 'plans': 'Military'}] * 4 + \\\n",
    "    [{'ethnicity' : 'white', 'plans': 'Employment'}] * 14 + \\\n",
    "    [{'ethnicity' : 'white', 'plans': 'Other'}] * 16 + \\\n",
    "    [{'ethnicity' : 'minority', 'plans': '4-year college'}] * 44 + \\\n",
    "    [{'ethnicity' : 'minority', 'plans': '2-year college'}] * 6 + \\\n",
    "    [{'ethnicity' : 'minority', 'plans': 'Military'}] * 1 + \\\n",
    "    [{'ethnicity' : 'minority', 'plans': 'Employment'}] * 3 + \\\n",
    "    [{'ethnicity' : 'minority', 'plans': 'Other'}] * 3\n",
    "\n",
    "df = DataFrame(data=data)\n",
    "df.head()"
   ]
  },
  {
   "cell_type": "code",
   "execution_count": 3,
   "metadata": {
    "collapsed": false
   },
   "outputs": [],
   "source": [
    "%run ../scripts/contingencytable.py"
   ]
  },
  {
   "cell_type": "code",
   "execution_count": 4,
   "metadata": {
    "collapsed": true
   },
   "outputs": [],
   "source": [
    "ct = contingencyTable(df, 'plans', 'ethnicity')"
   ]
  },
  {
   "cell_type": "code",
   "execution_count": 5,
   "metadata": {
    "collapsed": false
   },
   "outputs": [
    {
     "data": {
      "text/html": [
       "<div>\n",
       "<table border=\"1\" class=\"dataframe\">\n",
       "  <thead>\n",
       "    <tr style=\"text-align: right;\">\n",
       "      <th></th>\n",
       "      <th></th>\n",
       "      <th>All</th>\n",
       "      <th>minority</th>\n",
       "      <th>white</th>\n",
       "    </tr>\n",
       "    <tr>\n",
       "      <th>plans</th>\n",
       "      <th>metric</th>\n",
       "      <th></th>\n",
       "      <th></th>\n",
       "      <th></th>\n",
       "    </tr>\n",
       "  </thead>\n",
       "  <tbody>\n",
       "    <tr>\n",
       "      <th rowspan=\"4\" valign=\"top\">2-year college</th>\n",
       "      <th>count</th>\n",
       "      <td>42.000000</td>\n",
       "      <td>6.000000</td>\n",
       "      <td>36.000000</td>\n",
       "    </tr>\n",
       "    <tr>\n",
       "      <th>pctOfColumn</th>\n",
       "      <td>0.129231</td>\n",
       "      <td>0.105263</td>\n",
       "      <td>0.134328</td>\n",
       "    </tr>\n",
       "    <tr>\n",
       "      <th>pctOfRow</th>\n",
       "      <td>1.000000</td>\n",
       "      <td>0.142857</td>\n",
       "      <td>0.857143</td>\n",
       "    </tr>\n",
       "    <tr>\n",
       "      <th>pctOfTotal</th>\n",
       "      <td>0.129231</td>\n",
       "      <td>0.018462</td>\n",
       "      <td>0.110769</td>\n",
       "    </tr>\n",
       "    <tr>\n",
       "      <th rowspan=\"4\" valign=\"top\">4-year college</th>\n",
       "      <th>count</th>\n",
       "      <td>242.000000</td>\n",
       "      <td>44.000000</td>\n",
       "      <td>198.000000</td>\n",
       "    </tr>\n",
       "    <tr>\n",
       "      <th>pctOfColumn</th>\n",
       "      <td>0.744615</td>\n",
       "      <td>0.771930</td>\n",
       "      <td>0.738806</td>\n",
       "    </tr>\n",
       "    <tr>\n",
       "      <th>pctOfRow</th>\n",
       "      <td>1.000000</td>\n",
       "      <td>0.181818</td>\n",
       "      <td>0.818182</td>\n",
       "    </tr>\n",
       "    <tr>\n",
       "      <th>pctOfTotal</th>\n",
       "      <td>0.744615</td>\n",
       "      <td>0.135385</td>\n",
       "      <td>0.609231</td>\n",
       "    </tr>\n",
       "    <tr>\n",
       "      <th rowspan=\"4\" valign=\"top\">All</th>\n",
       "      <th>count</th>\n",
       "      <td>325.000000</td>\n",
       "      <td>57.000000</td>\n",
       "      <td>268.000000</td>\n",
       "    </tr>\n",
       "    <tr>\n",
       "      <th>pctOfColumn</th>\n",
       "      <td>1.000000</td>\n",
       "      <td>1.000000</td>\n",
       "      <td>1.000000</td>\n",
       "    </tr>\n",
       "    <tr>\n",
       "      <th>pctOfRow</th>\n",
       "      <td>1.000000</td>\n",
       "      <td>0.175385</td>\n",
       "      <td>0.824615</td>\n",
       "    </tr>\n",
       "    <tr>\n",
       "      <th>pctOfTotal</th>\n",
       "      <td>1.000000</td>\n",
       "      <td>0.175385</td>\n",
       "      <td>0.824615</td>\n",
       "    </tr>\n",
       "    <tr>\n",
       "      <th rowspan=\"4\" valign=\"top\">Employment</th>\n",
       "      <th>count</th>\n",
       "      <td>17.000000</td>\n",
       "      <td>3.000000</td>\n",
       "      <td>14.000000</td>\n",
       "    </tr>\n",
       "    <tr>\n",
       "      <th>pctOfColumn</th>\n",
       "      <td>0.052308</td>\n",
       "      <td>0.052632</td>\n",
       "      <td>0.052239</td>\n",
       "    </tr>\n",
       "    <tr>\n",
       "      <th>pctOfRow</th>\n",
       "      <td>1.000000</td>\n",
       "      <td>0.176471</td>\n",
       "      <td>0.823529</td>\n",
       "    </tr>\n",
       "    <tr>\n",
       "      <th>pctOfTotal</th>\n",
       "      <td>0.052308</td>\n",
       "      <td>0.009231</td>\n",
       "      <td>0.043077</td>\n",
       "    </tr>\n",
       "    <tr>\n",
       "      <th rowspan=\"4\" valign=\"top\">Military</th>\n",
       "      <th>count</th>\n",
       "      <td>5.000000</td>\n",
       "      <td>1.000000</td>\n",
       "      <td>4.000000</td>\n",
       "    </tr>\n",
       "    <tr>\n",
       "      <th>pctOfColumn</th>\n",
       "      <td>0.015385</td>\n",
       "      <td>0.017544</td>\n",
       "      <td>0.014925</td>\n",
       "    </tr>\n",
       "    <tr>\n",
       "      <th>pctOfRow</th>\n",
       "      <td>1.000000</td>\n",
       "      <td>0.200000</td>\n",
       "      <td>0.800000</td>\n",
       "    </tr>\n",
       "    <tr>\n",
       "      <th>pctOfTotal</th>\n",
       "      <td>0.015385</td>\n",
       "      <td>0.003077</td>\n",
       "      <td>0.012308</td>\n",
       "    </tr>\n",
       "    <tr>\n",
       "      <th rowspan=\"4\" valign=\"top\">Other</th>\n",
       "      <th>count</th>\n",
       "      <td>19.000000</td>\n",
       "      <td>3.000000</td>\n",
       "      <td>16.000000</td>\n",
       "    </tr>\n",
       "    <tr>\n",
       "      <th>pctOfColumn</th>\n",
       "      <td>0.058462</td>\n",
       "      <td>0.052632</td>\n",
       "      <td>0.059701</td>\n",
       "    </tr>\n",
       "    <tr>\n",
       "      <th>pctOfRow</th>\n",
       "      <td>1.000000</td>\n",
       "      <td>0.157895</td>\n",
       "      <td>0.842105</td>\n",
       "    </tr>\n",
       "    <tr>\n",
       "      <th>pctOfTotal</th>\n",
       "      <td>0.058462</td>\n",
       "      <td>0.009231</td>\n",
       "      <td>0.049231</td>\n",
       "    </tr>\n",
       "  </tbody>\n",
       "</table>\n",
       "</div>"
      ],
      "text/plain": [
       "                                   All   minority       white\n",
       "plans          metric                                        \n",
       "2-year college count         42.000000   6.000000   36.000000\n",
       "               pctOfColumn    0.129231   0.105263    0.134328\n",
       "               pctOfRow       1.000000   0.142857    0.857143\n",
       "               pctOfTotal     0.129231   0.018462    0.110769\n",
       "4-year college count        242.000000  44.000000  198.000000\n",
       "               pctOfColumn    0.744615   0.771930    0.738806\n",
       "               pctOfRow       1.000000   0.181818    0.818182\n",
       "               pctOfTotal     0.744615   0.135385    0.609231\n",
       "All            count        325.000000  57.000000  268.000000\n",
       "               pctOfColumn    1.000000   1.000000    1.000000\n",
       "               pctOfRow       1.000000   0.175385    0.824615\n",
       "               pctOfTotal     1.000000   0.175385    0.824615\n",
       "Employment     count         17.000000   3.000000   14.000000\n",
       "               pctOfColumn    0.052308   0.052632    0.052239\n",
       "               pctOfRow       1.000000   0.176471    0.823529\n",
       "               pctOfTotal     0.052308   0.009231    0.043077\n",
       "Military       count          5.000000   1.000000    4.000000\n",
       "               pctOfColumn    0.015385   0.017544    0.014925\n",
       "               pctOfRow       1.000000   0.200000    0.800000\n",
       "               pctOfTotal     0.015385   0.003077    0.012308\n",
       "Other          count         19.000000   3.000000   16.000000\n",
       "               pctOfColumn    0.058462   0.052632    0.059701\n",
       "               pctOfRow       1.000000   0.157895    0.842105\n",
       "               pctOfTotal     0.058462   0.009231    0.049231"
      ]
     },
     "execution_count": 5,
     "metadata": {},
     "output_type": "execute_result"
    }
   ],
   "source": [
    "ct"
   ]
  },
  {
   "cell_type": "markdown",
   "metadata": {},
   "source": [
    "### 21: sub-questions\n",
    "a) 82.5%\n",
    "b) 12.9%\n",
    "c) 11.1%\n",
    "d) 13.4%\n",
    "e) 85.7%\n",
    "\n",
    "### 23: sub-questions\n",
    "a) \n",
    "2-year college  pctOfColumn      0.134328                \n",
    "4-year college  pctOfColumn      0.738806                \n",
    "Employment      pctOfColumn      0.052239                \n",
    "Military        pctOfColumn      0.014925                \n",
    "Other           pctOfColumn      0.059701                \n",
    "b)\n",
    "2-year college       0.105263\n",
    "4-year college       0.771930\n",
    "Employment           0.052632\n",
    "Military       0.017544\n",
    "Other       0.052632\n",
    "\n",
    "c)\n",
    "d)"
   ]
  },
  {
   "cell_type": "code",
   "execution_count": 6,
   "metadata": {
    "collapsed": false
   },
   "outputs": [
    {
     "data": {
      "text/html": [
       "<div>\n",
       "<table border=\"1\" class=\"dataframe\">\n",
       "  <thead>\n",
       "    <tr style=\"text-align: right;\">\n",
       "      <th></th>\n",
       "      <th>minority</th>\n",
       "      <th>white</th>\n",
       "    </tr>\n",
       "    <tr>\n",
       "      <th>plans</th>\n",
       "      <th></th>\n",
       "      <th></th>\n",
       "    </tr>\n",
       "  </thead>\n",
       "  <tbody>\n",
       "    <tr>\n",
       "      <th>2-year college</th>\n",
       "      <td>0.105263</td>\n",
       "      <td>0.134328</td>\n",
       "    </tr>\n",
       "    <tr>\n",
       "      <th>4-year college</th>\n",
       "      <td>0.771930</td>\n",
       "      <td>0.738806</td>\n",
       "    </tr>\n",
       "    <tr>\n",
       "      <th>Employment</th>\n",
       "      <td>0.052632</td>\n",
       "      <td>0.052239</td>\n",
       "    </tr>\n",
       "    <tr>\n",
       "      <th>Military</th>\n",
       "      <td>0.017544</td>\n",
       "      <td>0.014925</td>\n",
       "    </tr>\n",
       "    <tr>\n",
       "      <th>Other</th>\n",
       "      <td>0.052632</td>\n",
       "      <td>0.059701</td>\n",
       "    </tr>\n",
       "  </tbody>\n",
       "</table>\n",
       "</div>"
      ],
      "text/plain": [
       "                minority     white\n",
       "plans                             \n",
       "2-year college  0.105263  0.134328\n",
       "4-year college  0.771930  0.738806\n",
       "Employment      0.052632  0.052239\n",
       "Military        0.017544  0.014925\n",
       "Other           0.052632  0.059701"
      ]
     },
     "execution_count": 6,
     "metadata": {},
     "output_type": "execute_result"
    }
   ],
   "source": [
    "ct.reorder_levels(['metric', 'plans']).loc['pctOfColumn'][['minority', 'white']]. \\\n",
    "  loc[['2-year college', '4-year college', 'Employment', 'Military', 'Other']]"
   ]
  },
  {
   "cell_type": "markdown",
   "metadata": {
    "collapsed": true
   },
   "source": [
    "## 25"
   ]
  },
  {
   "cell_type": "code",
   "execution_count": 7,
   "metadata": {
    "collapsed": false
   },
   "outputs": [
    {
     "data": {
      "text/html": [
       "<div>\n",
       "<table border=\"1\" class=\"dataframe\">\n",
       "  <thead>\n",
       "    <tr style=\"text-align: right;\">\n",
       "      <th></th>\n",
       "      <th>Forecast</th>\n",
       "      <th>Actual Weather</th>\n",
       "    </tr>\n",
       "  </thead>\n",
       "  <tbody>\n",
       "    <tr>\n",
       "      <th>0</th>\n",
       "      <td>Rain</td>\n",
       "      <td>Rain</td>\n",
       "    </tr>\n",
       "    <tr>\n",
       "      <th>1</th>\n",
       "      <td>Rain</td>\n",
       "      <td>Rain</td>\n",
       "    </tr>\n",
       "    <tr>\n",
       "      <th>2</th>\n",
       "      <td>Rain</td>\n",
       "      <td>Rain</td>\n",
       "    </tr>\n",
       "    <tr>\n",
       "      <th>3</th>\n",
       "      <td>Rain</td>\n",
       "      <td>Rain</td>\n",
       "    </tr>\n",
       "    <tr>\n",
       "      <th>4</th>\n",
       "      <td>Rain</td>\n",
       "      <td>Rain</td>\n",
       "    </tr>\n",
       "  </tbody>\n",
       "</table>\n",
       "</div>"
      ],
      "text/plain": [
       "  Forecast Actual Weather\n",
       "0     Rain           Rain\n",
       "1     Rain           Rain\n",
       "2     Rain           Rain\n",
       "3     Rain           Rain\n",
       "4     Rain           Rain"
      ]
     },
     "execution_count": 7,
     "metadata": {},
     "output_type": "execute_result"
    }
   ],
   "source": [
    "weather = pd.read_table('../data/Weather_forecasts.txt')\n",
    "weather.head()"
   ]
  },
  {
   "cell_type": "code",
   "execution_count": 8,
   "metadata": {
    "collapsed": false
   },
   "outputs": [
    {
     "data": {
      "text/html": [
       "<div>\n",
       "<table border=\"1\" class=\"dataframe\">\n",
       "  <thead>\n",
       "    <tr style=\"text-align: right;\">\n",
       "      <th></th>\n",
       "      <th></th>\n",
       "      <th>All</th>\n",
       "      <th>No Rain</th>\n",
       "      <th>Rain</th>\n",
       "    </tr>\n",
       "    <tr>\n",
       "      <th>Forecast</th>\n",
       "      <th>metric</th>\n",
       "      <th></th>\n",
       "      <th></th>\n",
       "      <th></th>\n",
       "    </tr>\n",
       "  </thead>\n",
       "  <tbody>\n",
       "    <tr>\n",
       "      <th rowspan=\"4\" valign=\"top\">All</th>\n",
       "      <th>count</th>\n",
       "      <td>365.000000</td>\n",
       "      <td>331.000000</td>\n",
       "      <td>34.000000</td>\n",
       "    </tr>\n",
       "    <tr>\n",
       "      <th>pctOfColumn</th>\n",
       "      <td>1.000000</td>\n",
       "      <td>1.000000</td>\n",
       "      <td>1.000000</td>\n",
       "    </tr>\n",
       "    <tr>\n",
       "      <th>pctOfRow</th>\n",
       "      <td>1.000000</td>\n",
       "      <td>0.906849</td>\n",
       "      <td>0.093151</td>\n",
       "    </tr>\n",
       "    <tr>\n",
       "      <th>pctOfTotal</th>\n",
       "      <td>1.000000</td>\n",
       "      <td>0.906849</td>\n",
       "      <td>0.093151</td>\n",
       "    </tr>\n",
       "    <tr>\n",
       "      <th rowspan=\"4\" valign=\"top\">No Rain</th>\n",
       "      <th>count</th>\n",
       "      <td>275.000000</td>\n",
       "      <td>268.000000</td>\n",
       "      <td>7.000000</td>\n",
       "    </tr>\n",
       "    <tr>\n",
       "      <th>pctOfColumn</th>\n",
       "      <td>0.753425</td>\n",
       "      <td>0.809668</td>\n",
       "      <td>0.205882</td>\n",
       "    </tr>\n",
       "    <tr>\n",
       "      <th>pctOfRow</th>\n",
       "      <td>1.000000</td>\n",
       "      <td>0.974545</td>\n",
       "      <td>0.025455</td>\n",
       "    </tr>\n",
       "    <tr>\n",
       "      <th>pctOfTotal</th>\n",
       "      <td>0.753425</td>\n",
       "      <td>0.734247</td>\n",
       "      <td>0.019178</td>\n",
       "    </tr>\n",
       "    <tr>\n",
       "      <th rowspan=\"4\" valign=\"top\">Rain</th>\n",
       "      <th>count</th>\n",
       "      <td>90.000000</td>\n",
       "      <td>63.000000</td>\n",
       "      <td>27.000000</td>\n",
       "    </tr>\n",
       "    <tr>\n",
       "      <th>pctOfColumn</th>\n",
       "      <td>0.246575</td>\n",
       "      <td>0.190332</td>\n",
       "      <td>0.794118</td>\n",
       "    </tr>\n",
       "    <tr>\n",
       "      <th>pctOfRow</th>\n",
       "      <td>1.000000</td>\n",
       "      <td>0.700000</td>\n",
       "      <td>0.300000</td>\n",
       "    </tr>\n",
       "    <tr>\n",
       "      <th>pctOfTotal</th>\n",
       "      <td>0.246575</td>\n",
       "      <td>0.172603</td>\n",
       "      <td>0.073973</td>\n",
       "    </tr>\n",
       "  </tbody>\n",
       "</table>\n",
       "</div>"
      ],
      "text/plain": [
       "                             All     No Rain       Rain\n",
       "Forecast metric                                        \n",
       "All      count        365.000000  331.000000  34.000000\n",
       "         pctOfColumn    1.000000    1.000000   1.000000\n",
       "         pctOfRow       1.000000    0.906849   0.093151\n",
       "         pctOfTotal     1.000000    0.906849   0.093151\n",
       "No Rain  count        275.000000  268.000000   7.000000\n",
       "         pctOfColumn    0.753425    0.809668   0.205882\n",
       "         pctOfRow       1.000000    0.974545   0.025455\n",
       "         pctOfTotal     0.753425    0.734247   0.019178\n",
       "Rain     count         90.000000   63.000000  27.000000\n",
       "         pctOfColumn    0.246575    0.190332   0.794118\n",
       "         pctOfRow       1.000000    0.700000   0.300000\n",
       "         pctOfTotal     0.246575    0.172603   0.073973"
      ]
     },
     "execution_count": 8,
     "metadata": {},
     "output_type": "execute_result"
    }
   ],
   "source": [
    "ct = contingencyTable(weather, 'Forecast', 'Actual Weather')\n",
    "ct"
   ]
  },
  {
   "cell_type": "markdown",
   "metadata": {},
   "source": [
    "- a) on what percent of days did it actually rain?\n",
    "    * 9.3%\n",
    "- b) on what percent of days was rain predicted?\n",
    "    * 24.7%\n",
    "- c) what percent of the time was the forecast correct?\n",
    "    * 80.8%\n",
    "- d) evidence of association between type of weather and ability to make accurate prediction?\n",
    "    * no association"
   ]
  },
  {
   "cell_type": "markdown",
   "metadata": {},
   "source": [
    "## 31"
   ]
  },
  {
   "cell_type": "code",
   "execution_count": 9,
   "metadata": {
    "collapsed": false
   },
   "outputs": [
    {
     "data": {
      "text/html": [
       "<div>\n",
       "<table border=\"1\" class=\"dataframe\">\n",
       "  <thead>\n",
       "    <tr style=\"text-align: right;\">\n",
       "      <th></th>\n",
       "      <th>Blood pressure</th>\n",
       "      <th>Age</th>\n",
       "    </tr>\n",
       "  </thead>\n",
       "  <tbody>\n",
       "    <tr>\n",
       "      <th>0</th>\n",
       "      <td>Low</td>\n",
       "      <td>Under 30</td>\n",
       "    </tr>\n",
       "    <tr>\n",
       "      <th>1</th>\n",
       "      <td>Low</td>\n",
       "      <td>Under 30</td>\n",
       "    </tr>\n",
       "    <tr>\n",
       "      <th>2</th>\n",
       "      <td>Low</td>\n",
       "      <td>Under 30</td>\n",
       "    </tr>\n",
       "    <tr>\n",
       "      <th>3</th>\n",
       "      <td>Low</td>\n",
       "      <td>Under 30</td>\n",
       "    </tr>\n",
       "    <tr>\n",
       "      <th>4</th>\n",
       "      <td>Low</td>\n",
       "      <td>Under 30</td>\n",
       "    </tr>\n",
       "  </tbody>\n",
       "</table>\n",
       "</div>"
      ],
      "text/plain": [
       "  Blood pressure       Age\n",
       "0            Low  Under 30\n",
       "1            Low  Under 30\n",
       "2            Low  Under 30\n",
       "3            Low  Under 30\n",
       "4            Low  Under 30"
      ]
     },
     "execution_count": 9,
     "metadata": {},
     "output_type": "execute_result"
    }
   ],
   "source": [
    "bp = pd.read_table('../data/Blood_Pressure.txt')\n",
    "bp.head()"
   ]
  },
  {
   "cell_type": "code",
   "execution_count": 10,
   "metadata": {
    "collapsed": false
   },
   "outputs": [
    {
     "data": {
      "text/html": [
       "<div>\n",
       "<table border=\"1\" class=\"dataframe\">\n",
       "  <thead>\n",
       "    <tr style=\"text-align: right;\">\n",
       "      <th></th>\n",
       "      <th></th>\n",
       "      <th>30 - 49</th>\n",
       "      <th>All</th>\n",
       "      <th>Over 50</th>\n",
       "      <th>Under 30</th>\n",
       "    </tr>\n",
       "    <tr>\n",
       "      <th>Blood pressure</th>\n",
       "      <th>metric</th>\n",
       "      <th></th>\n",
       "      <th></th>\n",
       "      <th></th>\n",
       "      <th></th>\n",
       "    </tr>\n",
       "  </thead>\n",
       "  <tbody>\n",
       "    <tr>\n",
       "      <th rowspan=\"4\" valign=\"top\">All</th>\n",
       "      <th>count</th>\n",
       "      <td>179.000000</td>\n",
       "      <td>474.000000</td>\n",
       "      <td>197.000000</td>\n",
       "      <td>98.000000</td>\n",
       "    </tr>\n",
       "    <tr>\n",
       "      <th>pctOfColumn</th>\n",
       "      <td>1.000000</td>\n",
       "      <td>1.000000</td>\n",
       "      <td>1.000000</td>\n",
       "      <td>1.000000</td>\n",
       "    </tr>\n",
       "    <tr>\n",
       "      <th>pctOfRow</th>\n",
       "      <td>0.377637</td>\n",
       "      <td>1.000000</td>\n",
       "      <td>0.415612</td>\n",
       "      <td>0.206751</td>\n",
       "    </tr>\n",
       "    <tr>\n",
       "      <th>pctOfTotal</th>\n",
       "      <td>0.377637</td>\n",
       "      <td>1.000000</td>\n",
       "      <td>0.415612</td>\n",
       "      <td>0.206751</td>\n",
       "    </tr>\n",
       "    <tr>\n",
       "      <th rowspan=\"4\" valign=\"top\">High</th>\n",
       "      <th>count</th>\n",
       "      <td>51.000000</td>\n",
       "      <td>147.000000</td>\n",
       "      <td>73.000000</td>\n",
       "      <td>23.000000</td>\n",
       "    </tr>\n",
       "    <tr>\n",
       "      <th>pctOfColumn</th>\n",
       "      <td>0.284916</td>\n",
       "      <td>0.310127</td>\n",
       "      <td>0.370558</td>\n",
       "      <td>0.234694</td>\n",
       "    </tr>\n",
       "    <tr>\n",
       "      <th>pctOfRow</th>\n",
       "      <td>0.346939</td>\n",
       "      <td>1.000000</td>\n",
       "      <td>0.496599</td>\n",
       "      <td>0.156463</td>\n",
       "    </tr>\n",
       "    <tr>\n",
       "      <th>pctOfTotal</th>\n",
       "      <td>0.107595</td>\n",
       "      <td>0.310127</td>\n",
       "      <td>0.154008</td>\n",
       "      <td>0.048523</td>\n",
       "    </tr>\n",
       "    <tr>\n",
       "      <th rowspan=\"4\" valign=\"top\">Low</th>\n",
       "      <th>count</th>\n",
       "      <td>37.000000</td>\n",
       "      <td>95.000000</td>\n",
       "      <td>31.000000</td>\n",
       "      <td>27.000000</td>\n",
       "    </tr>\n",
       "    <tr>\n",
       "      <th>pctOfColumn</th>\n",
       "      <td>0.206704</td>\n",
       "      <td>0.200422</td>\n",
       "      <td>0.157360</td>\n",
       "      <td>0.275510</td>\n",
       "    </tr>\n",
       "    <tr>\n",
       "      <th>pctOfRow</th>\n",
       "      <td>0.389474</td>\n",
       "      <td>1.000000</td>\n",
       "      <td>0.326316</td>\n",
       "      <td>0.284211</td>\n",
       "    </tr>\n",
       "    <tr>\n",
       "      <th>pctOfTotal</th>\n",
       "      <td>0.078059</td>\n",
       "      <td>0.200422</td>\n",
       "      <td>0.065401</td>\n",
       "      <td>0.056962</td>\n",
       "    </tr>\n",
       "    <tr>\n",
       "      <th rowspan=\"4\" valign=\"top\">Normal</th>\n",
       "      <th>count</th>\n",
       "      <td>91.000000</td>\n",
       "      <td>232.000000</td>\n",
       "      <td>93.000000</td>\n",
       "      <td>48.000000</td>\n",
       "    </tr>\n",
       "    <tr>\n",
       "      <th>pctOfColumn</th>\n",
       "      <td>0.508380</td>\n",
       "      <td>0.489451</td>\n",
       "      <td>0.472081</td>\n",
       "      <td>0.489796</td>\n",
       "    </tr>\n",
       "    <tr>\n",
       "      <th>pctOfRow</th>\n",
       "      <td>0.392241</td>\n",
       "      <td>1.000000</td>\n",
       "      <td>0.400862</td>\n",
       "      <td>0.206897</td>\n",
       "    </tr>\n",
       "    <tr>\n",
       "      <th>pctOfTotal</th>\n",
       "      <td>0.191983</td>\n",
       "      <td>0.489451</td>\n",
       "      <td>0.196203</td>\n",
       "      <td>0.101266</td>\n",
       "    </tr>\n",
       "  </tbody>\n",
       "</table>\n",
       "</div>"
      ],
      "text/plain": [
       "                               30 - 49         All     Over 50   Under 30\n",
       "Blood pressure metric                                                    \n",
       "All            count        179.000000  474.000000  197.000000  98.000000\n",
       "               pctOfColumn    1.000000    1.000000    1.000000   1.000000\n",
       "               pctOfRow       0.377637    1.000000    0.415612   0.206751\n",
       "               pctOfTotal     0.377637    1.000000    0.415612   0.206751\n",
       "High           count         51.000000  147.000000   73.000000  23.000000\n",
       "               pctOfColumn    0.284916    0.310127    0.370558   0.234694\n",
       "               pctOfRow       0.346939    1.000000    0.496599   0.156463\n",
       "               pctOfTotal     0.107595    0.310127    0.154008   0.048523\n",
       "Low            count         37.000000   95.000000   31.000000  27.000000\n",
       "               pctOfColumn    0.206704    0.200422    0.157360   0.275510\n",
       "               pctOfRow       0.389474    1.000000    0.326316   0.284211\n",
       "               pctOfTotal     0.078059    0.200422    0.065401   0.056962\n",
       "Normal         count         91.000000  232.000000   93.000000  48.000000\n",
       "               pctOfColumn    0.508380    0.489451    0.472081   0.489796\n",
       "               pctOfRow       0.392241    1.000000    0.400862   0.206897\n",
       "               pctOfTotal     0.191983    0.489451    0.196203   0.101266"
      ]
     },
     "execution_count": 10,
     "metadata": {},
     "output_type": "execute_result"
    }
   ],
   "source": [
    "ct = contingencyTable(bp, 'Blood pressure', 'Age')\n",
    "ct"
   ]
  },
  {
   "cell_type": "markdown",
   "metadata": {},
   "source": [
    "* a) marginal dist of bp level\n",
    "  - hi: 28.5%\n",
    "  - norm: 50.8%\n",
    "  - low: 20.7%\n",
    "* b) conditional dist of bp level within each age group\n",
    "  - under 30:\n",
    "    - h: 23.5%\n",
    "    - n: 49.0%\n",
    "    - l: 27.6%\n",
    "  - 30-49: \n",
    "    - h: 28.5%\n",
    "    - n: 50.8%\n",
    "    - l: 20.7%\n",
    "  - Over 50:\n",
    "    - h: 37.1%\n",
    "    - n: 47.2%\n",
    "    - l: 15.7%\n",
    "* c) compare with a segmented bar graph\n",
    "* d) write a brief desc. of association btw age and bp\n",
    "* e) does this prove bp increases with age?"
   ]
  },
  {
   "cell_type": "code",
   "execution_count": 11,
   "metadata": {
    "collapsed": false
   },
   "outputs": [
    {
     "data": {
      "text/html": [
       "<div>\n",
       "<table border=\"1\" class=\"dataframe\">\n",
       "  <thead>\n",
       "    <tr style=\"text-align: right;\">\n",
       "      <th>Age</th>\n",
       "      <th>Under 30</th>\n",
       "      <th>30 - 49</th>\n",
       "      <th>Over 50</th>\n",
       "    </tr>\n",
       "    <tr>\n",
       "      <th>Blood pressure</th>\n",
       "      <th></th>\n",
       "      <th></th>\n",
       "      <th></th>\n",
       "    </tr>\n",
       "  </thead>\n",
       "  <tbody>\n",
       "    <tr>\n",
       "      <th>Low</th>\n",
       "      <td>0.275510</td>\n",
       "      <td>0.206704</td>\n",
       "      <td>0.157360</td>\n",
       "    </tr>\n",
       "    <tr>\n",
       "      <th>Normal</th>\n",
       "      <td>0.489796</td>\n",
       "      <td>0.508380</td>\n",
       "      <td>0.472081</td>\n",
       "    </tr>\n",
       "    <tr>\n",
       "      <th>High</th>\n",
       "      <td>0.234694</td>\n",
       "      <td>0.284916</td>\n",
       "      <td>0.370558</td>\n",
       "    </tr>\n",
       "  </tbody>\n",
       "</table>\n",
       "</div>"
      ],
      "text/plain": [
       "Age             Under 30   30 - 49   Over 50\n",
       "Blood pressure                              \n",
       "Low             0.275510  0.206704  0.157360\n",
       "Normal          0.489796  0.508380  0.472081\n",
       "High            0.234694  0.284916  0.370558"
      ]
     },
     "execution_count": 11,
     "metadata": {},
     "output_type": "execute_result"
    }
   ],
   "source": [
    "v1 = 'Blood pressure'\n",
    "v2 = 'Age'\n",
    "xt = pd.crosstab(bp[v1], bp[v2], margins=True)\n",
    "xtTot = xt.loc['All', :]\n",
    "xt = (xt / xtTot)\n",
    "xt = xt.drop('All').drop('All', axis=1)\n",
    "xt = xt[['Under 30', '30 - 49', 'Over 50']]\n",
    "xt = xt.reindex(['Low', 'Normal', 'High'])\n",
    "xt"
   ]
  },
  {
   "cell_type": "code",
   "execution_count": 12,
   "metadata": {
    "collapsed": false
   },
   "outputs": [
    {
     "data": {
      "image/png": "[encoded data removed]",
      "text/plain": [
       "<matplotlib.figure.Figure at 0x11a6fbfd0>"
      ]
     },
     "metadata": {},
     "output_type": "display_data"
    }
   ],
   "source": [
    "x1 = xt.loc['Low']\n",
    "x2 = xt.loc['Normal']\n",
    "x3 = xt.loc['High']\n",
    "\n",
    "N = len(x1)\n",
    "ind = np.arange(N)\n",
    "width = 0.35\n",
    "\n",
    "gray = '#4D4D4D' # (gray)\n",
    "blue = '#5DA5DA' # (blue)\n",
    "orange = '#FAA43A' # (orange)\n",
    "green = '#60BD68' # (green)\n",
    "red = '#F15854' #(red)\n",
    "\n",
    "# NOTE: the main mechanism for segmented bar charts is adjusting the BOTTOM value by a cumulative height offset\n",
    "p1 = plt.bar(ind, x1, color=red, width=width, align='center')\n",
    "p2 = plt.bar(ind, x2, bottom=x1, color=blue, width=width, align='center')\n",
    "p3 = plt.bar(ind, x3, bottom=x1 + x2, color=green, width=width, align='center')\n",
    "\n",
    "plt.ylabel('blood pressure % within age group')\n",
    "plt.xlabel('age groups')\n",
    "plt.title('distribution of blood pressures within each age group')\n",
    "plt.xticks(ind, ('Under 30', '30 - 49', 'Over 50'))\n",
    "plt.legend((p1[0], p2[0], p3[0]), ('Low', 'Normal', 'High'))\n",
    "plt.show()"
   ]
  },
  {
   "cell_type": "markdown",
   "metadata": {},
   "source": [
    "## 35"
   ]
  },
  {
   "cell_type": "code",
   "execution_count": 13,
   "metadata": {
    "collapsed": false
   },
   "outputs": [
    {
     "data": {
      "text/html": [
       "<div>\n",
       "<table border=\"1\" class=\"dataframe\">\n",
       "  <thead>\n",
       "    <tr style=\"text-align: right;\">\n",
       "      <th></th>\n",
       "      <th>Male Drivers</th>\n",
       "      <th>Female Drivers</th>\n",
       "      <th>Total</th>\n",
       "    </tr>\n",
       "    <tr>\n",
       "      <th>Age</th>\n",
       "      <th></th>\n",
       "      <th></th>\n",
       "      <th></th>\n",
       "    </tr>\n",
       "  </thead>\n",
       "  <tbody>\n",
       "    <tr>\n",
       "      <th>19 and Under</th>\n",
       "      <td>5.1</td>\n",
       "      <td>4.9</td>\n",
       "      <td>10.0</td>\n",
       "    </tr>\n",
       "    <tr>\n",
       "      <th>20 - 24</th>\n",
       "      <td>8.7</td>\n",
       "      <td>8.6</td>\n",
       "      <td>17.3</td>\n",
       "    </tr>\n",
       "    <tr>\n",
       "      <th>25 - 29</th>\n",
       "      <td>9.2</td>\n",
       "      <td>9.2</td>\n",
       "      <td>18.4</td>\n",
       "    </tr>\n",
       "    <tr>\n",
       "      <th>30 - 34</th>\n",
       "      <td>8.9</td>\n",
       "      <td>8.9</td>\n",
       "      <td>17.8</td>\n",
       "    </tr>\n",
       "    <tr>\n",
       "      <th>35 - 39</th>\n",
       "      <td>9.7</td>\n",
       "      <td>9.6</td>\n",
       "      <td>19.3</td>\n",
       "    </tr>\n",
       "  </tbody>\n",
       "</table>\n",
       "</div>"
      ],
      "text/plain": [
       "              Male Drivers  Female Drivers   Total\n",
       "Age                                               \n",
       "19 and Under           5.1             4.9    10.0\n",
       "20 - 24                8.7             8.6    17.3\n",
       "25 - 29                9.2             9.2    18.4\n",
       "30 - 34                8.9             8.9    17.8\n",
       "35 - 39                9.7             9.6    19.3"
      ]
     },
     "execution_count": 13,
     "metadata": {},
     "output_type": "execute_result"
    }
   ],
   "source": [
    "dl = pd.read_table('../data/drivers_license_2011.txt', skiprows=[1], skipfooter=1, engine='python', index_col=0)\n",
    "dl.head()"
   ]
  },
  {
   "cell_type": "code",
   "execution_count": 14,
   "metadata": {
    "collapsed": false
   },
   "outputs": [],
   "source": [
    "total = dl[' Total'].sum()"
   ]
  },
  {
   "cell_type": "code",
   "execution_count": 15,
   "metadata": {
    "collapsed": false
   },
   "outputs": [
    {
     "data": {
      "text/plain": [
       "Age\n",
       "19 and Under    0.047985\n",
       "20 - 24         0.083013\n",
       "25 - 29         0.088292\n",
       "30 - 34         0.085413\n",
       "35 - 39         0.092610\n",
       "40 - 44         0.095010\n",
       "45 - 49         0.102207\n",
       "50 - 54         0.096929\n",
       "55 - 59         0.084453\n",
       "60 - 64         0.069578\n",
       "65 - 69         0.051344\n",
       "70 - 74         0.037428\n",
       "75 - 79         0.029271\n",
       "80 - 84         0.021113\n",
       "85 and Over     0.015355\n",
       "Name:  Total, dtype: float64"
      ]
     },
     "execution_count": 15,
     "metadata": {},
     "output_type": "execute_result"
    }
   ],
   "source": [
    "dl[' Total'] / total "
   ]
  },
  {
   "cell_type": "code",
   "execution_count": 16,
   "metadata": {
    "collapsed": false
   },
   "outputs": [],
   "source": [
    "males = dl['Male Drivers'].sum()"
   ]
  },
  {
   "cell_type": "code",
   "execution_count": 17,
   "metadata": {
    "collapsed": false
   },
   "outputs": [
    {
     "data": {
      "text/plain": [
       "0.49664107485604614"
      ]
     },
     "execution_count": 17,
     "metadata": {},
     "output_type": "execute_result"
    }
   ],
   "source": [
    "males / total"
   ]
  }
 ],
 "metadata": {
  "kernelspec": {
   "display_name": "Python 3",
   "language": "python",
   "name": "python3"
  },
  "language_info": {
   "codemirror_mode": {
    "name": "ipython",
    "version": 3
   },
   "file_extension": ".py",
   "mimetype": "text/x-python",
   "name": "python",
   "nbconvert_exporter": "python",
   "pygments_lexer": "ipython3",
   "version": "3.5.2"
  }
 },
 "nbformat": 4,
 "nbformat_minor": 0
}
