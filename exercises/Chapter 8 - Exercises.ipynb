{
 "cells": [
  {
   "cell_type": "markdown",
   "metadata": {},
   "source": [
    "# Chapter 8 - Exercises"
   ]
  },
  {
   "cell_type": "code",
   "execution_count": 1,
   "metadata": {
    "collapsed": true
   },
   "outputs": [],
   "source": [
    "# %load ../snippets/data-imports\n",
    "import numpy as np\n",
    "import pandas as pd\n",
    "from pandas import Series,DataFrame\n",
    "\n",
    "from scipy import stats\n",
    "\n",
    "import matplotlib.pyplot as plt\n",
    "import seaborn as sns\n",
    "%matplotlib inline\n",
    "sns.set_style('whitegrid')"
   ]
  },
  {
   "cell_type": "markdown",
   "metadata": {},
   "source": [
    "## 1\n",
    "\n",
    "### Answers\n",
    "\n",
    "* K-hat = 38 + 27 * Fiber\n",
    "* K-hat = 38 + 27 * 9\n",
    "* K-hat = 281 mg"
   ]
  },
  {
   "cell_type": "code",
   "execution_count": 2,
   "metadata": {
    "collapsed": false
   },
   "outputs": [
    {
     "data": {
      "text/plain": [
       "281"
      ]
     },
     "execution_count": 2,
     "metadata": {},
     "output_type": "execute_result"
    }
   ],
   "source": [
    "38 + 27 * 9"
   ]
  },
  {
   "cell_type": "markdown",
   "metadata": {},
   "source": [
    "## 3\n",
    "\n",
    "### Answers\n",
    "\n",
    "* The K value predicted by the model for that cereal was larger than the _actual_ K value of that cereal"
   ]
  },
  {
   "cell_type": "markdown",
   "metadata": {},
   "source": [
    "## 5\n",
    "\n",
    "### Answers\n",
    "\n",
    "* For each 1g increase in Fiber for a given cereal, the potassium content will increase by 27 grams."
   ]
  },
  {
   "cell_type": "markdown",
   "metadata": {},
   "source": [
    "## 7\n",
    "\n",
    "### Answers\n",
    "\n",
    "* $R^2 = 0.903^2$\n",
    "* $R^2 = 0.815$"
   ]
  },
  {
   "cell_type": "code",
   "execution_count": 3,
   "metadata": {
    "collapsed": false
   },
   "outputs": [
    {
     "data": {
      "text/plain": [
       "0.815409"
      ]
     },
     "execution_count": 3,
     "metadata": {},
     "output_type": "execute_result"
    }
   ],
   "source": [
    "import math\n",
    "math.pow(0.903, 2)"
   ]
  },
  {
   "cell_type": "markdown",
   "metadata": {},
   "source": [
    "## 9\n",
    "\n",
    "### Answers\n",
    "\n",
    "* $S_e = 30.77$\n",
    "* The difference between actual and predicted values of potassium (i.e. the residuals) have a standard deviation of 30.77 mg."
   ]
  },
  {
   "cell_type": "markdown",
   "metadata": {},
   "source": [
    "## 11\n",
    "\n",
    "### Answers\n",
    "\n",
    "* a) y = 0.75x + 12.5\n",
    "* b) y = -8x + 23.2\n",
    "* c) sy = 30, ybar = 152\n",
    "* d) ybar = 25, r = 0.6"
   ]
  },
  {
   "cell_type": "code",
   "execution_count": 4,
   "metadata": {
    "collapsed": true
   },
   "outputs": [],
   "source": [
    "def calc_slope(r, sx, sy):\n",
    "    return r * (sy / sx)\n",
    "    \n",
    "def calc_intercept(xBar, yBar, slope):\n",
    "    return yBar - slope * xBar\n",
    "    \n",
    "def print_equation(b0, b1):\n",
    "    print(\"yHat = %fx + %f\" % (b1, b0))\n",
    "    \n",
    "def solve(xBar, sx, yBar, sy, r):\n",
    "    slope = calc_slope(r, sx, sy)\n",
    "    intercept = calc_intercept(xBar, yBar, slope)\n",
    "    print_equation(intercept, slope)"
   ]
  },
  {
   "cell_type": "code",
   "execution_count": 5,
   "metadata": {
    "collapsed": false
   },
   "outputs": [
    {
     "name": "stdout",
     "output_type": "stream",
     "text": [
      "yHat = 0.750000x + 12.500000\n"
     ]
    }
   ],
   "source": [
    "solve(10, 2, 20, 3, 0.5)"
   ]
  },
  {
   "cell_type": "code",
   "execution_count": 6,
   "metadata": {
    "collapsed": false
   },
   "outputs": [
    {
     "name": "stdout",
     "output_type": "stream",
     "text": [
      "yHat = -8.000000x + 23.200000\n"
     ]
    }
   ],
   "source": [
    "solve(2, 0.06, 7.2, 1.2, -0.4)"
   ]
  },
  {
   "cell_type": "code",
   "execution_count": 7,
   "metadata": {
    "collapsed": false
   },
   "outputs": [
    {
     "data": {
      "text/plain": [
       "30.0"
      ]
     },
     "execution_count": 7,
     "metadata": {},
     "output_type": "execute_result"
    }
   ],
   "source": [
    "# -4 = -0.8 * (sy / 6)\n",
    "# -4 * 6 / -0.8 = sy\n",
    "-4 * 6 / -0.8"
   ]
  },
  {
   "cell_type": "code",
   "execution_count": 8,
   "metadata": {
    "collapsed": false
   },
   "outputs": [
    {
     "data": {
      "text/plain": [
       "152"
      ]
     },
     "execution_count": 8,
     "metadata": {},
     "output_type": "execute_result"
    }
   ],
   "source": [
    "200-48"
   ]
  },
  {
   "cell_type": "code",
   "execution_count": 9,
   "metadata": {
    "collapsed": false
   },
   "outputs": [
    {
     "data": {
      "text/plain": [
       "25.0"
      ]
     },
     "execution_count": 9,
     "metadata": {},
     "output_type": "execute_result"
    }
   ],
   "source": [
    "2.5 * 50 - 100"
   ]
  },
  {
   "cell_type": "code",
   "execution_count": 10,
   "metadata": {
    "collapsed": false
   },
   "outputs": [
    {
     "data": {
      "text/plain": [
       "0.6"
      ]
     },
     "execution_count": 10,
     "metadata": {},
     "output_type": "execute_result"
    }
   ],
   "source": [
    "# r = 50 * 1.2 / 100\n",
    "50 * 1.2 / 100"
   ]
  },
  {
   "cell_type": "markdown",
   "metadata": {},
   "source": [
    "## 13\n",
    "\n",
    "### Answers\n",
    "\n",
    "* a) linear model is appropriate\n",
    "* b) the residual plot implies that the relationship may be curved rather than lines; so not appropriate\n",
    "* c) the variance of the residuals is not constant, so not appropriate"
   ]
  },
  {
   "cell_type": "markdown",
   "metadata": {},
   "source": [
    "## 15\n",
    "\n",
    "### Answers\n",
    "\n",
    "* a)\n",
    "  - size: square feet - predictor\n",
    "  - price: thousands of dollars - response\n",
    "* b) thousands of dollars per square foot\n",
    "* c) positive - as size increases, price would also increase"
   ]
  },
  {
   "cell_type": "markdown",
   "metadata": {},
   "source": [
    "## 17\n",
    "\n",
    "### Answers\n",
    "\n",
    "* 300 - for each 1 foot increase in length, the car's weight would increase, on average, about 300 #"
   ]
  },
  {
   "cell_type": "markdown",
   "metadata": {},
   "source": [
    "## 19\n",
    "\n",
    "### Answers\n",
    "\n",
    "* 71.4% of the variability in home price is explained by the model.  28.6% of the variability is unexplained by the model and remains in the residuals."
   ]
  },
  {
   "cell_type": "markdown",
   "metadata": {},
   "source": [
    "## 21\n",
    "\n",
    "### Answers\n",
    "\n",
    "* a) $R^2$ doesn't tell whether or not a model is appropriate.  It shows how much variability is explained by the model.  The model may still not be appropriate given the data (i.e. non-linear, etc.)\n",
    "* b) This doesn't factor any of the inherent variability of the actual values in relation to the prediction."
   ]
  },
  {
   "cell_type": "markdown",
   "metadata": {},
   "source": [
    "## 23\n",
    "\n",
    "### Answers\n",
    "\n",
    "* a) 0.845\n",
    "* b) it's price would be around r * 1SD above the average price\n",
    "* c) it's price would be around r * 2SD below the average price"
   ]
  },
  {
   "cell_type": "code",
   "execution_count": 11,
   "metadata": {
    "collapsed": false
   },
   "outputs": [
    {
     "data": {
      "text/plain": [
       "0.8449852069711044"
      ]
     },
     "execution_count": 11,
     "metadata": {},
     "output_type": "execute_result"
    }
   ],
   "source": [
    "import math\n",
    "math.sqrt(0.714)"
   ]
  },
  {
   "cell_type": "markdown",
   "metadata": {},
   "source": [
    "## 25\n",
    "\n",
    "### Answers\n",
    "\n",
    "* a) no - Repeated test scores are more likely to be closer to the mean, bringing my score down.\n",
    "* b) yes - Similarly, repeated test scores are more likely to be closer to the mean, bringing his score up."
   ]
  },
  {
   "cell_type": "markdown",
   "metadata": {},
   "source": [
    "## 27 \n",
    "\n",
    "### Answers\n",
    "\n",
    "* a) for each square foot increase in size, price increase by \\$61\n",
    "* b) \\$230.82 thousand\n",
    "* c) \\$115.02 thousand; residual"
   ]
  },
  {
   "cell_type": "markdown",
   "metadata": {},
   "source": [
    "## 29\n",
    "\n",
    "### Answers\n",
    "\n",
    "* a) yes - relationship appears linear without major outliers; no clear pattern in residuals\n",
    "* b) 92.4% of the variability in nicotine is explained by the model"
   ]
  },
  {
   "cell_type": "markdown",
   "metadata": {},
   "source": [
    "## 31\n",
    "\n",
    "### Answers\n",
    "\n",
    "* a) correlation between Tar and Nicotine: 0.961\n",
    "* b) avg nicotine content of ciarettes 2 SD below avg on Tar? 1.92 SD below avg on nicotine\n",
    "* c) avg tar content for cigarette 1 SD above avg in nicotine? 0.961 SD above avg on tar"
   ]
  },
  {
   "cell_type": "code",
   "execution_count": 12,
   "metadata": {
    "collapsed": false
   },
   "outputs": [
    {
     "data": {
      "text/plain": [
       "1.922"
      ]
     },
     "execution_count": 12,
     "metadata": {},
     "output_type": "execute_result"
    }
   ],
   "source": [
    "math.sqrt(.924)\n",
    "2 * .961"
   ]
  },
  {
   "cell_type": "markdown",
   "metadata": {},
   "source": [
    "## 33\n",
    "\n",
    "### Answers\n",
    "\n",
    "* a) nicotine = 0.065 tar + 0.154\n",
    "* b) 0.414 mg\n",
    "* c) for each mg increase in tar, we expect nicotine to increase by 0.065 mg\n",
    "* d) for a cigarette with 0 tar, we'd expect a nicotine content of 0.154 mg\n",
    "* e) 0.109 mg"
   ]
  },
  {
   "cell_type": "code",
   "execution_count": 13,
   "metadata": {
    "collapsed": true
   },
   "outputs": [],
   "source": [
    "def estimate(tar):\n",
    "    return 0.065 * tar + 0.154"
   ]
  },
  {
   "cell_type": "code",
   "execution_count": 14,
   "metadata": {
    "collapsed": false
   },
   "outputs": [
    {
     "data": {
      "text/plain": [
       "0.10899999999999999"
      ]
     },
     "execution_count": 14,
     "metadata": {},
     "output_type": "execute_result"
    }
   ],
   "source": [
    "estimate(7) - 0.5"
   ]
  },
  {
   "cell_type": "markdown",
   "metadata": {},
   "source": [
    "## 35\n",
    "\n",
    "### Answers\n",
    "\n",
    "* a) yes - the variables appear to be related roughly linearly, there are no clear outliers or non-linear patterns\n",
    "* b) HCI = 0.0107 MFI - 157.04\n",
    "* c) 324.385\n",
    "* d) 223.635\n",
    "* e) HCI = 0.65 MFI\n",
    "* f) MFI = 0.65 HCI"
   ]
  },
  {
   "cell_type": "code",
   "execution_count": 15,
   "metadata": {
    "collapsed": false
   },
   "outputs": [
    {
     "data": {
      "text/plain": [
       "0.010711604291004416"
      ]
     },
     "execution_count": 15,
     "metadata": {},
     "output_type": "execute_result"
    }
   ],
   "source": [
    "b1 = 0.65 * (116.55 / 7072.47)\n",
    "b1"
   ]
  },
  {
   "cell_type": "code",
   "execution_count": 16,
   "metadata": {
    "collapsed": false
   },
   "outputs": [
    {
     "data": {
      "text/plain": [
       "-157.04031279029817"
      ]
     },
     "execution_count": 16,
     "metadata": {},
     "output_type": "execute_result"
    }
   ],
   "source": [
    "b0 = 338.2 - (b1 * 46234)\n",
    "b0"
   ]
  },
  {
   "cell_type": "code",
   "execution_count": 17,
   "metadata": {
    "collapsed": false
   },
   "outputs": [
    {
     "data": {
      "text/plain": [
       "324.38509999999997"
      ]
     },
     "execution_count": 17,
     "metadata": {},
     "output_type": "execute_result"
    }
   ],
   "source": [
    "0.0107 * 44993 - 157.04"
   ]
  },
  {
   "cell_type": "code",
   "execution_count": 18,
   "metadata": {
    "collapsed": false
   },
   "outputs": [
    {
     "data": {
      "text/plain": [
       "223.635"
      ]
     },
     "execution_count": 18,
     "metadata": {},
     "output_type": "execute_result"
    }
   ],
   "source": [
    "548.02 - 324.385"
   ]
  },
  {
   "cell_type": "code",
   "execution_count": 19,
   "metadata": {
    "collapsed": false
   },
   "outputs": [
    {
     "data": {
      "text/plain": [
       "0.010711604291004416"
      ]
     },
     "execution_count": 19,
     "metadata": {},
     "output_type": "execute_result"
    }
   ],
   "source": [
    "0.65 * (116.55/7072.47)"
   ]
  },
  {
   "cell_type": "code",
   "execution_count": 20,
   "metadata": {
    "collapsed": false
   },
   "outputs": [
    {
     "data": {
      "text/plain": [
       "39.44320463320464"
      ]
     },
     "execution_count": 20,
     "metadata": {},
     "output_type": "execute_result"
    }
   ],
   "source": [
    "0.65 * (7072.47 / 116.55)"
   ]
  },
  {
   "cell_type": "markdown",
   "metadata": {},
   "source": [
    "## 37\n",
    "\n",
    "### Answers\n",
    "\n",
    "* a) regression eqn: purchase~age: purchase = 1.103 * age + 539.8\n",
    "* b) yes - although the slope is flat, there's no indication that the relationship is non-linear.  no clear outliers, etc.\n",
    "* c) 559.654; 594.95\n",
    "* d) 0.137%\n",
    "* e) no - it accounts for a tiny percentage of the variability"
   ]
  },
  {
   "cell_type": "code",
   "execution_count": 21,
   "metadata": {
    "collapsed": true
   },
   "outputs": [],
   "source": [
    "r = 0.037"
   ]
  },
  {
   "cell_type": "code",
   "execution_count": 22,
   "metadata": {
    "collapsed": false
   },
   "outputs": [
    {
     "data": {
      "text/plain": [
       "1.1026956521739129"
      ]
     },
     "execution_count": 22,
     "metadata": {},
     "output_type": "execute_result"
    }
   ],
   "source": [
    "b1 = r * 253.62 / 8.51\n",
    "b1"
   ]
  },
  {
   "cell_type": "code",
   "execution_count": 23,
   "metadata": {
    "collapsed": false
   },
   "outputs": [
    {
     "data": {
      "text/plain": [
       "539.80302"
      ]
     },
     "execution_count": 23,
     "metadata": {},
     "output_type": "execute_result"
    }
   ],
   "source": [
    "b0 = 572.52 - b1 * 29.67\n",
    "b0"
   ]
  },
  {
   "cell_type": "code",
   "execution_count": 24,
   "metadata": {
    "collapsed": true
   },
   "outputs": [],
   "source": [
    "def predict(age):\n",
    "    return 1.103 * age + 539.8"
   ]
  },
  {
   "cell_type": "code",
   "execution_count": 25,
   "metadata": {
    "collapsed": false
   },
   "outputs": [
    {
     "data": {
      "text/plain": [
       "594.9499999999999"
      ]
     },
     "execution_count": 25,
     "metadata": {},
     "output_type": "execute_result"
    }
   ],
   "source": [
    "predict(50)"
   ]
  },
  {
   "cell_type": "code",
   "execution_count": 26,
   "metadata": {
    "collapsed": false
   },
   "outputs": [
    {
     "data": {
      "text/plain": [
       "0.0013689999999999998"
      ]
     },
     "execution_count": 26,
     "metadata": {},
     "output_type": "execute_result"
    }
   ],
   "source": [
    "math.pow(r, 2)"
   ]
  },
  {
   "cell_type": "markdown",
   "metadata": {},
   "source": [
    "## 39\n",
    "\n",
    "### Answers\n",
    "\n",
    "* a) positive, nearly linear, limited outliers\n",
    "* b) there are a few outliers with a mix of high score on one test, and a lower score on the other\n",
    "* c) the variables have a moderately strong correlation; the regression line accounts for around 46.9% of the variability in the data\n",
    "* d) math = 0.662 verbal + 217.7\n",
    "* e) for every 1 point increase in verbal, we expect to see a 0.662 point increase in math\n",
    "* f) 548.49\n",
    "* g) 53.034"
   ]
  },
  {
   "cell_type": "code",
   "execution_count": 27,
   "metadata": {
    "collapsed": false
   },
   "outputs": [
    {
     "data": {
      "text/plain": [
       "0.6615929648241207"
      ]
     },
     "execution_count": 27,
     "metadata": {},
     "output_type": "execute_result"
    }
   ],
   "source": [
    "r = 0.685\n",
    "avgV = 596.3\n",
    "sV = 99.5\n",
    "avgM = 612.2\n",
    "sM = 96.1\n",
    "\n",
    "b1 = r * (sM / sV)\n",
    "b1"
   ]
  },
  {
   "cell_type": "code",
   "execution_count": 28,
   "metadata": {
    "collapsed": false
   },
   "outputs": [
    {
     "data": {
      "text/plain": [
       "217.69211507537693"
      ]
     },
     "execution_count": 28,
     "metadata": {},
     "output_type": "execute_result"
    }
   ],
   "source": [
    "b0 = avgM - b1 * avgV\n",
    "b0"
   ]
  },
  {
   "cell_type": "code",
   "execution_count": 29,
   "metadata": {
    "collapsed": false
   },
   "outputs": [
    {
     "data": {
      "text/plain": [
       "548.4885974874373"
      ]
     },
     "execution_count": 29,
     "metadata": {},
     "output_type": "execute_result"
    }
   ],
   "source": [
    "math = b1 * 500 + b0\n",
    "math"
   ]
  },
  {
   "cell_type": "code",
   "execution_count": 30,
   "metadata": {
    "collapsed": false
   },
   "outputs": [
    {
     "data": {
      "text/plain": [
       "53.03351306532659"
      ]
     },
     "execution_count": 30,
     "metadata": {},
     "output_type": "execute_result"
    }
   ],
   "source": [
    "math = b1 * 800 + b0\n",
    "800 - math"
   ]
  },
  {
   "cell_type": "markdown",
   "metadata": {},
   "source": [
    "## 41\n",
    "\n",
    "### Background\n",
    "\n",
    "* $r$ = 0.685\n",
    "* avgV = 596.3\n",
    "* sV = 99.5\n",
    "* avgM = 612.2\n",
    "* sM = 96.1\n",
    "\n",
    "### Answers\n",
    "\n",
    "* a) correlation: $r$ = 0.685\n",
    "* b) equation: verbal~math: verbal = 0.709235x + 162.106228\n",
    "* c) what does positive residual mean? the verbal score predicted was lower than the actual verbal score\n",
    "* d) math = 500; verbal = 516.7234\n",
    "* e) 559.77109\n",
    "* f) regression to mean - started with a math lower than mean, predicted verbal _closer_ to the mean; used that verbal value (below mean) to predict a math score even _closer_ to the mean"
   ]
  },
  {
   "cell_type": "code",
   "execution_count": 31,
   "metadata": {
    "collapsed": false
   },
   "outputs": [
    {
     "name": "stdout",
     "output_type": "stream",
     "text": [
      "yHat = 0.709235x + 162.106228\n"
     ]
    }
   ],
   "source": [
    "solve(612.2, 96.1, 596.3, 99.5, 0.685)"
   ]
  },
  {
   "cell_type": "code",
   "execution_count": 32,
   "metadata": {
    "collapsed": false
   },
   "outputs": [
    {
     "data": {
      "text/plain": [
       "516.7237279999999"
      ]
     },
     "execution_count": 32,
     "metadata": {},
     "output_type": "execute_result"
    }
   ],
   "source": [
    "verbal = 0.709235 * 500 + 162.106228\n",
    "verbal"
   ]
  },
  {
   "cell_type": "code",
   "execution_count": 33,
   "metadata": {
    "collapsed": false
   },
   "outputs": [
    {
     "data": {
      "text/plain": [
       "559.7710893999999"
      ]
     },
     "execution_count": 33,
     "metadata": {},
     "output_type": "execute_result"
    }
   ],
   "source": [
    "math = 0.662 * (516.7237) + 217.7\n",
    "math"
   ]
  },
  {
   "cell_type": "markdown",
   "metadata": {},
   "source": [
    "## 43\n",
    "\n",
    "### Answers\n",
    "\n",
    "* a) yes - no apparent non-linear trends, appears to have a weak positive association, no clear outliers\n",
    "* b) for each year increase past 1985, the number of fires is expected to increase by 296.7\n",
    "* c) yes - the predicted (average) number of fires in 1985 is 73,790.7\n",
    "* d) on average, predicted values will be 12,323 above or below the actual values; this covers a majority of the overall range of # of fire values\n",
    "* e) 2.9% of the variability in the number of fires is explained by the variability in years since 1985"
   ]
  },
  {
   "cell_type": "markdown",
   "metadata": {},
   "source": [
    "## 45\n",
    "\n",
    "### Answers\n",
    "\n",
    "* a) see below\n",
    "* b) As age increases, price decreases.  A negative association.  The association appears linear, and very strong. No clear outliers.\n",
    "* c) Yes\n",
    "* d) $r = -0.972$\n",
    "* e) 94.4% of the variability in price is explained by the variability in age\n",
    "* f) Because the association isn't perfectly linear.  As examples, look at years, 1,3,4,6, and 8.  In each case, there are two cars with the same age, but different prices.  There's no way for the model to predict these _perfectly_ using just age as a predictor."
   ]
  },
  {
   "cell_type": "code",
   "execution_count": 34,
   "metadata": {
    "collapsed": false
   },
   "outputs": [
    {
     "data": {
      "text/html": [
       "<div>\n",
       "<table border=\"1\" class=\"dataframe\">\n",
       "  <thead>\n",
       "    <tr style=\"text-align: right;\">\n",
       "      <th></th>\n",
       "      <th>price</th>\n",
       "      <th>age</th>\n",
       "    </tr>\n",
       "  </thead>\n",
       "  <tbody>\n",
       "    <tr>\n",
       "      <th>0</th>\n",
       "      <td>15988</td>\n",
       "      <td>1</td>\n",
       "    </tr>\n",
       "    <tr>\n",
       "      <th>1</th>\n",
       "      <td>13988</td>\n",
       "      <td>1</td>\n",
       "    </tr>\n",
       "    <tr>\n",
       "      <th>2</th>\n",
       "      <td>14488</td>\n",
       "      <td>2</td>\n",
       "    </tr>\n",
       "    <tr>\n",
       "      <th>3</th>\n",
       "      <td>10995</td>\n",
       "      <td>3</td>\n",
       "    </tr>\n",
       "    <tr>\n",
       "      <th>4</th>\n",
       "      <td>13998</td>\n",
       "      <td>3</td>\n",
       "    </tr>\n",
       "    <tr>\n",
       "      <th>5</th>\n",
       "      <td>13622</td>\n",
       "      <td>4</td>\n",
       "    </tr>\n",
       "    <tr>\n",
       "      <th>6</th>\n",
       "      <td>12810</td>\n",
       "      <td>4</td>\n",
       "    </tr>\n",
       "    <tr>\n",
       "      <th>7</th>\n",
       "      <td>9988</td>\n",
       "      <td>5</td>\n",
       "    </tr>\n",
       "    <tr>\n",
       "      <th>8</th>\n",
       "      <td>9995</td>\n",
       "      <td>6</td>\n",
       "    </tr>\n",
       "    <tr>\n",
       "      <th>9</th>\n",
       "      <td>11988</td>\n",
       "      <td>6</td>\n",
       "    </tr>\n",
       "    <tr>\n",
       "      <th>10</th>\n",
       "      <td>8990</td>\n",
       "      <td>7</td>\n",
       "    </tr>\n",
       "    <tr>\n",
       "      <th>11</th>\n",
       "      <td>9488</td>\n",
       "      <td>8</td>\n",
       "    </tr>\n",
       "    <tr>\n",
       "      <th>12</th>\n",
       "      <td>8995</td>\n",
       "      <td>8</td>\n",
       "    </tr>\n",
       "    <tr>\n",
       "      <th>13</th>\n",
       "      <td>5990</td>\n",
       "      <td>9</td>\n",
       "    </tr>\n",
       "    <tr>\n",
       "      <th>14</th>\n",
       "      <td>4100</td>\n",
       "      <td>10</td>\n",
       "    </tr>\n",
       "    <tr>\n",
       "      <th>15</th>\n",
       "      <td>2995</td>\n",
       "      <td>12</td>\n",
       "    </tr>\n",
       "  </tbody>\n",
       "</table>\n",
       "</div>"
      ],
      "text/plain": [
       "    price  age\n",
       "0   15988    1\n",
       "1   13988    1\n",
       "2   14488    2\n",
       "3   10995    3\n",
       "4   13998    3\n",
       "5   13622    4\n",
       "6   12810    4\n",
       "7    9988    5\n",
       "8    9995    6\n",
       "9   11988    6\n",
       "10   8990    7\n",
       "11   9488    8\n",
       "12   8995    8\n",
       "13   5990    9\n",
       "14   4100   10\n",
       "15   2995   12"
      ]
     },
     "execution_count": 34,
     "metadata": {},
     "output_type": "execute_result"
    }
   ],
   "source": [
    "cars = pd.read_table(\"../data/used_cars.txt\", names=[\"price\", \"age\"], skiprows=1)\n",
    "cars"
   ]
  },
  {
   "cell_type": "code",
   "execution_count": 35,
   "metadata": {
    "collapsed": false
   },
   "outputs": [
    {
     "data": {
      "image/png": "[encoded data removed]",
      "text/plain": [
       "<matplotlib.figure.Figure at 0x119f86e10>"
      ]
     },
     "metadata": {},
     "output_type": "display_data"
    }
   ],
   "source": [
    "plt.scatter(cars.age, cars.price)\n",
    "plt.xlabel(\"age\")\n",
    "plt.ylabel(\"price\")\n",
    "plt.title(\"ex - 45 - used cars\");"
   ]
  },
  {
   "cell_type": "code",
   "execution_count": 36,
   "metadata": {
    "collapsed": false
   },
   "outputs": [
    {
     "data": {
      "text/plain": [
       "0.9715966241192896"
      ]
     },
     "execution_count": 36,
     "metadata": {},
     "output_type": "execute_result"
    }
   ],
   "source": [
    "rSquared = 94.4\n",
    "import math\n",
    "math.sqrt(rSquared / 100)"
   ]
  },
  {
   "cell_type": "markdown",
   "metadata": {},
   "source": [
    "## 47\n",
    "\n",
    "### Answers\n",
    "\n",
    "* a) price = -1086 age + 16567\n",
    "* b) with each year increase in age, the car's price drops by \\$1086\n",
    "* c) the price of a new car (sold used) is \\$16,567\n",
    "* d) \\$8965\n",
    "* e) if you're paying the predicted price, a positive residual -- it's an underestimate of the actual price; if you're paying the actual price, a negative residual -- the actual price will be lower than what was predicted\n",
    "* f) -\\$2207\n",
    "* g) not - that would require extrapolating beyond the range of data used to build the model.  (Max age in the data is 12 years)"
   ]
  },
  {
   "cell_type": "code",
   "execution_count": 37,
   "metadata": {
    "collapsed": false
   },
   "outputs": [],
   "source": [
    "r = np.corrcoef(cars.age, cars.price)[0][1]\n",
    "avgAge = cars.age.mean()\n",
    "sAge = cars.age.std()\n",
    "avgPrice = cars.price.mean()\n",
    "sPrice = cars.price.std()"
   ]
  },
  {
   "cell_type": "code",
   "execution_count": 38,
   "metadata": {
    "collapsed": false
   },
   "outputs": [
    {
     "data": {
      "text/plain": [
       "-1085.9499804611175"
      ]
     },
     "execution_count": 38,
     "metadata": {},
     "output_type": "execute_result"
    }
   ],
   "source": [
    "b1 = r * (sPrice / sAge)\n",
    "b1"
   ]
  },
  {
   "cell_type": "code",
   "execution_count": 39,
   "metadata": {
    "collapsed": false
   },
   "outputs": [
    {
     "data": {
      "text/plain": [
       "16566.721766314968"
      ]
     },
     "execution_count": 39,
     "metadata": {},
     "output_type": "execute_result"
    }
   ],
   "source": [
    "b0 = avgPrice - (b1 * avgAge)\n",
    "b0"
   ]
  },
  {
   "cell_type": "code",
   "execution_count": 40,
   "metadata": {
    "collapsed": false
   },
   "outputs": [
    {
     "data": {
      "text/plain": [
       "-2207"
      ]
     },
     "execution_count": 40,
     "metadata": {},
     "output_type": "execute_result"
    }
   ],
   "source": [
    "3500 - (10 * -1086 + 16567)"
   ]
  },
  {
   "cell_type": "code",
   "execution_count": 41,
   "metadata": {
    "collapsed": false
   },
   "outputs": [
    {
     "data": {
      "text/plain": [
       "12"
      ]
     },
     "execution_count": 41,
     "metadata": {},
     "output_type": "execute_result"
    }
   ],
   "source": [
    "cars.age.max()"
   ]
  },
  {
   "cell_type": "markdown",
   "metadata": {},
   "source": [
    "## 49\n",
    "\n",
    "### Answers\n",
    "\n",
    "* a) see below\n",
    "* b) 92.3% of the variability in calories is explained by the variability in fat\n",
    "* c) calories = 11.06 fat (g) + 211\n",
    "* d) there's some concern with the residual plot because the variance of the residuals doesn't appear to be constant; it increases as x increase; this may be the result of a small number of burgers on the low end of the fat content range\n",
    "* e) a burger with 0 g fat would have 211 calories\n",
    "* f) each increase of 1g of fat adds 11.1 calories\n",
    "* g) 553.68"
   ]
  },
  {
   "cell_type": "code",
   "execution_count": 42,
   "metadata": {
    "collapsed": false
   },
   "outputs": [
    {
     "data": {
      "text/html": [
       "<div>\n",
       "<table border=\"1\" class=\"dataframe\">\n",
       "  <thead>\n",
       "    <tr style=\"text-align: right;\">\n",
       "      <th></th>\n",
       "      <th>Fat</th>\n",
       "      <th>Sodium</th>\n",
       "      <th>Calories</th>\n",
       "    </tr>\n",
       "  </thead>\n",
       "  <tbody>\n",
       "    <tr>\n",
       "      <th>0</th>\n",
       "      <td>19</td>\n",
       "      <td>920</td>\n",
       "      <td>410</td>\n",
       "    </tr>\n",
       "    <tr>\n",
       "      <th>1</th>\n",
       "      <td>31</td>\n",
       "      <td>1500</td>\n",
       "      <td>580</td>\n",
       "    </tr>\n",
       "    <tr>\n",
       "      <th>2</th>\n",
       "      <td>34</td>\n",
       "      <td>1310</td>\n",
       "      <td>590</td>\n",
       "    </tr>\n",
       "    <tr>\n",
       "      <th>3</th>\n",
       "      <td>35</td>\n",
       "      <td>860</td>\n",
       "      <td>570</td>\n",
       "    </tr>\n",
       "    <tr>\n",
       "      <th>4</th>\n",
       "      <td>39</td>\n",
       "      <td>1180</td>\n",
       "      <td>640</td>\n",
       "    </tr>\n",
       "  </tbody>\n",
       "</table>\n",
       "</div>"
      ],
      "text/plain": [
       "   Fat  Sodium  Calories\n",
       "0   19     920       410\n",
       "1   31    1500       580\n",
       "2   34    1310       590\n",
       "3   35     860       570\n",
       "4   39    1180       640"
      ]
     },
     "execution_count": 42,
     "metadata": {},
     "output_type": "execute_result"
    }
   ],
   "source": [
    "burgers = pd.read_table(\"../data/Burgers.txt\")\n",
    "burgers.head()"
   ]
  },
  {
   "cell_type": "code",
   "execution_count": 43,
   "metadata": {
    "collapsed": false
   },
   "outputs": [
    {
     "data": {
      "image/png": "[encoded data removed]",
      "text/plain": [
       "<matplotlib.figure.Figure at 0x11c33aa20>"
      ]
     },
     "metadata": {},
     "output_type": "display_data"
    }
   ],
   "source": [
    "plt.scatter(burgers.Fat, burgers.Calories)\n",
    "plt.ylabel(\"Calories\")\n",
    "plt.xlabel(\"Fat\")\n",
    "plt.title(\"Burgers - Calories vs. Fat\");"
   ]
  },
  {
   "cell_type": "code",
   "execution_count": 44,
   "metadata": {
    "collapsed": false
   },
   "outputs": [
    {
     "data": {
      "text/plain": [
       "0.9228154743827499"
      ]
     },
     "execution_count": 44,
     "metadata": {},
     "output_type": "execute_result"
    }
   ],
   "source": [
    "r = np.corrcoef(burgers.Calories, burgers.Fat)[0][1]\n",
    "rSquared = math.pow(r, 2)\n",
    "rSquared"
   ]
  },
  {
   "cell_type": "code",
   "execution_count": 45,
   "metadata": {
    "collapsed": false
   },
   "outputs": [
    {
     "name": "stdout",
     "output_type": "stream",
     "text": [
      "avg calories: 590.00, s calories: 89.81\n",
      "avg fat: 34.29, s fat: 7.80\n"
     ]
    }
   ],
   "source": [
    "avgCal = burgers.Calories.mean()\n",
    "sCal = burgers.Calories.std()\n",
    "avgFat = burgers.Fat.mean()\n",
    "sFat = burgers.Fat.std()\n",
    "\n",
    "print(\"avg calories: %.2f, s calories: %.2f\" % (avgCal, sCal))\n",
    "print(\"avg fat: %.2f, s fat: %.2f\" % (avgFat, sFat))"
   ]
  },
  {
   "cell_type": "code",
   "execution_count": 46,
   "metadata": {
    "collapsed": false
   },
   "outputs": [
    {
     "data": {
      "text/plain": [
       "11.055512118842845"
      ]
     },
     "execution_count": 46,
     "metadata": {},
     "output_type": "execute_result"
    }
   ],
   "source": [
    "b1 = r * (sCal / sFat)\n",
    "b1"
   ]
  },
  {
   "cell_type": "code",
   "execution_count": 47,
   "metadata": {
    "collapsed": false
   },
   "outputs": [
    {
     "data": {
      "text/plain": [
       "210.95387021110247"
      ]
     },
     "execution_count": 47,
     "metadata": {},
     "output_type": "execute_result"
    }
   ],
   "source": [
    "b0 = avgCal -  (b1 * avgFat)\n",
    "b0"
   ]
  },
  {
   "cell_type": "code",
   "execution_count": 48,
   "metadata": {
    "collapsed": false
   },
   "outputs": [
    {
     "data": {
      "text/html": [
       "<div>\n",
       "<table border=\"1\" class=\"dataframe\">\n",
       "  <thead>\n",
       "    <tr style=\"text-align: right;\">\n",
       "      <th></th>\n",
       "      <th>Fat</th>\n",
       "      <th>Sodium</th>\n",
       "      <th>Calories</th>\n",
       "      <th>prediction</th>\n",
       "    </tr>\n",
       "  </thead>\n",
       "  <tbody>\n",
       "    <tr>\n",
       "      <th>0</th>\n",
       "      <td>19</td>\n",
       "      <td>920</td>\n",
       "      <td>410</td>\n",
       "      <td>421.008600</td>\n",
       "    </tr>\n",
       "    <tr>\n",
       "      <th>1</th>\n",
       "      <td>31</td>\n",
       "      <td>1500</td>\n",
       "      <td>580</td>\n",
       "      <td>553.674746</td>\n",
       "    </tr>\n",
       "    <tr>\n",
       "      <th>2</th>\n",
       "      <td>34</td>\n",
       "      <td>1310</td>\n",
       "      <td>590</td>\n",
       "      <td>586.841282</td>\n",
       "    </tr>\n",
       "    <tr>\n",
       "      <th>3</th>\n",
       "      <td>35</td>\n",
       "      <td>860</td>\n",
       "      <td>570</td>\n",
       "      <td>597.896794</td>\n",
       "    </tr>\n",
       "    <tr>\n",
       "      <th>4</th>\n",
       "      <td>39</td>\n",
       "      <td>1180</td>\n",
       "      <td>640</td>\n",
       "      <td>642.118843</td>\n",
       "    </tr>\n",
       "  </tbody>\n",
       "</table>\n",
       "</div>"
      ],
      "text/plain": [
       "   Fat  Sodium  Calories  prediction\n",
       "0   19     920       410  421.008600\n",
       "1   31    1500       580  553.674746\n",
       "2   34    1310       590  586.841282\n",
       "3   35     860       570  597.896794\n",
       "4   39    1180       640  642.118843"
      ]
     },
     "execution_count": 48,
     "metadata": {},
     "output_type": "execute_result"
    }
   ],
   "source": [
    "burgers['prediction'] = b1 * burgers.Fat + b0\n",
    "burgers.head()"
   ]
  },
  {
   "cell_type": "code",
   "execution_count": 49,
   "metadata": {
    "collapsed": false
   },
   "outputs": [
    {
     "data": {
      "text/html": [
       "<div>\n",
       "<table border=\"1\" class=\"dataframe\">\n",
       "  <thead>\n",
       "    <tr style=\"text-align: right;\">\n",
       "      <th></th>\n",
       "      <th>Fat</th>\n",
       "      <th>Sodium</th>\n",
       "      <th>Calories</th>\n",
       "      <th>prediction</th>\n",
       "      <th>residual</th>\n",
       "    </tr>\n",
       "  </thead>\n",
       "  <tbody>\n",
       "    <tr>\n",
       "      <th>0</th>\n",
       "      <td>19</td>\n",
       "      <td>920</td>\n",
       "      <td>410</td>\n",
       "      <td>421.008600</td>\n",
       "      <td>-11.008600</td>\n",
       "    </tr>\n",
       "    <tr>\n",
       "      <th>1</th>\n",
       "      <td>31</td>\n",
       "      <td>1500</td>\n",
       "      <td>580</td>\n",
       "      <td>553.674746</td>\n",
       "      <td>26.325254</td>\n",
       "    </tr>\n",
       "    <tr>\n",
       "      <th>2</th>\n",
       "      <td>34</td>\n",
       "      <td>1310</td>\n",
       "      <td>590</td>\n",
       "      <td>586.841282</td>\n",
       "      <td>3.158718</td>\n",
       "    </tr>\n",
       "    <tr>\n",
       "      <th>3</th>\n",
       "      <td>35</td>\n",
       "      <td>860</td>\n",
       "      <td>570</td>\n",
       "      <td>597.896794</td>\n",
       "      <td>-27.896794</td>\n",
       "    </tr>\n",
       "    <tr>\n",
       "      <th>4</th>\n",
       "      <td>39</td>\n",
       "      <td>1180</td>\n",
       "      <td>640</td>\n",
       "      <td>642.118843</td>\n",
       "      <td>-2.118843</td>\n",
       "    </tr>\n",
       "  </tbody>\n",
       "</table>\n",
       "</div>"
      ],
      "text/plain": [
       "   Fat  Sodium  Calories  prediction   residual\n",
       "0   19     920       410  421.008600 -11.008600\n",
       "1   31    1500       580  553.674746  26.325254\n",
       "2   34    1310       590  586.841282   3.158718\n",
       "3   35     860       570  597.896794 -27.896794\n",
       "4   39    1180       640  642.118843  -2.118843"
      ]
     },
     "execution_count": 49,
     "metadata": {},
     "output_type": "execute_result"
    }
   ],
   "source": [
    "burgers['residual'] = burgers.Calories - burgers.prediction\n",
    "burgers.head()"
   ]
  },
  {
   "cell_type": "code",
   "execution_count": 50,
   "metadata": {
    "collapsed": false
   },
   "outputs": [
    {
     "data": {
      "image/png": "[encoded data removed]",
      "text/plain": [
       "<matplotlib.figure.Figure at 0x11c827438>"
      ]
     },
     "metadata": {},
     "output_type": "display_data"
    }
   ],
   "source": [
    "plt.scatter(burgers.Fat, burgers.residual)\n",
    "plt.xlabel(\"Fat\")\n",
    "plt.ylabel(\"Residual\")\n",
    "plt.title(\"ex 49 - residual plot\");"
   ]
  },
  {
   "cell_type": "markdown",
   "metadata": {},
   "source": [
    "## 51\n",
    "\n",
    "### Answers\n",
    "\n",
    "* a) regression models are not \"invertable\" - you'd need to build a new model predicting fat from calorie content\n",
    "* b) 34.12g of fat"
   ]
  },
  {
   "cell_type": "code",
   "execution_count": 52,
   "metadata": {
    "collapsed": false
   },
   "outputs": [
    {
     "name": "stdout",
     "output_type": "stream",
     "text": [
      "yHat = 0.083471x + -14.962220\n"
     ]
    }
   ],
   "source": [
    "solve(burgers.Calories.mean(), burgers.Calories.std(), burgers.Fat.mean(), burgers.Fat.std(), \n",
    "      np.corrcoef(burgers.Fat, burgers.Calories)[0][1])"
   ]
  },
  {
   "cell_type": "code",
   "execution_count": 53,
   "metadata": {
    "collapsed": false
   },
   "outputs": [
    {
     "data": {
      "text/plain": [
       "35.12038"
      ]
     },
     "execution_count": 53,
     "metadata": {},
     "output_type": "execute_result"
    }
   ],
   "source": [
    "fat = 0.083471 * 600 - 14.962220\n",
    "fat"
   ]
  },
  {
   "cell_type": "markdown",
   "metadata": {},
   "source": [
    "## 53\n",
    "\n",
    "### Answers\n",
    "\n",
    "* model: condition = -0.00481 * age + 4.95147\n",
    "* a) according to the model, _all_ bridges are deficient -- since the intercept is less than 5 and the slope is negative, none of the bridges will have a condition score >= 5\n",
    "* b) their condition is worsening more slowly than in that county\n",
    "* c) not much -- the r-squared on the model is 2.6%, so it's not providing explanation for much of the variance.  that, in combination with the above, leads me to suspect the model isn't providing much value"
   ]
  },
  {
   "cell_type": "code",
   "execution_count": 56,
   "metadata": {
    "collapsed": false
   },
   "outputs": [
    {
     "data": {
      "image/png": "[encoded data removed]",
      "text/plain": [
       "<matplotlib.figure.Figure at 0x11caefa20>"
      ]
     },
     "metadata": {},
     "output_type": "display_data"
    }
   ],
   "source": [
    "ages = np.linspace(0, 150, num=6)\n",
    "condition = -0.00481 * ages + 4.95147\n",
    "plt.plot(ages, condition);"
   ]
  },
  {
   "cell_type": "markdown",
   "metadata": {},
   "source": [
    "## 55\n",
    "\n",
    "### Answers\n",
    "\n",
    "* a) $r$ = 0.82341\n",
    "* b) 67.8% of the variability in temperature is explained by the variability in C02 concentration\n",
    "* c) temp = 0.010 * C02 ppm + 10.71\n",
    "* d) for each 1 ppm increase in C02, the temperature is expected to increase by 0.01 degrees C\n",
    "* e) if there were no C02 concentration (0ppm), we'd expect the global temperature to be 10.71 degrees C\n",
    "* f) no clear patterns - looks good\n",
    "* g) 14.61 degress C"
   ]
  },
  {
   "cell_type": "code",
   "execution_count": 57,
   "metadata": {
    "collapsed": false
   },
   "outputs": [
    {
     "data": {
      "text/plain": [
       "0.8234075540095561"
      ]
     },
     "execution_count": 57,
     "metadata": {},
     "output_type": "execute_result"
    }
   ],
   "source": [
    "math.sqrt(0.678)"
   ]
  },
  {
   "cell_type": "code",
   "execution_count": 58,
   "metadata": {
    "collapsed": false
   },
   "outputs": [
    {
     "data": {
      "text/plain": [
       "14.610000000000001"
      ]
     },
     "execution_count": 58,
     "metadata": {},
     "output_type": "execute_result"
    }
   ],
   "source": [
    "temp = 0.010 * 390 + 10.71\n",
    "temp"
   ]
  },
  {
   "cell_type": "markdown",
   "metadata": {},
   "source": [
    "## 57\n",
    "\n",
    "### Answers\n",
    "\n",
    "* a) yHat = 1.699957x -42.733546\n",
    "* b) yes - clear, strong, positive relationship, appears linear, no clear outliers\n",
    "* c) for each 1 in increase in waist circumference, body fat pct increases, on average, by 1.7%\n",
    "* d) yes - $r^2$ is 67.8% -- so variation in waist circ. explains 67.8% of the variability in body fat %\n",
    "* e) NA - (looks like the data's changed to contain \"waist\" measurement, but not \"weight\" -- so no clear way to convert between the two to answer this one.)"
   ]
  },
  {
   "cell_type": "code",
   "execution_count": 69,
   "metadata": {
    "collapsed": false
   },
   "outputs": [
    {
     "name": "stdout",
     "output_type": "stream",
     "text": [
      "Pct BF\tHeight\tWaist\tChest\r",
      "\r\n",
      "12.3\t67.75\t33.54\t93.1\r",
      "\r\n",
      "6.1\t72.25\t32.68\t93.6\r",
      "\r\n",
      "25.3\t66.25\t34.61\t95.8\r",
      "\r\n",
      "10.4\t72.25\t34.02\t101.8\r",
      "\r\n",
      "28.7\t71.25\t39.37\t97.3\r",
      "\r\n",
      "20.9\t74.75\t37.17\t104.5\r",
      "\r\n",
      "19.2\t69.75\t35.71\t105.1\r",
      "\r\n",
      "12.4\t72.5\t34.84\t99.6\r",
      "\r\n",
      "4.1\t74\t32.48\t100.9\r",
      "\r\n"
     ]
    }
   ],
   "source": [
    "!head ../data/Body_fat.txt"
   ]
  },
  {
   "cell_type": "code",
   "execution_count": 70,
   "metadata": {
    "collapsed": false
   },
   "outputs": [
    {
     "data": {
      "text/html": [
       "<div>\n",
       "<table border=\"1\" class=\"dataframe\">\n",
       "  <thead>\n",
       "    <tr style=\"text-align: right;\">\n",
       "      <th></th>\n",
       "      <th>pct</th>\n",
       "      <th>height</th>\n",
       "      <th>waist</th>\n",
       "      <th>chest</th>\n",
       "    </tr>\n",
       "  </thead>\n",
       "  <tbody>\n",
       "    <tr>\n",
       "      <th>0</th>\n",
       "      <td>12.3</td>\n",
       "      <td>67.75</td>\n",
       "      <td>33.54</td>\n",
       "      <td>93.1</td>\n",
       "    </tr>\n",
       "    <tr>\n",
       "      <th>1</th>\n",
       "      <td>6.1</td>\n",
       "      <td>72.25</td>\n",
       "      <td>32.68</td>\n",
       "      <td>93.6</td>\n",
       "    </tr>\n",
       "    <tr>\n",
       "      <th>2</th>\n",
       "      <td>25.3</td>\n",
       "      <td>66.25</td>\n",
       "      <td>34.61</td>\n",
       "      <td>95.8</td>\n",
       "    </tr>\n",
       "    <tr>\n",
       "      <th>3</th>\n",
       "      <td>10.4</td>\n",
       "      <td>72.25</td>\n",
       "      <td>34.02</td>\n",
       "      <td>101.8</td>\n",
       "    </tr>\n",
       "    <tr>\n",
       "      <th>4</th>\n",
       "      <td>28.7</td>\n",
       "      <td>71.25</td>\n",
       "      <td>39.37</td>\n",
       "      <td>97.3</td>\n",
       "    </tr>\n",
       "  </tbody>\n",
       "</table>\n",
       "</div>"
      ],
      "text/plain": [
       "    pct  height  waist  chest\n",
       "0  12.3   67.75  33.54   93.1\n",
       "1   6.1   72.25  32.68   93.6\n",
       "2  25.3   66.25  34.61   95.8\n",
       "3  10.4   72.25  34.02  101.8\n",
       "4  28.7   71.25  39.37   97.3"
      ]
     },
     "execution_count": 70,
     "metadata": {},
     "output_type": "execute_result"
    }
   ],
   "source": [
    "body_fat = pd.read_table(\"../data/Body_fat.txt\", names=[\"pct\", \"height\", \"waist\", \"chest\"], skiprows=1)\n",
    "body_fat.head()"
   ]
  },
  {
   "cell_type": "code",
   "execution_count": 71,
   "metadata": {
    "collapsed": false
   },
   "outputs": [
    {
     "data": {
      "image/png": "[encoded data removed]",
      "text/plain": [
       "<matplotlib.figure.Figure at 0x11cba9c50>"
      ]
     },
     "metadata": {},
     "output_type": "display_data"
    }
   ],
   "source": [
    "plt.scatter(body_fat.waist, body_fat.pct)\n",
    "plt.xlabel(\"waist\")\n",
    "plt.ylabel(\"pct\")\n",
    "plt.title(\"ex 57 - body fat\");"
   ]
  },
  {
   "cell_type": "code",
   "execution_count": 72,
   "metadata": {
    "collapsed": false
   },
   "outputs": [
    {
     "name": "stdout",
     "output_type": "stream",
     "text": [
      "yHat = 1.699957x + -42.733546\n"
     ]
    }
   ],
   "source": [
    "xBar = body_fat.waist.mean()\n",
    "sx = body_fat.waist.std()\n",
    "\n",
    "yBar = body_fat.pct.mean()\n",
    "sy = body_fat.pct.std()\n",
    "\n",
    "r = np.corrcoef(body_fat.waist, body_fat.pct)[0][1]\n",
    "\n",
    "solve(xBar, sx, yBar, sy, r)"
   ]
  },
  {
   "cell_type": "code",
   "execution_count": 73,
   "metadata": {
    "collapsed": false
   },
   "outputs": [
    {
     "data": {
      "text/plain": [
       "0.82367832126303442"
      ]
     },
     "execution_count": 73,
     "metadata": {},
     "output_type": "execute_result"
    }
   ],
   "source": [
    "r"
   ]
  },
  {
   "cell_type": "code",
   "execution_count": 74,
   "metadata": {
    "collapsed": false
   },
   "outputs": [
    {
     "data": {
      "text/plain": [
       "0.6784459769186906"
      ]
     },
     "execution_count": 74,
     "metadata": {},
     "output_type": "execute_result"
    }
   ],
   "source": [
    "math.pow(r, 2)"
   ]
  },
  {
   "cell_type": "markdown",
   "metadata": {},
   "source": [
    "## 59\n",
    "\n",
    "### Answers\n",
    "\n",
    "* a) high jump (m) = -0.006714 run (s) + 2.680942; for each 1 second improvement in the run, the high jump, on average, will improve by 0.0067 m.\n",
    "* b) 16.4%\n",
    "* c) yes - the model indicates that better run times are associated with better jump heights\n",
    "* d) looks good - no clear pattern\n",
    "* e) limited usefulness; might improve with incorporation of other features, but probably wouldn't use it on its own; the stddev of the residuals is roughly the same as the stddeviation of the highjump values"
   ]
  },
  {
   "cell_type": "code",
   "execution_count": 76,
   "metadata": {
    "collapsed": false
   },
   "outputs": [
    {
     "name": "stdout",
     "output_type": "stream",
     "text": [
      "Rank\tName\tCountry\tPoints\tHigh Jump (m)\t800-m (sec)\tLong Jump (m)\r",
      "\r\n",
      "1\tCarolina Kluft\tSWE\t6952\t1.91\t134.15\t6.51\r",
      "\r\n",
      "2\tAustra Skujyte\tLIT\t6435\t1.76\t135.92\t6.3\r",
      "\r\n",
      "3\tKelly Sotherton\tGBR\t6424\t1.85\t132.27\t6.51\r",
      "\r\n",
      "4\tShelia Burrell\tUSA\t6296\t1.7\t135.32\t6.25\r",
      "\r\n",
      "5\tYelena Prokhorova\tRUS\t6289\t1.79\t131.31\t6.21\r",
      "\r\n",
      "6\tSonja Kesselschlaeger\tGER\t6287\t1.76\t135.21\t6.42\r",
      "\r\n",
      "7\tMarie Collonville\tFRA\t6279\t1.85\t133.62\t6.19\r",
      "\r\n",
      "8\tNatalya Dobrynska\tUKR\t6255\t1.82\t137.01\t6.23\r",
      "\r\n",
      "9\tMargaret Simpson\tGHA\t6253\t1.79\t137.72\t6.02\r",
      "\r\n"
     ]
    }
   ],
   "source": [
    "!head ../data/Heptathlon_2004.txt"
   ]
  },
  {
   "cell_type": "code",
   "execution_count": 77,
   "metadata": {
    "collapsed": false
   },
   "outputs": [
    {
     "data": {
      "text/html": [
       "<div>\n",
       "<table border=\"1\" class=\"dataframe\">\n",
       "  <thead>\n",
       "    <tr style=\"text-align: right;\">\n",
       "      <th></th>\n",
       "      <th>rank</th>\n",
       "      <th>name</th>\n",
       "      <th>country</th>\n",
       "      <th>points</th>\n",
       "      <th>high_jump</th>\n",
       "      <th>run</th>\n",
       "      <th>long_jump</th>\n",
       "    </tr>\n",
       "  </thead>\n",
       "  <tbody>\n",
       "    <tr>\n",
       "      <th>0</th>\n",
       "      <td>1</td>\n",
       "      <td>Carolina Kluft</td>\n",
       "      <td>SWE</td>\n",
       "      <td>6952</td>\n",
       "      <td>1.91</td>\n",
       "      <td>134.15</td>\n",
       "      <td>6.51</td>\n",
       "    </tr>\n",
       "    <tr>\n",
       "      <th>1</th>\n",
       "      <td>2</td>\n",
       "      <td>Austra Skujyte</td>\n",
       "      <td>LIT</td>\n",
       "      <td>6435</td>\n",
       "      <td>1.76</td>\n",
       "      <td>135.92</td>\n",
       "      <td>6.30</td>\n",
       "    </tr>\n",
       "    <tr>\n",
       "      <th>2</th>\n",
       "      <td>3</td>\n",
       "      <td>Kelly Sotherton</td>\n",
       "      <td>GBR</td>\n",
       "      <td>6424</td>\n",
       "      <td>1.85</td>\n",
       "      <td>132.27</td>\n",
       "      <td>6.51</td>\n",
       "    </tr>\n",
       "    <tr>\n",
       "      <th>3</th>\n",
       "      <td>4</td>\n",
       "      <td>Shelia Burrell</td>\n",
       "      <td>USA</td>\n",
       "      <td>6296</td>\n",
       "      <td>1.70</td>\n",
       "      <td>135.32</td>\n",
       "      <td>6.25</td>\n",
       "    </tr>\n",
       "    <tr>\n",
       "      <th>4</th>\n",
       "      <td>5</td>\n",
       "      <td>Yelena Prokhorova</td>\n",
       "      <td>RUS</td>\n",
       "      <td>6289</td>\n",
       "      <td>1.79</td>\n",
       "      <td>131.31</td>\n",
       "      <td>6.21</td>\n",
       "    </tr>\n",
       "  </tbody>\n",
       "</table>\n",
       "</div>"
      ],
      "text/plain": [
       "   rank               name country  points  high_jump     run  long_jump\n",
       "0     1     Carolina Kluft     SWE    6952       1.91  134.15       6.51\n",
       "1     2     Austra Skujyte     LIT    6435       1.76  135.92       6.30\n",
       "2     3    Kelly Sotherton     GBR    6424       1.85  132.27       6.51\n",
       "3     4     Shelia Burrell     USA    6296       1.70  135.32       6.25\n",
       "4     5  Yelena Prokhorova     RUS    6289       1.79  131.31       6.21"
      ]
     },
     "execution_count": 77,
     "metadata": {},
     "output_type": "execute_result"
    }
   ],
   "source": [
    "hept = pd.read_table(\"../data/Heptathlon_2004.txt\", names=[\"rank\", \"name\", \"country\", \"points\", \"high_jump\",\n",
    "                                                          \"run\", \"long_jump\"], skiprows=1)\n",
    "hept.head()"
   ]
  },
  {
   "cell_type": "code",
   "execution_count": 78,
   "metadata": {
    "collapsed": false
   },
   "outputs": [
    {
     "data": {
      "image/png": "[encoded data removed]",
      "text/plain": [
       "<matplotlib.figure.Figure at 0x11cd15320>"
      ]
     },
     "metadata": {},
     "output_type": "display_data"
    }
   ],
   "source": [
    "plt.scatter(hept.run, hept.high_jump)\n",
    "plt.xlabel(\"800-m (sec)\")\n",
    "plt.ylabel(\"High Jump (m)\")\n",
    "plt.title(\"Ex 59 - Heptathlon\");"
   ]
  },
  {
   "cell_type": "code",
   "execution_count": 79,
   "metadata": {
    "collapsed": false
   },
   "outputs": [
    {
     "name": "stdout",
     "output_type": "stream",
     "text": [
      "yHat = -0.006714x + 2.680942\n"
     ]
    }
   ],
   "source": [
    "solve(hept.run.mean(), hept.run.std(), hept.high_jump.mean(), hept.high_jump.std(), \n",
    "     np.corrcoef(hept.run, hept.high_jump)[0][1])"
   ]
  },
  {
   "cell_type": "code",
   "execution_count": 80,
   "metadata": {
    "collapsed": false
   },
   "outputs": [
    {
     "data": {
      "text/plain": [
       "0.16401235106682355"
      ]
     },
     "execution_count": 80,
     "metadata": {},
     "output_type": "execute_result"
    }
   ],
   "source": [
    "math.pow(np.corrcoef(hept.run, hept.high_jump)[0][1], 2)"
   ]
  },
  {
   "cell_type": "code",
   "execution_count": 83,
   "metadata": {
    "collapsed": false
   },
   "outputs": [
    {
     "data": {
      "text/html": [
       "<div>\n",
       "<table border=\"1\" class=\"dataframe\">\n",
       "  <thead>\n",
       "    <tr style=\"text-align: right;\">\n",
       "      <th></th>\n",
       "      <th>rank</th>\n",
       "      <th>name</th>\n",
       "      <th>country</th>\n",
       "      <th>points</th>\n",
       "      <th>high_jump</th>\n",
       "      <th>run</th>\n",
       "      <th>long_jump</th>\n",
       "      <th>predict</th>\n",
       "      <th>residual</th>\n",
       "    </tr>\n",
       "  </thead>\n",
       "  <tbody>\n",
       "    <tr>\n",
       "      <th>0</th>\n",
       "      <td>1</td>\n",
       "      <td>Carolina Kluft</td>\n",
       "      <td>SWE</td>\n",
       "      <td>6952</td>\n",
       "      <td>1.91</td>\n",
       "      <td>134.15</td>\n",
       "      <td>6.51</td>\n",
       "      <td>1.780259</td>\n",
       "      <td>0.129741</td>\n",
       "    </tr>\n",
       "    <tr>\n",
       "      <th>1</th>\n",
       "      <td>2</td>\n",
       "      <td>Austra Skujyte</td>\n",
       "      <td>LIT</td>\n",
       "      <td>6435</td>\n",
       "      <td>1.76</td>\n",
       "      <td>135.92</td>\n",
       "      <td>6.30</td>\n",
       "      <td>1.768375</td>\n",
       "      <td>-0.008375</td>\n",
       "    </tr>\n",
       "    <tr>\n",
       "      <th>2</th>\n",
       "      <td>3</td>\n",
       "      <td>Kelly Sotherton</td>\n",
       "      <td>GBR</td>\n",
       "      <td>6424</td>\n",
       "      <td>1.85</td>\n",
       "      <td>132.27</td>\n",
       "      <td>6.51</td>\n",
       "      <td>1.792881</td>\n",
       "      <td>0.057119</td>\n",
       "    </tr>\n",
       "    <tr>\n",
       "      <th>3</th>\n",
       "      <td>4</td>\n",
       "      <td>Shelia Burrell</td>\n",
       "      <td>USA</td>\n",
       "      <td>6296</td>\n",
       "      <td>1.70</td>\n",
       "      <td>135.32</td>\n",
       "      <td>6.25</td>\n",
       "      <td>1.772404</td>\n",
       "      <td>-0.072404</td>\n",
       "    </tr>\n",
       "    <tr>\n",
       "      <th>4</th>\n",
       "      <td>5</td>\n",
       "      <td>Yelena Prokhorova</td>\n",
       "      <td>RUS</td>\n",
       "      <td>6289</td>\n",
       "      <td>1.79</td>\n",
       "      <td>131.31</td>\n",
       "      <td>6.21</td>\n",
       "      <td>1.799327</td>\n",
       "      <td>-0.009327</td>\n",
       "    </tr>\n",
       "  </tbody>\n",
       "</table>\n",
       "</div>"
      ],
      "text/plain": [
       "   rank               name country  points  high_jump     run  long_jump  \\\n",
       "0     1     Carolina Kluft     SWE    6952       1.91  134.15       6.51   \n",
       "1     2     Austra Skujyte     LIT    6435       1.76  135.92       6.30   \n",
       "2     3    Kelly Sotherton     GBR    6424       1.85  132.27       6.51   \n",
       "3     4     Shelia Burrell     USA    6296       1.70  135.32       6.25   \n",
       "4     5  Yelena Prokhorova     RUS    6289       1.79  131.31       6.21   \n",
       "\n",
       "    predict  residual  \n",
       "0  1.780259  0.129741  \n",
       "1  1.768375 -0.008375  \n",
       "2  1.792881  0.057119  \n",
       "3  1.772404 -0.072404  \n",
       "4  1.799327 -0.009327  "
      ]
     },
     "execution_count": 83,
     "metadata": {},
     "output_type": "execute_result"
    }
   ],
   "source": [
    "hept['predict'] = -0.006714 * hept.run + 2.680942\n",
    "hept['residual'] = hept.high_jump - hept.predict\n",
    "hept.head()"
   ]
  },
  {
   "cell_type": "code",
   "execution_count": 84,
   "metadata": {
    "collapsed": false
   },
   "outputs": [
    {
     "data": {
      "image/png": "[encoded data removed]",
      "text/plain": [
       "<matplotlib.figure.Figure at 0x11cb9a2b0>"
      ]
     },
     "metadata": {},
     "output_type": "display_data"
    }
   ],
   "source": [
    "plt.scatter(hept.run, hept.residual)\n",
    "plt.xlabel(\"800 m (s)\")\n",
    "plt.ylabel(\"residuals\")\n",
    "plt.title(\"ex 59 - residuals\");"
   ]
  },
  {
   "cell_type": "code",
   "execution_count": 85,
   "metadata": {
    "collapsed": false
   },
   "outputs": [
    {
     "data": {
      "text/plain": [
       "0.06044118972114089"
      ]
     },
     "execution_count": 85,
     "metadata": {},
     "output_type": "execute_result"
    }
   ],
   "source": [
    "hept.residual.std()"
   ]
  },
  {
   "cell_type": "code",
   "execution_count": 86,
   "metadata": {
    "collapsed": false
   },
   "outputs": [
    {
     "data": {
      "text/plain": [
       "0.06610481188117971"
      ]
     },
     "execution_count": 86,
     "metadata": {},
     "output_type": "execute_result"
    }
   ],
   "source": [
    "hept.high_jump.std()"
   ]
  },
  {
   "cell_type": "markdown",
   "metadata": {},
   "source": [
    "## 61\n",
    "\n",
    "### Answers\n",
    "\n",
    "* a) there appears to be a negative, linear association between calcium content and mortality.  As calcium increases, mortality, on average, decreases\n",
    "* b) mortality = -3.23 CA + 1676\n",
    "* c) with each 1 ppm increase in calcium, mortality decreases at a rate of 3.23 / 100,000 pop.\n",
    "* d) the model overestimated the mortality rate by 348.6 / 100,000 pop.\n",
    "* e) predict 1,353 / 100,00 population\n",
    "* f) 43% of the variability in mortality rate is explained by variability in calcium levels"
   ]
  },
  {
   "cell_type": "code",
   "execution_count": 87,
   "metadata": {
    "collapsed": false
   },
   "outputs": [
    {
     "data": {
      "text/plain": [
       "1353"
      ]
     },
     "execution_count": 87,
     "metadata": {},
     "output_type": "execute_result"
    }
   ],
   "source": [
    "1676 - 323"
   ]
  },
  {
   "cell_type": "markdown",
   "metadata": {},
   "source": [
    "## 63\n",
    "\n",
    "### Answers\n",
    "\n",
    "* the least squares line is the single line that minimizes the squared residuals sum shown below"
   ]
  },
  {
   "cell_type": "code",
   "execution_count": 97,
   "metadata": {
    "collapsed": false
   },
   "outputs": [
    {
     "data": {
      "image/png": "[encoded data removed]",
      "text/plain": [
       "<matplotlib.figure.Figure at 0x11e26cb00>"
      ]
     },
     "metadata": {},
     "output_type": "display_data"
    }
   ],
   "source": [
    "x = Series(data=[10, 20, 40, 50])\n",
    "y = Series(data=[10, 50, 20, 80])\n",
    "yhat = 7.0 + 1.1 * x\n",
    "\n",
    "plt.scatter(x, y)\n",
    "plt.plot(x, yhat)\n",
    "plt.xlabel('x')\n",
    "plt.ylabel('y')\n",
    "plt.title(\"least squares example\");"
   ]
  },
  {
   "cell_type": "code",
   "execution_count": 98,
   "metadata": {
    "collapsed": false
   },
   "outputs": [
    {
     "data": {
      "text/plain": [
       "0    -8.0\n",
       "1    21.0\n",
       "2   -31.0\n",
       "3    18.0\n",
       "dtype: float64"
      ]
     },
     "execution_count": 98,
     "metadata": {},
     "output_type": "execute_result"
    }
   ],
   "source": [
    "residuals = y - yhat\n",
    "residuals"
   ]
  },
  {
   "cell_type": "code",
   "execution_count": 99,
   "metadata": {
    "collapsed": false
   },
   "outputs": [
    {
     "data": {
      "text/plain": [
       "0     64.0\n",
       "1    441.0\n",
       "2    961.0\n",
       "3    324.0\n",
       "dtype: float64"
      ]
     },
     "execution_count": 99,
     "metadata": {},
     "output_type": "execute_result"
    }
   ],
   "source": [
    "squaredResiduals = residuals.pow(2)\n",
    "squaredResiduals"
   ]
  },
  {
   "cell_type": "code",
   "execution_count": 100,
   "metadata": {
    "collapsed": false
   },
   "outputs": [
    {
     "data": {
      "text/plain": [
       "1789.9999999999998"
      ]
     },
     "execution_count": 100,
     "metadata": {},
     "output_type": "execute_result"
    }
   ],
   "source": [
    "squaredResiduals.sum()"
   ]
  }
 ],
 "metadata": {
  "kernelspec": {
   "display_name": "Python 3",
   "language": "python",
   "name": "python3"
  },
  "language_info": {
   "codemirror_mode": {
    "name": "ipython",
    "version": 3
   },
   "file_extension": ".py",
   "mimetype": "text/x-python",
   "name": "python",
   "nbconvert_exporter": "python",
   "pygments_lexer": "ipython3",
   "version": "3.5.2"
  }
 },
 "nbformat": 4,
 "nbformat_minor": 0
}
