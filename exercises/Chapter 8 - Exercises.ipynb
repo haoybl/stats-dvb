{
 "cells": [
  {
   "cell_type": "markdown",
   "metadata": {},
   "source": [
    "# Chapter 8 - Exercises"
   ]
  },
  {
   "cell_type": "code",
   "execution_count": 1,
   "metadata": {
    "collapsed": true
   },
   "outputs": [],
   "source": [
    "# %load ../snippets/data-imports\n",
    "import numpy as np\n",
    "import pandas as pd\n",
    "from pandas import Series,DataFrame\n",
    "\n",
    "from scipy import stats\n",
    "\n",
    "import matplotlib.pyplot as plt\n",
    "import seaborn as sns\n",
    "%matplotlib inline\n",
    "sns.set_style('whitegrid')"
   ]
  },
  {
   "cell_type": "markdown",
   "metadata": {},
   "source": [
    "## 1\n",
    "\n",
    "### Answers\n",
    "\n",
    "* K-hat = 38 + 27 * Fiber\n",
    "* K-hat = 38 + 27 * 9\n",
    "* K-hat = 281 mg"
   ]
  },
  {
   "cell_type": "code",
   "execution_count": 2,
   "metadata": {
    "collapsed": false
   },
   "outputs": [
    {
     "data": {
      "text/plain": [
       "281"
      ]
     },
     "execution_count": 2,
     "metadata": {},
     "output_type": "execute_result"
    }
   ],
   "source": [
    "38 + 27 * 9"
   ]
  },
  {
   "cell_type": "markdown",
   "metadata": {},
   "source": [
    "## 3\n",
    "\n",
    "### Answers\n",
    "\n",
    "* The K value predicted by the model for that cereal was larger than the _actual_ K value of that cereal"
   ]
  },
  {
   "cell_type": "markdown",
   "metadata": {},
   "source": [
    "## 5\n",
    "\n",
    "### Answers\n",
    "\n",
    "* For each 1g increase in Fiber for a given cereal, the potassium content will increase by 27 grams."
   ]
  },
  {
   "cell_type": "markdown",
   "metadata": {},
   "source": [
    "## 7\n",
    "\n",
    "### Answers\n",
    "\n",
    "* $R^2 = 0.903^2$\n",
    "* $R^2 = 0.815$"
   ]
  },
  {
   "cell_type": "code",
   "execution_count": 3,
   "metadata": {
    "collapsed": false
   },
   "outputs": [
    {
     "data": {
      "text/plain": [
       "0.815409"
      ]
     },
     "execution_count": 3,
     "metadata": {},
     "output_type": "execute_result"
    }
   ],
   "source": [
    "import math\n",
    "math.pow(0.903, 2)"
   ]
  },
  {
   "cell_type": "markdown",
   "metadata": {},
   "source": [
    "## 9\n",
    "\n",
    "### Answers\n",
    "\n",
    "* $S_e = 30.77$\n",
    "* The difference between actual and predicted values of potassium (i.e. the residuals) have a standard deviation of 30.77 mg."
   ]
  },
  {
   "cell_type": "markdown",
   "metadata": {},
   "source": [
    "## 11\n",
    "\n",
    "### Answers\n",
    "\n",
    "* a) y = 0.75x + 12.5\n",
    "* b) y = -8x + 23.2\n",
    "* c) sy = 30, ybar = 152\n",
    "* d) ybar = 25, r = 0.6"
   ]
  },
  {
   "cell_type": "code",
   "execution_count": 4,
   "metadata": {
    "collapsed": true
   },
   "outputs": [],
   "source": [
    "def calc_slope(r, sx, sy):\n",
    "    return r * (sy / sx)\n",
    "    \n",
    "def calc_intercept(xBar, yBar, slope):\n",
    "    return yBar - slope * xBar\n",
    "    \n",
    "def print_equation(b0, b1):\n",
    "    print(\"yHat = %fx + %f\" % (b1, b0))\n",
    "    \n",
    "def solve(xBar, sx, yBar, sy, r):\n",
    "    slope = calc_slope(r, sx, sy)\n",
    "    intercept = calc_intercept(xBar, yBar, slope)\n",
    "    print_equation(intercept, slope)"
   ]
  },
  {
   "cell_type": "code",
   "execution_count": 5,
   "metadata": {
    "collapsed": false
   },
   "outputs": [
    {
     "name": "stdout",
     "output_type": "stream",
     "text": [
      "yHat = 0.750000x + 12.500000\n"
     ]
    }
   ],
   "source": [
    "solve(10, 2, 20, 3, 0.5)"
   ]
  },
  {
   "cell_type": "code",
   "execution_count": 6,
   "metadata": {
    "collapsed": false
   },
   "outputs": [
    {
     "name": "stdout",
     "output_type": "stream",
     "text": [
      "yHat = -8.000000x + 23.200000\n"
     ]
    }
   ],
   "source": [
    "solve(2, 0.06, 7.2, 1.2, -0.4)"
   ]
  },
  {
   "cell_type": "code",
   "execution_count": 7,
   "metadata": {
    "collapsed": false
   },
   "outputs": [
    {
     "data": {
      "text/plain": [
       "30.0"
      ]
     },
     "execution_count": 7,
     "metadata": {},
     "output_type": "execute_result"
    }
   ],
   "source": [
    "# -4 = -0.8 * (sy / 6)\n",
    "# -4 * 6 / -0.8 = sy\n",
    "-4 * 6 / -0.8"
   ]
  },
  {
   "cell_type": "code",
   "execution_count": 8,
   "metadata": {
    "collapsed": false
   },
   "outputs": [
    {
     "data": {
      "text/plain": [
       "152"
      ]
     },
     "execution_count": 8,
     "metadata": {},
     "output_type": "execute_result"
    }
   ],
   "source": [
    "200-48"
   ]
  },
  {
   "cell_type": "code",
   "execution_count": 9,
   "metadata": {
    "collapsed": false
   },
   "outputs": [
    {
     "data": {
      "text/plain": [
       "25.0"
      ]
     },
     "execution_count": 9,
     "metadata": {},
     "output_type": "execute_result"
    }
   ],
   "source": [
    "2.5 * 50 - 100"
   ]
  },
  {
   "cell_type": "code",
   "execution_count": 10,
   "metadata": {
    "collapsed": false
   },
   "outputs": [
    {
     "data": {
      "text/plain": [
       "0.6"
      ]
     },
     "execution_count": 10,
     "metadata": {},
     "output_type": "execute_result"
    }
   ],
   "source": [
    "# r = 50 * 1.2 / 100\n",
    "50 * 1.2 / 100"
   ]
  },
  {
   "cell_type": "markdown",
   "metadata": {},
   "source": [
    "## 13\n",
    "\n",
    "### Answers\n",
    "\n",
    "* a) linear model is appropriate\n",
    "* b) the residual plot implies that the relationship may be curved rather than lines; so not appropriate\n",
    "* c) the variance of the residuals is not constant, so not appropriate"
   ]
  },
  {
   "cell_type": "markdown",
   "metadata": {},
   "source": [
    "## 15\n",
    "\n",
    "### Answers\n",
    "\n",
    "* a)\n",
    "  - size: square feet - predictor\n",
    "  - price: thousands of dollars - response\n",
    "* b) thousands of dollars per square foot\n",
    "* c) positive - as size increases, price would also increase"
   ]
  },
  {
   "cell_type": "markdown",
   "metadata": {},
   "source": [
    "## 17\n",
    "\n",
    "### Answers\n",
    "\n",
    "* 300 - for each 1 foot increase in length, the car's weight would increase, on average, about 300 #"
   ]
  },
  {
   "cell_type": "markdown",
   "metadata": {},
   "source": [
    "## 19\n",
    "\n",
    "### Answers\n",
    "\n",
    "* 71.4% of the variability in home price is explained by the model.  28.6% of the variability is unexplained by the model and remains in the residuals."
   ]
  },
  {
   "cell_type": "markdown",
   "metadata": {},
   "source": [
    "## 21\n",
    "\n",
    "### Answers\n",
    "\n",
    "* a) $R^2$ doesn't tell whether or not a model is appropriate.  It shows how much variability is explained by the model.  The model may still not be appropriate given the data (i.e. non-linear, etc.)\n",
    "* b) This doesn't factor any of the inherent variability of the actual values in relation to the prediction."
   ]
  },
  {
   "cell_type": "markdown",
   "metadata": {},
   "source": [
    "## 23\n",
    "\n",
    "### Answers\n",
    "\n",
    "* a) 0.845\n",
    "* b) it's price would be around r * 1SD above the average price\n",
    "* c) it's price would be around r * 2SD below the average price"
   ]
  },
  {
   "cell_type": "code",
   "execution_count": 11,
   "metadata": {
    "collapsed": false
   },
   "outputs": [
    {
     "data": {
      "text/plain": [
       "0.8449852069711044"
      ]
     },
     "execution_count": 11,
     "metadata": {},
     "output_type": "execute_result"
    }
   ],
   "source": [
    "import math\n",
    "math.sqrt(0.714)"
   ]
  },
  {
   "cell_type": "markdown",
   "metadata": {},
   "source": [
    "## 25\n",
    "\n",
    "### Answers\n",
    "\n",
    "* a) no - Repeated test scores are more likely to be closer to the mean, bringing my score down.\n",
    "* b) yes - Similarly, repeated test scores are more likely to be closer to the mean, bringing his score up."
   ]
  },
  {
   "cell_type": "markdown",
   "metadata": {},
   "source": [
    "## 27 \n",
    "\n",
    "### Answers\n",
    "\n",
    "* a) for each square foot increase in size, price increase by \\$61\n",
    "* b) \\$230.82 thousand\n",
    "* c) \\$115.02 thousand; residual"
   ]
  },
  {
   "cell_type": "markdown",
   "metadata": {},
   "source": [
    "## 29\n",
    "\n",
    "### Answers\n",
    "\n",
    "* a) yes - relationship appears linear without major outliers; no clear pattern in residuals\n",
    "* b) 92.4% of the variability in nicotine is explained by the model"
   ]
  },
  {
   "cell_type": "markdown",
   "metadata": {},
   "source": [
    "## 31\n",
    "\n",
    "### Answers\n",
    "\n",
    "* a) correlation between Tar and Nicotine: 0.961\n",
    "* b) avg nicotine content of ciarettes 2 SD below avg on Tar? 1.92 SD below avg on nicotine\n",
    "* c) avg tar content for cigarette 1 SD above avg in nicotine? 0.961 SD above avg on tar"
   ]
  },
  {
   "cell_type": "code",
   "execution_count": 12,
   "metadata": {
    "collapsed": false
   },
   "outputs": [
    {
     "data": {
      "text/plain": [
       "1.922"
      ]
     },
     "execution_count": 12,
     "metadata": {},
     "output_type": "execute_result"
    }
   ],
   "source": [
    "math.sqrt(.924)\n",
    "2 * .961"
   ]
  },
  {
   "cell_type": "markdown",
   "metadata": {},
   "source": [
    "## 33\n",
    "\n",
    "### Answers\n",
    "\n",
    "* a) nicotine = 0.065 tar + 0.154\n",
    "* b) 0.414 mg\n",
    "* c) for each mg increase in tar, we expect nicotine to increase by 0.065 mg\n",
    "* d) for a cigarette with 0 tar, we'd expect a nicotine content of 0.154 mg\n",
    "* e) 0.109 mg"
   ]
  },
  {
   "cell_type": "code",
   "execution_count": 13,
   "metadata": {
    "collapsed": true
   },
   "outputs": [],
   "source": [
    "def estimate(tar):\n",
    "    return 0.065 * tar + 0.154"
   ]
  },
  {
   "cell_type": "code",
   "execution_count": 14,
   "metadata": {
    "collapsed": false
   },
   "outputs": [
    {
     "data": {
      "text/plain": [
       "0.10899999999999999"
      ]
     },
     "execution_count": 14,
     "metadata": {},
     "output_type": "execute_result"
    }
   ],
   "source": [
    "estimate(7) - 0.5"
   ]
  },
  {
   "cell_type": "markdown",
   "metadata": {},
   "source": [
    "## 35\n",
    "\n",
    "### Answers\n",
    "\n",
    "* a) yes - the variables appear to be related roughly linearly, there are no clear outliers or non-linear patterns\n",
    "* b) HCI = 0.0107 MFI - 157.04\n",
    "* c) 324.385\n",
    "* d) 223.635\n",
    "* e) HCI = 0.65 MFI\n",
    "* f) MFI = 0.65 HCI"
   ]
  },
  {
   "cell_type": "code",
   "execution_count": 15,
   "metadata": {
    "collapsed": false
   },
   "outputs": [
    {
     "data": {
      "text/plain": [
       "0.010711604291004416"
      ]
     },
     "execution_count": 15,
     "metadata": {},
     "output_type": "execute_result"
    }
   ],
   "source": [
    "b1 = 0.65 * (116.55 / 7072.47)\n",
    "b1"
   ]
  },
  {
   "cell_type": "code",
   "execution_count": 16,
   "metadata": {
    "collapsed": false
   },
   "outputs": [
    {
     "data": {
      "text/plain": [
       "-157.04031279029817"
      ]
     },
     "execution_count": 16,
     "metadata": {},
     "output_type": "execute_result"
    }
   ],
   "source": [
    "b0 = 338.2 - (b1 * 46234)\n",
    "b0"
   ]
  },
  {
   "cell_type": "code",
   "execution_count": 17,
   "metadata": {
    "collapsed": false
   },
   "outputs": [
    {
     "data": {
      "text/plain": [
       "324.38509999999997"
      ]
     },
     "execution_count": 17,
     "metadata": {},
     "output_type": "execute_result"
    }
   ],
   "source": [
    "0.0107 * 44993 - 157.04"
   ]
  },
  {
   "cell_type": "code",
   "execution_count": 18,
   "metadata": {
    "collapsed": false
   },
   "outputs": [
    {
     "data": {
      "text/plain": [
       "223.635"
      ]
     },
     "execution_count": 18,
     "metadata": {},
     "output_type": "execute_result"
    }
   ],
   "source": [
    "548.02 - 324.385"
   ]
  },
  {
   "cell_type": "code",
   "execution_count": 19,
   "metadata": {
    "collapsed": false
   },
   "outputs": [
    {
     "data": {
      "text/plain": [
       "0.010711604291004416"
      ]
     },
     "execution_count": 19,
     "metadata": {},
     "output_type": "execute_result"
    }
   ],
   "source": [
    "0.65 * (116.55/7072.47)"
   ]
  },
  {
   "cell_type": "code",
   "execution_count": 20,
   "metadata": {
    "collapsed": false
   },
   "outputs": [
    {
     "data": {
      "text/plain": [
       "39.44320463320464"
      ]
     },
     "execution_count": 20,
     "metadata": {},
     "output_type": "execute_result"
    }
   ],
   "source": [
    "0.65 * (7072.47 / 116.55)"
   ]
  },
  {
   "cell_type": "markdown",
   "metadata": {},
   "source": [
    "## 37\n",
    "\n",
    "### Answers\n",
    "\n",
    "* a) regression eqn: purchase~age: purchase = 1.103 * age + 539.8\n",
    "* b) yes - although the slope is flat, there's no indication that the relationship is non-linear.  no clear outliers, etc.\n",
    "* c) 559.654; 594.95\n",
    "* d) 0.137%\n",
    "* e) no - it accounts for a tiny percentage of the variability"
   ]
  },
  {
   "cell_type": "code",
   "execution_count": 21,
   "metadata": {
    "collapsed": true
   },
   "outputs": [],
   "source": [
    "r = 0.037"
   ]
  },
  {
   "cell_type": "code",
   "execution_count": 22,
   "metadata": {
    "collapsed": false
   },
   "outputs": [
    {
     "data": {
      "text/plain": [
       "1.1026956521739129"
      ]
     },
     "execution_count": 22,
     "metadata": {},
     "output_type": "execute_result"
    }
   ],
   "source": [
    "b1 = r * 253.62 / 8.51\n",
    "b1"
   ]
  },
  {
   "cell_type": "code",
   "execution_count": 23,
   "metadata": {
    "collapsed": false
   },
   "outputs": [
    {
     "data": {
      "text/plain": [
       "539.80302"
      ]
     },
     "execution_count": 23,
     "metadata": {},
     "output_type": "execute_result"
    }
   ],
   "source": [
    "b0 = 572.52 - b1 * 29.67\n",
    "b0"
   ]
  },
  {
   "cell_type": "code",
   "execution_count": 24,
   "metadata": {
    "collapsed": true
   },
   "outputs": [],
   "source": [
    "def predict(age):\n",
    "    return 1.103 * age + 539.8"
   ]
  },
  {
   "cell_type": "code",
   "execution_count": 25,
   "metadata": {
    "collapsed": false
   },
   "outputs": [
    {
     "data": {
      "text/plain": [
       "594.9499999999999"
      ]
     },
     "execution_count": 25,
     "metadata": {},
     "output_type": "execute_result"
    }
   ],
   "source": [
    "predict(50)"
   ]
  },
  {
   "cell_type": "code",
   "execution_count": 26,
   "metadata": {
    "collapsed": false
   },
   "outputs": [
    {
     "data": {
      "text/plain": [
       "0.0013689999999999998"
      ]
     },
     "execution_count": 26,
     "metadata": {},
     "output_type": "execute_result"
    }
   ],
   "source": [
    "math.pow(r, 2)"
   ]
  },
  {
   "cell_type": "markdown",
   "metadata": {},
   "source": [
    "## 39\n",
    "\n",
    "### Answers\n",
    "\n",
    "* a) positive, nearly linear, limited outliers\n",
    "* b) there are a few outliers with a mix of high score on one test, and a lower score on the other\n",
    "* c) the variables have a moderately strong correlation; the regression line accounts for around 46.9% of the variability in the data\n",
    "* d) math = 0.662 verbal + 217.7\n",
    "* e) for every 1 point increase in verbal, we expect to see a 0.662 point increase in math\n",
    "* f) 548.49\n",
    "* g) 53.034"
   ]
  },
  {
   "cell_type": "code",
   "execution_count": 27,
   "metadata": {
    "collapsed": false
   },
   "outputs": [
    {
     "data": {
      "text/plain": [
       "0.6615929648241207"
      ]
     },
     "execution_count": 27,
     "metadata": {},
     "output_type": "execute_result"
    }
   ],
   "source": [
    "r = 0.685\n",
    "avgV = 596.3\n",
    "sV = 99.5\n",
    "avgM = 612.2\n",
    "sM = 96.1\n",
    "\n",
    "b1 = r * (sM / sV)\n",
    "b1"
   ]
  },
  {
   "cell_type": "code",
   "execution_count": 28,
   "metadata": {
    "collapsed": false
   },
   "outputs": [
    {
     "data": {
      "text/plain": [
       "217.69211507537693"
      ]
     },
     "execution_count": 28,
     "metadata": {},
     "output_type": "execute_result"
    }
   ],
   "source": [
    "b0 = avgM - b1 * avgV\n",
    "b0"
   ]
  },
  {
   "cell_type": "code",
   "execution_count": 29,
   "metadata": {
    "collapsed": false
   },
   "outputs": [
    {
     "data": {
      "text/plain": [
       "548.4885974874373"
      ]
     },
     "execution_count": 29,
     "metadata": {},
     "output_type": "execute_result"
    }
   ],
   "source": [
    "math = b1 * 500 + b0\n",
    "math"
   ]
  },
  {
   "cell_type": "code",
   "execution_count": 30,
   "metadata": {
    "collapsed": false
   },
   "outputs": [
    {
     "data": {
      "text/plain": [
       "53.03351306532659"
      ]
     },
     "execution_count": 30,
     "metadata": {},
     "output_type": "execute_result"
    }
   ],
   "source": [
    "math = b1 * 800 + b0\n",
    "800 - math"
   ]
  },
  {
   "cell_type": "markdown",
   "metadata": {},
   "source": [
    "## 41\n",
    "\n",
    "### Background\n",
    "\n",
    "* $r$ = 0.685\n",
    "* avgV = 596.3\n",
    "* sV = 99.5\n",
    "* avgM = 612.2\n",
    "* sM = 96.1\n",
    "\n",
    "### Answers\n",
    "\n",
    "* a) correlation: $r$ = 0.685\n",
    "* b) equation: verbal~math: verbal = 0.709235x + 162.106228\n",
    "* c) what does positive residual mean? the verbal score predicted was lower than the actual verbal score\n",
    "* d) math = 500; verbal = 516.7234\n",
    "* e) 559.77109\n",
    "* f) regression to mean - started with a math lower than mean, predicted verbal _closer_ to the mean; used that verbal value (below mean) to predict a math score even _closer_ to the mean"
   ]
  },
  {
   "cell_type": "code",
   "execution_count": 34,
   "metadata": {
    "collapsed": false
   },
   "outputs": [
    {
     "name": "stdout",
     "output_type": "stream",
     "text": [
      "yHat = 0.709235x + 162.106228\n"
     ]
    }
   ],
   "source": [
    "solve(612.2, 96.1, 596.3, 99.5, 0.685)"
   ]
  },
  {
   "cell_type": "code",
   "execution_count": 38,
   "metadata": {
    "collapsed": false
   },
   "outputs": [
    {
     "data": {
      "text/plain": [
       "516.7237279999999"
      ]
     },
     "execution_count": 38,
     "metadata": {},
     "output_type": "execute_result"
    }
   ],
   "source": [
    "verbal = 0.709235 * 500 + 162.106228\n",
    "verbal"
   ]
  },
  {
   "cell_type": "code",
   "execution_count": 37,
   "metadata": {
    "collapsed": false
   },
   "outputs": [
    {
     "data": {
      "text/plain": [
       "559.7710893999999"
      ]
     },
     "execution_count": 37,
     "metadata": {},
     "output_type": "execute_result"
    }
   ],
   "source": [
    "math = 0.662 * (516.7237) + 217.7\n",
    "math"
   ]
  },
  {
   "cell_type": "markdown",
   "metadata": {},
   "source": [
    "## 43\n",
    "\n",
    "### Answers\n",
    "\n",
    "* a) yes - no apparent non-linear trends, appears to have a weak positive association, no clear outliers\n",
    "* b) for each year increase past 1985, the number of fires is expected to increase by 296.7\n",
    "* c) yes - the predicted (average) number of fires in 1985 is 73,790.7\n",
    "* d) on average, predicted values will be 12,323 above or below the actual values; this covers a majority of the overall range of # of fire values\n",
    "* e) 2.9% of the variability in the number of fires is explained by the variability in years since 1985"
   ]
  },
  {
   "cell_type": "markdown",
   "metadata": {},
   "source": [
    "## 45\n",
    "\n",
    "### Answers\n",
    "\n",
    "* a) see below\n",
    "* b) As age increases, price decreases.  A negative association.  The association appears linear, and very strong. No clear outliers.\n",
    "* c) Yes\n",
    "* d) $r = -0.972$\n",
    "* e) 94.4% of the variability in price is explained by the variability in age\n",
    "* f) Because the association isn't perfectly linear.  As examples, look at years, 1,3,4,6, and 8.  In each case, there are two cars with the same age, but different prices.  There's no way for the model to predict these _perfectly_ using just age as a predictor."
   ]
  },
  {
   "cell_type": "code",
   "execution_count": 65,
   "metadata": {
    "collapsed": false
   },
   "outputs": [
    {
     "data": {
      "text/html": [
       "<div>\n",
       "<table border=\"1\" class=\"dataframe\">\n",
       "  <thead>\n",
       "    <tr style=\"text-align: right;\">\n",
       "      <th></th>\n",
       "      <th>price</th>\n",
       "      <th>age</th>\n",
       "    </tr>\n",
       "  </thead>\n",
       "  <tbody>\n",
       "    <tr>\n",
       "      <th>0</th>\n",
       "      <td>15988</td>\n",
       "      <td>1</td>\n",
       "    </tr>\n",
       "    <tr>\n",
       "      <th>1</th>\n",
       "      <td>13988</td>\n",
       "      <td>1</td>\n",
       "    </tr>\n",
       "    <tr>\n",
       "      <th>2</th>\n",
       "      <td>14488</td>\n",
       "      <td>2</td>\n",
       "    </tr>\n",
       "    <tr>\n",
       "      <th>3</th>\n",
       "      <td>10995</td>\n",
       "      <td>3</td>\n",
       "    </tr>\n",
       "    <tr>\n",
       "      <th>4</th>\n",
       "      <td>13998</td>\n",
       "      <td>3</td>\n",
       "    </tr>\n",
       "    <tr>\n",
       "      <th>5</th>\n",
       "      <td>13622</td>\n",
       "      <td>4</td>\n",
       "    </tr>\n",
       "    <tr>\n",
       "      <th>6</th>\n",
       "      <td>12810</td>\n",
       "      <td>4</td>\n",
       "    </tr>\n",
       "    <tr>\n",
       "      <th>7</th>\n",
       "      <td>9988</td>\n",
       "      <td>5</td>\n",
       "    </tr>\n",
       "    <tr>\n",
       "      <th>8</th>\n",
       "      <td>9995</td>\n",
       "      <td>6</td>\n",
       "    </tr>\n",
       "    <tr>\n",
       "      <th>9</th>\n",
       "      <td>11988</td>\n",
       "      <td>6</td>\n",
       "    </tr>\n",
       "    <tr>\n",
       "      <th>10</th>\n",
       "      <td>8990</td>\n",
       "      <td>7</td>\n",
       "    </tr>\n",
       "    <tr>\n",
       "      <th>11</th>\n",
       "      <td>9488</td>\n",
       "      <td>8</td>\n",
       "    </tr>\n",
       "    <tr>\n",
       "      <th>12</th>\n",
       "      <td>8995</td>\n",
       "      <td>8</td>\n",
       "    </tr>\n",
       "    <tr>\n",
       "      <th>13</th>\n",
       "      <td>5990</td>\n",
       "      <td>9</td>\n",
       "    </tr>\n",
       "    <tr>\n",
       "      <th>14</th>\n",
       "      <td>4100</td>\n",
       "      <td>10</td>\n",
       "    </tr>\n",
       "    <tr>\n",
       "      <th>15</th>\n",
       "      <td>2995</td>\n",
       "      <td>12</td>\n",
       "    </tr>\n",
       "  </tbody>\n",
       "</table>\n",
       "</div>"
      ],
      "text/plain": [
       "    price  age\n",
       "0   15988    1\n",
       "1   13988    1\n",
       "2   14488    2\n",
       "3   10995    3\n",
       "4   13998    3\n",
       "5   13622    4\n",
       "6   12810    4\n",
       "7    9988    5\n",
       "8    9995    6\n",
       "9   11988    6\n",
       "10   8990    7\n",
       "11   9488    8\n",
       "12   8995    8\n",
       "13   5990    9\n",
       "14   4100   10\n",
       "15   2995   12"
      ]
     },
     "execution_count": 65,
     "metadata": {},
     "output_type": "execute_result"
    }
   ],
   "source": [
    "cars = pd.read_table(\"../data/used_cars.txt\", names=[\"price\", \"age\"], skiprows=1)\n",
    "cars"
   ]
  },
  {
   "cell_type": "code",
   "execution_count": 50,
   "metadata": {
    "collapsed": false
   },
   "outputs": [
    {
     "data": {
      "image/png": "[encoded data removed]",
      "text/plain": [
       "<matplotlib.figure.Figure at 0x11d132c18>"
      ]
     },
     "metadata": {},
     "output_type": "display_data"
    }
   ],
   "source": [
    "plt.scatter(cars.age, cars.price)\n",
    "plt.xlabel(\"age\")\n",
    "plt.ylabel(\"price\")\n",
    "plt.title(\"ex - 45 - used cars\");"
   ]
  },
  {
   "cell_type": "code",
   "execution_count": 51,
   "metadata": {
    "collapsed": false
   },
   "outputs": [
    {
     "data": {
      "text/plain": [
       "0.9715966241192896"
      ]
     },
     "execution_count": 51,
     "metadata": {},
     "output_type": "execute_result"
    }
   ],
   "source": [
    "rSquared = 94.4\n",
    "import math\n",
    "math.sqrt(rSquared / 100)"
   ]
  },
  {
   "cell_type": "markdown",
   "metadata": {},
   "source": [
    "## 47\n",
    "\n",
    "### Answers\n",
    "\n",
    "* a) price = -1086 age + 16567\n",
    "* b) with each year increase in age, the car's price drops by \\$1086\n",
    "* c) the price of a new car (sold used) is \\$16,567\n",
    "* d) \\$8965\n",
    "* e) if you're paying the predicted price, a positive residual -- it's an underestimate of the actual price; if you're paying the actual price, a negative residual -- the actual price will be lower than what was predicted\n",
    "* f) -\\$2207\n",
    "* g) not - that would require extrapolating beyond the range of data used to build the model.  (Max age in the data is 12 years)"
   ]
  },
  {
   "cell_type": "code",
   "execution_count": 59,
   "metadata": {
    "collapsed": false
   },
   "outputs": [],
   "source": [
    "r = np.corrcoef(cars.age, cars.price)[0][1]\n",
    "avgAge = cars.age.mean()\n",
    "sAge = cars.age.std()\n",
    "avgPrice = cars.price.mean()\n",
    "sPrice = cars.price.std()"
   ]
  },
  {
   "cell_type": "code",
   "execution_count": 60,
   "metadata": {
    "collapsed": false
   },
   "outputs": [
    {
     "data": {
      "text/plain": [
       "-1085.9499804611175"
      ]
     },
     "execution_count": 60,
     "metadata": {},
     "output_type": "execute_result"
    }
   ],
   "source": [
    "b1 = r * (sPrice / sAge)\n",
    "b1"
   ]
  },
  {
   "cell_type": "code",
   "execution_count": 61,
   "metadata": {
    "collapsed": false
   },
   "outputs": [
    {
     "data": {
      "text/plain": [
       "16566.721766314968"
      ]
     },
     "execution_count": 61,
     "metadata": {},
     "output_type": "execute_result"
    }
   ],
   "source": [
    "b0 = avgPrice - (b1 * avgAge)\n",
    "b0"
   ]
  },
  {
   "cell_type": "code",
   "execution_count": 63,
   "metadata": {
    "collapsed": false
   },
   "outputs": [
    {
     "data": {
      "text/plain": [
       "-2207"
      ]
     },
     "execution_count": 63,
     "metadata": {},
     "output_type": "execute_result"
    }
   ],
   "source": [
    "3500 - (10 * -1086 + 16567)"
   ]
  },
  {
   "cell_type": "code",
   "execution_count": 64,
   "metadata": {
    "collapsed": false
   },
   "outputs": [
    {
     "data": {
      "text/plain": [
       "12"
      ]
     },
     "execution_count": 64,
     "metadata": {},
     "output_type": "execute_result"
    }
   ],
   "source": [
    "cars.age.max()"
   ]
  },
  {
   "cell_type": "markdown",
   "metadata": {},
   "source": [
    "## 49\n",
    "\n",
    "### Answers\n",
    "\n",
    "* a) see below\n",
    "* b) 92.3% of the variability in calories is explained by the variability in fat\n",
    "* c) calories = 11.06 fat (g) + 211\n",
    "* d) there's some concern with the residual plot because the variance of the residuals doesn't appear to be constant; it increases as x increase; this may be the result of a small number of burgers on the low end of the fat content range\n",
    "* e) a burger with 0 g fat would have 211 calories\n",
    "* f) each increase of 1g of fat adds 11.1 calories\n",
    "* g) 553.68"
   ]
  },
  {
   "cell_type": "code",
   "execution_count": 69,
   "metadata": {
    "collapsed": false
   },
   "outputs": [
    {
     "data": {
      "text/html": [
       "<div>\n",
       "<table border=\"1\" class=\"dataframe\">\n",
       "  <thead>\n",
       "    <tr style=\"text-align: right;\">\n",
       "      <th></th>\n",
       "      <th>Fat</th>\n",
       "      <th>Sodium</th>\n",
       "      <th>Calories</th>\n",
       "    </tr>\n",
       "  </thead>\n",
       "  <tbody>\n",
       "    <tr>\n",
       "      <th>0</th>\n",
       "      <td>19</td>\n",
       "      <td>920</td>\n",
       "      <td>410</td>\n",
       "    </tr>\n",
       "    <tr>\n",
       "      <th>1</th>\n",
       "      <td>31</td>\n",
       "      <td>1500</td>\n",
       "      <td>580</td>\n",
       "    </tr>\n",
       "    <tr>\n",
       "      <th>2</th>\n",
       "      <td>34</td>\n",
       "      <td>1310</td>\n",
       "      <td>590</td>\n",
       "    </tr>\n",
       "    <tr>\n",
       "      <th>3</th>\n",
       "      <td>35</td>\n",
       "      <td>860</td>\n",
       "      <td>570</td>\n",
       "    </tr>\n",
       "    <tr>\n",
       "      <th>4</th>\n",
       "      <td>39</td>\n",
       "      <td>1180</td>\n",
       "      <td>640</td>\n",
       "    </tr>\n",
       "  </tbody>\n",
       "</table>\n",
       "</div>"
      ],
      "text/plain": [
       "   Fat  Sodium  Calories\n",
       "0   19     920       410\n",
       "1   31    1500       580\n",
       "2   34    1310       590\n",
       "3   35     860       570\n",
       "4   39    1180       640"
      ]
     },
     "execution_count": 69,
     "metadata": {},
     "output_type": "execute_result"
    }
   ],
   "source": [
    "burgers = pd.read_table(\"../data/Burgers.txt\")\n",
    "burgers.head()"
   ]
  },
  {
   "cell_type": "code",
   "execution_count": 74,
   "metadata": {
    "collapsed": false
   },
   "outputs": [
    {
     "data": {
      "image/png": "[encoded data removed]",
      "text/plain": [
       "<matplotlib.figure.Figure at 0x11d329be0>"
      ]
     },
     "metadata": {},
     "output_type": "display_data"
    }
   ],
   "source": [
    "plt.scatter(burgers.Fat, burgers.Calories)\n",
    "plt.ylabel(\"Calories\")\n",
    "plt.xlabel(\"Fat\")\n",
    "plt.title(\"Burgers - Calories vs. Fat\");"
   ]
  },
  {
   "cell_type": "code",
   "execution_count": 75,
   "metadata": {
    "collapsed": false
   },
   "outputs": [
    {
     "data": {
      "text/plain": [
       "0.9228154743827499"
      ]
     },
     "execution_count": 75,
     "metadata": {},
     "output_type": "execute_result"
    }
   ],
   "source": [
    "r = np.corrcoef(burgers.Calories, burgers.Fat)[0][1]\n",
    "rSquared = math.pow(r, 2)\n",
    "rSquared"
   ]
  },
  {
   "cell_type": "code",
   "execution_count": 79,
   "metadata": {
    "collapsed": false
   },
   "outputs": [
    {
     "name": "stdout",
     "output_type": "stream",
     "text": [
      "avg calories: 590.00, s calories: 89.81\n",
      "avg fat: 34.29, s fat: 7.80\n"
     ]
    }
   ],
   "source": [
    "avgCal = burgers.Calories.mean()\n",
    "sCal = burgers.Calories.std()\n",
    "avgFat = burgers.Fat.mean()\n",
    "sFat = burgers.Fat.std()\n",
    "\n",
    "print(\"avg calories: %.2f, s calories: %.2f\" % (avgCal, sCal))\n",
    "print(\"avg fat: %.2f, s fat: %.2f\" % (avgFat, sFat))"
   ]
  },
  {
   "cell_type": "code",
   "execution_count": 80,
   "metadata": {
    "collapsed": false
   },
   "outputs": [
    {
     "data": {
      "text/plain": [
       "11.055512118842845"
      ]
     },
     "execution_count": 80,
     "metadata": {},
     "output_type": "execute_result"
    }
   ],
   "source": [
    "b1 = r * (sCal / sFat)\n",
    "b1"
   ]
  },
  {
   "cell_type": "code",
   "execution_count": 81,
   "metadata": {
    "collapsed": false
   },
   "outputs": [
    {
     "data": {
      "text/plain": [
       "210.95387021110247"
      ]
     },
     "execution_count": 81,
     "metadata": {},
     "output_type": "execute_result"
    }
   ],
   "source": [
    "b0 = avgCal -  (b1 * avgFat)\n",
    "b0"
   ]
  },
  {
   "cell_type": "code",
   "execution_count": 82,
   "metadata": {
    "collapsed": false
   },
   "outputs": [
    {
     "data": {
      "text/html": [
       "<div>\n",
       "<table border=\"1\" class=\"dataframe\">\n",
       "  <thead>\n",
       "    <tr style=\"text-align: right;\">\n",
       "      <th></th>\n",
       "      <th>Fat</th>\n",
       "      <th>Sodium</th>\n",
       "      <th>Calories</th>\n",
       "      <th>prediction</th>\n",
       "    </tr>\n",
       "  </thead>\n",
       "  <tbody>\n",
       "    <tr>\n",
       "      <th>0</th>\n",
       "      <td>19</td>\n",
       "      <td>920</td>\n",
       "      <td>410</td>\n",
       "      <td>421.008600</td>\n",
       "    </tr>\n",
       "    <tr>\n",
       "      <th>1</th>\n",
       "      <td>31</td>\n",
       "      <td>1500</td>\n",
       "      <td>580</td>\n",
       "      <td>553.674746</td>\n",
       "    </tr>\n",
       "    <tr>\n",
       "      <th>2</th>\n",
       "      <td>34</td>\n",
       "      <td>1310</td>\n",
       "      <td>590</td>\n",
       "      <td>586.841282</td>\n",
       "    </tr>\n",
       "    <tr>\n",
       "      <th>3</th>\n",
       "      <td>35</td>\n",
       "      <td>860</td>\n",
       "      <td>570</td>\n",
       "      <td>597.896794</td>\n",
       "    </tr>\n",
       "    <tr>\n",
       "      <th>4</th>\n",
       "      <td>39</td>\n",
       "      <td>1180</td>\n",
       "      <td>640</td>\n",
       "      <td>642.118843</td>\n",
       "    </tr>\n",
       "  </tbody>\n",
       "</table>\n",
       "</div>"
      ],
      "text/plain": [
       "   Fat  Sodium  Calories  prediction\n",
       "0   19     920       410  421.008600\n",
       "1   31    1500       580  553.674746\n",
       "2   34    1310       590  586.841282\n",
       "3   35     860       570  597.896794\n",
       "4   39    1180       640  642.118843"
      ]
     },
     "execution_count": 82,
     "metadata": {},
     "output_type": "execute_result"
    }
   ],
   "source": [
    "burgers['prediction'] = b1 * burgers.Fat + b0\n",
    "burgers.head()"
   ]
  },
  {
   "cell_type": "code",
   "execution_count": 83,
   "metadata": {
    "collapsed": false
   },
   "outputs": [
    {
     "data": {
      "text/html": [
       "<div>\n",
       "<table border=\"1\" class=\"dataframe\">\n",
       "  <thead>\n",
       "    <tr style=\"text-align: right;\">\n",
       "      <th></th>\n",
       "      <th>Fat</th>\n",
       "      <th>Sodium</th>\n",
       "      <th>Calories</th>\n",
       "      <th>prediction</th>\n",
       "      <th>residual</th>\n",
       "    </tr>\n",
       "  </thead>\n",
       "  <tbody>\n",
       "    <tr>\n",
       "      <th>0</th>\n",
       "      <td>19</td>\n",
       "      <td>920</td>\n",
       "      <td>410</td>\n",
       "      <td>421.008600</td>\n",
       "      <td>-11.008600</td>\n",
       "    </tr>\n",
       "    <tr>\n",
       "      <th>1</th>\n",
       "      <td>31</td>\n",
       "      <td>1500</td>\n",
       "      <td>580</td>\n",
       "      <td>553.674746</td>\n",
       "      <td>26.325254</td>\n",
       "    </tr>\n",
       "    <tr>\n",
       "      <th>2</th>\n",
       "      <td>34</td>\n",
       "      <td>1310</td>\n",
       "      <td>590</td>\n",
       "      <td>586.841282</td>\n",
       "      <td>3.158718</td>\n",
       "    </tr>\n",
       "    <tr>\n",
       "      <th>3</th>\n",
       "      <td>35</td>\n",
       "      <td>860</td>\n",
       "      <td>570</td>\n",
       "      <td>597.896794</td>\n",
       "      <td>-27.896794</td>\n",
       "    </tr>\n",
       "    <tr>\n",
       "      <th>4</th>\n",
       "      <td>39</td>\n",
       "      <td>1180</td>\n",
       "      <td>640</td>\n",
       "      <td>642.118843</td>\n",
       "      <td>-2.118843</td>\n",
       "    </tr>\n",
       "  </tbody>\n",
       "</table>\n",
       "</div>"
      ],
      "text/plain": [
       "   Fat  Sodium  Calories  prediction   residual\n",
       "0   19     920       410  421.008600 -11.008600\n",
       "1   31    1500       580  553.674746  26.325254\n",
       "2   34    1310       590  586.841282   3.158718\n",
       "3   35     860       570  597.896794 -27.896794\n",
       "4   39    1180       640  642.118843  -2.118843"
      ]
     },
     "execution_count": 83,
     "metadata": {},
     "output_type": "execute_result"
    }
   ],
   "source": [
    "burgers['residual'] = burgers.Calories - burgers.prediction\n",
    "burgers.head()"
   ]
  },
  {
   "cell_type": "code",
   "execution_count": 85,
   "metadata": {
    "collapsed": false
   },
   "outputs": [
    {
     "data": {
      "image/png": "[encoded data removed]",
      "text/plain": [
       "<matplotlib.figure.Figure at 0x11d625048>"
      ]
     },
     "metadata": {},
     "output_type": "display_data"
    }
   ],
   "source": [
    "plt.scatter(burgers.Fat, burgers.residual)\n",
    "plt.xlabel(\"Fat\")\n",
    "plt.ylabel(\"Residual\")\n",
    "plt.title(\"ex 49 - residual plot\");"
   ]
  },
  {
   "cell_type": "markdown",
   "metadata": {},
   "source": [
    "## n\n",
    "\n",
    "### Answers\n",
    "\n",
    "* "
   ]
  },
  {
   "cell_type": "markdown",
   "metadata": {},
   "source": [
    "## n\n",
    "\n",
    "### Answers\n",
    "\n",
    "* "
   ]
  },
  {
   "cell_type": "markdown",
   "metadata": {},
   "source": [
    "## n\n",
    "\n",
    "### Answers\n",
    "\n",
    "* "
   ]
  },
  {
   "cell_type": "markdown",
   "metadata": {},
   "source": [
    "## n\n",
    "\n",
    "### Answers\n",
    "\n",
    "* "
   ]
  },
  {
   "cell_type": "markdown",
   "metadata": {},
   "source": [
    "## n\n",
    "\n",
    "### Answers\n",
    "\n",
    "* "
   ]
  },
  {
   "cell_type": "markdown",
   "metadata": {},
   "source": [
    "## n\n",
    "\n",
    "### Answers\n",
    "\n",
    "* "
   ]
  },
  {
   "cell_type": "markdown",
   "metadata": {},
   "source": [
    "## n\n",
    "\n",
    "### Answers\n",
    "\n",
    "* "
   ]
  },
  {
   "cell_type": "code",
   "execution_count": null,
   "metadata": {
    "collapsed": true
   },
   "outputs": [],
   "source": []
  }
 ],
 "metadata": {
  "kernelspec": {
   "display_name": "Python 3",
   "language": "python",
   "name": "python3"
  },
  "language_info": {
   "codemirror_mode": {
    "name": "ipython",
    "version": 3
   },
   "file_extension": ".py",
   "mimetype": "text/x-python",
   "name": "python",
   "nbconvert_exporter": "python",
   "pygments_lexer": "ipython3",
   "version": "3.5.2"
  }
 },
 "nbformat": 4,
 "nbformat_minor": 0
}
