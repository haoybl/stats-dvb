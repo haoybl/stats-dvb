{
 "cells": [
  {
   "cell_type": "markdown",
   "metadata": {},
   "source": [
    "# Chapter 4 - Exercises"
   ]
  },
  {
   "cell_type": "code",
   "execution_count": 3,
   "metadata": {
    "collapsed": true
   },
   "outputs": [],
   "source": [
    "# %load ../snippets/data-imports\n",
    "import numpy as np\n",
    "import pandas as pd\n",
    "from pandas import Series,DataFrame\n",
    "\n",
    "import matplotlib.pyplot as plt\n",
    "import seaborn as sns\n",
    "%matplotlib inline\n",
    "sns.set_style('whitegrid')"
   ]
  },
  {
   "cell_type": "code",
   "execution_count": 4,
   "metadata": {
    "collapsed": false
   },
   "outputs": [
    {
     "name": "stdout",
     "output_type": "stream",
     "text": [
      "AP_Statistics_Scores.txt                Mugs.txt\r\n",
      "Accidents.txt                           Music_Library.txt\r\n",
      "Activating_yeast.txt                    NYPD_and_Sex_Discrimination.txt\r\n",
      "Age_and_Party_2011.txt                  NY_Marathon_2011.txt\r\n",
      "Airport_screening.txt                   Neck_size.txt\r\n",
      "All_the_efficiency...txt                New_York_Bridges.txt\r\n",
      "Analgesics.txt                          Newspapers.txt\r\n",
      "Antidepressants.txt                     Normal_temperature.txt\r\n",
      "Arrivals_2011.txt                       Oakland_Passengers.txt\r\n",
      "Assets.txt                              Online_insurance.txt\r\n",
      "Athletes.txt                            Ozone.txt\r\n",
      "Auto_noise_filters.txt                  Paper_Planes.txt\r\n",
      "BK_menu_items.txt                       Perform_IQ-brain_size.txt\r\n",
      "Baseball.txt                            Pi.txt\r\n",
      "Baseball_2011.txt                       Pizza_Prices.txt\r\n",
      "Better_Light.txt                        Planets.txt\r\n",
      "Birth_Rates_2009.txt                    Popcorn.txt\r\n",
      "Birth_order.txt                         Population_growth.txt\r\n",
      "Blood_Pressure.txt                      Population_growth_2010.txt\r\n",
      "Body_fat.txt                            Pottery.txt\r\n",
      "Brain_Size.txt                          Predicting_final_exams.txt\r\n",
      "Braines.txt                             Pregnancies.txt\r\n",
      "Braking.txt                             Profits.txt\r\n",
      "Braking_test2.txt                       Property_Assessments.txt\r\n",
      "Breakfast_cereals.txt                   Pulse_rates.txt\r\n",
      "Bridges_of_Tompkins_County.txt          Push-ups_1.txt\r\n",
      "Burgers.txt                             Racial_Steering.txt\r\n",
      "Car_speeds.txt                          Rainmakers.txt\r\n",
      "Cars.txt                                Reading.txt\r\n",
      "Cars_and_trucks.txt                     Receivers_2010.txt\r\n",
      "Cereal.txt                              Roller_coasters.txt\r\n",
      "Cereals.txt                             Ruffles.txt\r\n",
      "Chips.txt                               Running_Heats.txt\r\n",
      "Chips_ahoy.txt                          Runtimes.txt\r\n",
      "Cholesterol.txt                         SAT_scores.txt\r\n",
      "Climate_change_and_CO2_2011.txt         SBS_TV_watching.TXT\r\n",
      "Cloud_seeding.txt                       Sales_and_Profits.txt\r\n",
      "Computer_lab_fees.txt                   Salmon.txt\r\n",
      "Contrast_baths.txt                      Saratoga_House_Prices.txt\r\n",
      "Cost_of_Living_2008.txt                 School_system.txt\r\n",
      "Costs.txt                               Scottish_Hill_races.txt\r\n",
      "Cramming.txt                            Second_inning.txt\r\n",
      "Cranberry_Juice.txt                     Second_inning_2010.txt\r\n",
      "Crawling.txt                            Sex_sells.txt\r",
      "\r\n",
      "Crocodile_lengths.txt                   Shoot_To_Score.txt\r\n",
      "Dairy_Sales.txt                         Singers.txt\r\n",
      "Depression_and_the_Internet.txt         Singers_by_parts.txt\r\n",
      "Diet.txt                                Ski_wax.txt\r\n",
      "Doritos.txt                             Slalom_Times_2010.txt\r\n",
      "Down_the_drain.txt                      Smoking_2009.txt\r\n",
      "Downloading.txt                         Smoking_and_Pregnancy_2006.txt\r\n",
      "Driving_distance_2011.txt               Stereograms.txt\r\n",
      "Drug_Use.txt                            Streams.txt\r\n",
      "Drug_abuse.txt                          Streams_and_Hard_water.txt\r\n",
      "E-mails.txt                             Strike_Two.txt\r\n",
      "Education_and_Mortality.txt             Strikes.txt\r\n",
      "Education_by_Age.txt                    Sugar_in_cereals.txt\r\n",
      "Education_vs_Income_2009.txt            Summer_school.txt\r\n",
      "Eggs.txt                                Swim_the_lake_2010.txt\r\n",
      "Egyptians.txt                           Swimming_heats.txt\r\n",
      "Eye_and_Hair_Color.txt                  TV_Watching.txt\r\n",
      "Fertilizers.txt                         Tablet_Battery_Life.txt\r\n",
      "Fifty_states.txt                        Tableware.txt\r\n",
      "Finger_Lakes_wines.txt                  Tattoos.txt\r\n",
      "Fish_Diet.txt                           Tellers.txt\r\n",
      "Football_weights.txt                    Temperatures.txt\r\n",
      "Framingham.txt                          Tendon_transfer.txt\r\n",
      "Freshman_15.txt                         Thrills_2011.txt\r\n",
      "Friday_the_13th_Part_1.txt              Titanic.txt\r\n",
      "Friday_the_13th_Part_2.txt              Titanic_Redux.txt\r\n",
      "Frisbee_throws.txt                      Tobacco_and_alcohol.txt\r\n",
      "Fruit_Flies.txt                         Tour_de_France_2011.txt\r\n",
      "Fuel_Economy.txt                        Tracking_hurricanes_2010.txt\r\n",
      "Fuel_economy_2010.txt                   Tuition_2011.txt\r\n",
      "Full_Moon.txt                           Twins.txt\r\n",
      "Gasoline.txt                            Twins_Again.txt\r\n",
      "Gestation.txt                           Vehicle_weights.txt\r\n",
      "Golf_Drives_2011.txt                    Vineyards.txt\r\n",
      "Grades.txt                              Wealth_Distribution.txt\r\n",
      "Graduation_rates.txt                    Weather_forecasts.txt\r\n",
      "HDI_phone.txt                           Weighing_Trucks.txt\r\n",
      "Hand_washing.txt                        Wheelchair_Marathon_2010.txt\r\n",
      "Hard_water.txt                          Wild_Horses.txt\r\n",
      "Hard_water_Derby.txt                    Wildfires_2010.txt\r\n",
      "Hearing.txt                             Williams_vs_Texas.txt\r\n",
      "Heart_attack_stays.txt                  Wind_Power.txt\r\n",
      "Heptathlon_2004.txt                     Wind_Speed.txt\r\n",
      "Horsepower.txt                          Winter.txt\r\n",
      "Hot_Dogs.txt                            Winter_Olympic_10_Downhill.txt\r\n",
      "How_old_is_that_tree.txt                Winter_Olympics_2010.txt\r\n",
      "Human_Development_Index_2010.txt        Wisconsin_ACT_math.txt\r\n",
      "Hurricane_frequencies.txt               Women's_1500_Speed_Skating.txt\r\n",
      "Hurricanes.txt                          Womens_basketball.txt\r\n",
      "Hurricanes_2010.txt                     Working_Parents.txt\r\n",
      "Income_and_Housing.txt                  Yogurt.txt\r\n",
      "Industrial_experiment.txt               attendance_2010.txt\r\n",
      "Infant_Mortality.txt                    bike_safety_2005.txt\r\n",
      "Intrest_Rates1950-2005.txt              boomtowns.txt\r\n",
      "Irises.txt                              candy.txt\r\n",
      "Job_satisfaction.txt                    cigarettes.txt\r\n",
      "Jumps_2008.txt                          contingency-table-data.csv\r\n",
      "Kentucky_Derby_2011.txt                 departures_2011.txt\r\n",
      "Legionnaires_disease.txt                derby_speeds_2011.txt\r\n",
      "Libertys_nose.txt                       drivers_license_2011.txt\r\n",
      "Life_expectancy_2010.txt                drunk_driving_2008.txt\r\n",
      "Lottery_Numbers.txt                     flights_2010.txt\r\n",
      "Lunchtime.txt                           golfdrive.txt\r\n",
      "MLB_2010.txt                            inflation_2011.txt\r\n",
      "MPG.txt                                 interest_and_mortgage.txt\r\n",
      "Mail.txt                                interest_and_mortgages.txt\r\n",
      "Manatees_2010.txt                       load_factors_2011.txt\r\n",
      "Marijuana_2007.txt                      math_scores_2009.txt\r\n",
      "Marriage_Age_2010.txt                   motorcycle.txt\r\n",
      "Maze.txt                                movie_lengths_2010.txt\r\n",
      "Mazes_and_Smells.txt                    movies.txt\r\n",
      "Memory(stacked).txt                     oil_spills_2010.txt\r\n",
      "Memory.txt                              old_faithful.txt\r\n",
      "Montana.txt                             prisons_2006.txt\r\n",
      "Montana_Revisited.txt                   text_datasets_all.zip\r\n",
      "More_twins_2009.txt                     twin_births.txt\r\n",
      "Movie_Earnings.txt                      used_cars.txt\r\n",
      "Movie_budgets.txt                       winter_olympics_2010_speed_skating.txt\r\n",
      "Movie_dramas.txt\r\n"
     ]
    }
   ],
   "source": [
    "%ls ../data/"
   ]
  },
  {
   "cell_type": "markdown",
   "metadata": {},
   "source": [
    "## 7"
   ]
  },
  {
   "cell_type": "code",
   "execution_count": 17,
   "metadata": {
    "collapsed": false
   },
   "outputs": [
    {
     "name": "stdout",
     "output_type": "stream",
     "text": [
      "Children's Cereal\tAdults' Cereals\r",
      "\r\n",
      "40.3\t20\r",
      "\r\n",
      "55\t30.2\r",
      "\r\n",
      "45.7\t2.2\r",
      "\r\n",
      "43.3\t7.5\r",
      "\r\n",
      "50.3\t22.2\r",
      "\r\n",
      "53.5\t16.6\r",
      "\r\n",
      "43\t14.5\r",
      "\r\n",
      "44.2\t21.4\r",
      "\r\n",
      "44\t3.3\r",
      "\r\n"
     ]
    }
   ],
   "source": [
    "!head ../data/Cereal.txt"
   ]
  },
  {
   "cell_type": "code",
   "execution_count": 35,
   "metadata": {
    "collapsed": false
   },
   "outputs": [
    {
     "data": {
      "text/html": [
       "<div>\n",
       "<table border=\"1\" class=\"dataframe\">\n",
       "  <thead>\n",
       "    <tr style=\"text-align: right;\">\n",
       "      <th></th>\n",
       "      <th>Children's Cereal</th>\n",
       "      <th>Adults' Cereals</th>\n",
       "    </tr>\n",
       "  </thead>\n",
       "  <tbody>\n",
       "    <tr>\n",
       "      <th>0</th>\n",
       "      <td>40.3</td>\n",
       "      <td>20.0</td>\n",
       "    </tr>\n",
       "    <tr>\n",
       "      <th>1</th>\n",
       "      <td>55.0</td>\n",
       "      <td>30.2</td>\n",
       "    </tr>\n",
       "    <tr>\n",
       "      <th>2</th>\n",
       "      <td>45.7</td>\n",
       "      <td>2.2</td>\n",
       "    </tr>\n",
       "    <tr>\n",
       "      <th>3</th>\n",
       "      <td>43.3</td>\n",
       "      <td>7.5</td>\n",
       "    </tr>\n",
       "    <tr>\n",
       "      <th>4</th>\n",
       "      <td>50.3</td>\n",
       "      <td>22.2</td>\n",
       "    </tr>\n",
       "  </tbody>\n",
       "</table>\n",
       "</div>"
      ],
      "text/plain": [
       "   Children's Cereal  Adults' Cereals\n",
       "0               40.3             20.0\n",
       "1               55.0             30.2\n",
       "2               45.7              2.2\n",
       "3               43.3              7.5\n",
       "4               50.3             22.2"
      ]
     },
     "execution_count": 35,
     "metadata": {},
     "output_type": "execute_result"
    }
   ],
   "source": [
    "cereal = pd.read_table('../data/Cereal.txt')\n",
    "cereal.head()"
   ]
  },
  {
   "cell_type": "code",
   "execution_count": 37,
   "metadata": {
    "collapsed": false
   },
   "outputs": [],
   "source": [
    "cerealS = cereal[\"Children's Cereal\"][pd.notnull(cereal[\"Children's Cereal\"])].append(\n",
    "cereal[\"Adults' Cereals\"][pd.notnull(cereal[\"Adults' Cereals\"])])"
   ]
  },
  {
   "cell_type": "code",
   "execution_count": 38,
   "metadata": {
    "collapsed": false
   },
   "outputs": [
    {
     "data": {
      "text/plain": [
       "(45,)"
      ]
     },
     "execution_count": 38,
     "metadata": {},
     "output_type": "execute_result"
    }
   ],
   "source": [
    "cerealS.shape"
   ]
  },
  {
   "cell_type": "code",
   "execution_count": 48,
   "metadata": {
    "collapsed": false
   },
   "outputs": [
    {
     "data": {
      "image/png": "[encoded data removed]",
      "text/plain": [
       "<matplotlib.figure.Figure at 0x11d6ad4e0>"
      ]
     },
     "metadata": {},
     "output_type": "display_data"
    }
   ],
   "source": [
    "cerealS.plot.hist(bins=15);"
   ]
  },
  {
   "cell_type": "code",
   "execution_count": null,
   "metadata": {
    "collapsed": true
   },
   "outputs": [],
   "source": []
  }
 ],
 "metadata": {
  "kernelspec": {
   "display_name": "Python 3",
   "language": "python",
   "name": "python3"
  },
  "language_info": {
   "codemirror_mode": {
    "name": "ipython",
    "version": 3
   },
   "file_extension": ".py",
   "mimetype": "text/x-python",
   "name": "python",
   "nbconvert_exporter": "python",
   "pygments_lexer": "ipython3",
   "version": "3.5.2"
  }
 },
 "nbformat": 4,
 "nbformat_minor": 0
}
