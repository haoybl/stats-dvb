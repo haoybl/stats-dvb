{
 "cells": [
  {
   "cell_type": "markdown",
   "metadata": {},
   "source": [
    "# Chapter 4 - Exercises"
   ]
  },
  {
   "cell_type": "code",
   "execution_count": 141,
   "metadata": {
    "collapsed": true
   },
   "outputs": [],
   "source": [
    "# %load ../snippets/data-imports\n",
    "import numpy as np\n",
    "import pandas as pd\n",
    "from pandas import Series,DataFrame\n",
    "\n",
    "import matplotlib.pyplot as plt\n",
    "import seaborn as sns\n",
    "%matplotlib inline\n",
    "sns.set_style('whitegrid')"
   ]
  },
  {
   "cell_type": "code",
   "execution_count": 142,
   "metadata": {
    "collapsed": false
   },
   "outputs": [
    {
     "name": "stdout",
     "output_type": "stream",
     "text": [
      "AP_Statistics_Scores.txt                Mugs.txt\r\n",
      "Accidents.txt                           Music_Library.txt\r\n",
      "Activating_yeast.txt                    NYPD_and_Sex_Discrimination.txt\r\n",
      "Age_and_Party_2011.txt                  NY_Marathon_2011.txt\r\n",
      "Airport_screening.txt                   Neck_size.txt\r\n",
      "All_the_efficiency...txt                New_York_Bridges.txt\r\n",
      "Analgesics.txt                          Newspapers.txt\r\n",
      "Antidepressants.txt                     Normal_temperature.txt\r\n",
      "Arrivals_2011.txt                       Oakland_Passengers.txt\r\n",
      "Assets.txt                              Online_insurance.txt\r\n",
      "Athletes.txt                            Ozone.txt\r\n",
      "Auto_noise_filters.txt                  Paper_Planes.txt\r\n",
      "BK_menu_items.txt                       Perform_IQ-brain_size.txt\r\n",
      "Baseball.txt                            Pi.txt\r\n",
      "Baseball_2011.txt                       Pizza_Prices.txt\r\n",
      "Better_Light.txt                        Planets.txt\r\n",
      "Birth_Rates_2009.txt                    Popcorn.txt\r\n",
      "Birth_order.txt                         Population_growth.txt\r\n",
      "Blood_Pressure.txt                      Population_growth_2010.txt\r\n",
      "Body_fat.txt                            Pottery.txt\r\n",
      "Brain_Size.txt                          Predicting_final_exams.txt\r\n",
      "Braines.txt                             Pregnancies.txt\r\n",
      "Braking.txt                             Profits.txt\r\n",
      "Braking_test2.txt                       Property_Assessments.txt\r\n",
      "Breakfast_cereals.txt                   Pulse_rates.txt\r\n",
      "Bridges_of_Tompkins_County.txt          Push-ups_1.txt\r\n",
      "Burgers.txt                             Racial_Steering.txt\r\n",
      "Car_speeds.txt                          Rainmakers.txt\r\n",
      "Cars.txt                                Reading.txt\r\n",
      "Cars_and_trucks.txt                     Receivers_2010.txt\r\n",
      "Cereal.txt                              Roller_coasters.txt\r\n",
      "Cereals.txt                             Ruffles.txt\r\n",
      "Chips.txt                               Running_Heats.txt\r\n",
      "Chips_ahoy.txt                          Runtimes.txt\r\n",
      "Cholesterol.txt                         SAT_scores.txt\r\n",
      "Climate_change_and_CO2_2011.txt         SBS_TV_watching.TXT\r\n",
      "Cloud_seeding.txt                       Sales_and_Profits.txt\r\n",
      "Computer_lab_fees.txt                   Salmon.txt\r\n",
      "Contrast_baths.txt                      Saratoga_House_Prices.txt\r\n",
      "Cost_of_Living_2008.txt                 School_system.txt\r\n",
      "Costs.txt                               Scottish_Hill_races.txt\r\n",
      "Cramming.txt                            Second_inning.txt\r\n",
      "Cranberry_Juice.txt                     Second_inning_2010.txt\r\n",
      "Crawling.txt                            Sex_sells.txt\r\n",
      "Crocodile_lengths.txt                   Shoot_To_Score.txt\r\n",
      "Dairy_Sales.txt                         Singers.txt\r\n",
      "Depression_and_the_Internet.txt         Singers_by_parts.txt\r\n",
      "Diet.txt                                Ski_wax.txt\r\n",
      "Doritos.txt                             Slalom_Times_2010.txt\r\n",
      "Down_the_drain.txt                      Smoking_2009.txt\r\n",
      "Downloading.txt                         Smoking_and_Pregnancy_2006.txt\r\n",
      "Driving_distance_2011.txt               Stereograms.txt\r\n",
      "Drug_Use.txt                            Streams.txt\r\n",
      "Drug_abuse.txt                          Streams_and_Hard_water.txt\r\n",
      "E-mails.txt                             Strike_Two.txt\r\n",
      "Education_and_Mortality.txt             Strikes.txt\r\n",
      "Education_by_Age.txt                    Sugar_in_cereals.txt\r\n",
      "Education_vs_Income_2009.txt            Summer_school.txt\r\n",
      "Eggs.txt                                Swim_the_lake_2010.txt\r\n",
      "Egyptians.txt                           Swimming_heats.txt\r\n",
      "Eye_and_Hair_Color.txt                  TV_Watching.txt\r\n",
      "Fertilizers.txt                         Tablet_Battery_Life.txt\r\n",
      "Fifty_states.txt                        Tableware.txt\r\n",
      "Finger_Lakes_wines.txt                  Tattoos.txt\r\n",
      "Fish_Diet.txt                           Tellers.txt\r\n",
      "Football_weights.txt                    Temperatures.txt\r\n",
      "Framingham.txt                          Tendon_transfer.txt\r\n",
      "Freshman_15.txt                         Thrills_2011.txt\r\n",
      "Friday_the_13th_Part_1.txt              Titanic.txt\r\n",
      "Friday_the_13th_Part_2.txt              Titanic_Redux.txt\r\n",
      "Frisbee_throws.txt                      Tobacco_and_alcohol.txt\r\n",
      "Fruit_Flies.txt                         Tour_de_France_2011.txt\r\n",
      "Fuel_Economy.txt                        Tracking_hurricanes_2010.txt\r\n",
      "Fuel_economy_2010.txt                   Tuition_2011.txt\r\n",
      "Full_Moon.txt                           Twins.txt\r\n",
      "Gasoline.txt                            Twins_Again.txt\r\n",
      "Gestation.txt                           Vehicle_weights.txt\r\n",
      "Golf_Drives_2011.txt                    Vineyards.txt\r\n",
      "Grades.txt                              Wealth_Distribution.txt\r\n",
      "Graduation_rates.txt                    Weather_forecasts.txt\r\n",
      "HDI_phone.txt                           Weighing_Trucks.txt\r\n",
      "Hand_washing.txt                        Wheelchair_Marathon_2010.txt\r\n",
      "Hard_water.txt                          Wild_Horses.txt\r\n",
      "Hard_water_Derby.txt                    Wildfires_2010.txt\r\n",
      "Hearing.txt                             Williams_vs_Texas.txt\r\n",
      "Heart_attack_stays.txt                  Wind_Power.txt\r\n",
      "Heptathlon_2004.txt                     Wind_Speed.txt\r\n",
      "Horsepower.txt                          Winter.txt\r\n",
      "Hot_Dogs.txt                            Winter_Olympic_10_Downhill.txt\r\n",
      "How_old_is_that_tree.txt                Winter_Olympics_2010.txt\r\n",
      "Human_Development_Index_2010.txt        Wisconsin_ACT_math.txt\r\n",
      "Hurricane_frequencies.txt               Women's_1500_Speed_Skating.txt\r\n",
      "Hurricanes.txt                          Womens_basketball.txt\r\n",
      "Hurricanes_2010.txt                     Working_Parents.txt\r\n",
      "Income_and_Housing.txt                  Yogurt.txt\r\n",
      "Industrial_experiment.txt               attendance_2010.txt\r\n",
      "Infant_Mortality.txt                    bike_safety_2005.txt\r\n",
      "Intrest_Rates1950-2005.txt              boomtowns.txt\r\n",
      "Irises.txt                              candy.txt\r\n",
      "Job_satisfaction.txt                    cigarettes.txt\r\n",
      "Jumps_2008.txt                          contingency-table-data.csv\r\n",
      "Kentucky_Derby_2011.txt                 departures_2011.txt\r\n",
      "Legionnaires_disease.txt                derby_speeds_2011.txt\r\n",
      "Libertys_nose.txt                       drivers_license_2011.txt\r\n",
      "Life_expectancy_2010.txt                drunk_driving_2008.txt\r\n",
      "Lottery_Numbers.txt                     flights_2010.txt\r\n",
      "Lunchtime.txt                           golfdrive.txt\r\n",
      "MLB_2010.txt                            inflation_2011.txt\r\n",
      "MPG.txt                                 interest_and_mortgage.txt\r\n",
      "Mail.txt                                interest_and_mortgages.txt\r\n",
      "Manatees_2010.txt                       load_factors_2011.txt\r\n",
      "Marijuana_2007.txt                      math_scores_2009.txt\r\n",
      "Marriage_Age_2010.txt                   motorcycle.txt\r\n",
      "Maze.txt                                movie_lengths_2010.txt\r\n",
      "Mazes_and_Smells.txt                    movies.txt\r\n",
      "Memory(stacked).txt                     oil_spills_2010.txt\r\n",
      "Memory.txt                              old_faithful.txt\r\n",
      "Montana.txt                             prisons_2006.txt\r\n",
      "Montana_Revisited.txt                   text_datasets_all.zip\r\n",
      "More_twins_2009.txt                     twin_births.txt\r\n",
      "Movie_Earnings.txt                      used_cars.txt\r\n",
      "Movie_budgets.txt                       winter_olympics_2010_speed_skating.txt\r\n",
      "Movie_dramas.txt\r\n"
     ]
    }
   ],
   "source": [
    "%ls ../data/"
   ]
  },
  {
   "cell_type": "markdown",
   "metadata": {},
   "source": [
    "## 7"
   ]
  },
  {
   "cell_type": "code",
   "execution_count": 143,
   "metadata": {
    "collapsed": false
   },
   "outputs": [
    {
     "name": "stdout",
     "output_type": "stream",
     "text": [
      "Children's Cereal\tAdults' Cereals\r",
      "\r\n",
      "40.3\t20\r",
      "\r\n",
      "55\t30.2\r",
      "\r\n",
      "45.7\t2.2\r",
      "\r\n",
      "43.3\t7.5\r",
      "\r\n",
      "50.3\t22.2\r",
      "\r\n",
      "53.5\t16.6\r",
      "\r\n",
      "43\t14.5\r",
      "\r\n",
      "44.2\t21.4\r",
      "\r\n",
      "44\t3.3\r",
      "\r\n"
     ]
    }
   ],
   "source": [
    "!head ../data/Cereal.txt"
   ]
  },
  {
   "cell_type": "code",
   "execution_count": 144,
   "metadata": {
    "collapsed": false
   },
   "outputs": [
    {
     "data": {
      "text/html": [
       "<div>\n",
       "<table border=\"1\" class=\"dataframe\">\n",
       "  <thead>\n",
       "    <tr style=\"text-align: right;\">\n",
       "      <th></th>\n",
       "      <th>Children's Cereal</th>\n",
       "      <th>Adults' Cereals</th>\n",
       "    </tr>\n",
       "  </thead>\n",
       "  <tbody>\n",
       "    <tr>\n",
       "      <th>0</th>\n",
       "      <td>40.3</td>\n",
       "      <td>20.0</td>\n",
       "    </tr>\n",
       "    <tr>\n",
       "      <th>1</th>\n",
       "      <td>55.0</td>\n",
       "      <td>30.2</td>\n",
       "    </tr>\n",
       "    <tr>\n",
       "      <th>2</th>\n",
       "      <td>45.7</td>\n",
       "      <td>2.2</td>\n",
       "    </tr>\n",
       "    <tr>\n",
       "      <th>3</th>\n",
       "      <td>43.3</td>\n",
       "      <td>7.5</td>\n",
       "    </tr>\n",
       "    <tr>\n",
       "      <th>4</th>\n",
       "      <td>50.3</td>\n",
       "      <td>22.2</td>\n",
       "    </tr>\n",
       "  </tbody>\n",
       "</table>\n",
       "</div>"
      ],
      "text/plain": [
       "   Children's Cereal  Adults' Cereals\n",
       "0               40.3             20.0\n",
       "1               55.0             30.2\n",
       "2               45.7              2.2\n",
       "3               43.3              7.5\n",
       "4               50.3             22.2"
      ]
     },
     "execution_count": 144,
     "metadata": {},
     "output_type": "execute_result"
    }
   ],
   "source": [
    "cereal = pd.read_table('../data/Cereal.txt')\n",
    "cereal.head()"
   ]
  },
  {
   "cell_type": "code",
   "execution_count": 145,
   "metadata": {
    "collapsed": false
   },
   "outputs": [],
   "source": [
    "cerealS = cereal[\"Children's Cereal\"][pd.notnull(cereal[\"Children's Cereal\"])].append(\n",
    "cereal[\"Adults' Cereals\"][pd.notnull(cereal[\"Adults' Cereals\"])])"
   ]
  },
  {
   "cell_type": "code",
   "execution_count": 146,
   "metadata": {
    "collapsed": false
   },
   "outputs": [
    {
     "data": {
      "text/plain": [
       "(45,)"
      ]
     },
     "execution_count": 146,
     "metadata": {},
     "output_type": "execute_result"
    }
   ],
   "source": [
    "cerealS.shape"
   ]
  },
  {
   "cell_type": "code",
   "execution_count": 147,
   "metadata": {
    "collapsed": false
   },
   "outputs": [
    {
     "data": {
      "image/png": "[encoded data removed]",
      "text/plain": [
       "<matplotlib.figure.Figure at 0x11dd9a518>"
      ]
     },
     "metadata": {},
     "output_type": "display_data"
    }
   ],
   "source": [
    "cerealS.plot.hist(bins=15);"
   ]
  },
  {
   "cell_type": "markdown",
   "metadata": {
    "collapsed": true
   },
   "source": [
    "## 11"
   ]
  },
  {
   "cell_type": "code",
   "execution_count": 148,
   "metadata": {
    "collapsed": false
   },
   "outputs": [
    {
     "data": {
      "text/html": [
       "<div>\n",
       "<table border=\"1\" class=\"dataframe\">\n",
       "  <thead>\n",
       "    <tr style=\"text-align: right;\">\n",
       "      <th></th>\n",
       "      <th>Stay</th>\n",
       "    </tr>\n",
       "  </thead>\n",
       "  <tbody>\n",
       "    <tr>\n",
       "      <th>0</th>\n",
       "      <td>3</td>\n",
       "    </tr>\n",
       "    <tr>\n",
       "      <th>1</th>\n",
       "      <td>15</td>\n",
       "    </tr>\n",
       "    <tr>\n",
       "      <th>2</th>\n",
       "      <td>4</td>\n",
       "    </tr>\n",
       "    <tr>\n",
       "      <th>3</th>\n",
       "      <td>10</td>\n",
       "    </tr>\n",
       "    <tr>\n",
       "      <th>4</th>\n",
       "      <td>7</td>\n",
       "    </tr>\n",
       "  </tbody>\n",
       "</table>\n",
       "</div>"
      ],
      "text/plain": [
       "   Stay\n",
       "0     3\n",
       "1    15\n",
       "2     4\n",
       "3    10\n",
       "4     7"
      ]
     },
     "execution_count": 148,
     "metadata": {},
     "output_type": "execute_result"
    }
   ],
   "source": [
    "ha = pd.read_table('../data/Heart_attack_stays.txt')\n",
    "ha.head()"
   ]
  },
  {
   "cell_type": "code",
   "execution_count": 149,
   "metadata": {
    "collapsed": false
   },
   "outputs": [
    {
     "data": {
      "text/plain": [
       "(123, 1)"
      ]
     },
     "execution_count": 149,
     "metadata": {},
     "output_type": "execute_result"
    }
   ],
   "source": [
    "ha.shape"
   ]
  },
  {
   "cell_type": "code",
   "execution_count": 150,
   "metadata": {
    "collapsed": false
   },
   "outputs": [
    {
     "data": {
      "text/plain": [
       "<matplotlib.axes._subplots.AxesSubplot at 0x11e221d68>"
      ]
     },
     "execution_count": 150,
     "metadata": {},
     "output_type": "execute_result"
    },
    {
     "data": {
      "image/png": "[encoded data removed]",
      "text/plain": [
       "<matplotlib.figure.Figure at 0x11e265b38>"
      ]
     },
     "metadata": {},
     "output_type": "display_data"
    }
   ],
   "source": [
    "ha.Stay.hist(bins=32)"
   ]
  },
  {
   "cell_type": "markdown",
   "metadata": {},
   "source": [
    "* a) mean larger - outlier @ ~32, but also spike @ 1or 2\n",
    "* b) right skewed, secondary mode @ 1, 2; center is around 6 or 7 (maybe 1 week?)\n",
    "* c) median (7) & IQR [4, 10]; large spike @ 1; many outliers to right (esp. ~32)"
   ]
  },
  {
   "cell_type": "markdown",
   "metadata": {},
   "source": [
    "## 13"
   ]
  },
  {
   "cell_type": "code",
   "execution_count": 151,
   "metadata": {
    "collapsed": false
   },
   "outputs": [
    {
     "name": "stdout",
     "output_type": "stream",
     "text": [
      "a) median: 45.0\n",
      "b) quartiles: [ 37.   54.5]\n"
     ]
    },
    {
     "data": {
      "text/plain": [
       "count    43.000000\n",
       "mean     45.441860\n",
       "std      13.443537\n",
       "min      21.000000\n",
       "25%      37.000000\n",
       "50%      45.000000\n",
       "75%      54.500000\n",
       "max      75.000000\n",
       "dtype: float64"
      ]
     },
     "execution_count": 151,
     "metadata": {},
     "output_type": "execute_result"
    }
   ],
   "source": [
    "scores = Series(data=[45, 47, 23, 30, 29, 27, 21, 31, 22, 38, 46, 37, 66, 50, 37,\n",
    "                      47, 44, 47, 54, 56, 59, 52, 36, 65, 39, 61, 69, 43, 75, 44, \n",
    "                      56, 55, 53, 39, 41, 37, 69, 61, 45, 31, 46, 31, 50])\n",
    "print(\"a) median: %s\" % scores.median())\n",
    "print(\"b) quartiles: %s\" % scores.quantile([0.25, 0.75]).values)\n",
    "\n",
    "scores.describe()\n"
   ]
  },
  {
   "cell_type": "code",
   "execution_count": 152,
   "metadata": {
    "collapsed": false
   },
   "outputs": [
    {
     "data": {
      "image/png": "[encoded data removed]",
      "text/plain": [
       "<matplotlib.figure.Figure at 0x11e092518>"
      ]
     },
     "metadata": {},
     "output_type": "display_data"
    }
   ],
   "source": [
    "scores.hist();"
   ]
  },
  {
   "cell_type": "markdown",
   "metadata": {},
   "source": [
    "c) fairly uniform ranging from 20 to 75, with a large # around 45"
   ]
  },
  {
   "cell_type": "markdown",
   "metadata": {},
   "source": [
    "## 15"
   ]
  },
  {
   "cell_type": "code",
   "execution_count": 153,
   "metadata": {
    "collapsed": false
   },
   "outputs": [
    {
     "name": "stdout",
     "output_type": "stream",
     "text": [
      "mean: 1001.5\n",
      "median: 1025.0\n",
      "quartiles: [  862.5  1162.5]\n",
      "range: [565, 1400] 835\n",
      "IQR: [862.5, 1162.5] 300.0\n"
     ]
    }
   ],
   "source": [
    "prices = Series(data=[850, 900, 1400, 1200, 1050, 1000, 750, 1250, 1050, 565])\n",
    "print(\"mean: %s\" % prices.mean())\n",
    "print(\"median: %s\" % prices.median())\n",
    "print(\"quartiles: %s\" % prices.quantile([0.25, 0.75]).values)\n",
    "max = prices.max()\n",
    "min = prices.min()\n",
    "print(\"range: [%s, %s] %s\" % (min, max, max - min))\n",
    "q3 = prices.quantile(0.75)\n",
    "q1 = prices.quantile(0.25)\n",
    "print(\"IQR: [%s, %s] %s\" % (q1, q3, q3 - q1))"
   ]
  },
  {
   "cell_type": "code",
   "execution_count": 154,
   "metadata": {
    "collapsed": false
   },
   "outputs": [
    {
     "data": {
      "image/png": "[encoded data removed]",
      "text/plain": [
       "<matplotlib.figure.Figure at 0x11d760470>"
      ]
     },
     "metadata": {},
     "output_type": "display_data"
    }
   ],
   "source": [
    "prices.hist();"
   ]
  },
  {
   "cell_type": "markdown",
   "metadata": {},
   "source": [
    "## 17\n",
    "\n",
    "* a) it would increase mean, but not affect median (assuming boss's salary is on the high end of salary's at company)\n",
    "* b) range would increase, IQR would remain the same, std deviation would increase"
   ]
  },
  {
   "cell_type": "markdown",
   "metadata": {},
   "source": [
    "## 19"
   ]
  },
  {
   "cell_type": "markdown",
   "metadata": {},
   "source": [
    "* a) set2\n",
    "* b) set2\n",
    "* c) same"
   ]
  },
  {
   "cell_type": "code",
   "execution_count": 155,
   "metadata": {
    "collapsed": false
   },
   "outputs": [
    {
     "name": "stdout",
     "output_type": "stream",
     "text": [
      "2.23606797749979\n",
      "3.1622776601683795\n"
     ]
    }
   ],
   "source": [
    "print(Series([3, 5, 6, 7, 9]).std())\n",
    "print(Series([2, 4, 6, 8, 10]).std())"
   ]
  },
  {
   "cell_type": "code",
   "execution_count": 156,
   "metadata": {
    "collapsed": false
   },
   "outputs": [
    {
     "name": "stdout",
     "output_type": "stream",
     "text": [
      "3.605551275463989\n",
      "4.527692569068709\n"
     ]
    }
   ],
   "source": [
    "print(Series([10, 14, 15, 16, 20]).std())\n",
    "print(Series([10, 11, 15, 19, 20]).std())"
   ]
  },
  {
   "cell_type": "code",
   "execution_count": 157,
   "metadata": {
    "collapsed": false
   },
   "outputs": [
    {
     "name": "stdout",
     "output_type": "stream",
     "text": [
      "4.242640687119285\n",
      "4.242640687119285\n"
     ]
    }
   ],
   "source": [
    "print(Series([2, 6, 6, 9, 11, 14]).std())\n",
    "print(Series([82, 86, 86, 89, 91, 94]).std())"
   ]
  },
  {
   "cell_type": "markdown",
   "metadata": {},
   "source": [
    "## 21\n",
    "\n",
    "* mean & stddev\n",
    "* symmetric, unimodal, no outliers"
   ]
  },
  {
   "cell_type": "markdown",
   "metadata": {},
   "source": [
    "## 23\n",
    "\n",
    "* a) \\$2.60 - \"balance point\" of mass\n",
    "* b) \\$0.15 - almost all is captured within +/- \\$0.30 from the mean"
   ]
  },
  {
   "cell_type": "markdown",
   "metadata": {},
   "source": [
    "## 25\n",
    "\n",
    "* a) a little more than 100 minutes\n",
    "* b) not outside of possibility, but not expected\n",
    "* c) mean - there are some outlier movies on the high end"
   ]
  },
  {
   "cell_type": "markdown",
   "metadata": {},
   "source": [
    "## 27\n",
    "\n",
    "* a) 1) - 25% of movies have run times less than 97 minutes.  50% have run times between 97 and 119 minutes.  And the remaining 25% have runtimes greater than 97 minutes.\n",
    "* a) 2) - The average distance from the mean running time across all movies is 19.6 minutes.\n",
    "* b) IQR doesn't capture outliers, mean is influenced by outlier.  Might be good to present both with a mention of that fact."
   ]
  },
  {
   "cell_type": "markdown",
   "metadata": {},
   "source": [
    "## 29\n",
    "\n",
    "* \\$35 million - median\n",
    "* \\$46.8 million - mean"
   ]
  },
  {
   "cell_type": "markdown",
   "metadata": {},
   "source": [
    "## 31\n",
    "\n",
    "* a) mean: 525, median: 450\n",
    "* b) 2\n",
    "* c) median\n",
    "* d) IQR & range"
   ]
  },
  {
   "cell_type": "code",
   "execution_count": 158,
   "metadata": {
    "collapsed": false
   },
   "outputs": [
    {
     "name": "stdout",
     "output_type": "stream",
     "text": [
      "mean: 525.0\n",
      "median: 450.0\n",
      "quartiles: [ 400.  500.]\n",
      "range: 800\n",
      "std: 230.11854652449344\n"
     ]
    }
   ],
   "source": [
    "data = [1200, 700] + [400] * 6 + [500] * 4\n",
    "payroll = Series(data)\n",
    "print(\"mean: %s\" % payroll.mean())\n",
    "print(\"median: %s\" % payroll.median())\n",
    "print(\"quartiles: %s\" % payroll.quantile([0.25, 0.75]).values)\n",
    "print(\"range: %s\" % (payroll.max() - payroll.min()))\n",
    "print(\"std: %s\" % payroll.std())"
   ]
  },
  {
   "cell_type": "markdown",
   "metadata": {},
   "source": [
    "## 33"
   ]
  },
  {
   "cell_type": "code",
   "execution_count": 159,
   "metadata": {
    "collapsed": false
   },
   "outputs": [
    {
     "data": {
      "text/plain": [
       "[2.21,\n",
       " 2.22,\n",
       " 2.23,\n",
       " 2.24,\n",
       " 2.26,\n",
       " 2.27,\n",
       " 2.27,\n",
       " 2.27,\n",
       " 2.28,\n",
       " 2.29,\n",
       " 2.32,\n",
       " 2.33,\n",
       " 2.36,\n",
       " 2.38,\n",
       " 2.45,\n",
       " 2.46]"
      ]
     },
     "execution_count": 159,
     "metadata": {},
     "output_type": "execute_result"
    }
   ],
   "source": [
    "values = [2.22, 2.21, 2.45, 2.24,\n",
    "         2.27, 2.28, 2.27, 2.23,\n",
    "         2.26, 2.46, 2.29, 2.32,\n",
    "         2.36, 2.38, 2.33, 2.27]\n",
    "sorted(values)"
   ]
  },
  {
   "cell_type": "markdown",
   "metadata": {},
   "source": [
    "```\n",
    "2.4|5 6\n",
    "2.4|\n",
    "2.3|6 8\n",
    "2.3|2 3\n",
    "2.2|6 7 7 8 9\n",
    "2.2|1 2 3 4\n",
    "```"
   ]
  },
  {
   "cell_type": "markdown",
   "metadata": {},
   "source": [
    "## 35\n",
    "\n",
    "* a) median & IQR\n",
    "* b) mean - most are grouped less than 10, but large outliers @ 34\n",
    "* c) median: 3.5, IQR:  [1, 7] = 6"
   ]
  },
  {
   "cell_type": "markdown",
   "metadata": {},
   "source": [
    "## 37\n",
    "\n",
    "* fairly symmetric, w/ median around 36\n",
    "* low end outliers (0 & 5)"
   ]
  },
  {
   "cell_type": "markdown",
   "metadata": {},
   "source": [
    "## 39"
   ]
  },
  {
   "cell_type": "code",
   "execution_count": 160,
   "metadata": {
    "collapsed": false
   },
   "outputs": [
    {
     "data": {
      "text/html": [
       "<div>\n",
       "<table border=\"1\" class=\"dataframe\">\n",
       "  <thead>\n",
       "    <tr style=\"text-align: right;\">\n",
       "      <th></th>\n",
       "      <th>value</th>\n",
       "    </tr>\n",
       "  </thead>\n",
       "  <tbody>\n",
       "    <tr>\n",
       "      <th>0</th>\n",
       "      <td>3</td>\n",
       "    </tr>\n",
       "    <tr>\n",
       "      <th>1</th>\n",
       "      <td>3</td>\n",
       "    </tr>\n",
       "    <tr>\n",
       "      <th>2</th>\n",
       "      <td>1</td>\n",
       "    </tr>\n",
       "    <tr>\n",
       "      <th>3</th>\n",
       "      <td>2</td>\n",
       "    </tr>\n",
       "    <tr>\n",
       "      <th>4</th>\n",
       "      <td>4</td>\n",
       "    </tr>\n",
       "  </tbody>\n",
       "</table>\n",
       "</div>"
      ],
      "text/plain": [
       "   value\n",
       "0      3\n",
       "1      3\n",
       "2      1\n",
       "3      2\n",
       "4      4"
      ]
     },
     "execution_count": 160,
     "metadata": {},
     "output_type": "execute_result"
    }
   ],
   "source": [
    "hurricanes = pd.read_table('../data/Hurricanes_2010.txt', names=['value'], skiprows=1)\n",
    "hurricanes.head()"
   ]
  },
  {
   "cell_type": "code",
   "execution_count": 162,
   "metadata": {
    "collapsed": false
   },
   "outputs": [
    {
     "data": {
      "image/png": "[encoded data removed]",
      "text/plain": [
       "<matplotlib.figure.Figure at 0x11df07b70>"
      ]
     },
     "metadata": {},
     "output_type": "display_data"
    }
   ],
   "source": [
    "hurricanes.value.hist(bins=8);"
   ]
  },
  {
   "cell_type": "markdown",
   "metadata": {},
   "source": [
    "* unimodal\n",
    "* skewed to right with a small number of larger counts"
   ]
  },
  {
   "cell_type": "markdown",
   "metadata": {},
   "source": [
    "## 41"
   ]
  },
  {
   "cell_type": "code",
   "execution_count": 163,
   "metadata": {
    "collapsed": false
   },
   "outputs": [
    {
     "data": {
      "text/plain": [
       "0      0\n",
       "1      5\n",
       "2     20\n",
       "3     23\n",
       "4     30\n",
       "5     35\n",
       "6     35\n",
       "7     36\n",
       "8     36\n",
       "9     41\n",
       "10    42\n",
       "11    42\n",
       "12    47\n",
       "13    48\n",
       "14    52\n",
       "15    54\n",
       "16    57\n",
       "dtype: int64"
      ]
     },
     "execution_count": 163,
     "metadata": {},
     "output_type": "execute_result"
    }
   ],
   "source": [
    "data = [0, 5, 20, 23, 30, 35, 35, 36, 36, 41, 42, 42, 47, 48, 52, 54, 57]\n",
    "hr = Series(data)\n",
    "hr"
   ]
  },
  {
   "cell_type": "code",
   "execution_count": 168,
   "metadata": {
    "collapsed": false
   },
   "outputs": [
    {
     "data": {
      "text/plain": [
       "<matplotlib.axes._subplots.AxesSubplot at 0x11e73bbe0>"
      ]
     },
     "execution_count": 168,
     "metadata": {},
     "output_type": "execute_result"
    },
    {
     "data": {
      "image/png": "[encoded data removed]",
      "text/plain": [
       "<matplotlib.figure.Figure at 0x11e089400>"
      ]
     },
     "metadata": {},
     "output_type": "display_data"
    }
   ],
   "source": [
    "hr.hist(bins=7)"
   ]
  },
  {
   "cell_type": "markdown",
   "metadata": {},
   "source": [
    "## 49"
   ]
  },
  {
   "cell_type": "code",
   "execution_count": 169,
   "metadata": {
    "collapsed": false
   },
   "outputs": [
    {
     "data": {
      "text/html": [
       "<div>\n",
       "<table border=\"1\" class=\"dataframe\">\n",
       "  <thead>\n",
       "    <tr style=\"text-align: right;\">\n",
       "      <th></th>\n",
       "      <th>State</th>\n",
       "      <th>Score</th>\n",
       "    </tr>\n",
       "  </thead>\n",
       "  <tbody>\n",
       "    <tr>\n",
       "      <th>0</th>\n",
       "      <td>Alabama</td>\n",
       "      <td>269</td>\n",
       "    </tr>\n",
       "    <tr>\n",
       "      <th>1</th>\n",
       "      <td>Alaska</td>\n",
       "      <td>283</td>\n",
       "    </tr>\n",
       "    <tr>\n",
       "      <th>2</th>\n",
       "      <td>Arizona</td>\n",
       "      <td>230</td>\n",
       "    </tr>\n",
       "    <tr>\n",
       "      <th>3</th>\n",
       "      <td>Arkansas</td>\n",
       "      <td>276</td>\n",
       "    </tr>\n",
       "    <tr>\n",
       "      <th>4</th>\n",
       "      <td>California</td>\n",
       "      <td>270</td>\n",
       "    </tr>\n",
       "  </tbody>\n",
       "</table>\n",
       "</div>"
      ],
      "text/plain": [
       "        State  Score\n",
       "0     Alabama    269\n",
       "1      Alaska    283\n",
       "2     Arizona    230\n",
       "3    Arkansas    276\n",
       "4  California    270"
      ]
     },
     "execution_count": 169,
     "metadata": {},
     "output_type": "execute_result"
    }
   ],
   "source": [
    "data = pd.read_table('../data/math_scores_2009.txt')\n",
    "data.head()"
   ]
  },
  {
   "cell_type": "code",
   "execution_count": 173,
   "metadata": {
    "collapsed": false
   },
   "outputs": [
    {
     "data": {
      "text/plain": [
       "count     50.000000\n",
       "mean     282.040000\n",
       "std       10.648292\n",
       "min      230.000000\n",
       "25%      278.000000\n",
       "50%      284.000000\n",
       "75%      288.000000\n",
       "max      299.000000\n",
       "Name: Score, dtype: float64"
      ]
     },
     "execution_count": 173,
     "metadata": {},
     "output_type": "execute_result"
    }
   ],
   "source": [
    "data.Score.describe()"
   ]
  },
  {
   "cell_type": "code",
   "execution_count": 185,
   "metadata": {
    "collapsed": false
   },
   "outputs": [
    {
     "data": {
      "image/png": "[encoded data removed]",
      "text/plain": [
       "<matplotlib.figure.Figure at 0x11f01be80>"
      ]
     },
     "metadata": {},
     "output_type": "display_data"
    }
   ],
   "source": [
    "data.Score.hist();"
   ]
  },
  {
   "cell_type": "markdown",
   "metadata": {},
   "source": [
    "* left skewed - 1 outlier\n",
    "* asymmetric\n",
    "* use median: 284 and IQR: 10 (288-278)"
   ]
  },
  {
   "cell_type": "markdown",
   "metadata": {},
   "source": [
    "## 51\n",
    "\n",
    "* missing data for this..."
   ]
  }
 ],
 "metadata": {
  "kernelspec": {
   "display_name": "Python 3",
   "language": "python",
   "name": "python3"
  },
  "language_info": {
   "codemirror_mode": {
    "name": "ipython",
    "version": 3
   },
   "file_extension": ".py",
   "mimetype": "text/x-python",
   "name": "python",
   "nbconvert_exporter": "python",
   "pygments_lexer": "ipython3",
   "version": "3.5.2"
  }
 },
 "nbformat": 4,
 "nbformat_minor": 0
}
