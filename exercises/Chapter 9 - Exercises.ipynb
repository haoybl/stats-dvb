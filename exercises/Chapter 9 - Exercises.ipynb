{
 "cells": [
  {
   "cell_type": "markdown",
   "metadata": {},
   "source": [
    "# Chapter 9 - Exercises"
   ]
  },
  {
   "cell_type": "code",
   "execution_count": 2,
   "metadata": {
    "collapsed": true
   },
   "outputs": [],
   "source": [
    "# %load ../snippets/data-imports\n",
    "import numpy as np\n",
    "import pandas as pd\n",
    "from pandas import Series,DataFrame\n",
    "\n",
    "from scipy import stats\n",
    "\n",
    "import matplotlib.pyplot as plt\n",
    "import seaborn as sns\n",
    "%matplotlib inline\n",
    "sns.set_style('whitegrid')\n"
   ]
  },
  {
   "cell_type": "markdown",
   "metadata": {},
   "source": [
    "## 1\n",
    "\n",
    "### Answers\n",
    "\n",
    "* a) yes - fairly shallow initial drop, followed by a steeper, quick drop and then a rapid increase; appears fairly linear during some of these periods, but non-linear in the intermediate transitions\n",
    "* b) yes\n",
    "* c) na - the data is non-linear, so correlation isn't appropriate \n",
    "* d) not without some type of transformation; non-linear & curved"
   ]
  },
  {
   "cell_type": "markdown",
   "metadata": {},
   "source": [
    "## 3\n",
    "\n",
    "### Answers\n",
    "\n",
    "* a) the association is curved; requires some transform first to make the association linear\n",
    "* b) curved\n",
    "* c) unlikely - doesn't deal with the curvature, but also, although the point has leverage, it doesn't look like it would be influential -- it's inline with the general curved trend of the majority of other points."
   ]
  },
  {
   "cell_type": "markdown",
   "metadata": {},
   "source": [
    "## 5\n",
    "\n",
    "### Answers\n",
    "\n",
    "* a) No - $R^2$ provides an indication of how much variability in the response is explained by the predictor.  It doesn't tells us anything as to how _appropriate_ the model is: e.g. with respect to the assumptions of linearity, the effect of outliers and influential points, assumptions about the variance of the residuals, etc.\n",
    "* b) Possibly - we don't have enough information in the description to know.  We'd have to verify that other assumptions hold to better answer."
   ]
  },
  {
   "cell_type": "markdown",
   "metadata": {},
   "source": [
    "## 7 \n",
    "\n",
    "### Answers\n",
    "\n",
    "* a) \\$M per minutes run-time\n",
    "* b) They both show a positive association between run time (min) and budget (\\$M).  The slope of their regression lines are fairly similar.\n",
    "* c) Their base Budget (i.e. intercept) is lower than that of other movies.  Their slope is also _slightly_ less steep than that of other movies -- but the difference appears small."
   ]
  },
  {
   "cell_type": "markdown",
   "metadata": {},
   "source": [
    "## 9\n",
    "\n",
    "### Answers\n",
    "\n",
    "* a) for each year after 1990, the # of passengers increases by 59,704\n",
    "* b) 71.1% of the variance in # of passengers is explained by the years since 1990\n",
    "* c) std deviation of the residuals is 104,330 passengers\n",
    "* d) no - extrapolates beyond the range of the original data; unclear what the pattern is at that point\n",
    "* e) 9/11"
   ]
  },
  {
   "cell_type": "markdown",
   "metadata": {},
   "source": [
    "## 11\n",
    "\n",
    "### Answers\n",
    "\n",
    "* a) high leverage, low residual, non-influential, weaker correlation, no slope change\n",
    "* b) high leverage, low residual, influential, weaker correlation, slope might change to positive\n",
    "* c) low leverage, high residual, influential, stronger correlation, slope might increase\n",
    "* d) low leverage, high residual, non-influential, stronger correlation, limited slope change"
   ]
  },
  {
   "cell_type": "markdown",
   "metadata": {},
   "source": [
    "## 13\n",
    "\n",
    "### Answers\n",
    "\n",
    "* a) 0.75 (5)\n",
    "* b) 0.05 (4)\n",
    "* c) 0.00 (3)\n",
    "* d) -0.40 (2)\n",
    "* e) -0.90 (1)"
   ]
  },
  {
   "cell_type": "markdown",
   "metadata": {},
   "source": [
    "## 15\n",
    "\n",
    "### Answers\n",
    "\n",
    "* increased blood pressure causes increased body fat\n",
    "* increased body fat causes increased blood pressure\n",
    "* some lurking variable causes increases in both blood pressure and body fat"
   ]
  },
  {
   "cell_type": "markdown",
   "metadata": {},
   "source": [
    "## 17\n",
    "\n",
    "### Answers\n",
    "\n",
    "* a) yes - as a group, they appear to be making satisfactory progress on reading.  mean reading scores at each grade level are at or above the expected level for that grade.\n",
    "* b) ~ 0.9x\n",
    "* c) lower correlation -- there would be more variability at the individual level\n",
    "* d) A slope of 1 would indicate grade specific progress (for each year grade increase, reading level increases by 1 year)"
   ]
  },
  {
   "cell_type": "markdown",
   "metadata": {},
   "source": [
    "## 19\n",
    "\n",
    "### Answers\n",
    "\n",
    "* a) for each 1 deg increase in temp, cost drops by \\$2.13\n",
    "* b) at a temp of 0 deg, base cost is \\$133\n",
    "* c) mostly accurate, maybe a little high -- that trend of that area of residuals plot appears clustered right around 0, with some values negative\n",
    "* d) \\$111.7\n",
    "* e) ~\\$106\n",
    "* f) probably not - the relationship looks like it has curvature (in residuals plot); need to factor that in and possibly remodel\n",
    "* g) no - rescaling the data wouldn't change the general shape"
   ]
  },
  {
   "cell_type": "code",
   "execution_count": 5,
   "metadata": {
    "collapsed": false
   },
   "outputs": [
    {
     "data": {
      "text/plain": [
       "111.7"
      ]
     },
     "execution_count": 5,
     "metadata": {},
     "output_type": "execute_result"
    }
   ],
   "source": [
    "133 - 21.3"
   ]
  },
  {
   "cell_type": "markdown",
   "metadata": {},
   "source": [
    "## 21\n",
    "\n",
    "### Answers\n",
    "\n",
    "* a) $r$ = 0.8798\n",
    "* b) rate increases by 0.25% each year after 1950, starting from an interest rate of 0.64% in 1950.\n",
    "* c) 13.02%\n",
    "* d) no - it extrapolates 20 years past the range of original predictor values"
   ]
  },
  {
   "cell_type": "code",
   "execution_count": 6,
   "metadata": {
    "collapsed": false
   },
   "outputs": [
    {
     "data": {
      "text/plain": [
       "0.8797726979169108"
      ]
     },
     "execution_count": 6,
     "metadata": {},
     "output_type": "execute_result"
    }
   ],
   "source": [
    "from math import sqrt\n",
    "sqrt(0.774)"
   ]
  },
  {
   "cell_type": "code",
   "execution_count": 7,
   "metadata": {
    "collapsed": false
   },
   "outputs": [
    {
     "data": {
      "text/plain": [
       "13.022132"
      ]
     },
     "execution_count": 7,
     "metadata": {},
     "output_type": "execute_result"
    }
   ],
   "source": [
    "0.640282 + 0.247637 * 50"
   ]
  },
  {
   "cell_type": "markdown",
   "metadata": {},
   "source": [
    "## 23\n",
    "\n",
    "### Answers\n",
    "\n",
    "* a) doesn't look appropriate, given the non-linear relationship; \n",
    "    - lower $r^2$ \n",
    "    - higher $s_e$\n",
    "    - slope has reversed sign\n",
    "    - intercept looks completely wrong\n",
    "* b) 3.24% - much lower\n",
    "* c) it looks more accurate, given actual values -- but it's not clear how trustworthy _any_ predictions are from this new model\n",
    "* d) can't tell - extrapolates too much"
   ]
  },
  {
   "cell_type": "code",
   "execution_count": 8,
   "metadata": {
    "collapsed": false
   },
   "outputs": [
    {
     "data": {
      "text/plain": [
       "3.2398999999999987"
      ]
     },
     "execution_count": 8,
     "metadata": {},
     "output_type": "execute_result"
    }
   ],
   "source": [
    "21.0688 - 0.356578 * 50"
   ]
  },
  {
   "cell_type": "markdown",
   "metadata": {},
   "source": [
    "## 25\n",
    "\n",
    "### Answers\n",
    "\n",
    "* "
   ]
  },
  {
   "cell_type": "markdown",
   "metadata": {},
   "source": [
    "## 27\n",
    "\n",
    "### Answers\n",
    "\n",
    "* "
   ]
  },
  {
   "cell_type": "markdown",
   "metadata": {},
   "source": [
    "## 29\n",
    "\n",
    "### Answers\n",
    "\n",
    "* "
   ]
  },
  {
   "cell_type": "markdown",
   "metadata": {},
   "source": [
    "## 31\n",
    "\n",
    "### Answers\n",
    "\n",
    "* "
   ]
  },
  {
   "cell_type": "markdown",
   "metadata": {},
   "source": [
    "## 33\n",
    "\n",
    "### Answers\n",
    "\n",
    "* "
   ]
  }
 ],
 "metadata": {
  "kernelspec": {
   "display_name": "Python 3",
   "language": "python",
   "name": "python3"
  },
  "language_info": {
   "codemirror_mode": {
    "name": "ipython",
    "version": 3
   },
   "file_extension": ".py",
   "mimetype": "text/x-python",
   "name": "python",
   "nbconvert_exporter": "python",
   "pygments_lexer": "ipython3",
   "version": "3.5.2"
  }
 },
 "nbformat": 4,
 "nbformat_minor": 0
}
