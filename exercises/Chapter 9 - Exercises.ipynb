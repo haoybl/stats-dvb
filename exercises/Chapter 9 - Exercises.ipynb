{
 "cells": [
  {
   "cell_type": "markdown",
   "metadata": {},
   "source": [
    "# Chapter 9 - Exercises"
   ]
  },
  {
   "cell_type": "code",
   "execution_count": 18,
   "metadata": {
    "collapsed": true
   },
   "outputs": [],
   "source": [
    "# %load ../snippets/data-imports\n",
    "import numpy as np\n",
    "import pandas as pd\n",
    "from pandas import Series,DataFrame\n",
    "\n",
    "from scipy import stats\n",
    "\n",
    "import matplotlib.pyplot as plt\n",
    "import seaborn as sns\n",
    "import math\n",
    "%matplotlib inline\n",
    "sns.set_style('whitegrid')"
   ]
  },
  {
   "cell_type": "markdown",
   "metadata": {},
   "source": [
    "## 1\n",
    "\n",
    "### Answers\n",
    "\n",
    "* a) yes - fairly shallow initial drop, followed by a steeper, quick drop and then a rapid increase; appears fairly linear during some of these periods, but non-linear in the intermediate transitions\n",
    "* b) yes\n",
    "* c) na - the data is non-linear, so correlation isn't appropriate \n",
    "* d) not without some type of transformation; non-linear & curved"
   ]
  },
  {
   "cell_type": "markdown",
   "metadata": {},
   "source": [
    "## 3\n",
    "\n",
    "### Answers\n",
    "\n",
    "* a) the association is curved; requires some transform first to make the association linear\n",
    "* b) curved\n",
    "* c) unlikely - doesn't deal with the curvature, but also, although the point has leverage, it doesn't look like it would be influential -- it's inline with the general curved trend of the majority of other points."
   ]
  },
  {
   "cell_type": "markdown",
   "metadata": {},
   "source": [
    "## 5\n",
    "\n",
    "### Answers\n",
    "\n",
    "* a) No - $R^2$ provides an indication of how much variability in the response is explained by the predictor.  It doesn't tells us anything as to how _appropriate_ the model is: e.g. with respect to the assumptions of linearity, the effect of outliers and influential points, assumptions about the variance of the residuals, etc.\n",
    "* b) Possibly - we don't have enough information in the description to know.  We'd have to verify that other assumptions hold to better answer."
   ]
  },
  {
   "cell_type": "markdown",
   "metadata": {},
   "source": [
    "## 7 \n",
    "\n",
    "### Answers\n",
    "\n",
    "* a) \\$M per minutes run-time\n",
    "* b) They both show a positive association between run time (min) and budget (\\$M).  The slope of their regression lines are fairly similar.\n",
    "* c) Their base Budget (i.e. intercept) is lower than that of other movies.  Their slope is also _slightly_ less steep than that of other movies -- but the difference appears small."
   ]
  },
  {
   "cell_type": "markdown",
   "metadata": {},
   "source": [
    "## 9\n",
    "\n",
    "### Answers\n",
    "\n",
    "* a) for each year after 1990, the # of passengers increases by 59,704\n",
    "* b) 71.1% of the variance in # of passengers is explained by the years since 1990\n",
    "* c) std deviation of the residuals is 104,330 passengers\n",
    "* d) no - extrapolates beyond the range of the original data; unclear what the pattern is at that point\n",
    "* e) 9/11"
   ]
  },
  {
   "cell_type": "markdown",
   "metadata": {},
   "source": [
    "## 11\n",
    "\n",
    "### Answers\n",
    "\n",
    "* a) high leverage, low residual, non-influential, weaker correlation, no slope change\n",
    "* b) high leverage, low residual, influential, weaker correlation, slope might change to positive\n",
    "* c) low leverage, high residual, influential, stronger correlation, slope might increase\n",
    "* d) low leverage, high residual, non-influential, stronger correlation, limited slope change"
   ]
  },
  {
   "cell_type": "markdown",
   "metadata": {},
   "source": [
    "## 13\n",
    "\n",
    "### Answers\n",
    "\n",
    "* a) 0.75 (5)\n",
    "* b) 0.05 (4)\n",
    "* c) 0.00 (3)\n",
    "* d) -0.40 (2)\n",
    "* e) -0.90 (1)"
   ]
  },
  {
   "cell_type": "markdown",
   "metadata": {},
   "source": [
    "## 15\n",
    "\n",
    "### Answers\n",
    "\n",
    "* increased blood pressure causes increased body fat\n",
    "* increased body fat causes increased blood pressure\n",
    "* some lurking variable causes increases in both blood pressure and body fat"
   ]
  },
  {
   "cell_type": "markdown",
   "metadata": {},
   "source": [
    "## 17\n",
    "\n",
    "### Answers\n",
    "\n",
    "* a) yes - as a group, they appear to be making satisfactory progress on reading.  mean reading scores at each grade level are at or above the expected level for that grade.\n",
    "* b) ~ 0.9x\n",
    "* c) lower correlation -- there would be more variability at the individual level\n",
    "* d) A slope of 1 would indicate grade specific progress (for each year grade increase, reading level increases by 1 year)"
   ]
  },
  {
   "cell_type": "markdown",
   "metadata": {},
   "source": [
    "## 19\n",
    "\n",
    "### Answers\n",
    "\n",
    "* a) for each 1 deg increase in temp, cost drops by \\$2.13\n",
    "* b) at a temp of 0 deg, base cost is \\$133\n",
    "* c) mostly accurate, maybe a little high -- that trend of that area of residuals plot appears clustered right around 0, with some values negative\n",
    "* d) \\$111.7\n",
    "* e) ~\\$106\n",
    "* f) probably not - the relationship looks like it has curvature (in residuals plot); need to factor that in and possibly remodel\n",
    "* g) no - rescaling the data wouldn't change the general shape"
   ]
  },
  {
   "cell_type": "code",
   "execution_count": 5,
   "metadata": {
    "collapsed": false
   },
   "outputs": [
    {
     "data": {
      "text/plain": [
       "111.7"
      ]
     },
     "execution_count": 5,
     "metadata": {},
     "output_type": "execute_result"
    }
   ],
   "source": [
    "133 - 21.3"
   ]
  },
  {
   "cell_type": "markdown",
   "metadata": {},
   "source": [
    "## 21\n",
    "\n",
    "### Answers\n",
    "\n",
    "* a) $r$ = 0.8798\n",
    "* b) rate increases by 0.25% each year after 1950, starting from an interest rate of 0.64% in 1950.\n",
    "* c) 13.02%\n",
    "* d) no - it extrapolates 20 years past the range of original predictor values"
   ]
  },
  {
   "cell_type": "code",
   "execution_count": 6,
   "metadata": {
    "collapsed": false
   },
   "outputs": [
    {
     "data": {
      "text/plain": [
       "0.8797726979169108"
      ]
     },
     "execution_count": 6,
     "metadata": {},
     "output_type": "execute_result"
    }
   ],
   "source": [
    "from math import sqrt\n",
    "sqrt(0.774)"
   ]
  },
  {
   "cell_type": "code",
   "execution_count": 7,
   "metadata": {
    "collapsed": false
   },
   "outputs": [
    {
     "data": {
      "text/plain": [
       "13.022132"
      ]
     },
     "execution_count": 7,
     "metadata": {},
     "output_type": "execute_result"
    }
   ],
   "source": [
    "0.640282 + 0.247637 * 50"
   ]
  },
  {
   "cell_type": "markdown",
   "metadata": {},
   "source": [
    "## 23\n",
    "\n",
    "### Answers\n",
    "\n",
    "* a) doesn't look appropriate, given the non-linear relationship; \n",
    "    - lower $r^2$ \n",
    "    - higher $s_e$\n",
    "    - slope has reversed sign\n",
    "    - intercept looks completely wrong\n",
    "* b) 3.24% - much lower\n",
    "* c) it looks more accurate, given actual values -- but it's not clear how trustworthy _any_ predictions are from this new model\n",
    "* d) can't tell - extrapolates too much"
   ]
  },
  {
   "cell_type": "code",
   "execution_count": 8,
   "metadata": {
    "collapsed": false
   },
   "outputs": [
    {
     "data": {
      "text/plain": [
       "3.2398999999999987"
      ]
     },
     "execution_count": 8,
     "metadata": {},
     "output_type": "execute_result"
    }
   ],
   "source": [
    "21.0688 - 0.356578 * 50"
   ]
  },
  {
   "cell_type": "markdown",
   "metadata": {},
   "source": [
    "## 25\n",
    "\n",
    "### Answers\n",
    "\n",
    "* a) $r$ = 0.54; stronger or weaker if outlier removed? stronger -- it has leverage, and is out of alignment with rest of points\n",
    "* b) reasonable justification for removing humans? It's far enough from from the other points that it reduces the strength of the model, and can easily be a \"qualification\" on the model -- applies to animals _other_ than humans.\n",
    "* c) comment on strength of assoc. in plot #2 (no humans):  much stronger: r = ~0.850\n",
    "* d) interpret the slope of the line: for each year increase in life expectancy, gestation period increases by 15.4980 days\n",
    "* e) est. gestation period for monkey with life expect. of 20 years: 270.44 days"
   ]
  },
  {
   "cell_type": "code",
   "execution_count": 6,
   "metadata": {
    "collapsed": false
   },
   "outputs": [
    {
     "data": {
      "text/html": [
       "<div>\n",
       "<table border=\"1\" class=\"dataframe\">\n",
       "  <thead>\n",
       "    <tr style=\"text-align: right;\">\n",
       "      <th></th>\n",
       "      <th>animal</th>\n",
       "      <th>gestation</th>\n",
       "      <th>lifeexpect</th>\n",
       "    </tr>\n",
       "  </thead>\n",
       "  <tbody>\n",
       "    <tr>\n",
       "      <th>0</th>\n",
       "      <td>Ass</td>\n",
       "      <td>365</td>\n",
       "      <td>19.0</td>\n",
       "    </tr>\n",
       "    <tr>\n",
       "      <th>1</th>\n",
       "      <td>Cat</td>\n",
       "      <td>63</td>\n",
       "      <td>11.0</td>\n",
       "    </tr>\n",
       "    <tr>\n",
       "      <th>2</th>\n",
       "      <td>Cow</td>\n",
       "      <td>280</td>\n",
       "      <td>10.5</td>\n",
       "    </tr>\n",
       "    <tr>\n",
       "      <th>3</th>\n",
       "      <td>Dog</td>\n",
       "      <td>62</td>\n",
       "      <td>11.0</td>\n",
       "    </tr>\n",
       "    <tr>\n",
       "      <th>4</th>\n",
       "      <td>Elephant</td>\n",
       "      <td>624</td>\n",
       "      <td>35.0</td>\n",
       "    </tr>\n",
       "  </tbody>\n",
       "</table>\n",
       "</div>"
      ],
      "text/plain": [
       "     animal  gestation  lifeexpect\n",
       "0       Ass        365        19.0\n",
       "1       Cat         63        11.0\n",
       "2       Cow        280        10.5\n",
       "3       Dog         62        11.0\n",
       "4  Elephant        624        35.0"
      ]
     },
     "execution_count": 6,
     "metadata": {},
     "output_type": "execute_result"
    }
   ],
   "source": [
    "gestation = pd.read_table('../data/Gestation.txt', skiprows=1, names=[\"animal\", \"gestation\", \"lifeexpect\"])\n",
    "gestation.head()"
   ]
  },
  {
   "cell_type": "code",
   "execution_count": 7,
   "metadata": {
    "collapsed": false
   },
   "outputs": [
    {
     "data": {
      "image/png": "[encoded data removed]",
      "text/plain": [
       "<matplotlib.figure.Figure at 0x119fef4e0>"
      ]
     },
     "metadata": {},
     "output_type": "display_data"
    }
   ],
   "source": [
    "plt.scatter(gestation.lifeexpect, gestation.gestation)\n",
    "plt.xlabel(\"Life Expectancy (years)\")\n",
    "plt.ylabel(\"Gestation (days)\")\n",
    "plt.title(\"Ex. 25\");"
   ]
  },
  {
   "cell_type": "code",
   "execution_count": 11,
   "metadata": {
    "collapsed": false
   },
   "outputs": [
    {
     "data": {
      "text/plain": [
       "0.54367946893230046"
      ]
     },
     "execution_count": 11,
     "metadata": {},
     "output_type": "execute_result"
    }
   ],
   "source": [
    "r = np.corrcoef(gestation.lifeexpect, gestation.gestation)[0][1]\n",
    "r"
   ]
  },
  {
   "cell_type": "code",
   "execution_count": 8,
   "metadata": {
    "collapsed": false
   },
   "outputs": [
    {
     "data": {
      "image/png": "[encoded data removed]",
      "text/plain": [
       "<matplotlib.figure.Figure at 0x11a0a3c50>"
      ]
     },
     "metadata": {},
     "output_type": "display_data"
    }
   ],
   "source": [
    "nonhumans = gestation[gestation.animal != \"Human\"]\n",
    "plt.scatter(nonhumans.lifeexpect, nonhumans.gestation)\n",
    "plt.xlabel(\"Life Expectancy (years)\")\n",
    "plt.ylabel(\"Gestation (days)\")\n",
    "plt.title(\"Ex. 25\");"
   ]
  },
  {
   "cell_type": "code",
   "execution_count": 12,
   "metadata": {
    "collapsed": false
   },
   "outputs": [
    {
     "data": {
      "text/plain": [
       "0.84989934771049103"
      ]
     },
     "execution_count": 12,
     "metadata": {},
     "output_type": "execute_result"
    }
   ],
   "source": [
    "r = np.corrcoef(nonhumans.lifeexpect, nonhumans.gestation)[0][1]\n",
    "r"
   ]
  },
  {
   "cell_type": "code",
   "execution_count": 14,
   "metadata": {
    "collapsed": false
   },
   "outputs": [
    {
     "data": {
      "text/plain": [
       "0.7223289012387182"
      ]
     },
     "execution_count": 14,
     "metadata": {},
     "output_type": "execute_result"
    }
   ],
   "source": [
    "import math\n",
    "math.pow(r, 2)"
   ]
  },
  {
   "cell_type": "code",
   "execution_count": 15,
   "metadata": {
    "collapsed": false
   },
   "outputs": [
    {
     "data": {
      "text/plain": [
       "270.4428"
      ]
     },
     "execution_count": 15,
     "metadata": {},
     "output_type": "execute_result"
    }
   ],
   "source": [
    "# equation: gest = -39.5172 + 15.4980 * life exp.\n",
    "gest = -39.5172 + 15.4980 * 20\n",
    "gest"
   ]
  },
  {
   "cell_type": "markdown",
   "metadata": {},
   "source": [
    "## 27\n",
    "\n",
    "### Answers\n",
    "\n",
    "* a) Hippos, it's more \"out of alignment\" than Elephants, and has a good amount of leverage, so it will thus have a larger affect\n",
    "* b) increase\n",
    "* c) depends on the goal of the model; probably not, though -- instead of finding a model that explains the data, that process would instead be making the data fit a particular model\n",
    "* d) yes - its presence changed the slope by around 25%"
   ]
  },
  {
   "cell_type": "markdown",
   "metadata": {},
   "source": [
    "## 29\n",
    "\n",
    "### Answers\n",
    "\n",
    "* a) possibly use the entire time range to identify overall trend and trends within that; based on these patterns, extrapolate that to the time range of interest, to identify the pattern for the prediction period;  using regression for this, given the non-linear nature of the data and the extrapolation required in this particular case argues against doing so.\n",
    "* b) very little -- non-linear + heavy extrapolation\n",
    "* c) even less so due to the same concerns"
   ]
  },
  {
   "cell_type": "markdown",
   "metadata": {},
   "source": [
    "## 31\n",
    "\n",
    "### Answers\n",
    "\n",
    "* a) see below; appears to be mostly linear, fairly strong negative association\n",
    "* b) The Bahamas - low on both; Paraguay - high on both; Barbados - low on both\n",
    "* c) $r$ = -0.73, $r^2$ = 0.533; 53.3% of the variability in life expectancy is explained by the variability in birth rate;\n",
    "* d) life_expect = -0.487 * birth_rate + 83.957\n",
    "* e) no clear pattern, so regression appears appropriate\n",
    "* f) for each 1 unit increase in birth rate, the life expectancy decreases by 0.487 years; the starting point (i.e. a birth rate of 0) shows a life expectancy of 83.957 years\n",
    "* g) not necessarily - this shows an association, but not causation; there may be lurking variables"
   ]
  },
  {
   "cell_type": "code",
   "execution_count": 24,
   "metadata": {
    "collapsed": false
   },
   "outputs": [
    {
     "data": {
      "text/html": [
       "<div>\n",
       "<table border=\"1\" class=\"dataframe\">\n",
       "  <thead>\n",
       "    <tr style=\"text-align: right;\">\n",
       "      <th></th>\n",
       "      <th>country</th>\n",
       "      <th>birth_rate</th>\n",
       "      <th>life_expect</th>\n",
       "    </tr>\n",
       "  </thead>\n",
       "  <tbody>\n",
       "    <tr>\n",
       "      <th>0</th>\n",
       "      <td>Argentina</td>\n",
       "      <td>18</td>\n",
       "      <td>77</td>\n",
       "    </tr>\n",
       "    <tr>\n",
       "      <th>1</th>\n",
       "      <td>Bahamas, The</td>\n",
       "      <td>16</td>\n",
       "      <td>70</td>\n",
       "    </tr>\n",
       "    <tr>\n",
       "      <th>2</th>\n",
       "      <td>Barbados</td>\n",
       "      <td>13</td>\n",
       "      <td>74</td>\n",
       "    </tr>\n",
       "    <tr>\n",
       "      <th>3</th>\n",
       "      <td>Belize</td>\n",
       "      <td>27</td>\n",
       "      <td>68</td>\n",
       "    </tr>\n",
       "    <tr>\n",
       "      <th>4</th>\n",
       "      <td>Bolivia</td>\n",
       "      <td>26</td>\n",
       "      <td>67</td>\n",
       "    </tr>\n",
       "    <tr>\n",
       "      <th>5</th>\n",
       "      <td>Canada</td>\n",
       "      <td>10</td>\n",
       "      <td>81</td>\n",
       "    </tr>\n",
       "    <tr>\n",
       "      <th>6</th>\n",
       "      <td>Chile</td>\n",
       "      <td>15</td>\n",
       "      <td>77</td>\n",
       "    </tr>\n",
       "    <tr>\n",
       "      <th>7</th>\n",
       "      <td>Colombia</td>\n",
       "      <td>18</td>\n",
       "      <td>74</td>\n",
       "    </tr>\n",
       "    <tr>\n",
       "      <th>8</th>\n",
       "      <td>Coasta Rica</td>\n",
       "      <td>17</td>\n",
       "      <td>78</td>\n",
       "    </tr>\n",
       "    <tr>\n",
       "      <th>9</th>\n",
       "      <td>Cominican Republic</td>\n",
       "      <td>22</td>\n",
       "      <td>74</td>\n",
       "    </tr>\n",
       "    <tr>\n",
       "      <th>10</th>\n",
       "      <td>Ecuador</td>\n",
       "      <td>21</td>\n",
       "      <td>75</td>\n",
       "    </tr>\n",
       "    <tr>\n",
       "      <th>11</th>\n",
       "      <td>El Salvador</td>\n",
       "      <td>25</td>\n",
       "      <td>72</td>\n",
       "    </tr>\n",
       "    <tr>\n",
       "      <th>12</th>\n",
       "      <td>Guatemala</td>\n",
       "      <td>28</td>\n",
       "      <td>70</td>\n",
       "    </tr>\n",
       "    <tr>\n",
       "      <th>13</th>\n",
       "      <td>Honduras</td>\n",
       "      <td>26</td>\n",
       "      <td>70</td>\n",
       "    </tr>\n",
       "    <tr>\n",
       "      <th>14</th>\n",
       "      <td>Jamaica</td>\n",
       "      <td>20</td>\n",
       "      <td>74</td>\n",
       "    </tr>\n",
       "    <tr>\n",
       "      <th>15</th>\n",
       "      <td>Mexico</td>\n",
       "      <td>20</td>\n",
       "      <td>76</td>\n",
       "    </tr>\n",
       "    <tr>\n",
       "      <th>16</th>\n",
       "      <td>Nicaragua</td>\n",
       "      <td>23</td>\n",
       "      <td>72</td>\n",
       "    </tr>\n",
       "    <tr>\n",
       "      <th>17</th>\n",
       "      <td>Panama</td>\n",
       "      <td>20</td>\n",
       "      <td>77</td>\n",
       "    </tr>\n",
       "    <tr>\n",
       "      <th>18</th>\n",
       "      <td>Paraguay</td>\n",
       "      <td>28</td>\n",
       "      <td>76</td>\n",
       "    </tr>\n",
       "    <tr>\n",
       "      <th>19</th>\n",
       "      <td>Puerto Rico</td>\n",
       "      <td>12</td>\n",
       "      <td>79</td>\n",
       "    </tr>\n",
       "    <tr>\n",
       "      <th>20</th>\n",
       "      <td>United Stats</td>\n",
       "      <td>14</td>\n",
       "      <td>78</td>\n",
       "    </tr>\n",
       "    <tr>\n",
       "      <th>21</th>\n",
       "      <td>Uruguay</td>\n",
       "      <td>14</td>\n",
       "      <td>76</td>\n",
       "    </tr>\n",
       "    <tr>\n",
       "      <th>22</th>\n",
       "      <td>Venezuela</td>\n",
       "      <td>21</td>\n",
       "      <td>74</td>\n",
       "    </tr>\n",
       "    <tr>\n",
       "      <th>23</th>\n",
       "      <td>Virgin Islands</td>\n",
       "      <td>12</td>\n",
       "      <td>79</td>\n",
       "    </tr>\n",
       "  </tbody>\n",
       "</table>\n",
       "</div>"
      ],
      "text/plain": [
       "               country  birth_rate  life_expect\n",
       "0            Argentina          18           77\n",
       "1         Bahamas, The          16           70\n",
       "2             Barbados          13           74\n",
       "3               Belize          27           68\n",
       "4              Bolivia          26           67\n",
       "5               Canada          10           81\n",
       "6                Chile          15           77\n",
       "7             Colombia          18           74\n",
       "8          Coasta Rica          17           78\n",
       "9   Cominican Republic          22           74\n",
       "10             Ecuador          21           75\n",
       "11         El Salvador          25           72\n",
       "12           Guatemala          28           70\n",
       "13            Honduras          26           70\n",
       "14             Jamaica          20           74\n",
       "15              Mexico          20           76\n",
       "16           Nicaragua          23           72\n",
       "17              Panama          20           77\n",
       "18            Paraguay          28           76\n",
       "19         Puerto Rico          12           79\n",
       "20        United Stats          14           78\n",
       "21             Uruguay          14           76\n",
       "22           Venezuela          21           74\n",
       "23      Virgin Islands          12           79"
      ]
     },
     "execution_count": 24,
     "metadata": {},
     "output_type": "execute_result"
    }
   ],
   "source": [
    "le = pd.read_table(\"../data/Life_expectancy_2010.txt\", skiprows=1, names=[\"country\", \"birth_rate\", \"life_expect\"])\n",
    "le"
   ]
  },
  {
   "cell_type": "code",
   "execution_count": 21,
   "metadata": {
    "collapsed": false
   },
   "outputs": [
    {
     "data": {
      "image/png": "[encoded data removed]",
      "text/plain": [
       "<matplotlib.figure.Figure at 0x11a096438>"
      ]
     },
     "metadata": {},
     "output_type": "display_data"
    }
   ],
   "source": [
    "plt.scatter(le.birth_rate, le.life_expect)\n",
    "plt.xlabel(\"Birth Rate\")\n",
    "plt.ylabel(\"Life Expectancy\")\n",
    "plt.title(\"Ex 31\");"
   ]
  },
  {
   "cell_type": "code",
   "execution_count": 28,
   "metadata": {
    "collapsed": false
   },
   "outputs": [
    {
     "name": "stdout",
     "output_type": "stream",
     "text": [
      "r: -0.730201\n",
      "r-squared: 0.533194\n"
     ]
    }
   ],
   "source": [
    "r = np.corrcoef(le.birth_rate, le.life_expect)[0][1]\n",
    "print(\"r: %f\" % (r,))\n",
    "print(\"r-squared: %f\" % (math.pow(r, 2),))"
   ]
  },
  {
   "cell_type": "code",
   "execution_count": 29,
   "metadata": {
    "collapsed": false
   },
   "outputs": [
    {
     "data": {
      "text/plain": [
       "-0.48703658832081403"
      ]
     },
     "execution_count": 29,
     "metadata": {},
     "output_type": "execute_result"
    }
   ],
   "source": [
    "b1 = r * (le.life_expect.std() / le.birth_rate.std())\n",
    "b1"
   ]
  },
  {
   "cell_type": "code",
   "execution_count": 30,
   "metadata": {
    "collapsed": false
   },
   "outputs": [
    {
     "data": {
      "text/plain": [
       "83.956627089895804"
      ]
     },
     "execution_count": 30,
     "metadata": {},
     "output_type": "execute_result"
    }
   ],
   "source": [
    "b0 = le.life_expect.mean() - (b1 * le.birth_rate.mean())\n",
    "b0"
   ]
  },
  {
   "cell_type": "code",
   "execution_count": 31,
   "metadata": {
    "collapsed": false
   },
   "outputs": [
    {
     "data": {
      "text/html": [
       "<div>\n",
       "<table border=\"1\" class=\"dataframe\">\n",
       "  <thead>\n",
       "    <tr style=\"text-align: right;\">\n",
       "      <th></th>\n",
       "      <th>country</th>\n",
       "      <th>birth_rate</th>\n",
       "      <th>life_expect</th>\n",
       "      <th>prediction</th>\n",
       "    </tr>\n",
       "  </thead>\n",
       "  <tbody>\n",
       "    <tr>\n",
       "      <th>0</th>\n",
       "      <td>Argentina</td>\n",
       "      <td>18</td>\n",
       "      <td>77</td>\n",
       "      <td>75.189969</td>\n",
       "    </tr>\n",
       "    <tr>\n",
       "      <th>1</th>\n",
       "      <td>Bahamas, The</td>\n",
       "      <td>16</td>\n",
       "      <td>70</td>\n",
       "      <td>76.164042</td>\n",
       "    </tr>\n",
       "    <tr>\n",
       "      <th>2</th>\n",
       "      <td>Barbados</td>\n",
       "      <td>13</td>\n",
       "      <td>74</td>\n",
       "      <td>77.625151</td>\n",
       "    </tr>\n",
       "    <tr>\n",
       "      <th>3</th>\n",
       "      <td>Belize</td>\n",
       "      <td>27</td>\n",
       "      <td>68</td>\n",
       "      <td>70.806639</td>\n",
       "    </tr>\n",
       "    <tr>\n",
       "      <th>4</th>\n",
       "      <td>Bolivia</td>\n",
       "      <td>26</td>\n",
       "      <td>67</td>\n",
       "      <td>71.293676</td>\n",
       "    </tr>\n",
       "  </tbody>\n",
       "</table>\n",
       "</div>"
      ],
      "text/plain": [
       "        country  birth_rate  life_expect  prediction\n",
       "0     Argentina          18           77   75.189969\n",
       "1  Bahamas, The          16           70   76.164042\n",
       "2      Barbados          13           74   77.625151\n",
       "3        Belize          27           68   70.806639\n",
       "4       Bolivia          26           67   71.293676"
      ]
     },
     "execution_count": 31,
     "metadata": {},
     "output_type": "execute_result"
    }
   ],
   "source": [
    "le['prediction'] = b1 * le.birth_rate + b0\n",
    "le.head()\n",
    "#life_expect = -0.487 * birth_rate + 83.957"
   ]
  },
  {
   "cell_type": "code",
   "execution_count": 32,
   "metadata": {
    "collapsed": false
   },
   "outputs": [
    {
     "data": {
      "text/html": [
       "<div>\n",
       "<table border=\"1\" class=\"dataframe\">\n",
       "  <thead>\n",
       "    <tr style=\"text-align: right;\">\n",
       "      <th></th>\n",
       "      <th>country</th>\n",
       "      <th>birth_rate</th>\n",
       "      <th>life_expect</th>\n",
       "      <th>prediction</th>\n",
       "      <th>residual</th>\n",
       "    </tr>\n",
       "  </thead>\n",
       "  <tbody>\n",
       "    <tr>\n",
       "      <th>0</th>\n",
       "      <td>Argentina</td>\n",
       "      <td>18</td>\n",
       "      <td>77</td>\n",
       "      <td>75.189969</td>\n",
       "      <td>1.810031</td>\n",
       "    </tr>\n",
       "    <tr>\n",
       "      <th>1</th>\n",
       "      <td>Bahamas, The</td>\n",
       "      <td>16</td>\n",
       "      <td>70</td>\n",
       "      <td>76.164042</td>\n",
       "      <td>-6.164042</td>\n",
       "    </tr>\n",
       "    <tr>\n",
       "      <th>2</th>\n",
       "      <td>Barbados</td>\n",
       "      <td>13</td>\n",
       "      <td>74</td>\n",
       "      <td>77.625151</td>\n",
       "      <td>-3.625151</td>\n",
       "    </tr>\n",
       "    <tr>\n",
       "      <th>3</th>\n",
       "      <td>Belize</td>\n",
       "      <td>27</td>\n",
       "      <td>68</td>\n",
       "      <td>70.806639</td>\n",
       "      <td>-2.806639</td>\n",
       "    </tr>\n",
       "    <tr>\n",
       "      <th>4</th>\n",
       "      <td>Bolivia</td>\n",
       "      <td>26</td>\n",
       "      <td>67</td>\n",
       "      <td>71.293676</td>\n",
       "      <td>-4.293676</td>\n",
       "    </tr>\n",
       "  </tbody>\n",
       "</table>\n",
       "</div>"
      ],
      "text/plain": [
       "        country  birth_rate  life_expect  prediction  residual\n",
       "0     Argentina          18           77   75.189969  1.810031\n",
       "1  Bahamas, The          16           70   76.164042 -6.164042\n",
       "2      Barbados          13           74   77.625151 -3.625151\n",
       "3        Belize          27           68   70.806639 -2.806639\n",
       "4       Bolivia          26           67   71.293676 -4.293676"
      ]
     },
     "execution_count": 32,
     "metadata": {},
     "output_type": "execute_result"
    }
   ],
   "source": [
    "le['residual'] = le.life_expect - le.prediction\n",
    "le.head()"
   ]
  },
  {
   "cell_type": "code",
   "execution_count": 33,
   "metadata": {
    "collapsed": false
   },
   "outputs": [
    {
     "data": {
      "image/png": "[encoded data removed]",
      "text/plain": [
       "<matplotlib.figure.Figure at 0x11ca9b630>"
      ]
     },
     "metadata": {},
     "output_type": "display_data"
    }
   ],
   "source": [
    "plt.scatter(le.birth_rate, le.residual)\n",
    "plt.xlabel(\"Birth Rate\")\n",
    "plt.ylabel(\"Residual\")\n",
    "plt.title(\"Ex 31 - residuals\");"
   ]
  },
  {
   "cell_type": "markdown",
   "metadata": {},
   "source": [
    "## 33\n",
    "\n",
    "### Answers\n",
    "\n",
    "* a) there appears to be a positive, non-linear relationship\n",
    "* d) given the non-linear relationship, and the need for extrapolation, such a model would be inappropriate and un-trustworthy"
   ]
  },
  {
   "cell_type": "code",
   "execution_count": 34,
   "metadata": {
    "collapsed": false
   },
   "outputs": [
    {
     "name": "stdout",
     "output_type": "stream",
     "text": [
      "year\tJanCPI\r",
      "\r\n",
      "1916\t10.4\r",
      "\r\n",
      "1921\t19\r",
      "\r\n",
      "1926\t17.9\r",
      "\r\n",
      "1931\t15.9\r",
      "\r\n",
      "1936\t13.8\r",
      "\r\n",
      "1941\t14.1\r",
      "\r\n",
      "1946\t18.2\r",
      "\r\n",
      "1951\t25.4\r",
      "\r\n",
      "1956\t26.8\r",
      "\r\n"
     ]
    }
   ],
   "source": [
    "!head ../data/inflation_2011.txt"
   ]
  },
  {
   "cell_type": "code",
   "execution_count": 35,
   "metadata": {
    "collapsed": false
   },
   "outputs": [
    {
     "data": {
      "text/html": [
       "<div>\n",
       "<table border=\"1\" class=\"dataframe\">\n",
       "  <thead>\n",
       "    <tr style=\"text-align: right;\">\n",
       "      <th></th>\n",
       "      <th>year</th>\n",
       "      <th>JanCPI</th>\n",
       "    </tr>\n",
       "  </thead>\n",
       "  <tbody>\n",
       "    <tr>\n",
       "      <th>0</th>\n",
       "      <td>1916</td>\n",
       "      <td>10.4</td>\n",
       "    </tr>\n",
       "    <tr>\n",
       "      <th>1</th>\n",
       "      <td>1921</td>\n",
       "      <td>19.0</td>\n",
       "    </tr>\n",
       "    <tr>\n",
       "      <th>2</th>\n",
       "      <td>1926</td>\n",
       "      <td>17.9</td>\n",
       "    </tr>\n",
       "    <tr>\n",
       "      <th>3</th>\n",
       "      <td>1931</td>\n",
       "      <td>15.9</td>\n",
       "    </tr>\n",
       "    <tr>\n",
       "      <th>4</th>\n",
       "      <td>1936</td>\n",
       "      <td>13.8</td>\n",
       "    </tr>\n",
       "  </tbody>\n",
       "</table>\n",
       "</div>"
      ],
      "text/plain": [
       "   year  JanCPI\n",
       "0  1916    10.4\n",
       "1  1921    19.0\n",
       "2  1926    17.9\n",
       "3  1931    15.9\n",
       "4  1936    13.8"
      ]
     },
     "execution_count": 35,
     "metadata": {},
     "output_type": "execute_result"
    }
   ],
   "source": [
    "inflation = pd.read_table(\"../data/inflation_2011.txt\")\n",
    "inflation.head()"
   ]
  },
  {
   "cell_type": "code",
   "execution_count": 36,
   "metadata": {
    "collapsed": false
   },
   "outputs": [
    {
     "data": {
      "image/png": "[encoded data removed]",
      "text/plain": [
       "<matplotlib.figure.Figure at 0x11cd83c88>"
      ]
     },
     "metadata": {},
     "output_type": "display_data"
    }
   ],
   "source": [
    "plt.scatter(inflation.year, inflation.JanCPI)\n",
    "plt.xlabel(\"year\")\n",
    "plt.ylabel(\"JanCPI\")\n",
    "plt.title(\"EX 33\");"
   ]
  }
 ],
 "metadata": {
  "kernelspec": {
   "display_name": "Python 3",
   "language": "python",
   "name": "python3"
  },
  "language_info": {
   "codemirror_mode": {
    "name": "ipython",
    "version": 3
   },
   "file_extension": ".py",
   "mimetype": "text/x-python",
   "name": "python",
   "nbconvert_exporter": "python",
   "pygments_lexer": "ipython3",
   "version": "3.5.2"
  }
 },
 "nbformat": 4,
 "nbformat_minor": 0
}
