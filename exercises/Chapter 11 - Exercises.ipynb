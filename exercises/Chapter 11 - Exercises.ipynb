{
 "cells": [
  {
   "cell_type": "markdown",
   "metadata": {},
   "source": [
    "# Chapter 11 - Exercises"
   ]
  },
  {
   "cell_type": "markdown",
   "metadata": {},
   "source": [
    "## 11.1 \n",
    "\n",
    "### Answers\n",
    "\n",
    "* Yes, with a fair coin (and flip) the outcome of the toss is unknow, and the chance of each outcome is equally likely."
   ]
  },
  {
   "cell_type": "markdown",
   "metadata": {},
   "source": [
    "## 11.3\n",
    "\n",
    "### Answers\n",
    "\n",
    "* A set of balls with the different numbers on them are blown around by air within a container.  The first ball to rise to a selection chamber is the next number generated.\n",
    "* Yes - it uses random physical processes to produce the randomness."
   ]
  },
  {
   "cell_type": "markdown",
   "metadata": {
    "collapsed": true
   },
   "source": [
    "## 11.5\n",
    "\n",
    "### Answers\n",
    "\n",
    "* all two digit values between 00 and 99\n",
    "* 00 through 02 represent a birth defect\n",
    "* 03 through 99 represent no defect"
   ]
  },
  {
   "cell_type": "markdown",
   "metadata": {
    "collapsed": true
   },
   "source": [
    "## 11.7\n",
    "\n",
    "### Answers\n",
    "\n",
    "* 45 and 10\n",
    "* (skipped 92)\n",
    "* 17 and 10"
   ]
  },
  {
   "cell_type": "markdown",
   "metadata": {
    "collapsed": true
   },
   "source": [
    "## 11.9\n",
    "\n",
    "### Answers\n",
    "\n",
    "* the same - the chances for any particular outcome are the same with each selection \n",
    "* changing or keeping the same number choice doesn't affect that"
   ]
  },
  {
   "cell_type": "markdown",
   "metadata": {
    "collapsed": true
   },
   "source": [
    "## 11.11\n",
    "\n",
    "### Answers\n",
    "\n",
    "* a) this assumes each outcome (0-9) is equally likely; instead, 9 selections in the range 0-1 should be made\n",
    "* b) this assumes that the player has a 50% free throw shooting percentage\n",
    "* c) this would lead to impossible hands (e.g. 5 of a kind) - instead use draw from 1 to 52, where each value is mapped to a specific suit + face"
   ]
  },
  {
   "cell_type": "markdown",
   "metadata": {
    "collapsed": true
   },
   "source": [
    "## 11.13\n",
    "\n",
    "### Answers\n",
    "\n",
    "* The simulation provides an estimate for what the average will tend towards in future observations.  The actual observed averages will likely be near, but above or below that by some margin."
   ]
  },
  {
   "cell_type": "markdown",
   "metadata": {
    "collapsed": true
   },
   "source": [
    "## 11.15\n",
    "\n",
    "### Answers\n",
    "\n",
    "* a) select a random number between 0 and 99: 0-54 represents a vote for your candidate, 55-99 represents a vote for the other candidate\n",
    "* b) make 100 selections to represent one trial of voting across 100 students; candidate with more votes wins that trial\n",
    "* c) the response variable is the winner of each trial"
   ]
  },
  {
   "cell_type": "markdown",
   "metadata": {
    "collapsed": true
   },
   "source": [
    "## 11.17\n",
    "\n",
    "### Answers\n",
    "\n",
    "* The probability of getting a complete set when making 5 selections is 51%"
   ]
  },
  {
   "cell_type": "code",
   "execution_count": 62,
   "metadata": {},
   "outputs": [],
   "source": [
    "import numpy as np\n",
    "from collections import Counter\n",
    "\n",
    "def generate_trials(outcome_probabilities, n_components, n_trials):\n",
    "    values = list(outcome_probabilities.keys())\n",
    "    probabilities = list(outcome_probabilities.values())\n",
    "    trials = []\n",
    "    for i in range(n_trials):\n",
    "        trial_components = np.random.choice(values, size=n_components, p=probabilities)\n",
    "        yield Counter(trial_components)"
   ]
  },
  {
   "cell_type": "code",
   "execution_count": 70,
   "metadata": {
    "scrolled": false
   },
   "outputs": [
    {
     "name": "stdout",
     "output_type": "stream",
     "text": [
      "The probability of getting a complete set when making 5 selections is 51%\n"
     ]
    }
   ],
   "source": [
    "outcome_probabilities = {\n",
    "    \"LeBron James\": 0.2,\n",
    "    \"David Beckham\": 0.3,\n",
    "    \"Serena Williams\": 0.5\n",
    "}\n",
    "\n",
    "n_components = 5\n",
    "n_trials = 1000\n",
    "\n",
    "trials = generate_trials(outcome_probabilities, n_components, n_trials)\n",
    "count = sum(1 for trial in trials if len(trial) == 3)\n",
    "probability = 100 * count / n_trials\n",
    "\n",
    "print(\"The probability of getting a complete set when making %d selections is %1.0f%%\" % (n_components, probability))"
   ]
  },
  {
   "cell_type": "markdown",
   "metadata": {
    "collapsed": true
   },
   "source": [
    "## \n",
    "\n",
    "### Answers\n",
    "\n",
    "* \n"
   ]
  },
  {
   "cell_type": "markdown",
   "metadata": {
    "collapsed": true
   },
   "source": [
    "## \n",
    "\n",
    "### Answers\n",
    "\n",
    "* \n"
   ]
  },
  {
   "cell_type": "markdown",
   "metadata": {
    "collapsed": true
   },
   "source": [
    "## \n",
    "\n",
    "### Answers\n",
    "\n",
    "* \n"
   ]
  },
  {
   "cell_type": "code",
   "execution_count": null,
   "metadata": {
    "collapsed": true
   },
   "outputs": [],
   "source": []
  }
 ],
 "metadata": {
  "kernelspec": {
   "display_name": "Python 3",
   "language": "python",
   "name": "python3"
  },
  "language_info": {
   "codemirror_mode": {
    "name": "ipython",
    "version": 3
   },
   "file_extension": ".py",
   "mimetype": "text/x-python",
   "name": "python",
   "nbconvert_exporter": "python",
   "pygments_lexer": "ipython3",
   "version": "3.5.2"
  }
 },
 "nbformat": 4,
 "nbformat_minor": 2
}
