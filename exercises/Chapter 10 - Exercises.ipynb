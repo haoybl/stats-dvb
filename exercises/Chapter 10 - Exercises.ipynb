{
 "cells": [
  {
   "cell_type": "markdown",
   "metadata": {},
   "source": [
    "# Chapter 10 - Exercises"
   ]
  },
  {
   "cell_type": "markdown",
   "metadata": {
    "collapsed": true
   },
   "source": [
    "## 1\n",
    "\n",
    "### Answers\n",
    "\n",
    "* a) no - looks fine as-is\n",
    "* b) yes - attempt to make more linear\n",
    "* c) yes - attempt to make spread more consistent"
   ]
  },
  {
   "cell_type": "markdown",
   "metadata": {
    "collapsed": true
   },
   "source": [
    "## 3\n",
    "\n",
    "### Answers\n",
    "\n",
    "* a) yes - seasonal pattern across year\n",
    "* b) not any of those described in the ladder approach; maybe a time-series based re-expression"
   ]
  },
  {
   "cell_type": "markdown",
   "metadata": {
    "collapsed": true
   },
   "source": [
    "## 5\n",
    "\n",
    "### Answers\n",
    "\n",
    "* a) 16.445\n",
    "* b) 7.840\n",
    "* c) 0.357\n",
    "* d) 1.75\n",
    "* e) 27.59"
   ]
  },
  {
   "cell_type": "code",
   "execution_count": 1,
   "metadata": {
    "collapsed": false
   },
   "outputs": [
    {
     "data": {
      "text/plain": [
       "16.444646771097048"
      ]
     },
     "execution_count": 1,
     "metadata": {},
     "output_type": "execute_result"
    }
   ],
   "source": [
    "import math\n",
    "math.exp(1.2 + 0.8 * 2)"
   ]
  },
  {
   "cell_type": "code",
   "execution_count": 2,
   "metadata": {
    "collapsed": false
   },
   "outputs": [
    {
     "data": {
      "text/plain": [
       "7.839999999999999"
      ]
     },
     "execution_count": 2,
     "metadata": {},
     "output_type": "execute_result"
    }
   ],
   "source": [
    "math.pow(1.2 + 0.8 * 2, 2)"
   ]
  },
  {
   "cell_type": "code",
   "execution_count": 3,
   "metadata": {
    "collapsed": false
   },
   "outputs": [
    {
     "data": {
      "text/plain": [
       "5.78065931459459"
      ]
     },
     "execution_count": 3,
     "metadata": {},
     "output_type": "execute_result"
    }
   ],
   "source": [
    "math.exp(1.2 + 0.8 * math.log(2, math.e))"
   ]
  },
  {
   "cell_type": "code",
   "execution_count": 4,
   "metadata": {
    "collapsed": false
   },
   "outputs": [
    {
     "data": {
      "text/plain": [
       "0.35714285714285715"
      ]
     },
     "execution_count": 4,
     "metadata": {},
     "output_type": "execute_result"
    }
   ],
   "source": [
    "1 / (1.2 + .8 * 2)"
   ]
  },
  {
   "cell_type": "code",
   "execution_count": 5,
   "metadata": {
    "collapsed": false
   },
   "outputs": [
    {
     "data": {
      "text/plain": [
       "1.754517744447956"
      ]
     },
     "execution_count": 5,
     "metadata": {},
     "output_type": "execute_result"
    }
   ],
   "source": [
    "1.2 + 0.8 * math.log(2, math.e)"
   ]
  },
  {
   "cell_type": "code",
   "execution_count": 6,
   "metadata": {
    "collapsed": false
   },
   "outputs": [
    {
     "data": {
      "text/plain": [
       "27.59459322922429"
      ]
     },
     "execution_count": 6,
     "metadata": {},
     "output_type": "execute_result"
    }
   ],
   "source": [
    "math.pow(10, 1.2 + 0.8 * math.log(2, 10))"
   ]
  },
  {
   "cell_type": "markdown",
   "metadata": {
    "collapsed": true
   },
   "source": [
    "## 7\n",
    "\n",
    "### Answers\n",
    "\n",
    "* a) straight, linear, negative, fairly strong\n",
    "* b) for each 1000 lb increase in weight, gas mileage goes down by 7.56 mpg\n",
    "* c) no - there's a clear curve in the regression plot"
   ]
  },
  {
   "cell_type": "markdown",
   "metadata": {
    "collapsed": true
   },
   "source": [
    "##  9\n",
    "\n",
    "### Answers\n",
    "\n",
    "* a) the residual variance is much smaller, and shows no clear pattern\n",
    "* b) fuel consumption = 0.624932 + 1.17791 + weight\n",
    "* c) for each 1000 lb increase in weight, fuel consumption goes up by 1.17791 gal / 100mi\n",
    "* d) 21.063 mi/gallon"
   ]
  },
  {
   "cell_type": "code",
   "execution_count": 7,
   "metadata": {
    "collapsed": false
   },
   "outputs": [
    {
     "data": {
      "text/plain": [
       "21.063198653134826"
      ]
     },
     "execution_count": 7,
     "metadata": {},
     "output_type": "execute_result"
    }
   ],
   "source": [
    "0.624932 + 1.17791 * 3.5\n",
    "# 4.747617 gal / 100 miles\n",
    "100 / (0.624932 + 1.17791 * 3.5)"
   ]
  },
  {
   "cell_type": "markdown",
   "metadata": {
    "collapsed": true
   },
   "source": [
    "## 11\n",
    "\n",
    "### Answers\n",
    "\n",
    "* a) not necessarily - it suggests that the model explains a lot of the variance in the response variable, but not that the model is _appropriate_\n",
    "* b) no - clear curved pattern in residuals; emphasizing the curve in the original data"
   ]
  },
  {
   "cell_type": "markdown",
   "metadata": {
    "collapsed": true
   },
   "source": [
    "## 13\n",
    "\n",
    "### Answers\n",
    "\n",
    "* It's not clear that this is much better.  There's still a large change in direction, and what appear to be multiple fluctuations within the downward trend of the second part of the curve."
   ]
  },
  {
   "cell_type": "markdown",
   "metadata": {
    "collapsed": true
   },
   "source": [
    "## 15\n",
    "\n",
    "### Answers\n",
    "\n",
    "* a) association appears linear and strong, but the residuals show a clear curved pattern\n",
    "* b) use the sqrt of stopping dist\n",
    "* c) yhat = 3.303404 + 0.235484 * x\n",
    "* d) 264.23 ft\n",
    "* e) 391.53 ft\n",
    "* f) fairly confident; residuals don't show curved pattern; high r^2; low std error"
   ]
  },
  {
   "cell_type": "code",
   "execution_count": 8,
   "metadata": {
    "collapsed": false
   },
   "outputs": [],
   "source": [
    "# %load ../snippets/data-imports\n",
    "import numpy as np\n",
    "import pandas as pd\n",
    "from pandas import Series,DataFrame\n",
    "\n",
    "from scipy import stats\n",
    "import math\n",
    "\n",
    "import matplotlib.pyplot as plt\n",
    "import seaborn as sns\n",
    "%matplotlib inline\n",
    "sns.set_style('whitegrid')"
   ]
  },
  {
   "cell_type": "code",
   "execution_count": 9,
   "metadata": {
    "collapsed": false
   },
   "outputs": [
    {
     "data": {
      "text/html": [
       "<div>\n",
       "<table border=\"1\" class=\"dataframe\">\n",
       "  <thead>\n",
       "    <tr style=\"text-align: right;\">\n",
       "      <th></th>\n",
       "      <th>dist</th>\n",
       "      <th>speed</th>\n",
       "    </tr>\n",
       "  </thead>\n",
       "  <tbody>\n",
       "    <tr>\n",
       "      <th>0</th>\n",
       "      <td>64</td>\n",
       "      <td>20</td>\n",
       "    </tr>\n",
       "    <tr>\n",
       "      <th>1</th>\n",
       "      <td>62</td>\n",
       "      <td>20</td>\n",
       "    </tr>\n",
       "    <tr>\n",
       "      <th>2</th>\n",
       "      <td>59</td>\n",
       "      <td>20</td>\n",
       "    </tr>\n",
       "    <tr>\n",
       "      <th>3</th>\n",
       "      <td>114</td>\n",
       "      <td>30</td>\n",
       "    </tr>\n",
       "    <tr>\n",
       "      <th>4</th>\n",
       "      <td>118</td>\n",
       "      <td>30</td>\n",
       "    </tr>\n",
       "  </tbody>\n",
       "</table>\n",
       "</div>"
      ],
      "text/plain": [
       "   dist  speed\n",
       "0    64     20\n",
       "1    62     20\n",
       "2    59     20\n",
       "3   114     30\n",
       "4   118     30"
      ]
     },
     "execution_count": 9,
     "metadata": {},
     "output_type": "execute_result"
    }
   ],
   "source": [
    "speed = [20, 20, 20, 30, 30, 30, 40, 40, 40, 50, 50, 50, 60, 60, 60]\n",
    "stoppingDist = [64, 62, 59, 114, 118, 105, 153, 171, 165, 231, 203, 238, 317, 321, 276]\n",
    "brakes = DataFrame(data={\n",
    "    \"speed\": speed,\n",
    "    \"dist\": stoppingDist\n",
    "})\n",
    "brakes.head()"
   ]
  },
  {
   "cell_type": "code",
   "execution_count": 10,
   "metadata": {
    "collapsed": false
   },
   "outputs": [
    {
     "data": {
      "image/png": "[encoded data removed]",
      "text/plain": [
       "<matplotlib.figure.Figure at 0x106c03ef0>"
      ]
     },
     "metadata": {},
     "output_type": "display_data"
    }
   ],
   "source": [
    "plt.scatter(brakes.speed, brakes.dist)\n",
    "plt.xlabel(\"speed (mph)\")\n",
    "plt.ylabel(\"stopping distance (ft)\")\n",
    "plt.title(\"ex-15\");"
   ]
  },
  {
   "cell_type": "code",
   "execution_count": 11,
   "metadata": {
    "collapsed": false
   },
   "outputs": [
    {
     "data": {
      "text/plain": [
       "0.98462813853605058"
      ]
     },
     "execution_count": 11,
     "metadata": {},
     "output_type": "execute_result"
    }
   ],
   "source": [
    "r = np.corrcoef(brakes.speed, brakes.dist)[0][1]\n",
    "r"
   ]
  },
  {
   "cell_type": "code",
   "execution_count": 12,
   "metadata": {
    "collapsed": false
   },
   "outputs": [
    {
     "data": {
      "text/plain": [
       "5.9766666666666666"
      ]
     },
     "execution_count": 12,
     "metadata": {},
     "output_type": "execute_result"
    }
   ],
   "source": [
    "b1 = r * (brakes.dist.std() / brakes.speed.std())\n",
    "b1"
   ]
  },
  {
   "cell_type": "code",
   "execution_count": 13,
   "metadata": {
    "collapsed": false
   },
   "outputs": [
    {
     "data": {
      "text/plain": [
       "-65.933333333333337"
      ]
     },
     "execution_count": 13,
     "metadata": {},
     "output_type": "execute_result"
    }
   ],
   "source": [
    "b0 = brakes.dist.mean() - b1 * brakes.speed.mean()\n",
    "b0"
   ]
  },
  {
   "cell_type": "code",
   "execution_count": 14,
   "metadata": {
    "collapsed": true
   },
   "outputs": [],
   "source": [
    "def stopping_dist(speed):\n",
    "    return b0 + b1 * speed"
   ]
  },
  {
   "cell_type": "code",
   "execution_count": 15,
   "metadata": {
    "collapsed": false
   },
   "outputs": [
    {
     "data": {
      "text/html": [
       "<div>\n",
       "<table border=\"1\" class=\"dataframe\">\n",
       "  <thead>\n",
       "    <tr style=\"text-align: right;\">\n",
       "      <th></th>\n",
       "      <th>dist</th>\n",
       "      <th>speed</th>\n",
       "      <th>predict</th>\n",
       "    </tr>\n",
       "  </thead>\n",
       "  <tbody>\n",
       "    <tr>\n",
       "      <th>0</th>\n",
       "      <td>64</td>\n",
       "      <td>20</td>\n",
       "      <td>53.600000</td>\n",
       "    </tr>\n",
       "    <tr>\n",
       "      <th>1</th>\n",
       "      <td>62</td>\n",
       "      <td>20</td>\n",
       "      <td>53.600000</td>\n",
       "    </tr>\n",
       "    <tr>\n",
       "      <th>2</th>\n",
       "      <td>59</td>\n",
       "      <td>20</td>\n",
       "      <td>53.600000</td>\n",
       "    </tr>\n",
       "    <tr>\n",
       "      <th>3</th>\n",
       "      <td>114</td>\n",
       "      <td>30</td>\n",
       "      <td>113.366667</td>\n",
       "    </tr>\n",
       "    <tr>\n",
       "      <th>4</th>\n",
       "      <td>118</td>\n",
       "      <td>30</td>\n",
       "      <td>113.366667</td>\n",
       "    </tr>\n",
       "  </tbody>\n",
       "</table>\n",
       "</div>"
      ],
      "text/plain": [
       "   dist  speed     predict\n",
       "0    64     20   53.600000\n",
       "1    62     20   53.600000\n",
       "2    59     20   53.600000\n",
       "3   114     30  113.366667\n",
       "4   118     30  113.366667"
      ]
     },
     "execution_count": 15,
     "metadata": {},
     "output_type": "execute_result"
    }
   ],
   "source": [
    "brakes['predict'] = brakes.speed.apply(lambda x: stopping_dist(x))\n",
    "brakes.head()"
   ]
  },
  {
   "cell_type": "code",
   "execution_count": 16,
   "metadata": {
    "collapsed": false
   },
   "outputs": [
    {
     "data": {
      "text/html": [
       "<div>\n",
       "<table border=\"1\" class=\"dataframe\">\n",
       "  <thead>\n",
       "    <tr style=\"text-align: right;\">\n",
       "      <th></th>\n",
       "      <th>dist</th>\n",
       "      <th>speed</th>\n",
       "      <th>predict</th>\n",
       "      <th>residual</th>\n",
       "    </tr>\n",
       "  </thead>\n",
       "  <tbody>\n",
       "    <tr>\n",
       "      <th>0</th>\n",
       "      <td>64</td>\n",
       "      <td>20</td>\n",
       "      <td>53.600000</td>\n",
       "      <td>10.400000</td>\n",
       "    </tr>\n",
       "    <tr>\n",
       "      <th>1</th>\n",
       "      <td>62</td>\n",
       "      <td>20</td>\n",
       "      <td>53.600000</td>\n",
       "      <td>8.400000</td>\n",
       "    </tr>\n",
       "    <tr>\n",
       "      <th>2</th>\n",
       "      <td>59</td>\n",
       "      <td>20</td>\n",
       "      <td>53.600000</td>\n",
       "      <td>5.400000</td>\n",
       "    </tr>\n",
       "    <tr>\n",
       "      <th>3</th>\n",
       "      <td>114</td>\n",
       "      <td>30</td>\n",
       "      <td>113.366667</td>\n",
       "      <td>0.633333</td>\n",
       "    </tr>\n",
       "    <tr>\n",
       "      <th>4</th>\n",
       "      <td>118</td>\n",
       "      <td>30</td>\n",
       "      <td>113.366667</td>\n",
       "      <td>4.633333</td>\n",
       "    </tr>\n",
       "  </tbody>\n",
       "</table>\n",
       "</div>"
      ],
      "text/plain": [
       "   dist  speed     predict   residual\n",
       "0    64     20   53.600000  10.400000\n",
       "1    62     20   53.600000   8.400000\n",
       "2    59     20   53.600000   5.400000\n",
       "3   114     30  113.366667   0.633333\n",
       "4   118     30  113.366667   4.633333"
      ]
     },
     "execution_count": 16,
     "metadata": {},
     "output_type": "execute_result"
    }
   ],
   "source": [
    "brakes['residual'] = brakes.dist - brakes.predict\n",
    "brakes.head()"
   ]
  },
  {
   "cell_type": "code",
   "execution_count": 17,
   "metadata": {
    "collapsed": false
   },
   "outputs": [
    {
     "data": {
      "image/png": "[encoded data removed]",
      "text/plain": [
       "<matplotlib.figure.Figure at 0x11c2f3080>"
      ]
     },
     "metadata": {},
     "output_type": "display_data"
    }
   ],
   "source": [
    "plt.scatter(brakes.speed, brakes.residual)\n",
    "plt.xlabel(\"speed\")\n",
    "plt.ylabel(\"residual\")\n",
    "plt.title(\"ex 15 - residuals\");"
   ]
  },
  {
   "cell_type": "code",
   "execution_count": 18,
   "metadata": {
    "collapsed": false
   },
   "outputs": [
    {
     "data": {
      "text/html": [
       "<div>\n",
       "<table border=\"1\" class=\"dataframe\">\n",
       "  <thead>\n",
       "    <tr style=\"text-align: right;\">\n",
       "      <th></th>\n",
       "      <th>dist</th>\n",
       "      <th>speed</th>\n",
       "      <th>predict</th>\n",
       "      <th>residual</th>\n",
       "      <th>sqrt_dist</th>\n",
       "    </tr>\n",
       "  </thead>\n",
       "  <tbody>\n",
       "    <tr>\n",
       "      <th>0</th>\n",
       "      <td>64</td>\n",
       "      <td>20</td>\n",
       "      <td>53.600000</td>\n",
       "      <td>10.400000</td>\n",
       "      <td>8.000000</td>\n",
       "    </tr>\n",
       "    <tr>\n",
       "      <th>1</th>\n",
       "      <td>62</td>\n",
       "      <td>20</td>\n",
       "      <td>53.600000</td>\n",
       "      <td>8.400000</td>\n",
       "      <td>7.874008</td>\n",
       "    </tr>\n",
       "    <tr>\n",
       "      <th>2</th>\n",
       "      <td>59</td>\n",
       "      <td>20</td>\n",
       "      <td>53.600000</td>\n",
       "      <td>5.400000</td>\n",
       "      <td>7.681146</td>\n",
       "    </tr>\n",
       "    <tr>\n",
       "      <th>3</th>\n",
       "      <td>114</td>\n",
       "      <td>30</td>\n",
       "      <td>113.366667</td>\n",
       "      <td>0.633333</td>\n",
       "      <td>10.677078</td>\n",
       "    </tr>\n",
       "    <tr>\n",
       "      <th>4</th>\n",
       "      <td>118</td>\n",
       "      <td>30</td>\n",
       "      <td>113.366667</td>\n",
       "      <td>4.633333</td>\n",
       "      <td>10.862780</td>\n",
       "    </tr>\n",
       "  </tbody>\n",
       "</table>\n",
       "</div>"
      ],
      "text/plain": [
       "   dist  speed     predict   residual  sqrt_dist\n",
       "0    64     20   53.600000  10.400000   8.000000\n",
       "1    62     20   53.600000   8.400000   7.874008\n",
       "2    59     20   53.600000   5.400000   7.681146\n",
       "3   114     30  113.366667   0.633333  10.677078\n",
       "4   118     30  113.366667   4.633333  10.862780"
      ]
     },
     "execution_count": 18,
     "metadata": {},
     "output_type": "execute_result"
    }
   ],
   "source": [
    "brakes[\"sqrt_dist\"] = np.sqrt(brakes.dist)\n",
    "brakes.head()"
   ]
  },
  {
   "cell_type": "code",
   "execution_count": 19,
   "metadata": {
    "collapsed": false
   },
   "outputs": [
    {
     "data": {
      "image/png": "[encoded data removed]",
      "text/plain": [
       "<matplotlib.figure.Figure at 0x11ca0b1d0>"
      ]
     },
     "metadata": {},
     "output_type": "display_data"
    }
   ],
   "source": [
    "plt.scatter(brakes.speed, brakes.sqrt_dist)\n",
    "plt.xlabel(\"speed (mph)\")\n",
    "plt.ylabel(\"sqrt(stopping distance) (ft)\")\n",
    "plt.title(\"ex-15\");"
   ]
  },
  {
   "cell_type": "code",
   "execution_count": 20,
   "metadata": {
    "collapsed": false
   },
   "outputs": [
    {
     "data": {
      "text/html": [
       "<div>\n",
       "<table border=\"1\" class=\"dataframe\">\n",
       "  <thead>\n",
       "    <tr style=\"text-align: right;\">\n",
       "      <th></th>\n",
       "      <th>dist</th>\n",
       "      <th>speed</th>\n",
       "      <th>predict</th>\n",
       "      <th>residual</th>\n",
       "      <th>sqrt_dist</th>\n",
       "    </tr>\n",
       "  </thead>\n",
       "  <tbody>\n",
       "    <tr>\n",
       "      <th>0</th>\n",
       "      <td>64</td>\n",
       "      <td>20</td>\n",
       "      <td>8.013074</td>\n",
       "      <td>-0.013074</td>\n",
       "      <td>8.000000</td>\n",
       "    </tr>\n",
       "    <tr>\n",
       "      <th>1</th>\n",
       "      <td>62</td>\n",
       "      <td>20</td>\n",
       "      <td>8.013074</td>\n",
       "      <td>-0.139066</td>\n",
       "      <td>7.874008</td>\n",
       "    </tr>\n",
       "    <tr>\n",
       "      <th>2</th>\n",
       "      <td>59</td>\n",
       "      <td>20</td>\n",
       "      <td>8.013074</td>\n",
       "      <td>-0.331928</td>\n",
       "      <td>7.681146</td>\n",
       "    </tr>\n",
       "    <tr>\n",
       "      <th>3</th>\n",
       "      <td>114</td>\n",
       "      <td>30</td>\n",
       "      <td>10.367909</td>\n",
       "      <td>0.309169</td>\n",
       "      <td>10.677078</td>\n",
       "    </tr>\n",
       "    <tr>\n",
       "      <th>4</th>\n",
       "      <td>118</td>\n",
       "      <td>30</td>\n",
       "      <td>10.367909</td>\n",
       "      <td>0.494871</td>\n",
       "      <td>10.862780</td>\n",
       "    </tr>\n",
       "  </tbody>\n",
       "</table>\n",
       "</div>"
      ],
      "text/plain": [
       "   dist  speed    predict  residual  sqrt_dist\n",
       "0    64     20   8.013074 -0.013074   8.000000\n",
       "1    62     20   8.013074 -0.139066   7.874008\n",
       "2    59     20   8.013074 -0.331928   7.681146\n",
       "3   114     30  10.367909  0.309169  10.677078\n",
       "4   118     30  10.367909  0.494871  10.862780"
      ]
     },
     "execution_count": 20,
     "metadata": {},
     "output_type": "execute_result"
    }
   ],
   "source": [
    "import scipy.stats\n",
    "lr = scipy.stats.linregress(brakes.speed, brakes.sqrt_dist)\n",
    "b1 = lr.slope\n",
    "b0 = lr.intercept\n",
    "brakes.predict = b0 + b1 * brakes.speed\n",
    "brakes.residual = brakes.sqrt_dist - brakes.predict\n",
    "brakes.head()"
   ]
  },
  {
   "cell_type": "code",
   "execution_count": 21,
   "metadata": {
    "collapsed": false
   },
   "outputs": [
    {
     "data": {
      "image/png": "[encoded data removed]",
      "text/plain": [
       "<matplotlib.figure.Figure at 0x11c93a3c8>"
      ]
     },
     "metadata": {},
     "output_type": "display_data"
    }
   ],
   "source": [
    "plt.scatter(brakes.speed, brakes.residual)\n",
    "plt.xlabel(\"speed\")\n",
    "plt.ylabel(\"residuals\")\n",
    "plt.title(\"ex 15 - residuals\");"
   ]
  },
  {
   "cell_type": "code",
   "execution_count": 22,
   "metadata": {
    "collapsed": false
   },
   "outputs": [
    {
     "name": "stdout",
     "output_type": "stream",
     "text": [
      "yhat = 3.303404 + 0.235484 * x\n"
     ]
    }
   ],
   "source": [
    "print(\"yhat = %f + %f * x\" % (b0, b1))"
   ]
  },
  {
   "cell_type": "code",
   "execution_count": 23,
   "metadata": {
    "collapsed": false
   },
   "outputs": [
    {
     "data": {
      "text/plain": [
       "391.536608096656"
      ]
     },
     "execution_count": 23,
     "metadata": {},
     "output_type": "execute_result"
    }
   ],
   "source": [
    "est = math.pow(3.303404 + 0.235484 * 70, 2)\n",
    "est"
   ]
  },
  {
   "cell_type": "code",
   "execution_count": 24,
   "metadata": {
    "collapsed": false
   },
   "outputs": [
    {
     "data": {
      "text/plain": [
       "LinregressResult(slope=0.23548350561825021, intercept=3.303404005127911, rvalue=0.99221941764255095, pvalue=3.774265671034281e-13, stderr=0.0081951278043788777)"
      ]
     },
     "execution_count": 24,
     "metadata": {},
     "output_type": "execute_result"
    }
   ],
   "source": [
    "lr"
   ]
  },
  {
   "cell_type": "code",
   "execution_count": 25,
   "metadata": {
    "collapsed": false
   },
   "outputs": [
    {
     "name": "stdout",
     "output_type": "stream",
     "text": [
      "R^2: 0.984499\n"
     ]
    }
   ],
   "source": [
    "print(\"R^2: %f\" % (math.pow(lr.rvalue, 2)))"
   ]
  },
  {
   "cell_type": "markdown",
   "metadata": {
    "collapsed": true
   },
   "source": [
    "## 17\n",
    "\n",
    "### Answers\n",
    "\n",
    "* a) no - upward curve\n",
    "* b) no - also has an upward curve\n",
    "* c) apply sqrt to salary\n",
    "* d) sqrt salary = 0.151 * year - 11.092"
   ]
  },
  {
   "cell_type": "code",
   "execution_count": 26,
   "metadata": {
    "collapsed": false
   },
   "outputs": [],
   "source": [
    "salaries = DataFrame(data = {\n",
    "        \"year\": [80, 82, 90, 90, 91, 86, 97, 98, 99, 99, 99, 101, 101, 104, 105, 106, 107, 109],\n",
    "        \"salary\": [1.0, 2.0, 3.0, 4.7, 5.3, 8.5, 11.0, 12.5, 12.5, 13.3, 15.0, 17.0, 22.0, 22.5, 26.0, 20.6, 23.4, 33.0]\n",
    "    })"
   ]
  },
  {
   "cell_type": "code",
   "execution_count": 27,
   "metadata": {
    "collapsed": false
   },
   "outputs": [
    {
     "data": {
      "text/html": [
       "<div>\n",
       "<table border=\"1\" class=\"dataframe\">\n",
       "  <thead>\n",
       "    <tr style=\"text-align: right;\">\n",
       "      <th></th>\n",
       "      <th>salary</th>\n",
       "      <th>year</th>\n",
       "    </tr>\n",
       "  </thead>\n",
       "  <tbody>\n",
       "    <tr>\n",
       "      <th>0</th>\n",
       "      <td>1.0</td>\n",
       "      <td>80</td>\n",
       "    </tr>\n",
       "    <tr>\n",
       "      <th>1</th>\n",
       "      <td>2.0</td>\n",
       "      <td>82</td>\n",
       "    </tr>\n",
       "    <tr>\n",
       "      <th>2</th>\n",
       "      <td>3.0</td>\n",
       "      <td>90</td>\n",
       "    </tr>\n",
       "    <tr>\n",
       "      <th>3</th>\n",
       "      <td>4.7</td>\n",
       "      <td>90</td>\n",
       "    </tr>\n",
       "    <tr>\n",
       "      <th>4</th>\n",
       "      <td>5.3</td>\n",
       "      <td>91</td>\n",
       "    </tr>\n",
       "  </tbody>\n",
       "</table>\n",
       "</div>"
      ],
      "text/plain": [
       "   salary  year\n",
       "0     1.0    80\n",
       "1     2.0    82\n",
       "2     3.0    90\n",
       "3     4.7    90\n",
       "4     5.3    91"
      ]
     },
     "execution_count": 27,
     "metadata": {},
     "output_type": "execute_result"
    }
   ],
   "source": [
    "salaries.head()"
   ]
  },
  {
   "cell_type": "code",
   "execution_count": 28,
   "metadata": {
    "collapsed": false
   },
   "outputs": [
    {
     "data": {
      "image/png": "[encoded data removed]",
      "text/plain": [
       "<matplotlib.figure.Figure at 0x11c9e8240>"
      ]
     },
     "metadata": {},
     "output_type": "display_data"
    }
   ],
   "source": [
    "plt.scatter(salaries.year, salaries.salary)\n",
    "plt.xlabel(\"year\")\n",
    "plt.ylabel(\"salary\")\n",
    "plt.title(\"ex 17\");"
   ]
  },
  {
   "cell_type": "code",
   "execution_count": 29,
   "metadata": {
    "collapsed": false
   },
   "outputs": [
    {
     "data": {
      "text/plain": [
       "LinregressResult(slope=0.98495473104917475, intercept=-81.358947274986704, rvalue=0.92363790344888763, pvalue=4.5660020371534743e-08, stderr=0.10217746345884038)"
      ]
     },
     "execution_count": 29,
     "metadata": {},
     "output_type": "execute_result"
    }
   ],
   "source": [
    "lr1 = scipy.stats.linregress(salaries.year, salaries.salary)\n",
    "lr1"
   ]
  },
  {
   "cell_type": "code",
   "execution_count": 30,
   "metadata": {
    "collapsed": false
   },
   "outputs": [
    {
     "data": {
      "text/html": [
       "<div>\n",
       "<table border=\"1\" class=\"dataframe\">\n",
       "  <thead>\n",
       "    <tr style=\"text-align: right;\">\n",
       "      <th></th>\n",
       "      <th>salary</th>\n",
       "      <th>year</th>\n",
       "      <th>predict1</th>\n",
       "      <th>residual1</th>\n",
       "    </tr>\n",
       "  </thead>\n",
       "  <tbody>\n",
       "    <tr>\n",
       "      <th>0</th>\n",
       "      <td>1.0</td>\n",
       "      <td>80</td>\n",
       "      <td>-2.562569</td>\n",
       "      <td>3.562569</td>\n",
       "    </tr>\n",
       "    <tr>\n",
       "      <th>1</th>\n",
       "      <td>2.0</td>\n",
       "      <td>82</td>\n",
       "      <td>-0.592659</td>\n",
       "      <td>2.592659</td>\n",
       "    </tr>\n",
       "    <tr>\n",
       "      <th>2</th>\n",
       "      <td>3.0</td>\n",
       "      <td>90</td>\n",
       "      <td>7.286979</td>\n",
       "      <td>-4.286979</td>\n",
       "    </tr>\n",
       "    <tr>\n",
       "      <th>3</th>\n",
       "      <td>4.7</td>\n",
       "      <td>90</td>\n",
       "      <td>7.286979</td>\n",
       "      <td>-2.586979</td>\n",
       "    </tr>\n",
       "    <tr>\n",
       "      <th>4</th>\n",
       "      <td>5.3</td>\n",
       "      <td>91</td>\n",
       "      <td>8.271933</td>\n",
       "      <td>-2.971933</td>\n",
       "    </tr>\n",
       "  </tbody>\n",
       "</table>\n",
       "</div>"
      ],
      "text/plain": [
       "   salary  year  predict1  residual1\n",
       "0     1.0    80 -2.562569   3.562569\n",
       "1     2.0    82 -0.592659   2.592659\n",
       "2     3.0    90  7.286979  -4.286979\n",
       "3     4.7    90  7.286979  -2.586979\n",
       "4     5.3    91  8.271933  -2.971933"
      ]
     },
     "execution_count": 30,
     "metadata": {},
     "output_type": "execute_result"
    }
   ],
   "source": [
    "salaries['predict1'] = lr1.intercept + lr1.slope * salaries.year\n",
    "salaries['residual1'] = salaries.salary - salaries.predict1\n",
    "salaries.head()"
   ]
  },
  {
   "cell_type": "code",
   "execution_count": 31,
   "metadata": {
    "collapsed": false
   },
   "outputs": [
    {
     "data": {
      "image/png": "[encoded data removed]",
      "text/plain": [
       "<matplotlib.figure.Figure at 0x11cccc588>"
      ]
     },
     "metadata": {},
     "output_type": "display_data"
    }
   ],
   "source": [
    "plt.scatter(salaries.year, salaries.residual1)\n",
    "plt.xlabel(\"year\")\n",
    "plt.ylabel(\"residual 1\")\n",
    "plt.title(\"ex 17 - residual1\");"
   ]
  },
  {
   "cell_type": "code",
   "execution_count": 32,
   "metadata": {
    "collapsed": false
   },
   "outputs": [
    {
     "data": {
      "text/html": [
       "<div>\n",
       "<table border=\"1\" class=\"dataframe\">\n",
       "  <thead>\n",
       "    <tr style=\"text-align: right;\">\n",
       "      <th></th>\n",
       "      <th>salary</th>\n",
       "      <th>year</th>\n",
       "      <th>predict1</th>\n",
       "      <th>residual1</th>\n",
       "      <th>sqrt_salary</th>\n",
       "    </tr>\n",
       "  </thead>\n",
       "  <tbody>\n",
       "    <tr>\n",
       "      <th>0</th>\n",
       "      <td>1.0</td>\n",
       "      <td>80</td>\n",
       "      <td>-2.562569</td>\n",
       "      <td>3.562569</td>\n",
       "      <td>1.000000</td>\n",
       "    </tr>\n",
       "    <tr>\n",
       "      <th>1</th>\n",
       "      <td>2.0</td>\n",
       "      <td>82</td>\n",
       "      <td>-0.592659</td>\n",
       "      <td>2.592659</td>\n",
       "      <td>1.414214</td>\n",
       "    </tr>\n",
       "    <tr>\n",
       "      <th>2</th>\n",
       "      <td>3.0</td>\n",
       "      <td>90</td>\n",
       "      <td>7.286979</td>\n",
       "      <td>-4.286979</td>\n",
       "      <td>1.732051</td>\n",
       "    </tr>\n",
       "    <tr>\n",
       "      <th>3</th>\n",
       "      <td>4.7</td>\n",
       "      <td>90</td>\n",
       "      <td>7.286979</td>\n",
       "      <td>-2.586979</td>\n",
       "      <td>2.167948</td>\n",
       "    </tr>\n",
       "    <tr>\n",
       "      <th>4</th>\n",
       "      <td>5.3</td>\n",
       "      <td>91</td>\n",
       "      <td>8.271933</td>\n",
       "      <td>-2.971933</td>\n",
       "      <td>2.302173</td>\n",
       "    </tr>\n",
       "  </tbody>\n",
       "</table>\n",
       "</div>"
      ],
      "text/plain": [
       "   salary  year  predict1  residual1  sqrt_salary\n",
       "0     1.0    80 -2.562569   3.562569     1.000000\n",
       "1     2.0    82 -0.592659   2.592659     1.414214\n",
       "2     3.0    90  7.286979  -4.286979     1.732051\n",
       "3     4.7    90  7.286979  -2.586979     2.167948\n",
       "4     5.3    91  8.271933  -2.971933     2.302173"
      ]
     },
     "execution_count": 32,
     "metadata": {},
     "output_type": "execute_result"
    }
   ],
   "source": [
    "salaries['sqrt_salary'] = np.sqrt(salaries.salary)\n",
    "salaries.head()"
   ]
  },
  {
   "cell_type": "code",
   "execution_count": 33,
   "metadata": {
    "collapsed": false
   },
   "outputs": [
    {
     "data": {
      "image/png": "[encoded data removed]",
      "text/plain": [
       "<matplotlib.figure.Figure at 0x11cd02c50>"
      ]
     },
     "metadata": {},
     "output_type": "display_data"
    }
   ],
   "source": [
    "plt.scatter(salaries.year, salaries.sqrt_salary)\n",
    "plt.xlabel(\"year\")\n",
    "plt.ylabel(\"square root salary\")\n",
    "plt.title(\"ex 17 - sqrt\");"
   ]
  },
  {
   "cell_type": "code",
   "execution_count": 34,
   "metadata": {
    "collapsed": false
   },
   "outputs": [
    {
     "data": {
      "text/plain": [
       "LinregressResult(slope=0.15073034219600084, intercept=-11.092092545599478, rvalue=0.95344550843463172, pvalue=9.5834313611671061e-10, stderr=0.011918627894556227)"
      ]
     },
     "execution_count": 34,
     "metadata": {},
     "output_type": "execute_result"
    }
   ],
   "source": [
    "lr2 = scipy.stats.linregress(salaries.year, salaries.sqrt_salary)\n",
    "lr2"
   ]
  },
  {
   "cell_type": "code",
   "execution_count": 35,
   "metadata": {
    "collapsed": false
   },
   "outputs": [
    {
     "data": {
      "text/html": [
       "<div>\n",
       "<table border=\"1\" class=\"dataframe\">\n",
       "  <thead>\n",
       "    <tr style=\"text-align: right;\">\n",
       "      <th></th>\n",
       "      <th>salary</th>\n",
       "      <th>year</th>\n",
       "      <th>predict1</th>\n",
       "      <th>residual1</th>\n",
       "      <th>sqrt_salary</th>\n",
       "      <th>predict2</th>\n",
       "      <th>residual2</th>\n",
       "    </tr>\n",
       "  </thead>\n",
       "  <tbody>\n",
       "    <tr>\n",
       "      <th>0</th>\n",
       "      <td>1.0</td>\n",
       "      <td>80</td>\n",
       "      <td>-2.562569</td>\n",
       "      <td>3.562569</td>\n",
       "      <td>1.000000</td>\n",
       "      <td>0.966335</td>\n",
       "      <td>0.033665</td>\n",
       "    </tr>\n",
       "    <tr>\n",
       "      <th>1</th>\n",
       "      <td>2.0</td>\n",
       "      <td>82</td>\n",
       "      <td>-0.592659</td>\n",
       "      <td>2.592659</td>\n",
       "      <td>1.414214</td>\n",
       "      <td>1.267796</td>\n",
       "      <td>0.146418</td>\n",
       "    </tr>\n",
       "    <tr>\n",
       "      <th>2</th>\n",
       "      <td>3.0</td>\n",
       "      <td>90</td>\n",
       "      <td>7.286979</td>\n",
       "      <td>-4.286979</td>\n",
       "      <td>1.732051</td>\n",
       "      <td>2.473638</td>\n",
       "      <td>-0.741587</td>\n",
       "    </tr>\n",
       "    <tr>\n",
       "      <th>3</th>\n",
       "      <td>4.7</td>\n",
       "      <td>90</td>\n",
       "      <td>7.286979</td>\n",
       "      <td>-2.586979</td>\n",
       "      <td>2.167948</td>\n",
       "      <td>2.473638</td>\n",
       "      <td>-0.305690</td>\n",
       "    </tr>\n",
       "    <tr>\n",
       "      <th>4</th>\n",
       "      <td>5.3</td>\n",
       "      <td>91</td>\n",
       "      <td>8.271933</td>\n",
       "      <td>-2.971933</td>\n",
       "      <td>2.302173</td>\n",
       "      <td>2.624369</td>\n",
       "      <td>-0.322196</td>\n",
       "    </tr>\n",
       "  </tbody>\n",
       "</table>\n",
       "</div>"
      ],
      "text/plain": [
       "   salary  year  predict1  residual1  sqrt_salary  predict2  residual2\n",
       "0     1.0    80 -2.562569   3.562569     1.000000  0.966335   0.033665\n",
       "1     2.0    82 -0.592659   2.592659     1.414214  1.267796   0.146418\n",
       "2     3.0    90  7.286979  -4.286979     1.732051  2.473638  -0.741587\n",
       "3     4.7    90  7.286979  -2.586979     2.167948  2.473638  -0.305690\n",
       "4     5.3    91  8.271933  -2.971933     2.302173  2.624369  -0.322196"
      ]
     },
     "execution_count": 35,
     "metadata": {},
     "output_type": "execute_result"
    }
   ],
   "source": [
    "salaries['predict2'] = lr2.intercept + lr2.slope * salaries.year\n",
    "salaries['residual2'] = salaries.sqrt_salary - salaries.predict2\n",
    "salaries.head()"
   ]
  },
  {
   "cell_type": "code",
   "execution_count": 36,
   "metadata": {
    "collapsed": false
   },
   "outputs": [
    {
     "data": {
      "image/png": "[encoded data removed]",
      "text/plain": [
       "<matplotlib.figure.Figure at 0x11cd05860>"
      ]
     },
     "metadata": {},
     "output_type": "display_data"
    }
   ],
   "source": [
    "plt.scatter(salaries.year, salaries.residual2)\n",
    "plt.xlabel(\"year\")\n",
    "plt.ylabel(\"residual 2\")\n",
    "plt.title(\"ex 17 - residual 2\");"
   ]
  },
  {
   "cell_type": "markdown",
   "metadata": {
    "collapsed": true
   },
   "source": [
    "## 19\n",
    "\n",
    "### Answers\n",
    "\n",
    "* see below\n",
    "* yes - the residual, in raw distance is ~-2 billion miles"
   ]
  },
  {
   "cell_type": "code",
   "execution_count": 60,
   "metadata": {
    "collapsed": false
   },
   "outputs": [
    {
     "data": {
      "text/html": [
       "<div>\n",
       "<table border=\"1\" class=\"dataframe\">\n",
       "  <thead>\n",
       "    <tr style=\"text-align: right;\">\n",
       "      <th></th>\n",
       "      <th>planet</th>\n",
       "      <th>position</th>\n",
       "      <th>distance</th>\n",
       "    </tr>\n",
       "  </thead>\n",
       "  <tbody>\n",
       "    <tr>\n",
       "      <th>0</th>\n",
       "      <td>Mercury</td>\n",
       "      <td>1</td>\n",
       "      <td>36</td>\n",
       "    </tr>\n",
       "    <tr>\n",
       "      <th>1</th>\n",
       "      <td>Venus</td>\n",
       "      <td>2</td>\n",
       "      <td>67</td>\n",
       "    </tr>\n",
       "    <tr>\n",
       "      <th>2</th>\n",
       "      <td>Earth</td>\n",
       "      <td>3</td>\n",
       "      <td>93</td>\n",
       "    </tr>\n",
       "    <tr>\n",
       "      <th>3</th>\n",
       "      <td>Mars</td>\n",
       "      <td>4</td>\n",
       "      <td>142</td>\n",
       "    </tr>\n",
       "    <tr>\n",
       "      <th>4</th>\n",
       "      <td>Jupiter</td>\n",
       "      <td>5</td>\n",
       "      <td>484</td>\n",
       "    </tr>\n",
       "  </tbody>\n",
       "</table>\n",
       "</div>"
      ],
      "text/plain": [
       "    planet  position  distance\n",
       "0  Mercury         1        36\n",
       "1    Venus         2        67\n",
       "2    Earth         3        93\n",
       "3     Mars         4       142\n",
       "4  Jupiter         5       484"
      ]
     },
     "execution_count": 60,
     "metadata": {},
     "output_type": "execute_result"
    }
   ],
   "source": [
    "planets = pd.read_table(\"../data/Planets.txt\",  skiprows=1, names=[\"planet\", \"position\", \"distance\"])\n",
    "planets.head()"
   ]
  },
  {
   "cell_type": "code",
   "execution_count": 61,
   "metadata": {
    "collapsed": false
   },
   "outputs": [
    {
     "data": {
      "text/html": [
       "<div>\n",
       "<table border=\"1\" class=\"dataframe\">\n",
       "  <thead>\n",
       "    <tr style=\"text-align: right;\">\n",
       "      <th></th>\n",
       "      <th>planet</th>\n",
       "      <th>position</th>\n",
       "      <th>distance</th>\n",
       "    </tr>\n",
       "  </thead>\n",
       "  <tbody>\n",
       "    <tr>\n",
       "      <th>8</th>\n",
       "      <td>Pluto</td>\n",
       "      <td>9</td>\n",
       "      <td>3666</td>\n",
       "    </tr>\n",
       "  </tbody>\n",
       "</table>\n",
       "</div>"
      ],
      "text/plain": [
       "  planet  position  distance\n",
       "8  Pluto         9      3666"
      ]
     },
     "execution_count": 61,
     "metadata": {},
     "output_type": "execute_result"
    }
   ],
   "source": [
    "pluto = planets[planets.planet == 'Pluto']\n",
    "pluto"
   ]
  },
  {
   "cell_type": "code",
   "execution_count": 62,
   "metadata": {
    "collapsed": true
   },
   "outputs": [],
   "source": [
    "planets = planets[planets.planet != 'Pluto']"
   ]
  },
  {
   "cell_type": "code",
   "execution_count": 63,
   "metadata": {
    "collapsed": false
   },
   "outputs": [
    {
     "data": {
      "image/png": "[encoded data removed]",
      "text/plain": [
       "<matplotlib.figure.Figure at 0x11d4691d0>"
      ]
     },
     "metadata": {},
     "output_type": "display_data"
    }
   ],
   "source": [
    "plt.scatter(planets.position, planets.distance)\n",
    "plt.xlabel(\"position\")\n",
    "plt.ylabel(\"distance\")\n",
    "plt.title(\"ex 19\");"
   ]
  },
  {
   "cell_type": "code",
   "execution_count": 86,
   "metadata": {
    "collapsed": false
   },
   "outputs": [
    {
     "data": {
      "text/html": [
       "<div>\n",
       "<table border=\"1\" class=\"dataframe\">\n",
       "  <thead>\n",
       "    <tr style=\"text-align: right;\">\n",
       "      <th></th>\n",
       "      <th>planet</th>\n",
       "      <th>position</th>\n",
       "      <th>distance</th>\n",
       "      <th>log_distance</th>\n",
       "      <th>prediction</th>\n",
       "      <th>residual</th>\n",
       "    </tr>\n",
       "  </thead>\n",
       "  <tbody>\n",
       "    <tr>\n",
       "      <th>0</th>\n",
       "      <td>Mercury</td>\n",
       "      <td>1</td>\n",
       "      <td>36</td>\n",
       "      <td>1.556303</td>\n",
       "      <td>3.422450</td>\n",
       "      <td>0.161069</td>\n",
       "    </tr>\n",
       "    <tr>\n",
       "      <th>1</th>\n",
       "      <td>Venus</td>\n",
       "      <td>2</td>\n",
       "      <td>67</td>\n",
       "      <td>1.826075</td>\n",
       "      <td>4.075647</td>\n",
       "      <td>0.129045</td>\n",
       "    </tr>\n",
       "    <tr>\n",
       "      <th>2</th>\n",
       "      <td>Earth</td>\n",
       "      <td>3</td>\n",
       "      <td>93</td>\n",
       "      <td>1.968483</td>\n",
       "      <td>4.728845</td>\n",
       "      <td>-0.196245</td>\n",
       "    </tr>\n",
       "    <tr>\n",
       "      <th>3</th>\n",
       "      <td>Mars</td>\n",
       "      <td>4</td>\n",
       "      <td>142</td>\n",
       "      <td>2.152288</td>\n",
       "      <td>5.382042</td>\n",
       "      <td>-0.426215</td>\n",
       "    </tr>\n",
       "    <tr>\n",
       "      <th>4</th>\n",
       "      <td>Jupiter</td>\n",
       "      <td>5</td>\n",
       "      <td>484</td>\n",
       "      <td>2.684845</td>\n",
       "      <td>6.035239</td>\n",
       "      <td>0.146845</td>\n",
       "    </tr>\n",
       "  </tbody>\n",
       "</table>\n",
       "</div>"
      ],
      "text/plain": [
       "    planet  position  distance  log_distance  prediction  residual\n",
       "0  Mercury         1        36      1.556303    3.422450  0.161069\n",
       "1    Venus         2        67      1.826075    4.075647  0.129045\n",
       "2    Earth         3        93      1.968483    4.728845 -0.196245\n",
       "3     Mars         4       142      2.152288    5.382042 -0.426215\n",
       "4  Jupiter         5       484      2.684845    6.035239  0.146845"
      ]
     },
     "execution_count": 86,
     "metadata": {},
     "output_type": "execute_result"
    }
   ],
   "source": [
    "planets['log_distance'] = np.log10(planets.distance)\n",
    "planets.head()"
   ]
  },
  {
   "cell_type": "code",
   "execution_count": 87,
   "metadata": {
    "collapsed": false
   },
   "outputs": [
    {
     "data": {
      "image/png": "[encoded data removed]",
      "text/plain": [
       "<matplotlib.figure.Figure at 0x11d02d940>"
      ]
     },
     "metadata": {},
     "output_type": "display_data"
    }
   ],
   "source": [
    "plt.scatter(planets.position, planets.log_distance)\n",
    "plt.xlabel(\"position\")\n",
    "plt.ylabel(\"logdistance\")\n",
    "plt.title(\"ex 19\");"
   ]
  },
  {
   "cell_type": "code",
   "execution_count": 88,
   "metadata": {
    "collapsed": false
   },
   "outputs": [
    {
     "data": {
      "text/plain": [
       "LinregressResult(slope=0.28368002299923351, intercept=1.2026710958778231, rvalue=0.99122459751946135, pvalue=1.6783340756818712e-06, stderr=0.015444530263976136)"
      ]
     },
     "execution_count": 88,
     "metadata": {},
     "output_type": "execute_result"
    }
   ],
   "source": [
    "plr = scipy.stats.linregress(planets.position, planets.log_distance)\n",
    "plr"
   ]
  },
  {
   "cell_type": "code",
   "execution_count": 89,
   "metadata": {
    "collapsed": false
   },
   "outputs": [
    {
     "data": {
      "text/html": [
       "<div>\n",
       "<table border=\"1\" class=\"dataframe\">\n",
       "  <thead>\n",
       "    <tr style=\"text-align: right;\">\n",
       "      <th></th>\n",
       "      <th>planet</th>\n",
       "      <th>position</th>\n",
       "      <th>distance</th>\n",
       "      <th>log_distance</th>\n",
       "      <th>prediction</th>\n",
       "      <th>residual</th>\n",
       "    </tr>\n",
       "  </thead>\n",
       "  <tbody>\n",
       "    <tr>\n",
       "      <th>0</th>\n",
       "      <td>Mercury</td>\n",
       "      <td>1</td>\n",
       "      <td>36</td>\n",
       "      <td>1.556303</td>\n",
       "      <td>1.486351</td>\n",
       "      <td>0.069951</td>\n",
       "    </tr>\n",
       "    <tr>\n",
       "      <th>1</th>\n",
       "      <td>Venus</td>\n",
       "      <td>2</td>\n",
       "      <td>67</td>\n",
       "      <td>1.826075</td>\n",
       "      <td>1.770031</td>\n",
       "      <td>0.056044</td>\n",
       "    </tr>\n",
       "    <tr>\n",
       "      <th>2</th>\n",
       "      <td>Earth</td>\n",
       "      <td>3</td>\n",
       "      <td>93</td>\n",
       "      <td>1.968483</td>\n",
       "      <td>2.053711</td>\n",
       "      <td>-0.085228</td>\n",
       "    </tr>\n",
       "    <tr>\n",
       "      <th>3</th>\n",
       "      <td>Mars</td>\n",
       "      <td>4</td>\n",
       "      <td>142</td>\n",
       "      <td>2.152288</td>\n",
       "      <td>2.337391</td>\n",
       "      <td>-0.185103</td>\n",
       "    </tr>\n",
       "    <tr>\n",
       "      <th>4</th>\n",
       "      <td>Jupiter</td>\n",
       "      <td>5</td>\n",
       "      <td>484</td>\n",
       "      <td>2.684845</td>\n",
       "      <td>2.621071</td>\n",
       "      <td>0.063774</td>\n",
       "    </tr>\n",
       "  </tbody>\n",
       "</table>\n",
       "</div>"
      ],
      "text/plain": [
       "    planet  position  distance  log_distance  prediction  residual\n",
       "0  Mercury         1        36      1.556303    1.486351  0.069951\n",
       "1    Venus         2        67      1.826075    1.770031  0.056044\n",
       "2    Earth         3        93      1.968483    2.053711 -0.085228\n",
       "3     Mars         4       142      2.152288    2.337391 -0.185103\n",
       "4  Jupiter         5       484      2.684845    2.621071  0.063774"
      ]
     },
     "execution_count": 89,
     "metadata": {},
     "output_type": "execute_result"
    }
   ],
   "source": [
    "planets['prediction'] = plr.intercept + plr.slope * planets.position\n",
    "planets['residual'] = planets.log_distance - planets.prediction\n",
    "planets.head()"
   ]
  },
  {
   "cell_type": "code",
   "execution_count": 90,
   "metadata": {
    "collapsed": false
   },
   "outputs": [
    {
     "data": {
      "image/png": "[encoded data removed]",
      "text/plain": [
       "<matplotlib.figure.Figure at 0x11cd02128>"
      ]
     },
     "metadata": {},
     "output_type": "display_data"
    }
   ],
   "source": [
    "plt.scatter(planets.position, planets.residual)\n",
    "plt.xlabel(\"position\")\n",
    "plt.ylabel(\"residual\")\n",
    "plt.title(\"ex 19 - residual\");"
   ]
  },
  {
   "cell_type": "code",
   "execution_count": 91,
   "metadata": {
    "collapsed": false
   },
   "outputs": [
    {
     "data": {
      "text/plain": [
       "5698.903497098489"
      ]
     },
     "execution_count": 91,
     "metadata": {},
     "output_type": "execute_result"
    }
   ],
   "source": [
    "pluto = math.pow(10, plr.intercept + plr.slope * 9)\n",
    "pluto"
   ]
  },
  {
   "cell_type": "code",
   "execution_count": 92,
   "metadata": {
    "collapsed": false
   },
   "outputs": [
    {
     "data": {
      "text/plain": [
       "-2032.9034970984894"
      ]
     },
     "execution_count": 92,
     "metadata": {},
     "output_type": "execute_result"
    }
   ],
   "source": [
    "residual = 3666 - pluto\n",
    "residual"
   ]
  },
  {
   "cell_type": "markdown",
   "metadata": {
    "collapsed": true
   },
   "source": [
    "## 21\n",
    "\n",
    "### Answers\n",
    "\n",
    "* note: it's not clear from the question which position eris falls at, and based on that, whether our model should include or exclude pluto in the list of \"planets\" used in the training set.  attempts including and excluding pluto, using ln and log10 transforms all arrived at different predictions from the answer described in the keys\n",
    "* it falls at the higher end of the residuals, but not outside the range shown by other planets"
   ]
  },
  {
   "cell_type": "code",
   "execution_count": 94,
   "metadata": {
    "collapsed": false
   },
   "outputs": [
    {
     "data": {
      "text/plain": [
       "3.7557913028709247"
      ]
     },
     "execution_count": 94,
     "metadata": {},
     "output_type": "execute_result"
    }
   ],
   "source": [
    "prediction = (plr.intercept + plr.slope * 9)\n",
    "prediction"
   ]
  },
  {
   "cell_type": "code",
   "execution_count": 96,
   "metadata": {
    "collapsed": false
   },
   "outputs": [
    {
     "data": {
      "text/plain": [
       "5698.903497098489"
      ]
     },
     "execution_count": 96,
     "metadata": {},
     "output_type": "execute_result"
    }
   ],
   "source": [
    "math.pow(10, prediction)"
   ]
  },
  {
   "cell_type": "code",
   "execution_count": 95,
   "metadata": {
    "collapsed": false
   },
   "outputs": [
    {
     "data": {
      "text/plain": [
       "0.04354924658265702"
      ]
     },
     "execution_count": 95,
     "metadata": {},
     "output_type": "execute_result"
    }
   ],
   "source": [
    "residual = np.log10(6300) - prediction\n",
    "residual"
   ]
  },
  {
   "cell_type": "code",
   "execution_count": 82,
   "metadata": {
    "collapsed": false
   },
   "outputs": [
    {
     "data": {
      "text/html": [
       "<div>\n",
       "<table border=\"1\" class=\"dataframe\">\n",
       "  <thead>\n",
       "    <tr style=\"text-align: right;\">\n",
       "      <th></th>\n",
       "      <th>planet</th>\n",
       "      <th>position</th>\n",
       "      <th>distance</th>\n",
       "      <th>log_distance</th>\n",
       "      <th>prediction</th>\n",
       "      <th>residual</th>\n",
       "    </tr>\n",
       "  </thead>\n",
       "  <tbody>\n",
       "    <tr>\n",
       "      <th>0</th>\n",
       "      <td>Mercury</td>\n",
       "      <td>1</td>\n",
       "      <td>36</td>\n",
       "      <td>3.583519</td>\n",
       "      <td>3.422450</td>\n",
       "      <td>0.161069</td>\n",
       "    </tr>\n",
       "    <tr>\n",
       "      <th>1</th>\n",
       "      <td>Venus</td>\n",
       "      <td>2</td>\n",
       "      <td>67</td>\n",
       "      <td>4.204693</td>\n",
       "      <td>4.075647</td>\n",
       "      <td>0.129045</td>\n",
       "    </tr>\n",
       "    <tr>\n",
       "      <th>2</th>\n",
       "      <td>Earth</td>\n",
       "      <td>3</td>\n",
       "      <td>93</td>\n",
       "      <td>4.532599</td>\n",
       "      <td>4.728845</td>\n",
       "      <td>-0.196245</td>\n",
       "    </tr>\n",
       "    <tr>\n",
       "      <th>3</th>\n",
       "      <td>Mars</td>\n",
       "      <td>4</td>\n",
       "      <td>142</td>\n",
       "      <td>4.955827</td>\n",
       "      <td>5.382042</td>\n",
       "      <td>-0.426215</td>\n",
       "    </tr>\n",
       "    <tr>\n",
       "      <th>4</th>\n",
       "      <td>Jupiter</td>\n",
       "      <td>5</td>\n",
       "      <td>484</td>\n",
       "      <td>6.182085</td>\n",
       "      <td>6.035239</td>\n",
       "      <td>0.146845</td>\n",
       "    </tr>\n",
       "    <tr>\n",
       "      <th>5</th>\n",
       "      <td>Saturn</td>\n",
       "      <td>6</td>\n",
       "      <td>887</td>\n",
       "      <td>6.787845</td>\n",
       "      <td>6.688437</td>\n",
       "      <td>0.099408</td>\n",
       "    </tr>\n",
       "    <tr>\n",
       "      <th>6</th>\n",
       "      <td>Uranus</td>\n",
       "      <td>7</td>\n",
       "      <td>1784</td>\n",
       "      <td>7.486613</td>\n",
       "      <td>7.341634</td>\n",
       "      <td>0.144979</td>\n",
       "    </tr>\n",
       "    <tr>\n",
       "      <th>7</th>\n",
       "      <td>Neptune</td>\n",
       "      <td>8</td>\n",
       "      <td>2796</td>\n",
       "      <td>7.935945</td>\n",
       "      <td>7.994832</td>\n",
       "      <td>-0.058887</td>\n",
       "    </tr>\n",
       "  </tbody>\n",
       "</table>\n",
       "</div>"
      ],
      "text/plain": [
       "    planet  position  distance  log_distance  prediction  residual\n",
       "0  Mercury         1        36      3.583519    3.422450  0.161069\n",
       "1    Venus         2        67      4.204693    4.075647  0.129045\n",
       "2    Earth         3        93      4.532599    4.728845 -0.196245\n",
       "3     Mars         4       142      4.955827    5.382042 -0.426215\n",
       "4  Jupiter         5       484      6.182085    6.035239  0.146845\n",
       "5   Saturn         6       887      6.787845    6.688437  0.099408\n",
       "6   Uranus         7      1784      7.486613    7.341634  0.144979\n",
       "7  Neptune         8      2796      7.935945    7.994832 -0.058887"
      ]
     },
     "execution_count": 82,
     "metadata": {},
     "output_type": "execute_result"
    }
   ],
   "source": [
    "planets"
   ]
  },
  {
   "cell_type": "markdown",
   "metadata": {
    "collapsed": true
   },
   "source": [
    "## 23\n",
    "\n",
    "### Answers\n",
    "\n",
    "* a) board_ft = (diameter - 4)^2\n",
    "* b) 36 board ft\n",
    "* c) 1024 board ft"
   ]
  },
  {
   "cell_type": "code",
   "execution_count": 106,
   "metadata": {
    "collapsed": false
   },
   "outputs": [
    {
     "data": {
      "text/html": [
       "<div>\n",
       "<table border=\"1\" class=\"dataframe\">\n",
       "  <thead>\n",
       "    <tr style=\"text-align: right;\">\n",
       "      <th></th>\n",
       "      <th>board_ft</th>\n",
       "      <th>diameter</th>\n",
       "    </tr>\n",
       "  </thead>\n",
       "  <tbody>\n",
       "    <tr>\n",
       "      <th>0</th>\n",
       "      <td>16</td>\n",
       "      <td>8</td>\n",
       "    </tr>\n",
       "    <tr>\n",
       "      <th>1</th>\n",
       "      <td>64</td>\n",
       "      <td>12</td>\n",
       "    </tr>\n",
       "    <tr>\n",
       "      <th>2</th>\n",
       "      <td>144</td>\n",
       "      <td>16</td>\n",
       "    </tr>\n",
       "    <tr>\n",
       "      <th>3</th>\n",
       "      <td>256</td>\n",
       "      <td>20</td>\n",
       "    </tr>\n",
       "    <tr>\n",
       "      <th>4</th>\n",
       "      <td>400</td>\n",
       "      <td>24</td>\n",
       "    </tr>\n",
       "  </tbody>\n",
       "</table>\n",
       "</div>"
      ],
      "text/plain": [
       "   board_ft  diameter\n",
       "0        16         8\n",
       "1        64        12\n",
       "2       144        16\n",
       "3       256        20\n",
       "4       400        24"
      ]
     },
     "execution_count": 106,
     "metadata": {},
     "output_type": "execute_result"
    }
   ],
   "source": [
    "diameter = [8, 12, 16, 20, 24, 28]\n",
    "board_ft = [16, 64, 144, 256, 400, 576]\n",
    "logs = DataFrame(data = {\n",
    "        \"diameter\": diameter,\n",
    "        \"board_ft\": board_ft\n",
    "    })\n",
    "logs.head()"
   ]
  },
  {
   "cell_type": "code",
   "execution_count": 107,
   "metadata": {
    "collapsed": false
   },
   "outputs": [
    {
     "data": {
      "text/plain": [
       "array([  4.,   8.,  12.,  16.,  20.,  24.])"
      ]
     },
     "execution_count": 107,
     "metadata": {},
     "output_type": "execute_result"
    }
   ],
   "source": [
    "np.sqrt(board_ft)"
   ]
  },
  {
   "cell_type": "code",
   "execution_count": 108,
   "metadata": {
    "collapsed": false
   },
   "outputs": [
    {
     "data": {
      "text/plain": [
       "0     16\n",
       "1     64\n",
       "2    144\n",
       "3    256\n",
       "4    400\n",
       "5    576\n",
       "Name: diameter, dtype: int64"
      ]
     },
     "execution_count": 108,
     "metadata": {},
     "output_type": "execute_result"
    }
   ],
   "source": [
    "np.power(logs.diameter - 4, 2)"
   ]
  },
  {
   "cell_type": "code",
   "execution_count": 109,
   "metadata": {
    "collapsed": false
   },
   "outputs": [
    {
     "data": {
      "text/plain": [
       "36.0"
      ]
     },
     "execution_count": 109,
     "metadata": {},
     "output_type": "execute_result"
    }
   ],
   "source": [
    "math.pow(10 - 4, 2)"
   ]
  },
  {
   "cell_type": "code",
   "execution_count": 110,
   "metadata": {
    "collapsed": false
   },
   "outputs": [
    {
     "data": {
      "text/plain": [
       "1024.0"
      ]
     },
     "execution_count": 110,
     "metadata": {},
     "output_type": "execute_result"
    }
   ],
   "source": [
    "math.pow(36 - 4, 2)"
   ]
  },
  {
   "cell_type": "markdown",
   "metadata": {
    "collapsed": true
   },
   "source": [
    "## 25\n",
    "\n",
    "### Answers\n",
    "\n",
    "* ln(life expect) = 3.7918 + 0.2124 * ln(year index -- decades after 1890)"
   ]
  },
  {
   "cell_type": "code",
   "execution_count": 143,
   "metadata": {
    "collapsed": false
   },
   "outputs": [
    {
     "data": {
      "text/html": [
       "<div>\n",
       "<table border=\"1\" class=\"dataframe\">\n",
       "  <thead>\n",
       "    <tr style=\"text-align: right;\">\n",
       "      <th></th>\n",
       "      <th>expect</th>\n",
       "      <th>year</th>\n",
       "    </tr>\n",
       "  </thead>\n",
       "  <tbody>\n",
       "    <tr>\n",
       "      <th>0</th>\n",
       "      <td>46.6</td>\n",
       "      <td>1</td>\n",
       "    </tr>\n",
       "    <tr>\n",
       "      <th>1</th>\n",
       "      <td>48.6</td>\n",
       "      <td>2</td>\n",
       "    </tr>\n",
       "    <tr>\n",
       "      <th>2</th>\n",
       "      <td>54.4</td>\n",
       "      <td>3</td>\n",
       "    </tr>\n",
       "    <tr>\n",
       "      <th>3</th>\n",
       "      <td>59.7</td>\n",
       "      <td>4</td>\n",
       "    </tr>\n",
       "    <tr>\n",
       "      <th>4</th>\n",
       "      <td>62.1</td>\n",
       "      <td>5</td>\n",
       "    </tr>\n",
       "    <tr>\n",
       "      <th>5</th>\n",
       "      <td>66.5</td>\n",
       "      <td>6</td>\n",
       "    </tr>\n",
       "    <tr>\n",
       "      <th>6</th>\n",
       "      <td>67.4</td>\n",
       "      <td>7</td>\n",
       "    </tr>\n",
       "    <tr>\n",
       "      <th>7</th>\n",
       "      <td>68.0</td>\n",
       "      <td>8</td>\n",
       "    </tr>\n",
       "    <tr>\n",
       "      <th>8</th>\n",
       "      <td>70.7</td>\n",
       "      <td>9</td>\n",
       "    </tr>\n",
       "    <tr>\n",
       "      <th>9</th>\n",
       "      <td>72.7</td>\n",
       "      <td>10</td>\n",
       "    </tr>\n",
       "    <tr>\n",
       "      <th>10</th>\n",
       "      <td>74.9</td>\n",
       "      <td>11</td>\n",
       "    </tr>\n",
       "  </tbody>\n",
       "</table>\n",
       "</div>"
      ],
      "text/plain": [
       "    expect  year\n",
       "0     46.6     1\n",
       "1     48.6     2\n",
       "2     54.4     3\n",
       "3     59.7     4\n",
       "4     62.1     5\n",
       "5     66.5     6\n",
       "6     67.4     7\n",
       "7     68.0     8\n",
       "8     70.7     9\n",
       "9     72.7    10\n",
       "10    74.9    11"
      ]
     },
     "execution_count": 143,
     "metadata": {},
     "output_type": "execute_result"
    }
   ],
   "source": [
    "year_idx = [x + 1 for x in range(11)]\n",
    "life_exp = [46.6, 48.6, 54.4, 59.7, 62.1, 66.5, 67.4, 68.0, 70.7, 72.7, 74.9]\n",
    "le = DataFrame(data = {\n",
    "        \"year\": year_idx,\n",
    "        \"expect\": life_exp\n",
    "    })\n",
    "le"
   ]
  },
  {
   "cell_type": "code",
   "execution_count": 144,
   "metadata": {
    "collapsed": false
   },
   "outputs": [
    {
     "data": {
      "image/png": "[encoded data removed]",
      "text/plain": [
       "<matplotlib.figure.Figure at 0x11c9ec1d0>"
      ]
     },
     "metadata": {},
     "output_type": "display_data"
    }
   ],
   "source": [
    "plt.scatter(le.year, le.expect);"
   ]
  },
  {
   "cell_type": "code",
   "execution_count": 145,
   "metadata": {
    "collapsed": false
   },
   "outputs": [
    {
     "data": {
      "text/plain": [
       "LinregressResult(slope=2.8063636363636371, intercept=46.034545454545452, rvalue=0.97388875441247658, pvalue=4.2346950008455766e-07, stderr=0.21806625727513076)"
      ]
     },
     "execution_count": 145,
     "metadata": {},
     "output_type": "execute_result"
    }
   ],
   "source": [
    "lr = scipy.stats.linregress(le.year, le.expect)\n",
    "lr"
   ]
  },
  {
   "cell_type": "code",
   "execution_count": 146,
   "metadata": {
    "collapsed": false
   },
   "outputs": [
    {
     "data": {
      "text/html": [
       "<div>\n",
       "<table border=\"1\" class=\"dataframe\">\n",
       "  <thead>\n",
       "    <tr style=\"text-align: right;\">\n",
       "      <th></th>\n",
       "      <th>expect</th>\n",
       "      <th>year</th>\n",
       "      <th>prediction</th>\n",
       "      <th>residual</th>\n",
       "    </tr>\n",
       "  </thead>\n",
       "  <tbody>\n",
       "    <tr>\n",
       "      <th>0</th>\n",
       "      <td>46.6</td>\n",
       "      <td>1</td>\n",
       "      <td>48.840909</td>\n",
       "      <td>-2.240909</td>\n",
       "    </tr>\n",
       "    <tr>\n",
       "      <th>1</th>\n",
       "      <td>48.6</td>\n",
       "      <td>2</td>\n",
       "      <td>51.647273</td>\n",
       "      <td>-3.047273</td>\n",
       "    </tr>\n",
       "    <tr>\n",
       "      <th>2</th>\n",
       "      <td>54.4</td>\n",
       "      <td>3</td>\n",
       "      <td>54.453636</td>\n",
       "      <td>-0.053636</td>\n",
       "    </tr>\n",
       "    <tr>\n",
       "      <th>3</th>\n",
       "      <td>59.7</td>\n",
       "      <td>4</td>\n",
       "      <td>57.260000</td>\n",
       "      <td>2.440000</td>\n",
       "    </tr>\n",
       "    <tr>\n",
       "      <th>4</th>\n",
       "      <td>62.1</td>\n",
       "      <td>5</td>\n",
       "      <td>60.066364</td>\n",
       "      <td>2.033636</td>\n",
       "    </tr>\n",
       "  </tbody>\n",
       "</table>\n",
       "</div>"
      ],
      "text/plain": [
       "   expect  year  prediction  residual\n",
       "0    46.6     1   48.840909 -2.240909\n",
       "1    48.6     2   51.647273 -3.047273\n",
       "2    54.4     3   54.453636 -0.053636\n",
       "3    59.7     4   57.260000  2.440000\n",
       "4    62.1     5   60.066364  2.033636"
      ]
     },
     "execution_count": 146,
     "metadata": {},
     "output_type": "execute_result"
    }
   ],
   "source": [
    "le['prediction'] = lr.intercept + lr.slope * le.year\n",
    "le['residual'] = le.expect - le.prediction\n",
    "le.head()"
   ]
  },
  {
   "cell_type": "code",
   "execution_count": 147,
   "metadata": {
    "collapsed": false
   },
   "outputs": [
    {
     "data": {
      "image/png": "[encoded data removed]",
      "text/plain": [
       "<matplotlib.figure.Figure at 0x11d1e9fd0>"
      ]
     },
     "metadata": {},
     "output_type": "display_data"
    }
   ],
   "source": [
    "plt.scatter(le.year, le.residual);"
   ]
  },
  {
   "cell_type": "code",
   "execution_count": 154,
   "metadata": {
    "collapsed": false
   },
   "outputs": [
    {
     "data": {
      "text/plain": [
       "<matplotlib.collections.PathCollection at 0x10688c128>"
      ]
     },
     "execution_count": 154,
     "metadata": {},
     "output_type": "execute_result"
    },
    {
     "data": {
      "image/png": "[encoded data removed]",
      "text/plain": [
       "<matplotlib.figure.Figure at 0x11cd2e748>"
      ]
     },
     "metadata": {},
     "output_type": "display_data"
    }
   ],
   "source": [
    "le['log_expect'] = np.log(le.expect)\n",
    "le['log_year'] = np.log(le.year)\n",
    "plt.scatter(le.log_year, le.log_expect)"
   ]
  },
  {
   "cell_type": "code",
   "execution_count": 155,
   "metadata": {
    "collapsed": false
   },
   "outputs": [
    {
     "data": {
      "text/plain": [
       "LinregressResult(slope=0.21241625477976672, intercept=3.7918351883032946, rvalue=0.98533978962481317, pvalue=3.2055619999885509e-08, stderr=0.012259365591687752)"
      ]
     },
     "execution_count": 155,
     "metadata": {},
     "output_type": "execute_result"
    }
   ],
   "source": [
    "lr = scipy.stats.linregress(le.log_year, le.log_expect)\n",
    "lr"
   ]
  },
  {
   "cell_type": "code",
   "execution_count": 156,
   "metadata": {
    "collapsed": false
   },
   "outputs": [
    {
     "data": {
      "text/html": [
       "<div>\n",
       "<table border=\"1\" class=\"dataframe\">\n",
       "  <thead>\n",
       "    <tr style=\"text-align: right;\">\n",
       "      <th></th>\n",
       "      <th>expect</th>\n",
       "      <th>year</th>\n",
       "      <th>prediction</th>\n",
       "      <th>residual</th>\n",
       "      <th>log_expect</th>\n",
       "      <th>log_year</th>\n",
       "      <th>log_predict</th>\n",
       "      <th>log_resid</th>\n",
       "    </tr>\n",
       "  </thead>\n",
       "  <tbody>\n",
       "    <tr>\n",
       "      <th>0</th>\n",
       "      <td>46.6</td>\n",
       "      <td>1</td>\n",
       "      <td>48.840909</td>\n",
       "      <td>-2.240909</td>\n",
       "      <td>3.841601</td>\n",
       "      <td>0.000000</td>\n",
       "      <td>3.791835</td>\n",
       "      <td>0.049765</td>\n",
       "    </tr>\n",
       "    <tr>\n",
       "      <th>1</th>\n",
       "      <td>48.6</td>\n",
       "      <td>2</td>\n",
       "      <td>51.647273</td>\n",
       "      <td>-3.047273</td>\n",
       "      <td>3.883624</td>\n",
       "      <td>0.693147</td>\n",
       "      <td>3.939071</td>\n",
       "      <td>-0.055447</td>\n",
       "    </tr>\n",
       "    <tr>\n",
       "      <th>2</th>\n",
       "      <td>54.4</td>\n",
       "      <td>3</td>\n",
       "      <td>54.453636</td>\n",
       "      <td>-0.053636</td>\n",
       "      <td>3.996364</td>\n",
       "      <td>1.098612</td>\n",
       "      <td>4.025198</td>\n",
       "      <td>-0.028834</td>\n",
       "    </tr>\n",
       "    <tr>\n",
       "      <th>3</th>\n",
       "      <td>59.7</td>\n",
       "      <td>4</td>\n",
       "      <td>57.260000</td>\n",
       "      <td>2.440000</td>\n",
       "      <td>4.089332</td>\n",
       "      <td>1.386294</td>\n",
       "      <td>4.086307</td>\n",
       "      <td>0.003025</td>\n",
       "    </tr>\n",
       "    <tr>\n",
       "      <th>4</th>\n",
       "      <td>62.1</td>\n",
       "      <td>5</td>\n",
       "      <td>60.066364</td>\n",
       "      <td>2.033636</td>\n",
       "      <td>4.128746</td>\n",
       "      <td>1.609438</td>\n",
       "      <td>4.133706</td>\n",
       "      <td>-0.004960</td>\n",
       "    </tr>\n",
       "  </tbody>\n",
       "</table>\n",
       "</div>"
      ],
      "text/plain": [
       "   expect  year  prediction  residual  log_expect  log_year  log_predict  \\\n",
       "0    46.6     1   48.840909 -2.240909    3.841601  0.000000     3.791835   \n",
       "1    48.6     2   51.647273 -3.047273    3.883624  0.693147     3.939071   \n",
       "2    54.4     3   54.453636 -0.053636    3.996364  1.098612     4.025198   \n",
       "3    59.7     4   57.260000  2.440000    4.089332  1.386294     4.086307   \n",
       "4    62.1     5   60.066364  2.033636    4.128746  1.609438     4.133706   \n",
       "\n",
       "   log_resid  \n",
       "0   0.049765  \n",
       "1  -0.055447  \n",
       "2  -0.028834  \n",
       "3   0.003025  \n",
       "4  -0.004960  "
      ]
     },
     "execution_count": 156,
     "metadata": {},
     "output_type": "execute_result"
    }
   ],
   "source": [
    "le['log_predict'] = lr.intercept + lr.slope * le.log_year\n",
    "le['log_resid'] = le.log_expect - le.log_predict\n",
    "le.head()"
   ]
  },
  {
   "cell_type": "code",
   "execution_count": 157,
   "metadata": {
    "collapsed": false
   },
   "outputs": [
    {
     "data": {
      "image/png": "[encoded data removed]",
      "text/plain": [
       "<matplotlib.figure.Figure at 0x1068a0400>"
      ]
     },
     "metadata": {},
     "output_type": "display_data"
    }
   ],
   "source": [
    "plt.scatter(le.log_year, le.log_resid);"
   ]
  },
  {
   "cell_type": "markdown",
   "metadata": {
    "collapsed": true
   },
   "source": [
    "## 27\n",
    "\n",
    "### Answers\n",
    "\n",
    "* tried all suggested re-expressions on ladder, none produced straight line"
   ]
  },
  {
   "cell_type": "code",
   "execution_count": 158,
   "metadata": {
    "collapsed": false
   },
   "outputs": [
    {
     "data": {
      "text/html": [
       "<div>\n",
       "<table border=\"1\" class=\"dataframe\">\n",
       "  <thead>\n",
       "    <tr style=\"text-align: right;\">\n",
       "      <th></th>\n",
       "      <th>mileage</th>\n",
       "      <th>speed</th>\n",
       "    </tr>\n",
       "  </thead>\n",
       "  <tbody>\n",
       "    <tr>\n",
       "      <th>0</th>\n",
       "      <td>25.9</td>\n",
       "      <td>35</td>\n",
       "    </tr>\n",
       "    <tr>\n",
       "      <th>1</th>\n",
       "      <td>27.7</td>\n",
       "      <td>40</td>\n",
       "    </tr>\n",
       "    <tr>\n",
       "      <th>2</th>\n",
       "      <td>28.5</td>\n",
       "      <td>45</td>\n",
       "    </tr>\n",
       "    <tr>\n",
       "      <th>3</th>\n",
       "      <td>29.5</td>\n",
       "      <td>50</td>\n",
       "    </tr>\n",
       "    <tr>\n",
       "      <th>4</th>\n",
       "      <td>29.2</td>\n",
       "      <td>55</td>\n",
       "    </tr>\n",
       "  </tbody>\n",
       "</table>\n",
       "</div>"
      ],
      "text/plain": [
       "   mileage  speed\n",
       "0     25.9     35\n",
       "1     27.7     40\n",
       "2     28.5     45\n",
       "3     29.5     50\n",
       "4     29.2     55"
      ]
     },
     "execution_count": 158,
     "metadata": {},
     "output_type": "execute_result"
    }
   ],
   "source": [
    "speed = [35, 40, 45, 50, 55, 60, 65, 70, 75]\n",
    "mileage = [25.9, 27.7, 28.5, 29.5, 29.2, 27.4, 26.4, 24.2, 22.8]\n",
    "df = DataFrame(data={ \"speed\": speed, \"mileage\": mileage })\n",
    "df.head()"
   ]
  },
  {
   "cell_type": "code",
   "execution_count": 159,
   "metadata": {
    "collapsed": false
   },
   "outputs": [
    {
     "data": {
      "image/png": "[encoded data removed]",
      "text/plain": [
       "<matplotlib.figure.Figure at 0x11d1342b0>"
      ]
     },
     "metadata": {},
     "output_type": "display_data"
    }
   ],
   "source": [
    "plt.scatter(df.speed, df.mileage)\n",
    "plt.xlabel(\"speed\")\n",
    "plt.ylabel(\"mileage\")\n",
    "plt.title(\"ex -27\");"
   ]
  },
  {
   "cell_type": "markdown",
   "metadata": {
    "collapsed": true
   },
   "source": [
    "## 29\n",
    "\n",
    "### Answers\n",
    "\n",
    "* a) years left=(8.465 -0.069 * age) ^ 2\n",
    "* b) 52.1 years\n",
    "* c) No - there's clear curvature and a change in direction in the residual plot; unable to remove curvature with other transforms."
   ]
  },
  {
   "cell_type": "code",
   "execution_count": 160,
   "metadata": {
    "collapsed": false
   },
   "outputs": [
    {
     "data": {
      "text/html": [
       "<div>\n",
       "<table border=\"1\" class=\"dataframe\">\n",
       "  <thead>\n",
       "    <tr style=\"text-align: right;\">\n",
       "      <th></th>\n",
       "      <th>age</th>\n",
       "      <th>years</th>\n",
       "    </tr>\n",
       "  </thead>\n",
       "  <tbody>\n",
       "    <tr>\n",
       "      <th>0</th>\n",
       "      <td>10</td>\n",
       "      <td>60.3</td>\n",
       "    </tr>\n",
       "    <tr>\n",
       "      <th>1</th>\n",
       "      <td>20</td>\n",
       "      <td>50.7</td>\n",
       "    </tr>\n",
       "    <tr>\n",
       "      <th>2</th>\n",
       "      <td>30</td>\n",
       "      <td>41.8</td>\n",
       "    </tr>\n",
       "    <tr>\n",
       "      <th>3</th>\n",
       "      <td>40</td>\n",
       "      <td>32.9</td>\n",
       "    </tr>\n",
       "    <tr>\n",
       "      <th>4</th>\n",
       "      <td>50</td>\n",
       "      <td>24.8</td>\n",
       "    </tr>\n",
       "  </tbody>\n",
       "</table>\n",
       "</div>"
      ],
      "text/plain": [
       "   age  years\n",
       "0   10   60.3\n",
       "1   20   50.7\n",
       "2   30   41.8\n",
       "3   40   32.9\n",
       "4   50   24.8"
      ]
     },
     "execution_count": 160,
     "metadata": {},
     "output_type": "execute_result"
    }
   ],
   "source": [
    "age = [10, 20, 30, 40, 50, 60, 70, 80, 90, 100]\n",
    "years = [60.3, 50.7, 41.8, 32.9, 24.8, 17.9, 12.1, 7.9, 5.0, 3.0]\n",
    "df = DataFrame(data={\"age\": age, \"years\": years})\n",
    "df.head()"
   ]
  },
  {
   "cell_type": "code",
   "execution_count": 161,
   "metadata": {
    "collapsed": false
   },
   "outputs": [
    {
     "data": {
      "image/png": "[encoded data removed]",
      "text/plain": [
       "<matplotlib.figure.Figure at 0x11d003198>"
      ]
     },
     "metadata": {},
     "output_type": "display_data"
    }
   ],
   "source": [
    "plt.scatter(df.age, df.years);"
   ]
  },
  {
   "cell_type": "code",
   "execution_count": 164,
   "metadata": {
    "collapsed": false
   },
   "outputs": [
    {
     "data": {
      "image/png": "[encoded data removed]",
      "text/plain": [
       "<matplotlib.figure.Figure at 0x11cff7630>"
      ]
     },
     "metadata": {},
     "output_type": "display_data"
    }
   ],
   "source": [
    "df['sqrt_yrs'] = np.sqrt(df.years)\n",
    "plt.scatter(df.age, df.sqrt_yrs);"
   ]
  },
  {
   "cell_type": "code",
   "execution_count": 166,
   "metadata": {
    "collapsed": false
   },
   "outputs": [
    {
     "data": {
      "text/plain": [
       "LinregressResult(slope=-0.069262871575906756, intercept=8.4649541262842227, rvalue=-0.99892219708435515, pvalue=5.8962197632309639e-12, stderr=0.0011378668843463394)"
      ]
     },
     "execution_count": 166,
     "metadata": {},
     "output_type": "execute_result"
    }
   ],
   "source": [
    "lr = scipy.stats.linregress(df.age, df.sqrt_yrs)\n",
    "lr"
   ]
  },
  {
   "cell_type": "code",
   "execution_count": 167,
   "metadata": {
    "collapsed": false
   },
   "outputs": [
    {
     "data": {
      "text/plain": [
       "52.10273516326144"
      ]
     },
     "execution_count": 167,
     "metadata": {},
     "output_type": "execute_result"
    }
   ],
   "source": [
    "b = math.pow(lr.intercept + lr.slope * 18, 2)\n",
    "b"
   ]
  },
  {
   "cell_type": "code",
   "execution_count": 168,
   "metadata": {
    "collapsed": false
   },
   "outputs": [
    {
     "data": {
      "image/png": "[encoded data removed]",
      "text/plain": [
       "<matplotlib.figure.Figure at 0x11cca4c88>"
      ]
     },
     "metadata": {},
     "output_type": "display_data"
    }
   ],
   "source": [
    "df['predictions'] = lr.intercept + lr.slope * df.age\n",
    "df['residuals'] = df.sqrt_yrs - df.predictions\n",
    "plt.scatter(df.age, df.residuals);"
   ]
  }
 ],
 "metadata": {
  "kernelspec": {
   "display_name": "Python 3",
   "language": "python",
   "name": "python3"
  },
  "language_info": {
   "codemirror_mode": {
    "name": "ipython",
    "version": 3
   },
   "file_extension": ".py",
   "mimetype": "text/x-python",
   "name": "python",
   "nbconvert_exporter": "python",
   "pygments_lexer": "ipython3",
   "version": "3.5.2"
  }
 },
 "nbformat": 4,
 "nbformat_minor": 0
}
