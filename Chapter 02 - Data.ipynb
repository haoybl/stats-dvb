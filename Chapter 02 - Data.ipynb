{
 "cells": [
  {
   "cell_type": "markdown",
   "metadata": {},
   "source": [
    "# Chapter 2"
   ]
  },
  {
   "cell_type": "markdown",
   "metadata": {},
   "source": [
    "### What Could Go Wrong\n",
    "\n",
    "* Don't label a variable as categorical/quantitative without considering question you want it to answer; variables can sometimes take on different roles.\n",
    "* Numeric variables aren't always quantitative: numeric category labels, identifiers, etc.\n",
    "* Always be skeptical; question the context around the data.\n",
    "\n",
    "### What Have We Learned\n",
    "\n",
    "* Context: Who (cases), What (variables), Why (questions we're trying to answer), Where, When, and How.\n",
    "\n",
    "#### Skills\n",
    "\n",
    "* Be able to identify the who (cases), what (variables), when, where, why, and how of the data, or recognize when some of this info hasn't been provided.\n",
    "* Be able to identify the population from which the sample has been chosen.\n",
    "* Be able to classify a variable as categorical or quantitative based on its use.\n",
    "* For a quantitative variable, be able to identify the units in which it has been measured.\n",
    "* Be able to describe all of the above."
   ]
  },
  {
   "cell_type": "code",
   "execution_count": null,
   "metadata": {
    "collapsed": true
   },
   "outputs": [],
   "source": []
  }
 ],
 "metadata": {
  "kernelspec": {
   "display_name": "Python 3",
   "language": "python",
   "name": "python3"
  },
  "language_info": {
   "codemirror_mode": {
    "name": "ipython",
    "version": 3
   },
   "file_extension": ".py",
   "mimetype": "text/x-python",
   "name": "python",
   "nbconvert_exporter": "python",
   "pygments_lexer": "ipython3",
   "version": "3.5.2"
  }
 },
 "nbformat": 4,
 "nbformat_minor": 0
}
