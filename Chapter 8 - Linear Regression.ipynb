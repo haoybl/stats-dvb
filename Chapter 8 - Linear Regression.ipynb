{
 "cells": [
  {
   "cell_type": "markdown",
   "metadata": {},
   "source": [
    "# Chapter 8 - Linear Regression"
   ]
  },
  {
   "cell_type": "markdown",
   "metadata": {},
   "source": [
    "* can **model** the relationship between two variables with a line and give its equation\n",
    "* correlation tells us how strong the relationship is, but it doesn't tell us what the line is\n",
    "* the **linear model** is an equation of a straight line through the data\n",
    "* being a model, it won't match reality exactly, but it can help us understand how the variables are associated"
   ]
  },
  {
   "cell_type": "markdown",
   "metadata": {},
   "source": [
    "## Residuals\n",
    "\n",
    "* **predicted value** is the estimate made from a model\n",
    "* denoted as $\\hat{y}$ to distinguish it from the _true_ value $y$\n",
    "* the difference between an observed value and its predicted value is called the **residual**\n",
    "* $residual = observed\\ value - predicted\\ value$\n",
    "    * a _negative_ value means an _overestimate_\n",
    "    * a _positive_ value means an _underestimate_"
   ]
  },
  {
   "cell_type": "markdown",
   "metadata": {},
   "source": [
    "## \"Best Fit\" Means Least Squares\n",
    "\n",
    "* some residuals are positive, some negative -- their sums would cancel each other out\n",
    "* we deal with that by squaring the residual values\n",
    "* the **line of best fit** is the line for which the sum of the squared residuals is smallest, the **least squares** line"
   ]
  },
  {
   "cell_type": "markdown",
   "metadata": {},
   "source": [
    "## The Linear Model\n",
    "\n",
    "* $\\hat{y} = b_0 + b_1x$\n",
    "    * $\\hat{y}$: predicted values\n",
    "    * $b_0$ and $b_1$: **coefficients** of the linear model\n",
    "    * $b_0$: **intercept**: where the line intercepts the $y$-axis\n",
    "    * $b_1$: **slope**: how rapidly $\\hat{y}$ changes with respect to $x$\n",
    "* slopes are always expressed in $y$-units per $x$-units; they tell how the $y$-variable changes (in its units) for a one unit change in the $x$-variable\n",
    "* serves largely as a \"starting value\" for predictions; particularly when the situation where $x = 0$ is a non-reasonable case.    "
   ]
  },
  {
   "cell_type": "markdown",
   "metadata": {},
   "source": [
    "## The Least Squares Line\n",
    "\n",
    "* Need the following to determine the least squares line:\n",
    "    * correlation ($r$)\n",
    "    * standard deviations ($s_x$ and $s_y$)\n",
    "    * means ($\\bar{x}$ and $\\bar{y}$)\n",
    "* $b_1 = r\\frac{s_y}{s_x}$\n",
    "* $b_0 = \\bar{y} - b_1\\bar{x}$\n",
    "\n",
    "* think in terms of $y$-units per $x$-units\n",
    "* check the same conditions as checked for correlation:\n",
    "    * quantitative variables condition\n",
    "    * straight enough condition\n",
    "    * outlier condition"
   ]
  },
  {
   "cell_type": "markdown",
   "metadata": {},
   "source": [
    "## Step-By-Step Example : Calculating a Regression Equation\n",
    "\n",
    "* plan: state the problem\n",
    "* variables: identify the variables and report the W's\n",
    "* check the conditions: plot a scatterplot; quantitative, straight enough, outliers\n",
    "* mechanics: use summary statistics to find equation of regression line\n",
    "    * find slope\n",
    "    * find intercept\n",
    "    * write equation of model\n",
    "* conclusion: interpret, discussing in terms of variables and their units    "
   ]
  },
  {
   "cell_type": "markdown",
   "metadata": {},
   "source": [
    "## Correlation and the Line\n",
    "\n",
    "* If $x$ and $y$ are converted to standard units, and the regression line is plotted:\n",
    "    * slope ($b_1$) = $r$\n",
    "    * intercept ($b_0$) = 0\n",
    "    * equation of line: $\\hat{z}_y = rz_x$\n",
    "* moving one standard deviation from the mean in $x$, we can expect to move $r$ standard deviations from the mean in $y$\n",
    "* in general, cases that are one standard deviation away from the mean in $x$ are, on average, $r$ standard deviations away from the mean in $y$\n",
    "* if $r = 0$, there is no linear relationship\n",
    "* if $r = \\pm{}1$, there is a perfect linear relationship "
   ]
  },
  {
   "cell_type": "markdown",
   "metadata": {},
   "source": [
    "## How Big Can Predicted Values Get?\n",
    "\n",
    "* each predicted $y$ tends to be closer to its mean (in standard deviations) than its corresponding $x$ was\n",
    "* this property of the linear model is called **regression to the mean**\n",
    "* example:\n",
    "    * tall men will, on average, have larger shoe sizes\n",
    "    * short men will, on average, have smaller shoe sizes\n",
    "    * given a man who's height is 2 SDs above the mean, we would predict his shoe size to fall somewhere between 0SD and 2SD above the mean shoe size\n",
    "    * if $r$ = 0, the prediction would be the mean shoe size\n",
    "    * if $r$ = 1, the prediction would be 2SDs above the mean shoe size\n",
    "    * for an $r$ between 0 and 1, the prediction would fall somewhere between the extremes, tending away from the extreme (2 SDs) towards the mean, based on the actual $r$"
   ]
  },
  {
   "cell_type": "markdown",
   "metadata": {},
   "source": [
    "## Residuals Revisited\n",
    "\n",
    "* residuals are the part of the data that hasn't been modeled\n",
    "* $Residual = Data - Model$\n",
    "* use $e$ to denote residuals\n",
    "* $e = y - \\hat{y}$\n",
    "* after fitting a regression line, plot the residuals to confirm there's no pattern\n",
    "    * scatterplot of $x$-values against residuals should have no interesting features (i.e. direction, shape)\n",
    "    * it should stretch horizontally with even scatter throughout\n",
    "    * it should show no bends and no outliers\n",
    "* many software packages plot residuals against $\\hat{y}$, rather than $x$\n",
    "    * if $r$ is positive, the only difference is the axis values/units\n",
    "    * if $r$ is negative, the plots are mirror images of each other"
   ]
  },
  {
   "cell_type": "markdown",
   "metadata": {},
   "source": [
    "## The Residual Standard Deviation\n",
    "\n",
    "* standard deviation of the residuals, $s_e$, gives a measure of how much the points spread around the regression line\n",
    "* this depends on the residuals having even scatter (as shown by the residuals plot noted above)\n",
    "* this leads to a new assumption: **Equal Variance Assumption**\n",
    "    * associated condition to check: **Does the Plot Thicken? Condition**\n",
    "* $s_e = \\sqrt{\\frac{\\sum{e^2}}{n-2}}$\n",
    "* make a histogram of the residuals"
   ]
  },
  {
   "cell_type": "markdown",
   "metadata": {},
   "source": [
    "## $R^2$-The Variation Accounted For"
   ]
  },
  {
   "cell_type": "code",
   "execution_count": null,
   "metadata": {
    "collapsed": true
   },
   "outputs": [],
   "source": []
  }
 ],
 "metadata": {
  "kernelspec": {
   "display_name": "Python 3",
   "language": "python",
   "name": "python3"
  },
  "language_info": {
   "codemirror_mode": {
    "name": "ipython",
    "version": 3
   },
   "file_extension": ".py",
   "mimetype": "text/x-python",
   "name": "python",
   "nbconvert_exporter": "python",
   "pygments_lexer": "ipython3",
   "version": "3.5.2"
  }
 },
 "nbformat": 4,
 "nbformat_minor": 0
}
