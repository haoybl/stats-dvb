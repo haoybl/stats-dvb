{
 "cells": [
  {
   "cell_type": "markdown",
   "metadata": {},
   "source": [
    "# Chapter 10 - Re-expressing Data: Get It Straight!"
   ]
  },
  {
   "cell_type": "markdown",
   "metadata": {},
   "source": [
    "## Goals of Re-Expression\n",
    "\n",
    "1. Make a **more symmetric distribution** of a variable (e.g., as seen in its histogram)\n",
    "2. Make **more similar spreads of several groups** (e.g., as seen in side-by-side boxplots), even if centers differ\n",
    "3. Make a **more linear form of a scatterplot**\n",
    "4. Make a **more evenly spread out scatter** in a scatterplot, rather than thickening at one end"
   ]
  },
  {
   "cell_type": "markdown",
   "metadata": {},
   "source": [
    "## The Ladder of Powers\n",
    "\n",
    "Collection of re-expressions to consider:\n",
    "\n",
    "|Power|Name|Comment|\n",
    "|-----|----|-------|\n",
    "|2    |The **square** of the data values, $y^2$|good for unimodal distributions that are left skewed|\n",
    "|1    |The **raw data** (no change)            |less likely to benefit values that are + and - with no bounds|\n",
    "|1/2  |The **square root** of the data values, $\\sqrt{y}$|counts often benefit from a square root re-expression|\n",
    "|\"0\"  |The **logarithm** of the data values, $\\log{(y)}$|measurements that cannot be negative; values that grow by percentage increases; if data contains '0's, consider adding small $\\epsilon{}$|\n",
    "|-1/2 |The **(negative) reciprocal square root**, $\\frac{-1}{\\sqrt{y}}$|uncommon; negative sign preserves direction|\n",
    "|-1   |The **(negative) reciprocal**, $\\frac{-1}{y}$|ratios of two quantities (e.g. miles per hour) often benefit; negative preserves direction; consider adding small $\\epsilon{}$ if data has '0's|"
   ]
  },
  {
   "cell_type": "markdown",
   "metadata": {
    "collapsed": true
   },
   "source": [
    "## Plan B: Logarithms\n",
    "\n",
    "If the Ladder of Powers doesn't provide enough to resolve a challenging curvature, consider:\n",
    "\n",
    "|Model Name|$x$-axis|$y$-axis|Comment|\n",
    "|-|-|-|-|\n",
    "|**Exponential**|$x$|$\\log{(y)}$|This is the same as \"0\"-power in ladder approach.|\n",
    "|**Logarithmic**|$\\log{(x)}$|$y$|May benefit i) a wide range of $x$-values, or ii) a scatterplot that descends rapidly at the left but levels off towards the right.|\n",
    "|**Power**|$\\log{(x)}$|$\\log{(y)}$|May help when one of the ladder's powers is too big and the next is too small.|"
   ]
  },
  {
   "cell_type": "markdown",
   "metadata": {
    "collapsed": true
   },
   "source": [
    "## What Can Go Wrong?\n",
    "\n",
    "* Don't expect your model to be perfect.\n",
    "    * strive for a _useful_ model\n",
    "* Don't stary too far from the ladder approach.\n",
    "    * stick to powers between [-2, 2]\n",
    "    * prefer simpler powers\n",
    "* Don't choose a model based on $R^2$ alone.\n",
    "* Beware of multiple modes.\n",
    "    * re-expression won't resolve multiple modes, but might help see how to isolate each for separate analyses\n",
    "* Watch out for scatterplots that turn around.\n",
    "    * these cannot be analyzed using linear regression\n",
    "* Watch out for negative data values.\n",
    "* Watch for data far from 1.\n",
    "    * consider subtracting a constant to bring all values back near 1\n",
    "    * in the process, avoid creating a zero value"
   ]
  }
 ],
 "metadata": {
  "kernelspec": {
   "display_name": "Python 3",
   "language": "python",
   "name": "python3"
  },
  "language_info": {
   "codemirror_mode": {
    "name": "ipython",
    "version": 3
   },
   "file_extension": ".py",
   "mimetype": "text/x-python",
   "name": "python",
   "nbconvert_exporter": "python",
   "pygments_lexer": "ipython3",
   "version": "3.5.2"
  }
 },
 "nbformat": 4,
 "nbformat_minor": 0
}
