{
 "cells": [
  {
   "cell_type": "markdown",
   "metadata": {},
   "source": [
    "# Chapter 8 - Linear Regression"
   ]
  },
  {
   "cell_type": "markdown",
   "metadata": {},
   "source": [
    "* can **model** the relationship between two variables with a line and give its equation\n",
    "* correlation tells us how strong the relationship is, but it doesn't tell us what the line is\n",
    "* the **linear model** is an equation of a straight line through the data\n",
    "* being a model, it won't match reality exactly, but it can help us understand how the variables are associated"
   ]
  },
  {
   "cell_type": "markdown",
   "metadata": {},
   "source": [
    "## Residuals\n",
    "\n",
    "* **predicted value** is the estimate made from a model\n",
    "* denoted as $\\hat{y}$ to distinguish it from the _true_ value $y$\n",
    "* the difference between an observed value and its predicted value is called the **residual**\n",
    "* $residual = observed\\ value - predicted\\ value$\n",
    "    * a _negative_ value means an _overestimate_\n",
    "    * a _positive_ value means an _underestimate_"
   ]
  },
  {
   "cell_type": "markdown",
   "metadata": {},
   "source": [
    "## \"Best Fit\" Means Least Squares\n",
    "\n",
    "* some residuals are positive, some negative -- their sums would cancel each other out\n",
    "* we deal with that by squaring the residual values\n",
    "* the **line of best fit** is the line for which the sum of the squared residuals is smallest, the **least squares** line"
   ]
  },
  {
   "cell_type": "markdown",
   "metadata": {},
   "source": [
    "## The Linear Model\n",
    "\n",
    "* $\\hat{y} = b_0 + b_1x$\n",
    "    * $\\hat{y}$: predicted values\n",
    "    * $b_0$ and $b_1$: **coefficients** of the linear model\n",
    "    * $b_0$: **intercept**: where the line intercepts the $y$-axis\n",
    "    * $b_1$: **slope**: how rapidly $\\hat{y}$ changes with respect to $x$\n",
    "* slopes are always expressed in $y$-units per $x$-units; they tell how the $y$-variable changes (in its units) for a one unit change in the $x$-variable\n",
    "* serves largely as a \"starting value\" for predictions; particularly when the situation where $x = 0$ is a non-reasonable case.    "
   ]
  },
  {
   "cell_type": "markdown",
   "metadata": {},
   "source": [
    "## The Least Squares Line\n",
    "\n",
    "* Need the following to determine the least squares line:\n",
    "    * correlation ($r$)\n",
    "    * standard deviations ($s_x$ and $s_y$)\n",
    "    * means ($\\bar{x}$ and $\\bar{y}$)\n",
    "* $b_1 = r\\frac{s_y}{s_x}$\n",
    "* $b_0 = \\bar{y} - b_1\\bar{x}$\n",
    "\n",
    "* think in terms of $y$-units per $x$-units\n",
    "* check the same conditions as checked for correlation:\n",
    "    * quantitative variables condition\n",
    "    * straight enough condition\n",
    "    * outlier condition"
   ]
  },
  {
   "cell_type": "markdown",
   "metadata": {},
   "source": [
    "## Step-By-Step Example : Calculating a Regression Equation\n",
    "\n",
    "* plan: state the problem\n",
    "* variables: identify the variables and report the W's\n",
    "* check the conditions: plot a scatterplot; quantitative, straight enough, outliers\n",
    "* mechanics: use summary statistics to find equation of regression line\n",
    "    * find slope\n",
    "    * find intercept\n",
    "    * write equation of model\n",
    "* conclusion: interpret, discussing in terms of variables and their units    "
   ]
  },
  {
   "cell_type": "code",
   "execution_count": 13,
   "metadata": {
    "collapsed": true
   },
   "outputs": [],
   "source": [
    "import pandas as pd\n",
    "import numpy as np\n",
    "import matplotlib.pyplot as plt\n",
    "%matplotlib inline"
   ]
  },
  {
   "cell_type": "code",
   "execution_count": 14,
   "metadata": {
    "collapsed": false
   },
   "outputs": [
    {
     "data": {
      "text/html": [
       "<div>\n",
       "<table border=\"1\" class=\"dataframe\">\n",
       "  <thead>\n",
       "    <tr style=\"text-align: right;\">\n",
       "      <th></th>\n",
       "      <th>brand</th>\n",
       "      <th>nicotine</th>\n",
       "      <th>tar</th>\n",
       "      <th>CO</th>\n",
       "    </tr>\n",
       "  </thead>\n",
       "  <tbody>\n",
       "    <tr>\n",
       "      <th>0</th>\n",
       "      <td>American Filter</td>\n",
       "      <td>1.2</td>\n",
       "      <td>16</td>\n",
       "      <td>15</td>\n",
       "    </tr>\n",
       "    <tr>\n",
       "      <th>1</th>\n",
       "      <td>Benson &amp; Hedges</td>\n",
       "      <td>1.2</td>\n",
       "      <td>16</td>\n",
       "      <td>15</td>\n",
       "    </tr>\n",
       "    <tr>\n",
       "      <th>2</th>\n",
       "      <td>Camel</td>\n",
       "      <td>1.0</td>\n",
       "      <td>16</td>\n",
       "      <td>17</td>\n",
       "    </tr>\n",
       "    <tr>\n",
       "      <th>3</th>\n",
       "      <td>Capri</td>\n",
       "      <td>0.8</td>\n",
       "      <td>9</td>\n",
       "      <td>6</td>\n",
       "    </tr>\n",
       "    <tr>\n",
       "      <th>4</th>\n",
       "      <td>Carlton</td>\n",
       "      <td>0.1</td>\n",
       "      <td>1</td>\n",
       "      <td>1</td>\n",
       "    </tr>\n",
       "  </tbody>\n",
       "</table>\n",
       "</div>"
      ],
      "text/plain": [
       "             brand  nicotine  tar  CO\n",
       "0  American Filter       1.2   16  15\n",
       "1  Benson & Hedges       1.2   16  15\n",
       "2            Camel       1.0   16  17\n",
       "3            Capri       0.8    9   6\n",
       "4          Carlton       0.1    1   1"
      ]
     },
     "execution_count": 14,
     "metadata": {},
     "output_type": "execute_result"
    }
   ],
   "source": [
    "cigarettes = pd.read_table(\"./data/cigarettes.txt\")\n",
    "cigarettes.head()"
   ]
  },
  {
   "cell_type": "code",
   "execution_count": 15,
   "metadata": {
    "collapsed": false
   },
   "outputs": [
    {
     "data": {
      "text/plain": [
       "0.96136856604937804"
      ]
     },
     "execution_count": 15,
     "metadata": {},
     "output_type": "execute_result"
    }
   ],
   "source": [
    "# get the correlation\n",
    "r = np.corrcoef(cigarettes.tar, cigarettes.nicotine)[0][1]\n",
    "r"
   ]
  },
  {
   "cell_type": "code",
   "execution_count": 16,
   "metadata": {
    "collapsed": false
   },
   "outputs": [
    {
     "data": {
      "text/plain": [
       "0.065051664753157323"
      ]
     },
     "execution_count": 16,
     "metadata": {},
     "output_type": "execute_result"
    }
   ],
   "source": [
    "# calculate b_1 (slope)\n",
    "b1 = r * (cigarettes.nicotine.std() / cigarettes.tar.std())\n",
    "b1"
   ]
  },
  {
   "cell_type": "code",
   "execution_count": 17,
   "metadata": {
    "collapsed": false
   },
   "outputs": [
    {
     "data": {
      "text/plain": [
       "0.15402985074626818"
      ]
     },
     "execution_count": 17,
     "metadata": {},
     "output_type": "execute_result"
    }
   ],
   "source": [
    "# calculate b_0 (intercept)\n",
    "b0 = cigarettes.nicotine.mean() - b1 * cigarettes.tar.mean()\n",
    "b0"
   ]
  },
  {
   "cell_type": "code",
   "execution_count": 18,
   "metadata": {
    "collapsed": false
   },
   "outputs": [
    {
     "data": {
      "image/png": "[encoded data removed]",
      "text/plain": [
       "<matplotlib.figure.Figure at 0x11ac66198>"
      ]
     },
     "metadata": {},
     "output_type": "display_data"
    }
   ],
   "source": [
    "# data points\n",
    "plt.scatter(cigarettes.tar, cigarettes.nicotine)\n",
    "\n",
    "# regression line\n",
    "yhat = b0 + b1 * cigarettes.tar\n",
    "plt.plot(cigarettes.tar, yhat)\n",
    "\n",
    "plt.xlabel('tar')\n",
    "plt.ylabel('nicotine')\n",
    "plt.title('cigarettes - tar vs. nicotine regression line');"
   ]
  },
  {
   "cell_type": "markdown",
   "metadata": {},
   "source": [
    "## Correlation and the Line\n",
    "\n",
    "* If $x$ and $y$ are converted to standard units, and the regression line is plotted:\n",
    "    * slope ($b_1$) = $r$\n",
    "    * intercept ($b_0$) = 0\n",
    "    * equation of line: $\\hat{z}_y = rz_x$\n",
    "* moving one standard deviation from the mean in $x$, we can expect to move $r$ standard deviations from the mean in $y$\n",
    "* in general, cases that are one standard deviation away from the mean in $x$ are, on average, $r$ standard deviations away from the mean in $y$\n",
    "* if $r = 0$, there is no linear relationship\n",
    "* if $r = \\pm{}1$, there is a perfect linear relationship "
   ]
  },
  {
   "cell_type": "markdown",
   "metadata": {},
   "source": [
    "## How Big Can Predicted Values Get?\n",
    "\n",
    "* each predicted $y$ tends to be closer to its mean (in standard deviations) than its corresponding $x$ was\n",
    "* this property of the linear model is called **regression to the mean**\n",
    "* example:\n",
    "    * tall men will, on average, have larger shoe sizes\n",
    "    * short men will, on average, have smaller shoe sizes\n",
    "    * given a man who's height is 2 SDs above the mean, we would predict his shoe size to fall somewhere between 0SD and 2SD above the mean shoe size\n",
    "    * if $r$ = 0, the prediction would be the mean shoe size\n",
    "    * if $r$ = 1, the prediction would be 2SDs above the mean shoe size\n",
    "    * for an $r$ between 0 and 1, the prediction would fall somewhere between the extremes, tending away from the extreme (2 SDs) towards the mean, based on the actual $r$"
   ]
  },
  {
   "cell_type": "markdown",
   "metadata": {},
   "source": [
    "## Residuals Revisited\n",
    "\n",
    "* residuals are the part of the data that hasn't been modeled\n",
    "* $Residual = Data - Model$\n",
    "* use $e$ to denote residuals\n",
    "* $e = y - \\hat{y}$\n",
    "* after fitting a regression line, plot the residuals to confirm there's no pattern\n",
    "    * scatterplot of $x$-values against residuals should have no interesting features (i.e. direction, shape)\n",
    "    * it should stretch horizontally with even scatter throughout\n",
    "    * it should show no bends and no outliers\n",
    "* many software packages plot residuals against $\\hat{y}$, rather than $x$\n",
    "    * if $r$ is positive, the only difference is the axis values/units\n",
    "    * if $r$ is negative, the plots are mirror images of each other"
   ]
  },
  {
   "cell_type": "code",
   "execution_count": 20,
   "metadata": {
    "collapsed": false
   },
   "outputs": [
    {
     "data": {
      "text/plain": [
       "0    0.005144\n",
       "1    0.005144\n",
       "2   -0.194856\n",
       "3    0.060505\n",
       "4   -0.119082\n",
       "dtype: float64"
      ]
     },
     "execution_count": 20,
     "metadata": {},
     "output_type": "execute_result"
    }
   ],
   "source": [
    "residuals = cigarettes.nicotine - yhat\n",
    "residuals.head()"
   ]
  },
  {
   "cell_type": "code",
   "execution_count": 22,
   "metadata": {
    "collapsed": false
   },
   "outputs": [
    {
     "data": {
      "text/plain": [
       "<matplotlib.text.Text at 0x11aed33c8>"
      ]
     },
     "execution_count": 22,
     "metadata": {},
     "output_type": "execute_result"
    },
    {
     "data": {
      "image/png": "[encoded data removed]",
      "text/plain": [
       "<matplotlib.figure.Figure at 0x11acbc898>"
      ]
     },
     "metadata": {},
     "output_type": "display_data"
    }
   ],
   "source": [
    "plt.scatter(cigarettes.tar, residuals)\n",
    "plt.ylabel(\"residuals (nicotine)\")\n",
    "plt.xlabel(\"tar\")\n",
    "plt.title(\"tar~nicotine regression : residuals\");"
   ]
  },
  {
   "cell_type": "markdown",
   "metadata": {},
   "source": [
    "## The Residual Standard Deviation\n",
    "\n",
    "* standard deviation of the residuals, $s_e$, gives a measure of how much the points spread around the regression line\n",
    "* this depends on the residuals having even scatter (as shown by the residuals plot noted above)\n",
    "* this leads to a new assumption: **Equal Variance Assumption**\n",
    "    * associated condition to check: **Does the Plot Thicken? Condition**\n",
    "* $s_e = \\sqrt{\\frac{\\sum{e^2}}{n-2}}$\n",
    "* make a histogram of the residuals"
   ]
  },
  {
   "cell_type": "code",
   "execution_count": 33,
   "metadata": {
    "collapsed": false
   },
   "outputs": [
    {
     "data": {
      "text/plain": [
       "0.087854034738445302"
      ]
     },
     "execution_count": 33,
     "metadata": {},
     "output_type": "execute_result"
    }
   ],
   "source": [
    "se = np.sqrt((residuals.pow(2).sum() / (residuals.size - 2)))\n",
    "se"
   ]
  },
  {
   "cell_type": "code",
   "execution_count": 35,
   "metadata": {
    "collapsed": false
   },
   "outputs": [
    {
     "data": {
      "image/png": "[encoded data removed]",
      "text/plain": [
       "<matplotlib.figure.Figure at 0x11b1cfdd8>"
      ]
     },
     "metadata": {},
     "output_type": "display_data"
    }
   ],
   "source": [
    "plt.hist(residuals)\n",
    "plt.title(\"residuals histogram\");"
   ]
  },
  {
   "cell_type": "markdown",
   "metadata": {},
   "source": [
    "## $R^2$-The Variation Accounted For\n",
    "\n",
    "* variation in the residuals is key to assessing how well the model fits\n",
    "* two extremes:\n",
    "  * $r = 1$: residuals would all be 0 and have no variation\n",
    "  * $r = 0$: the model would predict the mean of the response for all $x$; the residuals would have the same variability as the response variable\n",
    "* squared correlation, $r^2$, gives the fraction of the data's variation accounted for by the model\n",
    "* $1 - r^2$ is the fraction of the original variation left in the residuals\n",
    "* traditionally denoted as $R^2$\n",
    "* if $R^2$:\n",
    "  * = 0 - none of the variance in the data is captured by the model\n",
    "  * = 1 - all of the variance in the data is captured by the model\n",
    "* because it's a fraction of the whole, $R^2$ is often given as a percentage\n",
    "* when interpreting a regression model, _Tell_ what $R^2$ means:\n",
    "  * > according to our linear model, 76% of the variability in {response variable description} is accounted for by variation in {predictor variable description}."
   ]
  },
  {
   "cell_type": "markdown",
   "metadata": {
    "collapsed": true
   },
   "source": [
    "## How Big Should $R^2$ Be?\n",
    "\n",
    "* $R^2$ ranges between 0 and 1\n",
    "* answer depends on kind of data being analyzed, and the goals of the analysis:\n",
    "* often, standard deviation of the residuals can give more information about the usefulness of the regression, by telling us how much scatter there is around the line\n",
    "* along with slope and intercept of regression, always report $R^2$ to allow readers to judge for themselves"
   ]
  },
  {
   "cell_type": "markdown",
   "metadata": {},
   "source": [
    "**Note**: A regression line equation can't be \"reversed\" or \"inverted\" (i.e. solving the equation for the _predictor_ variable) to create a model that predicts the $x$-variable as the response to the $y$-variable. \n",
    "\n",
    "If that model is desired, the entire modeling process needs to be carried out with the variable roles \"reversed\" from the original model."
   ]
  },
  {
   "cell_type": "markdown",
   "metadata": {},
   "source": [
    "## Regression Assumptions and Conditions\n",
    "\n",
    "* quantitative variables condition: $x$ and $y$\n",
    "* linearity assumption: relationship between $x$ and $y$ is linear\n",
    "  * straight enough condition by checking the scatterplot\n",
    "  * doesn't need to be perfectly straight, but shouldn't be curved, etc.\n",
    "* the scatterplot of residuals should show consistent spread\n",
    "  * \"does the plot thicken? condition\" - spread of residuals shouldn't increase for larger values of $\\hat{y}$\n",
    "* outlier condition"
   ]
  },
  {
   "cell_type": "markdown",
   "metadata": {},
   "source": [
    "## Step-by-Step Example: Regression\n",
    "\n",
    "* plan: state the problem\n",
    "* variables: name the variables and report the W's\n",
    "* check conditions for regression\n",
    "* mechanics: fit a straight line model of the form $\\hat{y} = b_0 + b_1x$ to the data\n",
    "  * find the slope\n",
    "  * find the intercept\n",
    "  * write the equation using meaningful variable names\n",
    "  * state the value of $R^2$\n",
    "* conclusion: describe what the model says in words and numbers (use variable names and units)\n",
    "  * \"$b_1$ $y$-units per $x$-unit\", etc.\n",
    "  * e.g. \"The slope says that cereals have 2.5 more calories per gram of Sugar\"\n",
    "  * e.g. \"The intercept predicts that sugar-free cereals would average about 89.5 calories\"\n",
    "  * e.g. \"The $R^2$ says that 31.8% of the variability in Calories is accounted for by variation in Sugar content.\"\n",
    "* find the standard deviation of the residuals, $s_e$, and compare it to the original, $s_y$\n",
    "  * e.g. \"$s_e = 16.2 calories$.  That's smaller than the original SD of 19.5, but still fairly high.\"\n",
    "* check again: review the plot of residuals - best check for additional patterns and quirks in the data\n",
    "  * e.g. \"The residuals show a horizontal direction, a shapeless form, and roughly equal scatter for all predicted values.  The linear model appears to be appropriate.\""
   ]
  },
  {
   "cell_type": "markdown",
   "metadata": {},
   "source": [
    "## Reality Check\n",
    "\n",
    "* if results are surprising, ask whether the regression equation is _plausible_:\n",
    "  * is the direction of the slope reasonable?\n",
    "  * is the size of the slope reasonable?\n",
    "    * if you were to decrease the slope by a factor of 10, would it still be reasonable?\n",
    "    * if you were to increase the slope by a factor of 10, would it still be reasonble?\n",
    "    * if the answer to both is \"No\", then the current slope is at least _plausible_  "
   ]
  },
  {
   "cell_type": "markdown",
   "metadata": {},
   "source": [
    "## What Can Go Wrong?\n",
    "\n",
    "* Don't fit a straight line to a nonlinear relationship.\n",
    "* Beware of extraordinary points.  This could be either extreme $y$ values or $x$ values.\n",
    "* Don't invert the regression.\n",
    "* Don't extrapolate beyond the data.\n",
    "* Don't infer that $x$ causes $y$ just because there is a good linear model for their relationship.\n",
    "* Don't choose a model based on $R^2$ alone.\n",
    "  * a high $R^2$ does not demonstrate the _appropriateness_ of a regression model\n",
    "  * outliers and clustered groups of points are two cases where $R^2$ can be high, but the model is inappropriate\n",
    "  * outliers can also cause a lowered $R^2$ even though most of the data fall roughly along the regression line"
   ]
  },
  {
   "cell_type": "markdown",
   "metadata": {},
   "source": [
    "## What Have We Learned\n",
    "\n",
    "* [p. 197]"
   ]
  }
 ],
 "metadata": {
  "kernelspec": {
   "display_name": "Python 3",
   "language": "python",
   "name": "python3"
  },
  "language_info": {
   "codemirror_mode": {
    "name": "ipython",
    "version": 3
   },
   "file_extension": ".py",
   "mimetype": "text/x-python",
   "name": "python",
   "nbconvert_exporter": "python",
   "pygments_lexer": "ipython3",
   "version": "3.5.2"
  }
 },
 "nbformat": 4,
 "nbformat_minor": 0
}
