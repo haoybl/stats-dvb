{
 "cells": [
  {
   "cell_type": "markdown",
   "metadata": {},
   "source": [
    "# Chapter 9 - Regression Wisdom"
   ]
  },
  {
   "cell_type": "markdown",
   "metadata": {},
   "source": [
    "## When Residuals Aren't Straight\n",
    "\n",
    "* graphs of residuals often reveal patterns, such as curves, that are easily missed in the original scatterplot\n",
    "* always check the plot of residuals for curves and other patterns that weren't visible in the original scatterplot"
   ]
  },
  {
   "cell_type": "markdown",
   "metadata": {},
   "source": [
    "## Sifting Residuals for Groups\n",
    "\n",
    "* whenever you suspect multiple modes in the histogram of the residuals, ask whether they are somehow different\n",
    "* if so, decide whether to analyze the groups separately, using a different model for each group\n",
    "* another option is to stick with the original model, but note there are groups that are different"
   ]
  },
  {
   "cell_type": "markdown",
   "metadata": {},
   "source": [
    "## Extrapolation: Reaching Beyond the Data\n",
    "\n",
    "* the farther a new x-value (outside the original domain of x-values) is from the mean of x, the less trust we should place in the predicted value\n",
    "* prediction for x values outside the original domain of predictor variables is known as **extrapolation**\n",
    "* they require the (questionable) assumption that nothing about the relationship between $x$ and $y$ changes even at extreme values of $x$ and beyond.\n",
    "* if you extrapolate into the future, at least don't believe blindly that the prediction will come true."
   ]
  },
  {
   "cell_type": "markdown",
   "metadata": {},
   "source": [
    "## Outliers, Leverage, and Influence\n",
    "\n",
    "* in regression, a point can stand out in two different ways:\n",
    "  * a data value can have a large residual; these always deserve special attention\n",
    "  * a data value can have an x-value that is far from the mean of the x-values; such a point is said to have high **leverage**\n",
    "* a point with leverage that is not in-line with the majority of other points has a tendency to pull the regression line towards itself\n",
    "* a point with leverage that _is_ in-line with the majority of other points tends to over-inflate the correlation and $R^2$ values\n",
    "* a point is said to be **influential** if omitting it from the analysis gives a very different model (i.e. changes the slope)\n",
    "\n",
    "* to determine if a point is influential, fit the linear model both with and without the point, and check for differences\n",
    "\n",
    "* warning: influential points can be difficult to spot in plots of residuals; they're often easier to see in scatterplots of the original data"
   ]
  },
  {
   "cell_type": "markdown",
   "metadata": {},
   "source": [
    "## Lurking Variables and Causation\n",
    "\n",
    "* there is no way to conclude from regression alone that one variables _causes_ another\n",
    "* with observational data, there is no way to be sure that a **lurking variable** is not the cause of any apparent association"
   ]
  },
  {
   "cell_type": "markdown",
   "metadata": {},
   "source": [
    "## Working with Summary Values\n",
    "\n",
    "* scatterplots of statistics summarized over groups tend to show less variability than seen for the same measurements over the individuals\n",
    "* this is due to the summary statistics themselves varying less than the data on the individuals\n",
    "* there's no simple correction for this when given summary data\n",
    "* be a bit suspicious of conclusions based on regressions of summary data"
   ]
  },
  {
   "cell_type": "markdown",
   "metadata": {},
   "source": [
    "## What Can Go Wrong?\n",
    "\n",
    "* Make sure the relationship is straight.\n",
    "* Be on guard for different groups in your regression.\n",
    "* Beware of extrapolating.\n",
    "* Beware especially of extrapolating into the future.\n",
    "* Look for unusual points.\n",
    "* Beware of high-leverage points and especially of those that are influential.\n",
    "* Consider comparing two regression.\n",
    "* Treat unusual points honestly.\n",
    "* Beware of lurking variables.\n",
    "* Watch out when dealing with data that are summaries."
   ]
  },
  {
   "cell_type": "markdown",
   "metadata": {},
   "source": [
    "## What Have We Learned?\n",
    "\n",
    "[p. 226]"
   ]
  }
 ],
 "metadata": {
  "kernelspec": {
   "display_name": "Python 3",
   "language": "python",
   "name": "python3"
  },
  "language_info": {
   "codemirror_mode": {
    "name": "ipython",
    "version": 3
   },
   "file_extension": ".py",
   "mimetype": "text/x-python",
   "name": "python",
   "nbconvert_exporter": "python",
   "pygments_lexer": "ipython3",
   "version": "3.5.2"
  }
 },
 "nbformat": 4,
 "nbformat_minor": 0
}
