{
 "cells": [
  {
   "cell_type": "markdown",
   "metadata": {},
   "source": [
    "# Chapter 7 - Scatterplots, Association, and Correlation"
   ]
  },
  {
   "cell_type": "code",
   "execution_count": 1,
   "metadata": {
    "collapsed": true
   },
   "outputs": [],
   "source": [
    "import numpy as np\n",
    "import pandas as pd\n",
    "from pandas import Series,DataFrame\n",
    "\n",
    "import matplotlib.pyplot as plt\n",
    "import seaborn as sns\n",
    "%matplotlib inline\n",
    "sns.set_style('whitegrid')"
   ]
  },
  {
   "cell_type": "markdown",
   "metadata": {},
   "source": [
    "* **scatterplot**: display the relationship between two _quantitative_ variables\n",
    "* show patterns, trends, relationships, and outliers\n",
    "* ideal method for picturing **associations** between variables"
   ]
  },
  {
   "cell_type": "markdown",
   "metadata": {},
   "source": [
    "## Looking at Scatterplots\n",
    "\n",
    "Things to look for:\n",
    "\n",
    "* **direction**: i.e. _negative_, _positive_\n",
    "* **form**: \n",
    "  * **linear**\n",
    "  * gentle curves can often be transformed to make them more nearly straight\n",
    "* strength of relationship\n",
    "* unexpected values\n",
    "  * **outliers**"
   ]
  },
  {
   "cell_type": "code",
   "execution_count": 2,
   "metadata": {
    "collapsed": false
   },
   "outputs": [
    {
     "data": {
      "image/png": "[encoded data removed]",
      "text/plain": [
       "<matplotlib.figure.Figure at 0x119f5b9e8>"
      ]
     },
     "metadata": {},
     "output_type": "display_data"
    }
   ],
   "source": [
    "derby = pd.read_table(\"./data/Kentucky_Derby_2011.txt\")\n",
    "\n",
    "plt.scatter(derby.Year, derby.speed);\n",
    "plt.xlabel(\"Year\")\n",
    "plt.ylabel(\"Speed\")\n",
    "plt.title(\"Kentuck Derby : Year vs. Speed\");"
   ]
  },
  {
   "cell_type": "markdown",
   "metadata": {},
   "source": [
    "## Roles for Variables\n",
    "\n",
    "* **response variable**: variable of interest\n",
    "  * plot on _y_-axis\n",
    "* **explanatory** or **predictor variable**\n",
    "  * plot on _x_-axis"
   ]
  },
  {
   "cell_type": "markdown",
   "metadata": {},
   "source": [
    "## Correlation\n",
    "\n",
    "* standardize _x_- and _y_-variables\n",
    "* create scatterplot of standardized values\n",
    "* points in quadrant I and III support a positive relationship\n",
    "* points in quadrant II and IV support a negative relationship\n",
    "* points with either standardized value (_x_ or _y_) = 0 have no impact on the relationship\n",
    "\n",
    "**Correlation coefficient**\n",
    "\n",
    "$r = \\frac{\\sum{Z_xZ_y}}{n-1}$"
   ]
  },
  {
   "cell_type": "code",
   "execution_count": 3,
   "metadata": {
    "collapsed": false
   },
   "outputs": [
    {
     "data": {
      "text/plain": [
       "array([[ 1.        ,  0.74949735],\n",
       "       [ 0.74949735,  1.        ]])"
      ]
     },
     "execution_count": 3,
     "metadata": {},
     "output_type": "execute_result"
    }
   ],
   "source": [
    "# calc with numpy\n",
    "np.corrcoef(derby.Year, derby.speed)"
   ]
  },
  {
   "cell_type": "code",
   "execution_count": 4,
   "metadata": {
    "collapsed": false
   },
   "outputs": [
    {
     "data": {
      "text/plain": [
       "(0.7494973455687125, 5.9598968530525693e-26)"
      ]
     },
     "execution_count": 4,
     "metadata": {},
     "output_type": "execute_result"
    }
   ],
   "source": [
    "# calc with scipy\n",
    "import scipy.stats as stats\n",
    "stats.pearsonr(derby.Year, derby.speed)"
   ]
  },
  {
   "cell_type": "markdown",
   "metadata": {},
   "source": [
    "## Correlation Conditions\n",
    "\n",
    "* **correlation** measures the strength of the _linear_ association between two _quantitative_ variables.\n",
    "\n",
    "Conditions\n",
    "\n",
    "* **quantitative variables** condition: only applies to quantitative variables\n",
    "* **straight enough** condition: use judgement to decide whether the relationship is straight enough to justify calculating and using a correlation coefficient\n",
    "* **outlier** condition: outliers can make a weak correlation look stronger, or a strong correlation look weaker\n",
    "  * consider calculating correlation both with and without outliers\n",
    "  \n",
    "Check the above by using a scatterplot.  "
   ]
  },
  {
   "cell_type": "markdown",
   "metadata": {},
   "source": [
    "## Step-by-Step Example : Looking at Association\n",
    "\n",
    "* plan: state what you are trying to investigate\n",
    "* variables: identify the two quantitative variables; report the W's\n",
    "* plot: make the scatterplot\n",
    "* check the conditions\n",
    "* mechanics: calc correlation using app\n",
    "* conclusion: describe the direction, form, and strength seen in plot, unusual points"
   ]
  },
  {
   "cell_type": "markdown",
   "metadata": {},
   "source": [
    "## Correlation Properties\n",
    "\n",
    "* sign of $r$ provides direction of association\n",
    "* $r$ is always between -1 and 1, values of -1 and 1 indicate points fall on a straight line\n",
    "* correlation is symmetric: $r(x,y) = r(y,x)$\n",
    "* $r$ is unit-less\n",
    "* $r$ is not affected by changes in center or scale\n",
    "* measures the strength of a _linear_ association\n",
    "* sensitive to outliers"
   ]
  },
  {
   "cell_type": "markdown",
   "metadata": {},
   "source": [
    "## Warning: Correlation != Causation\n",
    "\n",
    "* scatterplots and correlation coefficients _never_ prove causation\n",
    "* **lurking variable**: a hidden variable that stands behind a relationship and determines it by simultaneously affecting the other two variables"
   ]
  },
  {
   "cell_type": "markdown",
   "metadata": {},
   "source": [
    "## Correlation Tables"
   ]
  },
  {
   "cell_type": "code",
   "execution_count": 5,
   "metadata": {
    "collapsed": false
   },
   "outputs": [
    {
     "data": {
      "text/html": [
       "<div>\n",
       "<table border=\"1\" class=\"dataframe\">\n",
       "  <thead>\n",
       "    <tr style=\"text-align: right;\">\n",
       "      <th></th>\n",
       "      <th>Year</th>\n",
       "      <th>Mins</th>\n",
       "      <th>Secs</th>\n",
       "      <th>total</th>\n",
       "      <th>speed</th>\n",
       "    </tr>\n",
       "  </thead>\n",
       "  <tbody>\n",
       "    <tr>\n",
       "      <th>Year</th>\n",
       "      <td>1.000000</td>\n",
       "      <td>-0.135420</td>\n",
       "      <td>-0.589210</td>\n",
       "      <td>-0.723523</td>\n",
       "      <td>0.749497</td>\n",
       "    </tr>\n",
       "    <tr>\n",
       "      <th>Mins</th>\n",
       "      <td>-0.135420</td>\n",
       "      <td>1.000000</td>\n",
       "      <td>-0.424000</td>\n",
       "      <td>0.093576</td>\n",
       "      <td>-0.105991</td>\n",
       "    </tr>\n",
       "    <tr>\n",
       "      <th>Secs</th>\n",
       "      <td>-0.589210</td>\n",
       "      <td>-0.424000</td>\n",
       "      <td>1.000000</td>\n",
       "      <td>0.862012</td>\n",
       "      <td>-0.853834</td>\n",
       "    </tr>\n",
       "    <tr>\n",
       "      <th>total</th>\n",
       "      <td>-0.723523</td>\n",
       "      <td>0.093576</td>\n",
       "      <td>0.862012</td>\n",
       "      <td>1.000000</td>\n",
       "      <td>-0.997959</td>\n",
       "    </tr>\n",
       "    <tr>\n",
       "      <th>speed</th>\n",
       "      <td>0.749497</td>\n",
       "      <td>-0.105991</td>\n",
       "      <td>-0.853834</td>\n",
       "      <td>-0.997959</td>\n",
       "      <td>1.000000</td>\n",
       "    </tr>\n",
       "  </tbody>\n",
       "</table>\n",
       "</div>"
      ],
      "text/plain": [
       "           Year      Mins      Secs     total     speed\n",
       "Year   1.000000 -0.135420 -0.589210 -0.723523  0.749497\n",
       "Mins  -0.135420  1.000000 -0.424000  0.093576 -0.105991\n",
       "Secs  -0.589210 -0.424000  1.000000  0.862012 -0.853834\n",
       "total -0.723523  0.093576  0.862012  1.000000 -0.997959\n",
       "speed  0.749497 -0.105991 -0.853834 -0.997959  1.000000"
      ]
     },
     "execution_count": 5,
     "metadata": {},
     "output_type": "execute_result"
    }
   ],
   "source": [
    "# calc with pandas\n",
    "derby.corr()"
   ]
  },
  {
   "cell_type": "markdown",
   "metadata": {},
   "source": [
    "* these don't factor in concerns over linearity, outliers, truly quantitative vars, etc"
   ]
  },
  {
   "cell_type": "markdown",
   "metadata": {},
   "source": [
    "## Measuring Trend: Kendall's Tau\n",
    "\n",
    "* Likert scale:\n",
    "  * scale that meaures attitudes numerically\n",
    "  * have order, but values don't necessarily trend linearly\n",
    "  * requires caution when applying methods that require the \"Straight Enough\" condition\n",
    "  \n",
    "* **Kendall's tau**: statistic designed to assess how close the relationship between two variables is to being _monotone_.\n",
    "* **monotone** relationship: one that consistently increases or decreases; not necessarily linearly\n",
    "* for each pair of points in a scatterplot, Kendall's tau records whether the slope of a line between the two points is positive, negative, or 0\n",
    "* if all slopes are positive or negative, the plot is monotone\n",
    "* Tau ($\\tau$) is the difference between the number of positive and negative slopes, divided by the total number of slopes"
   ]
  },
  {
   "cell_type": "code",
   "execution_count": 6,
   "metadata": {
    "collapsed": false
   },
   "outputs": [
    {
     "data": {
      "text/plain": [
       "KendalltauResult(correlation=-0.47140452079103173, pvalue=0.24821309157521476)"
      ]
     },
     "execution_count": 6,
     "metadata": {},
     "output_type": "execute_result"
    }
   ],
   "source": [
    "stats.kendalltau([12, 2, 1, 12, 2], [1, 4, 7, 1, 0])"
   ]
  },
  {
   "cell_type": "markdown",
   "metadata": {},
   "source": [
    "## Nonparametric Association: Spearman's Rho\n",
    "\n",
    "* outliers and curves in data can make it impossible to interpret correlation\n",
    "* **Spearman's rho** ($\\rho$) can deal with both of these problems\n",
    "* Rho replaces the original data values with their _ranks_ within each variable\n",
    "* shows the general trend of the original data\n",
    "* likely to be more linear than the original data\n",
    "* outliers are prevented from being \"extreme\" by picking up the end (in-sequence) rank values\n",
    "* final value is the correlation coefficient of the variables' ranks"
   ]
  },
  {
   "cell_type": "code",
   "execution_count": 7,
   "metadata": {
    "collapsed": false
   },
   "outputs": [
    {
     "data": {
      "text/plain": [
       "SpearmanrResult(correlation=0.82078268166812329, pvalue=0.088587005313543812)"
      ]
     },
     "execution_count": 7,
     "metadata": {},
     "output_type": "execute_result"
    }
   ],
   "source": [
    "stats.spearmanr([1,2,3,4,5],[5,6,7,8,7])"
   ]
  },
  {
   "cell_type": "markdown",
   "metadata": {},
   "source": [
    "Both Kendall's tau and Spearman's Rho:\n",
    "\n",
    "* measure consistency of trend across two variables without requiring that the trend be linear\n",
    "* are much less affected by outliers than the correlation coefficient\n",
    "* are not affected by re-expressing variables using functions that don't alter the order of values\n",
    "\n",
    "Neither can be used for more advanced or complex methods.\n",
    "\n",
    "**nonparametric**, **distribution-free** methods\n",
    "\n",
    "* no parameter they are tied to\n",
    "* no particular model they require\n",
    "* do not require the modeler to make any assumptions about the distribution of the population"
   ]
  },
  {
   "cell_type": "markdown",
   "metadata": {},
   "source": [
    "## Straightening Scatterplots\n",
    "\n",
    "* correlation depends on an underlying _linear_ relationship\n",
    "* in cases where the relationship shows a curved (slight) form, we can sometimes apply a transformation to product a more linear relationship as input to the correlation calculation\n",
    "* one potential transformation is squaring one of the variables"
   ]
  },
  {
   "cell_type": "markdown",
   "metadata": {},
   "source": [
    "## What Can Go Wrong?\n",
    "\n",
    "* Don't say \"correlation\" when you mean \"association\"\n",
    "* Don't correlate categorical variables\n",
    "* Don't confuse correlation and causation\n",
    "    * scatterplots and correlation _never_ demonstrate causation\n",
    "    * nature and direction of causation can be very hard to establish\n",
    "    * risk of overlooking lurking variables\n",
    "* Make sure association is linear\n",
    "* Don't assume the relationship is linear just because the correlation is high\n",
    "* Beware of outliers"
   ]
  },
  {
   "cell_type": "markdown",
   "metadata": {},
   "source": [
    "## What We Have Learned\n",
    "\n",
    "### Terms\n",
    "\n",
    "* scatterplots\n",
    "* association\n",
    "* outlier\n",
    "* response variable, explanatory variable, x-variable, y-variable\n",
    "* correlation coefficient\n",
    "* lurking variable\n",
    "\n",
    "### Skills\n",
    "\n",
    "[p. 168]"
   ]
  }
 ],
 "metadata": {
  "kernelspec": {
   "display_name": "Python 3",
   "language": "python",
   "name": "python3"
  },
  "language_info": {
   "codemirror_mode": {
    "name": "ipython",
    "version": 3
   },
   "file_extension": ".py",
   "mimetype": "text/x-python",
   "name": "python",
   "nbconvert_exporter": "python",
   "pygments_lexer": "ipython3",
   "version": "3.5.2"
  }
 },
 "nbformat": 4,
 "nbformat_minor": 0
}
