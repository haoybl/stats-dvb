{
 "cells": [
  {
   "cell_type": "markdown",
   "metadata": {},
   "source": [
    "# Chapter 4 - Displaying and Summarizing Quantitative Data"
   ]
  },
  {
   "cell_type": "code",
   "execution_count": 5,
   "metadata": {
    "collapsed": true
   },
   "outputs": [],
   "source": [
    "# %load ./snippets/data-imports\n",
    "import numpy as np\n",
    "import pandas as pd\n",
    "from pandas import Series,DataFrame\n",
    "\n",
    "import matplotlib.pyplot as plt\n",
    "import seaborn as sns\n",
    "%matplotlib inline\n",
    "sns.set_style('whitegrid')"
   ]
  },
  {
   "cell_type": "markdown",
   "metadata": {
    "collapsed": true
   },
   "source": [
    "### Histograms\n",
    "\n",
    "Where a bar chart provides a natural way to show the distribution of a categorical variable using bars for each level, a quantitative variable doesn't automatically provide such natural groupings:\n",
    "\n",
    "* slice up possible values into equal-width-bins\n",
    "* bins + counts give distribution of _quantitative_ variable\n",
    "* **histogram**: plot counts as bars against bin values\n",
    "* _imagine what the distribution might look like before making the display -- to help identify errors in generating the display_\n",
    "* unlike bar charts, spaces in a histogram represent actual gaps in the data\n",
    "* _relative frequency_ histogram displays the y axis as a percentage of the total\n",
    "  * same shape as basic histogram (counts), but different units"
   ]
  },
  {
   "cell_type": "code",
   "execution_count": 22,
   "metadata": {
    "collapsed": true
   },
   "outputs": [],
   "source": [
    "# some data to work with\n",
    "s = Series(data = [12, 127, 28, 42, 39, 113, 42, 18, 44, 118, 44, 37, 113, 124, 37,\n",
    "              48, 127, 36, 29, 31, 125, 139, 131, 115, 105, 132, 104, 123, 35,\n",
    "              113, 122, 42, 117, 119, 58, 109, 23, 105, 63, 27, 44, 105, 99,\n",
    "              41, 128, 121, 116, 125, 32, 61, 37, 127, 29, 113, 121, 58, 114,\n",
    "              126, 53, 114, 96, 25, 109, 7, 31, 141, 46, 13, 27, 43, 117, 116,\n",
    "              27, 7, 68, 40, 31, 115, 124, 42, 128, 52, 71, 118, 117, 38, 27,\n",
    "              106, 33, 117, 116, 111, 40, 119, 47, 105, 57, 122, 109, 124, 115,\n",
    "              43, 120, 43, 27, 27, 18, 28, 48, 125, 107, 114, 34, 133, 45, 120,\n",
    "              30, 127, 31, 116, 146])"
   ]
  },
  {
   "cell_type": "code",
   "execution_count": 29,
   "metadata": {
    "collapsed": false
   },
   "outputs": [
    {
     "data": {
      "image/png": "[encoded data removed]",
      "text/plain": [
       "<matplotlib.figure.Figure at 0x11d4cacc0>"
      ]
     },
     "metadata": {},
     "output_type": "display_data"
    }
   ],
   "source": [
    "# basic histogram - counts\n",
    "plt.hist(s)\n",
    "plt.xlabel('value')\n",
    "plt.ylabel('count')\n",
    "plt.title('Demo Histogram - Counts')\n",
    "plt.show()"
   ]
  },
  {
   "cell_type": "code",
   "execution_count": 30,
   "metadata": {
    "collapsed": false
   },
   "outputs": [
    {
     "data": {
      "image/png": "[encoded data removed]",
      "text/plain": [
       "<matplotlib.figure.Figure at 0x11dcbedd8>"
      ]
     },
     "metadata": {},
     "output_type": "display_data"
    }
   ],
   "source": [
    "# relative frequency histogram - %\n",
    "plt.hist(s, weights=np.zeros_like(s) + 1. / s.size)\n",
    "plt.xlabel('value')\n",
    "plt.ylabel('pct')\n",
    "plt.title('Demo Histogram - Pcts')\n",
    "plt.show()"
   ]
  },
  {
   "cell_type": "markdown",
   "metadata": {},
   "source": [
    "### Stem-and-Leaf Displays\n",
    "\n",
    "* similar to a histogram, but it shows individual values\n",
    "* particularly useful when made by hand for data with fewer than a few hundred data values"
   ]
  },
  {
   "cell_type": "code",
   "execution_count": 19,
   "metadata": {
    "collapsed": true
   },
   "outputs": [],
   "source": [
    "# from https://www.rosettacode.org/wiki/Stem-and-leaf_plot#Python\n",
    "from math import floor\n",
    "  \n",
    "def stemplot(values, leafdigits):\n",
    "    d = []\n",
    "    interval = int(10**int(leafdigits))\n",
    "    for data in sorted(values):\n",
    "        data = int(floor(data))\n",
    "        stm, lf = divmod(data,interval)\n",
    "        d.append( (int(stm), int(lf)) )\n",
    "    stems, leafs = list(zip(*d))\n",
    "    stemwidth = max(len(str(x)) for x in stems)\n",
    "    leafwidth = max(len(str(x)) for x in leafs)\n",
    "    laststem, out = min(stems) - 1, []\n",
    "    for s,l in d:\n",
    "        while laststem < s:\n",
    "            laststem += 1\n",
    "            out.append('\\n%*i |' % ( stemwidth, laststem))\n",
    "        out.append(' %0*i' % (leafwidth, l))\n",
    "    out.append('\\n\\nKey:\\n Stem multiplier: %i\\n X | Y  =>  %i*X+Y\\n'\n",
    "               % (interval, interval))\n",
    "    return ''.join(out)"
   ]
  },
  {
   "cell_type": "code",
   "execution_count": 21,
   "metadata": {
    "collapsed": false
   },
   "outputs": [
    {
     "name": "stdout",
     "output_type": "stream",
     "text": [
      "\n",
      " 0 | 7 7\n",
      " 1 | 2 3 8 8\n",
      " 2 | 3 5 7 7 7 7 7 7 8 8 9 9\n",
      " 3 | 0 1 1 1 1 2 3 4 5 6 7 7 7 8 9\n",
      " 4 | 0 0 1 2 2 2 2 3 3 3 4 4 4 5 6 7 8 8\n",
      " 5 | 2 3 7 8 8\n",
      " 6 | 1 3 8\n",
      " 7 | 1\n",
      " 8 |\n",
      " 9 | 6 9\n",
      "10 | 4 5 5 5 5 6 7 9 9 9\n",
      "11 | 1 3 3 3 3 4 4 4 5 5 5 6 6 6 6 7 7 7 7 8 8 9 9\n",
      "12 | 0 0 1 1 2 2 3 4 4 4 5 5 5 6 7 7 7 7 8 8\n",
      "13 | 1 2 3 9\n",
      "14 | 1 6\n",
      "\n",
      "Key:\n",
      " Stem multiplier: 10\n",
      " X | Y  =>  10*X+Y\n",
      "\n"
     ]
    }
   ],
   "source": [
    "print(stemplot(s, 1.0))"
   ]
  },
  {
   "cell_type": "markdown",
   "metadata": {},
   "source": [
    "### Dotplots\n",
    "\n",
    "* similar to stem-and-leaf display, but using dots rather than digits\n",
    "* options: horizontal vs. vertical; overlapping vs non-overlapping dots"
   ]
  },
  {
   "cell_type": "code",
   "execution_count": 38,
   "metadata": {
    "collapsed": true
   },
   "outputs": [],
   "source": [
    "# TODO: find implementation using Matplotlib..."
   ]
  },
  {
   "cell_type": "markdown",
   "metadata": {},
   "source": [
    "### Shape of a Distribution\n",
    "\n",
    "* Does the histogram have a single, central hump or several humps (**modes**)?\n",
    "    * unimodal, bimodal, multimodal\n",
    "    * if all bars are approximately the same height: **uniform**\n",
    "* Is the histogram symmetric?\n",
    "    * ends of a distribution are called the **tails**\n",
    "    * if one tail stretches out farther than the other, the distribution is said to be **skewed** to the side of the longer tail\n",
    "* Do any unusual features stick out?\n",
    "    * **outliers**\n",
    "    * **gaps** in the distribution"
   ]
  },
  {
   "cell_type": "markdown",
   "metadata": {},
   "source": [
    "### Center - Median\n",
    "\n",
    "* one measure of the **center** of a distribution\n",
    "* the value with half the values below it and half the values above it\n",
    "* the value that divides the histogram into two equal areas\n",
    "* **resistant** to outliers\n",
    "\n",
    "Method to find:\n",
    "* order values\n",
    "* if _n_ is odd, median is the middle value\n",
    "* if _n_ is even, find values at positions n/2 and n/2 + 1 -- add and divide by 2"
   ]
  },
  {
   "cell_type": "code",
   "execution_count": 46,
   "metadata": {
    "collapsed": false
   },
   "outputs": [
    {
     "data": {
      "text/plain": [
       "96.0"
      ]
     },
     "execution_count": 46,
     "metadata": {},
     "output_type": "execute_result"
    }
   ],
   "source": [
    "s.median()"
   ]
  },
  {
   "cell_type": "markdown",
   "metadata": {},
   "source": [
    "### Spread - Range\n",
    "\n",
    "* Measure of **spread**; how much values vary\n",
    "* **range** is the difference between the max and min values\n",
    "* disadvantage: outliers have a big impact"
   ]
  },
  {
   "cell_type": "code",
   "execution_count": 42,
   "metadata": {
    "collapsed": false
   },
   "outputs": [
    {
     "data": {
      "text/plain": [
       "139"
      ]
     },
     "execution_count": 42,
     "metadata": {},
     "output_type": "execute_result"
    }
   ],
   "source": [
    "s.max() - s.min()"
   ]
  },
  {
   "cell_type": "markdown",
   "metadata": {},
   "source": [
    "### Spread - IQR\n",
    "\n",
    "* approach to avoid effect of outliers: focus on middle values\n",
    "* basically the range of the \"middle half\" of the data\n",
    "* divide data up into 4 equal areas (in half, then each in half again): **quartiles**\n",
    "    * 1/4 of data lies below **lower quartile** (25th percentile, 'Q1')\n",
    "    * 1/4 of data lies above **upper quartile** (75th percentile, 'Q3')\n",
    "    * 1/2 of data lies between them\n",
    "* the difference between the quartiles tells us the **interquartile range** (IQR)\n",
    "* IQR is almost always a reasonable summary of the spread of a distribution\n",
    "    * even if skewed or with outliers\n",
    "    * one exception: strongly bimodal distribution\n",
    "* multiple techniques for calculating the values of the quartiles\n",
    "    * differ in how odd _n_ is handled; whether values median included; etc."
   ]
  },
  {
   "cell_type": "code",
   "execution_count": 44,
   "metadata": {
    "collapsed": false
   },
   "outputs": [
    {
     "data": {
      "text/plain": [
       "80.0"
      ]
     },
     "execution_count": 44,
     "metadata": {},
     "output_type": "execute_result"
    }
   ],
   "source": [
    "s.quantile(0.75) - s.quantile(0.25)"
   ]
  },
  {
   "cell_type": "markdown",
   "metadata": {},
   "source": [
    "### 5 Number Summary\n",
    "\n",
    "* summary that includes:\n",
    "    * median\n",
    "    * quartiles (lower/upper)\n",
    "    * extremes (min/max)\n",
    "* also useful to includen count"
   ]
  },
  {
   "cell_type": "code",
   "execution_count": 39,
   "metadata": {
    "collapsed": false
   },
   "outputs": [
    {
     "data": {
      "text/plain": [
       "count    121.000000\n",
       "mean      78.173554\n",
       "std       42.436163\n",
       "min        7.000000\n",
       "25%       37.000000\n",
       "50%       96.000000\n",
       "75%      117.000000\n",
       "max      146.000000\n",
       "dtype: float64"
      ]
     },
     "execution_count": 39,
     "metadata": {},
     "output_type": "execute_result"
    }
   ],
   "source": [
    "s.describe()"
   ]
  },
  {
   "cell_type": "markdown",
   "metadata": {},
   "source": [
    "### Step-by-Step Example\n",
    "\n",
    "Shape, Center, and Spread\n",
    "\n",
    "* variable: identify the variable and decide how you wish to display it\n",
    "    * report the W's\n",
    "    * select an appropriate display based on the nature of the data and what you want to know\n",
    "* mechanics: decide on approach (technology or manual) for displaying\n",
    "    * it's always a good idea to think about what you expect to see so that you can check whether the display looks like what you expected\n",
    "* interpretation: \n",
    "    * describe the shape, center, and spread of the distribution\n",
    "    * report on the symmetry, number of modes, any gaps or outliers\n",
    "    * note any concerns you may have about the data"
   ]
  },
  {
   "cell_type": "markdown",
   "metadata": {},
   "source": [
    "### Center - Mean\n",
    "\n",
    "* does a good job of summarizing center when unimodal, not skewed, and no outliers\n",
    "* **mean** is the point where the histogram 'balances'\n",
    "* when choosing between mean & median:\n",
    "    * mean if unimodal, not skewed, and no outliers\n",
    "    * median in other cases\n",
    "    * often valuable to include both, and discuss concerns given the distribution\n",
    "\n",
    "$\\bar{y} = \\frac{Total}{n} = \\frac{\\sum{y}}{n}$"
   ]
  },
  {
   "cell_type": "code",
   "execution_count": 47,
   "metadata": {
    "collapsed": false
   },
   "outputs": [
    {
     "data": {
      "text/plain": [
       "78.17355371900827"
      ]
     },
     "execution_count": 47,
     "metadata": {},
     "output_type": "execute_result"
    }
   ],
   "source": [
    "s.mean()"
   ]
  },
  {
   "cell_type": "markdown",
   "metadata": {},
   "source": [
    "When to expect skewness:\n",
    "\n",
    "* cases where values can't be less than 0\n",
    "    * incomes, wait times, etc\n",
    "* amounts of things for the same reason\n",
    "* combinations of things often lead to skew"
   ]
  },
  {
   "cell_type": "markdown",
   "metadata": {},
   "source": [
    "### Spread - Standard Deviation\n",
    "\n",
    "* appropriate only for symmetric data\n",
    "* **variance** = mean squared deviation from mean of all values\n",
    "\n",
    "$s^2 = \\frac{\\sum{(y - \\bar{y})^2}}{n - 1}$\n",
    "\n",
    "* variance is in squared units\n",
    "* we take the square root of variance to get back to original units -> **standard deviation**\n",
    "\n",
    "$s = \\sqrt{\\frac{\\sum{(y - \\bar{y})^2}}{n - 1}}$\n"
   ]
  },
  {
   "cell_type": "code",
   "execution_count": 48,
   "metadata": {
    "collapsed": false
   },
   "outputs": [
    {
     "data": {
      "text/plain": [
       "42.43616336843503"
      ]
     },
     "execution_count": 48,
     "metadata": {},
     "output_type": "execute_result"
    }
   ],
   "source": [
    "# sample std dev\n",
    "s.std()"
   ]
  },
  {
   "cell_type": "code",
   "execution_count": 51,
   "metadata": {
    "collapsed": false
   },
   "outputs": [
    {
     "data": {
      "text/plain": [
       "42.260443510665965"
      ]
     },
     "execution_count": 51,
     "metadata": {},
     "output_type": "execute_result"
    }
   ],
   "source": [
    "# population std dev (/n rather than /n-1)\n",
    "s.std(ddof=0)"
   ]
  },
  {
   "cell_type": "markdown",
   "metadata": {},
   "source": [
    "Measures of spread help us to be precise about what we _don't_ know."
   ]
  },
  {
   "cell_type": "markdown",
   "metadata": {
    "collapsed": true
   },
   "source": [
    "### What to tell about a Quantitative Variable\n",
    "\n",
    "* histogram or stem-and-leaf display\n",
    "* discuss shape of distribution\n",
    "* discuss center & spread\n",
    "    * if skewed - median + IQR; maybe mean & stddev, but discuss difference from median\n",
    "    * if symmetric - mean + standard deviation; maybe median & IQR too\n",
    "        * for unimodal, IQR is usually a bit larger than std dev\n",
    "* discuss any unusual features\n",
    "    * multiple modes\n",
    "        * reason?\n",
    "        * would it make sense to split modes and re-evaluate each individually?\n",
    "    * outliers\n",
    "        * point them out\n",
    "        * if reporting mean and stddev, consider reporting both w/ and w/o outliers"
   ]
  },
  {
   "cell_type": "markdown",
   "metadata": {},
   "source": [
    "### Step-by-Step Example\n",
    "\n",
    "Summarizing a Distribution\n",
    "\n",
    "* plan: state what you want to find out\n",
    "* variable: identify the variable and report the W's\n",
    "* check appropriate conditions\n",
    "* mechanics: make histogram; based on shape, choose appropriate numerical summaries\n",
    "* conclusion: summarize and interpret your findings in context; be sure to discuss distribution shape, center, spread, and unusual features"
   ]
  },
  {
   "cell_type": "markdown",
   "metadata": {},
   "source": [
    "### What Can Go Wrong\n",
    "\n",
    "Display of Quantitative Data\n",
    "\n",
    "* don't make a histogram of a categorical variable\n",
    "* don't look for shape, center, spread of a bar chart\n",
    "    * concepts like symmetry, center, and spread only make sense for quantitative variables\n",
    "* don't use bars in every display: save them for histograms and bar charts\n",
    "    * **INVESTIGATE**\n",
    "* choose a bin width appropriate to the data\n",
    "\n",
    "Summarizing a Quantitative Variable\n",
    "\n",
    "* don't forget to do a reality check\n",
    "* don't forget to sort the values before finding the median or percentiles\n",
    "* don't worry about small differences when using different methods\n",
    "* don't compute numerical summaries of a categorical variable\n",
    "* don't report too many decimal places\n",
    "* don't round in the middle of a calculation\n",
    "* watch out for multiple modes\n",
    "    * consider separating and generating summaries off each\n",
    "* beware of outliers\n",
    "* don't forget to make a picture"
   ]
  },
  {
   "cell_type": "markdown",
   "metadata": {},
   "source": [
    "### What Have We Learned\n",
    "\n",
    "#### Terms\n",
    "\n",
    "* distribution\n",
    "* histogram\n",
    "* gap\n",
    "* stem-and-leaf display\n",
    "* dotplot\n",
    "* shape\n",
    "* mode\n",
    "* unimodal (bimodal)\n",
    "* uniform\n",
    "* symmetric\n",
    "* tails\n",
    "* skewed\n",
    "* outliers\n",
    "* center\n",
    "* median\n",
    "* spread\n",
    "* range\n",
    "* quartile\n",
    "* percentile\n",
    "* interquartile range (IQR)\n",
    "* 5-Number Summary\n",
    "* mean\n",
    "* resistant\n",
    "* variance\n",
    "* standard deviation\n",
    "\n",
    "#### Skills\n",
    "\n",
    "* [pg. 68-69] "
   ]
  },
  {
   "cell_type": "code",
   "execution_count": null,
   "metadata": {
    "collapsed": true
   },
   "outputs": [],
   "source": []
  }
 ],
 "metadata": {
  "kernelspec": {
   "display_name": "Python 3",
   "language": "python",
   "name": "python3"
  },
  "language_info": {
   "codemirror_mode": {
    "name": "ipython",
    "version": 3
   },
   "file_extension": ".py",
   "mimetype": "text/x-python",
   "name": "python",
   "nbconvert_exporter": "python",
   "pygments_lexer": "ipython3",
   "version": "3.5.2"
  }
 },
 "nbformat": 4,
 "nbformat_minor": 0
}
