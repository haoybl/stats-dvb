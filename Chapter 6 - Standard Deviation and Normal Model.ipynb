{
 "cells": [
  {
   "cell_type": "markdown",
   "metadata": {},
   "source": [
    "# Chapter 6 - Standard Deviation and Normal Model"
   ]
  },
  {
   "cell_type": "markdown",
   "metadata": {},
   "source": [
    "## The Standard Deviation as a Ruler\n",
    "\n",
    "* use standard deviation to compare different-looking values\n",
    "* standard deviation tells us how the whole collection varies\n",
    "* we can look at an individual value's distance from the mean in units of standard deviations"
   ]
  },
  {
   "cell_type": "markdown",
   "metadata": {},
   "source": [
    "## Standardizing with z-Scores\n",
    "\n",
    "* expressing each value of a dataset in standard deviations **standardizes** the values\n",
    "* these **standardized values** are commonly denoted with the letter $z$\n",
    "* usually just called **z-scores**\n",
    "\n",
    "$z = \\frac{y - \\hat{y}}{s}$\n",
    "\n",
    "* have no units\n",
    "* measure distance of each value from the mean in units of standard deviations\n",
    "* values below the mean have negative z-scores\n",
    "* allows comparing values that are measured on different variables, with different scales, units, or for different individuals\n",
    "\n",
    "### Standardizing Mechanics\n",
    "\n",
    "* shift: subtracting the mean\n",
    "* rescale: dividing by the standard deviation"
   ]
  },
  {
   "cell_type": "markdown",
   "metadata": {},
   "source": [
    "## Shifting Data\n",
    "\n",
    "* when we **shift** data by adding or subtracting a constant to each value, all measures of position (center, percentiles, min,, max) will increase (or decrease) by the same constant\n",
    "* measures of spread remain unchanged"
   ]
  },
  {
   "cell_type": "markdown",
   "metadata": {},
   "source": [
    "## Rescaling Data\n",
    "\n",
    "* multiplying or dividing each value by a constant changes the measurement units, i.e. **rescales** the data\n",
    "* rescaling the values results in all measures of position (mean, median, and percentiles) and measures of spread (range, IQR, and standard deviation) to be multiplied or divided by the same constant"
   ]
  },
  {
   "cell_type": "markdown",
   "metadata": {},
   "source": [
    "## Back to z-Scores\n",
    "\n",
    "* standardizing into z-scores does not change the **shape** of the distribution of a variable\n",
    "* standardizing into z-scores changes the **center** by making the mean 0\n",
    "* standardizing into z-scores changes the **spread** by making the standard deviation 1"
   ]
  },
  {
   "cell_type": "markdown",
   "metadata": {},
   "source": [
    "### Step-by-Step Example : Working with Standardized Variables\n",
    "\n",
    "* plan: state what you want to find out\n",
    "* variables: identify the variables and report the W's \n",
    "* check the appropriate condition\n",
    "  - quantitative data condition\n",
    "* mechanics: standardize the variable\n",
    "* conclusion: interpret your results in context"
   ]
  },
  {
   "cell_type": "markdown",
   "metadata": {},
   "source": [
    "## When is a z-Score Big?\n",
    "\n",
    "* z-score of +/- 3 or more is rare\n",
    "* larger values call out for attention\n",
    "\n",
    "### Models\n",
    "\n",
    "* models don't match real world exactly, yet they still can be useful\n",
    "* without models, what we can learn about the world is limited to only what we can say about our specific dataset\n",
    "\n",
    "### Normal Models\n",
    "\n",
    "* \"bell-shaped curves\"\n",
    "* **Normal models** are appropriate for distributions whose shapes are _unimodal_, and _roughly symmetric_\n",
    "* for these distributions, they provide a measure of how extreme a z-score is\n",
    "* there is a Normal model for every possible combination of mean and standard deviation\n",
    "* $N(\\mu, \\sigma)$: represents a Normal model with mean $\\mu$ and standard deviation $\\sigma$\n",
    "\n",
    "### Parameters and Statistics\n",
    "\n",
    "* $\\mu$ and $\\sigma$ are not numerical summaries of data, but **parameters** -- numbers chosen to help _specify the model_.  \n",
    "* in contrast, summaries like $\\bar{y}$ and $s$, are called **statistics**\n",
    "* parameters are typically represented using Greek letters, while statistics are written with Latin letters\n",
    "\n",
    "### Standard Normal Model\n",
    "\n",
    "* if we model the data with a Normal model, and standardize the values using the corresponding $\\mu$ and $\\sigma$, we call the standardized values z-scores as before:\n",
    "\n",
    "$z = \\frac{y - \\mu}{\\sigma}$\n",
    "\n",
    "* a Normal model using $\\mu$ = 0 and $\\sigma$ = 1 is called a **standard Normal model** (or standard Normal distribution), and is represented as $N(0, 1)$\n",
    "\n",
    "### Cautions\n",
    "\n",
    "* when we use the Normal model, we assume that the distribution of the data is Normal\n",
    "* it's sufficient to check the following condition:  the shape of the data's distribution is unimodal and symmetric\n",
    "* check this by making a histogram or a Normal probability plot\n",
    "* all models make **assuptions** - be sure to call out those assumptions as part of the analysis and check the associated **conditions** in the data"
   ]
  },
  {
   "cell_type": "markdown",
   "metadata": {},
   "source": [
    "## The 68-95-99.7 Rule\n",
    "\n",
    "In a Normal model:\n",
    "\n",
    "* 68% of the values fall within 1 standard deviation of the mean\n",
    "* 95% of the values fall within 2 standard deviation of the mean\n",
    "* 99.7% of the values fall within 3 standard deviation of the mean\n",
    "\n",
    "* Also called the \"Empirical Rule\""
   ]
  },
  {
   "cell_type": "markdown",
   "metadata": {
    "collapsed": true
   },
   "source": [
    "## Working with Normal Models\n",
    "\n",
    "* sketch a picture to help think about a Normal model\n",
    "* make a histogram to check the 'nearly Normal condition'\n",
    "\n",
    "### How to Sketch a Normal Curve\n",
    "\n",
    "* start at the middle, sketch a bell-shaped curve, symmetric about the mean\n",
    "* limit the range of the x-axis from -3 to +3 standard deviations\n",
    "* the inflection points (where the curvature changes from donwnwards to upwards) are at +/- 1 standard deviation)"
   ]
  },
  {
   "cell_type": "markdown",
   "metadata": {},
   "source": [
    "## Step-by-Step Example\n",
    "\n",
    "* plan: state what you want to know\n",
    "* variables: identify the variable and report the W's\n",
    "* be sure to check the appropriate conditions (nearly normal condition)\n",
    "* specify the parameters of your model ($N(\\mu, \\sigma)$)\n",
    "* mechanics: make a picture of this Normal model (sketch)\n",
    "* locate your score\n",
    "* conclusion: interpret your result in context"
   ]
  },
  {
   "cell_type": "markdown",
   "metadata": {},
   "source": [
    "## Tchebycheff's Inequality\n",
    "\n",
    "In *any* distribution, at least\n",
    "\n",
    "$1 - \\frac{1}{k^2}$\n",
    "\n",
    "of the values must lie within $\\pm{k}$ standard deviations of the mean.\n",
    "\n",
    "* for $k=1$, $0$ : if the distribution is far from Normal, it's possible that _none_ of the values are within 1 standard deviation of the mean.\n",
    "* for $k=2$, $3/4$ : for any distribution, at least 75% of the values are within 2 standard deviations of the mean\n",
    "* for $k=3$, $8/9$ : at least 89% of values lie within 3 standard deviations of the mean"
   ]
  },
  {
   "cell_type": "markdown",
   "metadata": {},
   "source": [
    "## Finding Normal Percentiles\n",
    "\n",
    "* first find the z-score for the given value\n",
    "* then \"look up\" the z-score to convert to a percentile"
   ]
  },
  {
   "cell_type": "code",
   "execution_count": 20,
   "metadata": {
    "collapsed": true
   },
   "outputs": [],
   "source": [
    "# %load ./snippets/data-imports\n",
    "import numpy as np\n",
    "import pandas as pd\n",
    "from pandas import Series,DataFrame\n",
    "\n",
    "from scipy import stats\n",
    "\n",
    "import matplotlib.pyplot as plt\n",
    "import seaborn as sns\n",
    "sns.set_style('whitegrid')\n",
    "\n",
    "%matplotlib inline"
   ]
  },
  {
   "cell_type": "code",
   "execution_count": 21,
   "metadata": {
    "collapsed": false
   },
   "outputs": [],
   "source": [
    "# utility function to draw a normal curve and a filled area between \n",
    "# two z-scores under the curve N(0, 1)\n",
    "def draw_zscore_range(low, high):\n",
    "    # plot the curve\n",
    "    x = np.linspace(-3, 3, 1000)\n",
    "    y = stats.norm.pdf(x)\n",
    "    curve = DataFrame({\"x\": x, \"y\": y})\n",
    "    plt.plot(curve.x, curve.y)\n",
    "    \n",
    "    # plot the fill\n",
    "    fill = curve[(curve.x >= low) & (curve.x <= high)]\n",
    "    plt.fill_between(fill.x, fill.y, facecolor='darkorange', alpha=0.75)"
   ]
  },
  {
   "cell_type": "code",
   "execution_count": 22,
   "metadata": {
    "collapsed": false
   },
   "outputs": [
    {
     "data": {
      "image/png": "[encoded data removed]",
      "text/plain": [
       "<matplotlib.figure.Figure at 0x11ceb7a90>"
      ]
     },
     "metadata": {},
     "output_type": "display_data"
    }
   ],
   "source": [
    "draw_zscore_range(-2, 2)"
   ]
  },
  {
   "cell_type": "markdown",
   "metadata": {},
   "source": [
    "### Calculate using SciPy"
   ]
  },
  {
   "cell_type": "code",
   "execution_count": 23,
   "metadata": {
    "collapsed": false,
    "scrolled": false
   },
   "outputs": [
    {
     "name": "stdout",
     "output_type": "stream",
     "text": [
      "a value with a z-score of 1.8 is at the 0.964069680887 percentile of values\n"
     ]
    }
   ],
   "source": [
    "from scipy import stats\n",
    "zScore = 1.8\n",
    "pctiles = stats.norm.cdf([zScore])\n",
    "print(\"a value with a z-score of 1.8 is at the %s percentile of values\" % (pctiles[0],))"
   ]
  },
  {
   "cell_type": "code",
   "execution_count": 24,
   "metadata": {
    "collapsed": false
   },
   "outputs": [
    {
     "data": {
      "image/png": "[encoded data removed]",
      "text/plain": [
       "<matplotlib.figure.Figure at 0x11cf697b8>"
      ]
     },
     "metadata": {},
     "output_type": "display_data"
    }
   ],
   "source": [
    "draw_zscore_range(-3, 1.8)"
   ]
  },
  {
   "cell_type": "markdown",
   "metadata": {},
   "source": [
    "### Find are between 2 z-scores"
   ]
  },
  {
   "cell_type": "code",
   "execution_count": 25,
   "metadata": {
    "collapsed": false
   },
   "outputs": [
    {
     "name": "stdout",
     "output_type": "stream",
     "text": [
      "the are between z-scores -0.5 and 1.0 is 0.532807207343\n"
     ]
    }
   ],
   "source": [
    "zScore1 = -0.5\n",
    "zScore2 = 1.0\n",
    "pctiles = stats.norm.cdf([zScore1, zScore2])\n",
    "area = pctiles[1] - pctiles[0]\n",
    "print(\"the are between z-scores %s and %s is %s\" % (zScore1, zScore2, area))"
   ]
  },
  {
   "cell_type": "code",
   "execution_count": 26,
   "metadata": {
    "collapsed": false
   },
   "outputs": [
    {
     "data": {
      "image/png": "[encoded data removed]",
      "text/plain": [
       "<matplotlib.figure.Figure at 0x11cf9e668>"
      ]
     },
     "metadata": {},
     "output_type": "display_data"
    }
   ],
   "source": [
    "draw_zscore_range(-0.5, 1.0)"
   ]
  }
 ],
 "metadata": {
  "kernelspec": {
   "display_name": "Python 3",
   "language": "python",
   "name": "python3"
  },
  "language_info": {
   "codemirror_mode": {
    "name": "ipython",
    "version": 3
   },
   "file_extension": ".py",
   "mimetype": "text/x-python",
   "name": "python",
   "nbconvert_exporter": "python",
   "pygments_lexer": "ipython3",
   "version": "3.5.2"
  }
 },
 "nbformat": 4,
 "nbformat_minor": 0
}
