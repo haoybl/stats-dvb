{
 "cells": [
  {
   "cell_type": "markdown",
   "metadata": {},
   "source": [
    "# Chapter 6 - Standard Deviation and Normal Model"
   ]
  },
  {
   "cell_type": "markdown",
   "metadata": {},
   "source": [
    "## The Standard Deviation as a Ruler\n",
    "\n",
    "* use standard deviation to compare different-looking values\n",
    "* standard deviation tells us how the whole collection varies\n",
    "* we can look at an individual value's distance from the mean in units of standard deviations"
   ]
  },
  {
   "cell_type": "markdown",
   "metadata": {},
   "source": [
    "## Standardizing with z-Scores\n",
    "\n",
    "* expressing each value of a dataset in standard deviations **standardizes** the values\n",
    "* these **standardized values** are commonly denoted with the letter $z$\n",
    "* usually just called **z-scores**\n",
    "\n",
    "$z = \\frac{y - \\hat{y}}{s}$\n",
    "\n",
    "* have no units\n",
    "* measure distance of each value from the mean in units of standard deviations\n",
    "* values below the mean have negative z-scores\n",
    "* allows comparing values that are measured on different variables, with different scales, units, or for different individuals\n",
    "\n",
    "### Standardizing Mechanics\n",
    "\n",
    "* shift: subtracting the mean\n",
    "* rescale: dividing by the standard deviation"
   ]
  },
  {
   "cell_type": "markdown",
   "metadata": {},
   "source": [
    "## Shifting Data\n",
    "\n",
    "* when we **shift** data by adding or subtracting a constant to each value, all measures of position (center, percentiles, min,, max) will increase (or decrease) by the same constant\n",
    "* measures of spread remain unchanged"
   ]
  },
  {
   "cell_type": "markdown",
   "metadata": {},
   "source": [
    "## Rescaling Data\n",
    "\n",
    "* multiplying or dividing each value by a constant changes the measurement units, i.e. **rescales** the data\n",
    "* rescaling the values results in all measures of position (mean, median, and percentiles) and measures of spread (range, IQR, and standard deviation) to be multiplied or divided by the same constant"
   ]
  },
  {
   "cell_type": "markdown",
   "metadata": {},
   "source": [
    "## Back to z-Scores\n",
    "\n",
    "* standardizing into z-scores does not change the **shape** of the distribution of a variable\n",
    "* standardizing into z-scores changes the **center** by making the mean 0\n",
    "* standardizing into z-scores changes the **spread** by making the standard deviation 1"
   ]
  },
  {
   "cell_type": "markdown",
   "metadata": {},
   "source": [
    "### Step-by-Step Example : Working with Standardized Variables\n",
    "\n",
    "* plan: state what you want to find out\n",
    "* variables: identify the variables and report the W's \n",
    "* check the appropriate condition\n",
    "  - quantitative data condition\n",
    "* mechanics: standardize the variable\n",
    "* conclusion: interpret your results in context"
   ]
  },
  {
   "cell_type": "markdown",
   "metadata": {},
   "source": [
    "## When is a z-Score Big?\n",
    "\n",
    "* z-score of +/- 3 or more is rare\n",
    "* larger values call out for attention\n",
    "\n",
    "### Models\n",
    "\n",
    "* models don't match real world exactly, yet they still can be useful\n",
    "* without models, what we can learn about the world is limited to only what we can say about our specific dataset\n",
    "\n",
    "### Normal Models\n",
    "\n",
    "* \"bell-shaped curves\"\n",
    "* **Normal models** are appropriate for distributions whose shapes are _unimodal_, and _roughly symmetric_\n",
    "* for these distributions, they provide a measure of how extreme a z-score is\n",
    "* there is a Normal model for every possible combination of mean and standard deviation\n",
    "* $N(\\mu, \\sigma)$: represents a Normal model with mean $\\mu$ and standard deviation $\\sigma$\n",
    "\n",
    "### Parameters and Statistics\n",
    "\n",
    "* $\\mu$ and $\\sigma$ are not numerical summaries of data, but **parameters** -- numbers chosen to help _specify the model_.  \n",
    "* in contrast, summaries like $\\bar{y}$ and $s$, are called **statistics**\n",
    "* parameters are typically represented using Greek letters, while statistics are written with Latin letters\n",
    "\n",
    "### Standard Normal Model\n",
    "\n",
    "* if we model the data with a Normal model, and standardize the values using the corresponding $\\mu$ and $\\sigma$, we call the standardized values z-scores as before:\n",
    "\n",
    "$z = \\frac{y - \\mu}{\\sigma}$\n",
    "\n",
    "* a Normal model using $\\mu$ = 0 and $\\sigma$ = 1 is called a **standard Normal model** (or standard Normal distribution), and is represented as $N(0, 1)$\n",
    "\n",
    "### Cautions\n",
    "\n",
    "* when we use the Normal model, we assume that the distribution of the data is Normal\n",
    "* it's sufficient to check the following condition:  the shape of the data's distribution is unimodal and symmetric\n",
    "* check this by making a histogram or a Normal probability plot\n",
    "* all models make **assuptions** - be sure to call out those assumptions as part of the analysis and check the associated **conditions** in the data"
   ]
  },
  {
   "cell_type": "markdown",
   "metadata": {},
   "source": [
    "## The 68-95-99.7 Rule"
   ]
  },
  {
   "cell_type": "code",
   "execution_count": null,
   "metadata": {
    "collapsed": true
   },
   "outputs": [],
   "source": []
  }
 ],
 "metadata": {
  "kernelspec": {
   "display_name": "Python 3",
   "language": "python",
   "name": "python3"
  },
  "language_info": {
   "codemirror_mode": {
    "name": "ipython",
    "version": 3
   },
   "file_extension": ".py",
   "mimetype": "text/x-python",
   "name": "python",
   "nbconvert_exporter": "python",
   "pygments_lexer": "ipython3",
   "version": "3.5.2"
  }
 },
 "nbformat": 4,
 "nbformat_minor": 0
}
